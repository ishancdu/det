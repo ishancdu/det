{
  "nbformat": 4,
  "nbformat_minor": 0,
  "metadata": {
    "colab": {
      "provenance": [],
      "include_colab_link": true
    },
    "kernelspec": {
      "name": "python3",
      "display_name": "Python 3"
    },
    "accelerator": "TPU"
  },
  "cells": [
    {
      "cell_type": "markdown",
      "metadata": {
        "id": "view-in-github",
        "colab_type": "text"
      },
      "source": [
        "<a href=\"https://colab.research.google.com/github/ishancdu/det/blob/master/Walmart_Sales_ML.ipynb\" target=\"_parent\"><img src=\"https://colab.research.google.com/assets/colab-badge.svg\" alt=\"Open In Colab\"/></a>"
      ]
    },
    {
      "cell_type": "markdown",
      "metadata": {
        "id": "mIruEz6-vUWm"
      },
      "source": [
        "# **Walmart Sales ML Project**"
      ]
    },
    {
      "cell_type": "code",
      "metadata": {
        "id": "lImhqIUIy0Bx",
        "colab": {
          "base_uri": "https://localhost:8080/",
          "height": 34
        },
        "outputId": "7afeb2f5-45f1-41c0-d091-1b187e1912b2"
      },
      "source": [
        "__author__      = \"Ishan Dubey\"\n",
        "\n",
        "from google.colab import drive\n",
        "drive.mount('/content/drive', force_remount=True)"
      ],
      "execution_count": null,
      "outputs": [
        {
          "output_type": "stream",
          "text": [
            "Mounted at /content/drive\n"
          ],
          "name": "stdout"
        }
      ]
    },
    {
      "cell_type": "markdown",
      "metadata": {
        "id": "CexdVgqfwsLV"
      },
      "source": [
        "### **Importing relevant libraries and files**"
      ]
    },
    {
      "cell_type": "code",
      "metadata": {
        "id": "gOm6cmXIw4wq",
        "colab": {
          "base_uri": "https://localhost:8080/",
          "height": 206
        },
        "outputId": "00fdfea3-01e7-43ce-ee2b-1a5d87e16165"
      },
      "source": [
        "!pip install statsmodels==0.11.0\n",
        "import pandas as pd \n",
        "import numpy as np\n",
        "import sklearn\n",
        "import matplotlib.pyplot as plt\n",
        "import plotly.express as px\n",
        "import plotly\n",
        "from statsmodels.tsa.seasonal import STL\n",
        "from sklearn.preprocessing import OneHotEncoder\n",
        "\n",
        "df_volume = pd.read_csv(\"/content/drive/My Drive/ishan_data/sales_train_evaluation.csv\")\n",
        "df_prices = pd.read_csv(\"/content/drive/My Drive/ishan_data/sell_prices.csv\")\n",
        "df_calendar = pd.read_csv(\"/content/drive/My Drive/ishan_data/calendar.csv\")\n",
        "\n",
        "'''\n",
        "df_volume = pd.read_csv(\"sales_train_evaluation.csv\")\n",
        "df_prices = pd.read_csv(\"sell_prices.csv\")\n",
        "df_calendar = pd.read_csv(\"calendar.csv\")\n",
        "'''"
      ],
      "execution_count": null,
      "outputs": [
        {
          "output_type": "stream",
          "text": [
            "Requirement already satisfied: statsmodels==0.11.0 in /usr/local/lib/python3.6/dist-packages (0.11.0)\n",
            "Requirement already satisfied: pandas>=0.21 in /usr/local/lib/python3.6/dist-packages (from statsmodels==0.11.0) (1.0.5)\n",
            "Requirement already satisfied: scipy>=1.0 in /usr/local/lib/python3.6/dist-packages (from statsmodels==0.11.0) (1.4.1)\n",
            "Requirement already satisfied: patsy>=0.5 in /usr/local/lib/python3.6/dist-packages (from statsmodels==0.11.0) (0.5.1)\n",
            "Requirement already satisfied: numpy>=1.14 in /usr/local/lib/python3.6/dist-packages (from statsmodels==0.11.0) (1.18.5)\n",
            "Requirement already satisfied: pytz>=2017.2 in /usr/local/lib/python3.6/dist-packages (from pandas>=0.21->statsmodels==0.11.0) (2018.9)\n",
            "Requirement already satisfied: python-dateutil>=2.6.1 in /usr/local/lib/python3.6/dist-packages (from pandas>=0.21->statsmodels==0.11.0) (2.8.1)\n",
            "Requirement already satisfied: six in /usr/local/lib/python3.6/dist-packages (from patsy>=0.5->statsmodels==0.11.0) (1.15.0)\n"
          ],
          "name": "stdout"
        },
        {
          "output_type": "execute_result",
          "data": {
            "application/vnd.google.colaboratory.intrinsic+json": {
              "type": "string"
            },
            "text/plain": [
              "'\\ndf_volume = pd.read_csv(\"sales_train_evaluation.csv\")\\ndf_prices = pd.read_csv(\"sell_prices.csv\")\\ndf_calendar = pd.read_csv(\"calendar.csv\")\\n'"
            ]
          },
          "metadata": {
            "tags": []
          },
          "execution_count": 69
        }
      ]
    },
    {
      "cell_type": "markdown",
      "metadata": {
        "id": "w3jt_25ZNNZq"
      },
      "source": [
        "### **Adding the Volume data for all days in the given combination**"
      ]
    },
    {
      "cell_type": "code",
      "metadata": {
        "id": "WGHnSo7aNglX"
      },
      "source": [
        "df_volume['agg_volume']=0\n",
        "for col in df_volume.columns[6:-1]:\n",
        "    df_volume['agg_volume'] = df_volume['agg_volume'] + df_volume[col]\n",
        "\n",
        "#creating the group dataframe\n",
        "df_group = df_volume[['id','agg_volume']]\n",
        "df_group = df_group.rename(columns = {'agg_volume': 'volume'})\n",
        "df_volume = df_volume.drop(columns = 'agg_volume')\n"
      ],
      "execution_count": null,
      "outputs": []
    },
    {
      "cell_type": "markdown",
      "metadata": {
        "id": "flJIbCCJwrh-"
      },
      "source": [
        "### **Creating the group for the Prices**"
      ]
    },
    {
      "cell_type": "code",
      "metadata": {
        "id": "sYydh0CFvjBQ"
      },
      "source": [
        "#creating the group for the price\n",
        "df_price_group = df_prices.groupby(['store_id', 'item_id']).agg({'sell_price':'mean'}).reset_index()\n",
        "df_price_group['id'] = df_price_group['item_id'] + '_' + df_price_group['store_id'] + '_evaluation'"
      ],
      "execution_count": null,
      "outputs": []
    },
    {
      "cell_type": "markdown",
      "metadata": {
        "id": "mAHCLWYTwzOG"
      },
      "source": [
        "### **Merging the volume aggerage and the price aggregate and creating the revenue parameter**"
      ]
    },
    {
      "cell_type": "code",
      "metadata": {
        "id": "DuTN8nmDw-LP",
        "colab": {
          "base_uri": "https://localhost:8080/",
          "height": 252
        },
        "outputId": "ce8f4122-b3ab-4e9b-baa0-979b4f84ca1e"
      },
      "source": [
        "df_group_joined = pd.merge(df_group, df_price_group[['id', 'sell_price']], on= 'id', how='left')\n",
        "df_group_joined['revenue'] = df_group_joined['volume'] * df_group_joined['sell_price']\n",
        "df_group_joined = df_group_joined.sort_values(by='revenue',ascending=False)\n",
        "print (df_group_joined)"
      ],
      "execution_count": null,
      "outputs": [
        {
          "output_type": "stream",
          "text": [
            "                                  id  volume  sell_price        revenue\n",
            "8442     FOODS_3_120_CA_3_evaluation   90412    4.975652  449858.664348\n",
            "8412     FOODS_3_090_CA_3_evaluation  253859    1.347624  342106.509823\n",
            "2344     FOODS_3_120_CA_1_evaluation   63107    4.980000  314272.860000\n",
            "18055    FOODS_3_586_TX_2_evaluation  195120    1.595957  311403.217021\n",
            "18639  HOBBIES_1_354_TX_3_evaluation   12049   23.191864  279438.774237\n",
            "...                              ...     ...         ...            ...\n",
            "9635   HOBBIES_2_073_CA_4_evaluation      45    0.537981      24.209155\n",
            "9588   HOBBIES_2_026_CA_4_evaluation     100    0.230000      23.000000\n",
            "9627   HOBBIES_2_065_CA_4_evaluation      38    0.500000      19.000000\n",
            "9587   HOBBIES_2_025_CA_4_evaluation      28    0.500000      14.000000\n",
            "12636  HOBBIES_2_025_TX_1_evaluation      28    0.500000      14.000000\n",
            "\n",
            "[30490 rows x 4 columns]\n"
          ],
          "name": "stdout"
        }
      ]
    },
    {
      "cell_type": "markdown",
      "metadata": {
        "id": "pzdw4tZf5P1N"
      },
      "source": [
        "### **Applying the Pareto ABC analysis and chosing the combinations with top 20% of sales**"
      ]
    },
    {
      "cell_type": "code",
      "metadata": {
        "id": "dIzJswoM4eyo",
        "colab": {
          "base_uri": "https://localhost:8080/",
          "height": 539
        },
        "outputId": "149fb54f-bd86-4d78-f354-7291b0daea3d"
      },
      "source": [
        "df_group_joined['perc'] = 0                                                                                                         \n",
        "for i in range(0, df_group_joined.shape[0]):                                                                                            \n",
        "    df_group_joined['perc'].iloc[i] = 100*(df_group_joined['revenue'][:i+1].sum() / df_group_joined['revenue'].sum())\n",
        "\n",
        "#choosing the top 20% of the sales\n",
        "df_top_id = df_group_joined.drop(df_group_joined[df_group_joined['perc']>20].index)\n",
        "df_top_id = df_top_id.reset_index()\n",
        "df_top_id"
      ],
      "execution_count": null,
      "outputs": [
        {
          "output_type": "stream",
          "text": [
            "/usr/local/lib/python3.6/dist-packages/pandas/core/indexing.py:671: SettingWithCopyWarning:\n",
            "\n",
            "\n",
            "A value is trying to be set on a copy of a slice from a DataFrame\n",
            "\n",
            "See the caveats in the documentation: https://pandas.pydata.org/pandas-docs/stable/user_guide/indexing.html#returning-a-view-versus-a-copy\n",
            "\n"
          ],
          "name": "stderr"
        },
        {
          "output_type": "execute_result",
          "data": {
            "text/html": [
              "<div>\n",
              "<style scoped>\n",
              "    .dataframe tbody tr th:only-of-type {\n",
              "        vertical-align: middle;\n",
              "    }\n",
              "\n",
              "    .dataframe tbody tr th {\n",
              "        vertical-align: top;\n",
              "    }\n",
              "\n",
              "    .dataframe thead th {\n",
              "        text-align: right;\n",
              "    }\n",
              "</style>\n",
              "<table border=\"1\" class=\"dataframe\">\n",
              "  <thead>\n",
              "    <tr style=\"text-align: right;\">\n",
              "      <th></th>\n",
              "      <th>index</th>\n",
              "      <th>id</th>\n",
              "      <th>volume</th>\n",
              "      <th>sell_price</th>\n",
              "      <th>revenue</th>\n",
              "      <th>perc</th>\n",
              "    </tr>\n",
              "  </thead>\n",
              "  <tbody>\n",
              "    <tr>\n",
              "      <th>0</th>\n",
              "      <td>8442</td>\n",
              "      <td>FOODS_3_120_CA_3_evaluation</td>\n",
              "      <td>90412</td>\n",
              "      <td>4.975652</td>\n",
              "      <td>449858.664348</td>\n",
              "      <td>0.233979</td>\n",
              "    </tr>\n",
              "    <tr>\n",
              "      <th>1</th>\n",
              "      <td>8412</td>\n",
              "      <td>FOODS_3_090_CA_3_evaluation</td>\n",
              "      <td>253859</td>\n",
              "      <td>1.347624</td>\n",
              "      <td>342106.509823</td>\n",
              "      <td>0.411915</td>\n",
              "    </tr>\n",
              "    <tr>\n",
              "      <th>2</th>\n",
              "      <td>2344</td>\n",
              "      <td>FOODS_3_120_CA_1_evaluation</td>\n",
              "      <td>63107</td>\n",
              "      <td>4.980000</td>\n",
              "      <td>314272.860000</td>\n",
              "      <td>0.575374</td>\n",
              "    </tr>\n",
              "    <tr>\n",
              "      <th>3</th>\n",
              "      <td>18055</td>\n",
              "      <td>FOODS_3_586_TX_2_evaluation</td>\n",
              "      <td>195120</td>\n",
              "      <td>1.595957</td>\n",
              "      <td>311403.217021</td>\n",
              "      <td>0.737340</td>\n",
              "    </tr>\n",
              "    <tr>\n",
              "      <th>4</th>\n",
              "      <td>18639</td>\n",
              "      <td>HOBBIES_1_354_TX_3_evaluation</td>\n",
              "      <td>12049</td>\n",
              "      <td>23.191864</td>\n",
              "      <td>279438.774237</td>\n",
              "      <td>0.882681</td>\n",
              "    </tr>\n",
              "    <tr>\n",
              "      <th>...</th>\n",
              "      <td>...</td>\n",
              "      <td>...</td>\n",
              "      <td>...</td>\n",
              "      <td>...</td>\n",
              "      <td>...</td>\n",
              "      <td>...</td>\n",
              "    </tr>\n",
              "    <tr>\n",
              "      <th>580</th>\n",
              "      <td>7112</td>\n",
              "      <td>HOUSEHOLD_1_459_CA_3_evaluation</td>\n",
              "      <td>37392</td>\n",
              "      <td>0.978310</td>\n",
              "      <td>36580.962254</td>\n",
              "      <td>19.919287</td>\n",
              "    </tr>\n",
              "    <tr>\n",
              "      <th>581</th>\n",
              "      <td>14702</td>\n",
              "      <td>FOODS_3_282_TX_1_evaluation</td>\n",
              "      <td>14560</td>\n",
              "      <td>2.506755</td>\n",
              "      <td>36498.352318</td>\n",
              "      <td>19.938270</td>\n",
              "    </tr>\n",
              "    <tr>\n",
              "      <th>582</th>\n",
              "      <td>23352</td>\n",
              "      <td>FOODS_2_183_WI_1_evaluation</td>\n",
              "      <td>4119</td>\n",
              "      <td>8.854398</td>\n",
              "      <td>36471.264974</td>\n",
              "      <td>19.957240</td>\n",
              "    </tr>\n",
              "    <tr>\n",
              "      <th>583</th>\n",
              "      <td>2765</td>\n",
              "      <td>FOODS_3_541_CA_1_evaluation</td>\n",
              "      <td>36420</td>\n",
              "      <td>1.000638</td>\n",
              "      <td>36443.246809</td>\n",
              "      <td>19.976194</td>\n",
              "    </tr>\n",
              "    <tr>\n",
              "      <th>584</th>\n",
              "      <td>6990</td>\n",
              "      <td>HOUSEHOLD_1_334_CA_3_evaluation</td>\n",
              "      <td>37226</td>\n",
              "      <td>0.978310</td>\n",
              "      <td>36418.562817</td>\n",
              "      <td>19.995136</td>\n",
              "    </tr>\n",
              "  </tbody>\n",
              "</table>\n",
              "<p>585 rows × 6 columns</p>\n",
              "</div>"
            ],
            "text/plain": [
              "     index                               id  ...        revenue       perc\n",
              "0     8442      FOODS_3_120_CA_3_evaluation  ...  449858.664348   0.233979\n",
              "1     8412      FOODS_3_090_CA_3_evaluation  ...  342106.509823   0.411915\n",
              "2     2344      FOODS_3_120_CA_1_evaluation  ...  314272.860000   0.575374\n",
              "3    18055      FOODS_3_586_TX_2_evaluation  ...  311403.217021   0.737340\n",
              "4    18639    HOBBIES_1_354_TX_3_evaluation  ...  279438.774237   0.882681\n",
              "..     ...                              ...  ...            ...        ...\n",
              "580   7112  HOUSEHOLD_1_459_CA_3_evaluation  ...   36580.962254  19.919287\n",
              "581  14702      FOODS_3_282_TX_1_evaluation  ...   36498.352318  19.938270\n",
              "582  23352      FOODS_2_183_WI_1_evaluation  ...   36471.264974  19.957240\n",
              "583   2765      FOODS_3_541_CA_1_evaluation  ...   36443.246809  19.976194\n",
              "584   6990  HOUSEHOLD_1_334_CA_3_evaluation  ...   36418.562817  19.995136\n",
              "\n",
              "[585 rows x 6 columns]"
            ]
          },
          "metadata": {
            "tags": []
          },
          "execution_count": 73
        }
      ]
    },
    {
      "cell_type": "markdown",
      "metadata": {
        "id": "6deocA029IMh"
      },
      "source": [
        "### **Selecting the top ID from the main volume data frame and transposing it**"
      ]
    },
    {
      "cell_type": "code",
      "metadata": {
        "id": "Kk8V3sKL9TRT"
      },
      "source": [
        "#changing the index of the volume into the id values\n",
        "df_volume.index = df_volume['id']\n",
        "#selecting the dataframe with the top 20% sales ID\n",
        "df_volume = df_volume.loc[df_top_id['id']]\n",
        "#resetting the index\n",
        "df_volume = df_volume.drop(columns = 'id').reset_index()\n",
        "#transposing the data\n",
        "df_volume_transpose = df_volume.melt(id_vars = ['id','item_id','cat_id','store_id','dept_id','state_id'])\n",
        "df_volume_transpose=df_volume_transpose.rename(columns={'variable':'d','value':'volume'})      \n"
      ],
      "execution_count": null,
      "outputs": []
    },
    {
      "cell_type": "markdown",
      "metadata": {
        "id": "2-24uw9n_rhf"
      },
      "source": [
        "## **Merging with the calendar dataframe and the sell prices data frame**"
      ]
    },
    {
      "cell_type": "code",
      "metadata": {
        "id": "3GC1FmVO_zyf"
      },
      "source": [
        "#merging the calendar                                                                                                      \n",
        "df_volume_transpose = pd.merge(df_volume_transpose, df_calendar,                                                                                   \n",
        "                     on='d', how='left'                                                                                        \n",
        "    )                                                                                                                                                                                                                                                        \n",
        "#merging the prices with the main dataframe                                                                                \n",
        "df_volume_transpose = pd.merge(df_volume_transpose, df_prices,                                                                                        \n",
        "                     on = ['store_id','item_id',                                                                               \n",
        "                         'wm_yr_wk'], how = 'left') "
      ],
      "execution_count": null,
      "outputs": []
    },
    {
      "cell_type": "code",
      "metadata": {
        "id": "TZ43xsD4AoId",
        "colab": {
          "base_uri": "https://localhost:8080/",
          "height": 252
        },
        "outputId": "a4ac901d-c749-4822-88b1-8d099b2f97bc"
      },
      "source": [
        "print(df_volume_transpose)"
      ],
      "execution_count": null,
      "outputs": [
        {
          "output_type": "stream",
          "text": [
            "                                      id          item_id  ... snap_WI sell_price\n",
            "0            FOODS_3_120_CA_3_evaluation      FOODS_3_120  ...       0        NaN\n",
            "1            FOODS_3_090_CA_3_evaluation      FOODS_3_090  ...       0       1.25\n",
            "2            FOODS_3_120_CA_1_evaluation      FOODS_3_120  ...       0        NaN\n",
            "3            FOODS_3_586_TX_2_evaluation      FOODS_3_586  ...       0       1.48\n",
            "4          HOBBIES_1_354_TX_3_evaluation    HOBBIES_1_354  ...       0        NaN\n",
            "...                                  ...              ...  ...     ...        ...\n",
            "1135480  HOUSEHOLD_1_459_CA_3_evaluation  HOUSEHOLD_1_459  ...       0       0.97\n",
            "1135481      FOODS_3_282_TX_1_evaluation      FOODS_3_282  ...       0       2.56\n",
            "1135482      FOODS_2_183_WI_1_evaluation      FOODS_2_183  ...       0       8.98\n",
            "1135483      FOODS_3_541_CA_1_evaluation      FOODS_3_541  ...       0       1.00\n",
            "1135484  HOUSEHOLD_1_334_CA_3_evaluation  HOUSEHOLD_1_334  ...       0       0.97\n",
            "\n",
            "[1135485 rows x 22 columns]\n"
          ],
          "name": "stdout"
        }
      ]
    },
    {
      "cell_type": "markdown",
      "metadata": {
        "id": "NT287T4RyymX"
      },
      "source": [
        "## **Converting the daily data to the weekly data**"
      ]
    },
    {
      "cell_type": "code",
      "metadata": {
        "id": "KSeXtWvfEcEB"
      },
      "source": [
        "# creating a dataframe of 1st day of every week\n",
        "df_weekno = df_calendar[df_calendar['wday']==1][['d','wday']]\n",
        "#creating the no.s for the week\n",
        "df_weekno['week_no'] = [i for i in range(1,df_weekno.shape[0] +1 ) ]\n"
      ],
      "execution_count": null,
      "outputs": []
    },
    {
      "cell_type": "markdown",
      "metadata": {
        "id": "vUu8ciHP3jns"
      },
      "source": [
        "## **Merging the week number with the df volume dataset and creating weekly master dataset that will be used for the analysis**"
      ]
    },
    {
      "cell_type": "code",
      "metadata": {
        "id": "fOQSDFUhyxLZ"
      },
      "source": [
        "df_master = pd.merge(df_volume_transpose, df_weekno[['d', 'week_no']], how = 'left', on= 'd')\n",
        "#filling the nan values with the previous values\n",
        "df_master['week_no'] = df_master['week_no'].ffill(axis = 0 )\n"
      ],
      "execution_count": null,
      "outputs": []
    },
    {
      "cell_type": "markdown",
      "metadata": {
        "id": "2fU0u5Zl4h7L"
      },
      "source": [
        "## **Grouping the weekly data for the analysis**"
      ]
    },
    {
      "cell_type": "code",
      "metadata": {
        "id": "KIPQeuxW3faw"
      },
      "source": [
        "def find_unique(x):\n",
        "  \"\"\"\n",
        "  The function is used to find the unique values in the event \n",
        "  columns\n",
        "  \"\"\"\n",
        "  uniq_list = list(x.unique())\n",
        "  uniq_list.remove(np.nan)\n",
        "  if len(uniq_list) == 0:\n",
        "    return np.nan\n",
        "  elif len(uniq_list) > 1:\n",
        "    return '-'.join(uniq_list)\n",
        "  else:\n",
        "    return uniq_list[0]\n",
        "\n",
        "\n",
        "df_final_master = df_master.groupby(['id', 'item_id', 'cat_id', 'store_id', 'dept_id', 'state_id', 'week_no']).agg({\n",
        "      'sell_price':  'mean', 'volume':'sum', 'd': 'first', 'date': 'first', \n",
        "      'month': 'first' , 'year': 'first', 'snap_CA': 'sum', 'snap_TX': 'sum', 'snap_WI': 'sum', 'event_name_1': find_unique, \n",
        "      'event_type_1': find_unique, 'event_name_2': find_unique, 'event_type_2': find_unique \n",
        "      }).reset_index()"
      ],
      "execution_count": null,
      "outputs": []
    },
    {
      "cell_type": "markdown",
      "metadata": {
        "id": "_AVtAZUDmgrC"
      },
      "source": [
        "# **Exploratory data analysis**"
      ]
    },
    {
      "cell_type": "code",
      "metadata": {
        "id": "pWCOwTcDkk3l",
        "colab": {
          "base_uri": "https://localhost:8080/",
          "height": 435
        },
        "outputId": "fac6334b-5542-4acd-a2f0-a9078086ddff"
      },
      "source": [
        "#getting the total number of combinations\n",
        "print (\"Total number of unique combinations are \", len(df_final_master['id'].unique()))\n",
        "print (\"Total number item id \", len(df_final_master['item_id'].unique()))\n",
        "print (\"Total number category id \", len(df_final_master['cat_id'].unique()))\n",
        "print (\"Total number store id \", len(df_final_master['store_id'].unique()))\n",
        "print (\"Total number department id \", len(df_final_master['dept_id'].unique()))\n",
        "print (\"Total number states  \", len(df_final_master['state_id'].unique()))\n",
        "print (\"Total Holidays for event type 1 \",len(df_final_master['event_type_1'].unique()))\n",
        "print (\"Total Holidays for event type 2 \",len(df_final_master['event_type_2'].unique()))\n",
        "print (\"Total Volume Sold for all the products \", df_final_master['volume'].sum())\n",
        "\n",
        "df_final_master[['week_no', 'sell_price', 'volume']].describe()\n"
      ],
      "execution_count": null,
      "outputs": [
        {
          "output_type": "stream",
          "text": [
            "Total number of unique combinations are  585\n",
            "Total number item id  196\n",
            "Total number category id  3\n",
            "Total number store id  10\n",
            "Total number department id  6\n",
            "Total number states   3\n",
            "Total Holidays for event type 1  13\n",
            "Total Holidays for event type 2  3\n",
            "Total Volume Sold for all the products  12564572\n"
          ],
          "name": "stdout"
        },
        {
          "output_type": "execute_result",
          "data": {
            "text/html": [
              "<div>\n",
              "<style scoped>\n",
              "    .dataframe tbody tr th:only-of-type {\n",
              "        vertical-align: middle;\n",
              "    }\n",
              "\n",
              "    .dataframe tbody tr th {\n",
              "        vertical-align: top;\n",
              "    }\n",
              "\n",
              "    .dataframe thead th {\n",
              "        text-align: right;\n",
              "    }\n",
              "</style>\n",
              "<table border=\"1\" class=\"dataframe\">\n",
              "  <thead>\n",
              "    <tr style=\"text-align: right;\">\n",
              "      <th></th>\n",
              "      <th>week_no</th>\n",
              "      <th>sell_price</th>\n",
              "      <th>volume</th>\n",
              "    </tr>\n",
              "  </thead>\n",
              "  <tbody>\n",
              "    <tr>\n",
              "      <th>count</th>\n",
              "      <td>162630.000000</td>\n",
              "      <td>150930.000000</td>\n",
              "      <td>162630.000000</td>\n",
              "    </tr>\n",
              "    <tr>\n",
              "      <th>mean</th>\n",
              "      <td>139.500000</td>\n",
              "      <td>5.528958</td>\n",
              "      <td>77.258636</td>\n",
              "    </tr>\n",
              "    <tr>\n",
              "      <th>std</th>\n",
              "      <td>80.251415</td>\n",
              "      <td>4.483738</td>\n",
              "      <td>112.732992</td>\n",
              "    </tr>\n",
              "    <tr>\n",
              "      <th>min</th>\n",
              "      <td>1.000000</td>\n",
              "      <td>0.640000</td>\n",
              "      <td>0.000000</td>\n",
              "    </tr>\n",
              "    <tr>\n",
              "      <th>25%</th>\n",
              "      <td>70.000000</td>\n",
              "      <td>2.000000</td>\n",
              "      <td>13.000000</td>\n",
              "    </tr>\n",
              "    <tr>\n",
              "      <th>50%</th>\n",
              "      <td>139.500000</td>\n",
              "      <td>4.280000</td>\n",
              "      <td>41.000000</td>\n",
              "    </tr>\n",
              "    <tr>\n",
              "      <th>75%</th>\n",
              "      <td>209.000000</td>\n",
              "      <td>6.980000</td>\n",
              "      <td>99.000000</td>\n",
              "    </tr>\n",
              "    <tr>\n",
              "      <th>max</th>\n",
              "      <td>278.000000</td>\n",
              "      <td>23.980000</td>\n",
              "      <td>3539.000000</td>\n",
              "    </tr>\n",
              "  </tbody>\n",
              "</table>\n",
              "</div>"
            ],
            "text/plain": [
              "             week_no     sell_price         volume\n",
              "count  162630.000000  150930.000000  162630.000000\n",
              "mean      139.500000       5.528958      77.258636\n",
              "std        80.251415       4.483738     112.732992\n",
              "min         1.000000       0.640000       0.000000\n",
              "25%        70.000000       2.000000      13.000000\n",
              "50%       139.500000       4.280000      41.000000\n",
              "75%       209.000000       6.980000      99.000000\n",
              "max       278.000000      23.980000    3539.000000"
            ]
          },
          "metadata": {
            "tags": []
          },
          "execution_count": 80
        }
      ]
    },
    {
      "cell_type": "markdown",
      "metadata": {
        "id": "va3nPSGuqGSz"
      },
      "source": [
        "## **Demand Classification**"
      ]
    },
    {
      "cell_type": "code",
      "metadata": {
        "id": "dnhNYjYBnKsW",
        "colab": {
          "base_uri": "https://localhost:8080/",
          "height": 402
        },
        "outputId": "8444bdf2-736f-42f6-92c1-1884027e926b"
      },
      "source": [
        "def cv2 (x):\n",
        "  return x.std()/x.mean()\n",
        "\n",
        "def adi (x):\n",
        "  return (x - x.shift(1)).mean()\n",
        "  \n",
        "demand_clas= df_final_master.groupby('id').agg({'volume':[cv2, 'sum'], 'week_no':adi})\n",
        "\n",
        "df_final_master[df_final_master['id'] == 'FOODS_1_012_CA_2_evaluation'][['date','volume']]"
      ],
      "execution_count": null,
      "outputs": [
        {
          "output_type": "execute_result",
          "data": {
            "text/html": [
              "<div>\n",
              "<style scoped>\n",
              "    .dataframe tbody tr th:only-of-type {\n",
              "        vertical-align: middle;\n",
              "    }\n",
              "\n",
              "    .dataframe tbody tr th {\n",
              "        vertical-align: top;\n",
              "    }\n",
              "\n",
              "    .dataframe thead th {\n",
              "        text-align: right;\n",
              "    }\n",
              "</style>\n",
              "<table border=\"1\" class=\"dataframe\">\n",
              "  <thead>\n",
              "    <tr style=\"text-align: right;\">\n",
              "      <th></th>\n",
              "      <th>date</th>\n",
              "      <th>volume</th>\n",
              "    </tr>\n",
              "  </thead>\n",
              "  <tbody>\n",
              "    <tr>\n",
              "      <th>0</th>\n",
              "      <td>2011-01-29</td>\n",
              "      <td>0</td>\n",
              "    </tr>\n",
              "    <tr>\n",
              "      <th>1</th>\n",
              "      <td>2011-02-05</td>\n",
              "      <td>0</td>\n",
              "    </tr>\n",
              "    <tr>\n",
              "      <th>2</th>\n",
              "      <td>2011-02-12</td>\n",
              "      <td>0</td>\n",
              "    </tr>\n",
              "    <tr>\n",
              "      <th>3</th>\n",
              "      <td>2011-02-19</td>\n",
              "      <td>0</td>\n",
              "    </tr>\n",
              "    <tr>\n",
              "      <th>4</th>\n",
              "      <td>2011-02-26</td>\n",
              "      <td>0</td>\n",
              "    </tr>\n",
              "    <tr>\n",
              "      <th>...</th>\n",
              "      <td>...</td>\n",
              "      <td>...</td>\n",
              "    </tr>\n",
              "    <tr>\n",
              "      <th>273</th>\n",
              "      <td>2016-04-23</td>\n",
              "      <td>90</td>\n",
              "    </tr>\n",
              "    <tr>\n",
              "      <th>274</th>\n",
              "      <td>2016-04-30</td>\n",
              "      <td>133</td>\n",
              "    </tr>\n",
              "    <tr>\n",
              "      <th>275</th>\n",
              "      <td>2016-05-07</td>\n",
              "      <td>81</td>\n",
              "    </tr>\n",
              "    <tr>\n",
              "      <th>276</th>\n",
              "      <td>2016-05-14</td>\n",
              "      <td>31</td>\n",
              "    </tr>\n",
              "    <tr>\n",
              "      <th>277</th>\n",
              "      <td>2016-05-21</td>\n",
              "      <td>29</td>\n",
              "    </tr>\n",
              "  </tbody>\n",
              "</table>\n",
              "<p>278 rows × 2 columns</p>\n",
              "</div>"
            ],
            "text/plain": [
              "           date  volume\n",
              "0    2011-01-29       0\n",
              "1    2011-02-05       0\n",
              "2    2011-02-12       0\n",
              "3    2011-02-19       0\n",
              "4    2011-02-26       0\n",
              "..          ...     ...\n",
              "273  2016-04-23      90\n",
              "274  2016-04-30     133\n",
              "275  2016-05-07      81\n",
              "276  2016-05-14      31\n",
              "277  2016-05-21      29\n",
              "\n",
              "[278 rows x 2 columns]"
            ]
          },
          "metadata": {
            "tags": []
          },
          "execution_count": 81
        }
      ]
    },
    {
      "cell_type": "markdown",
      "metadata": {
        "id": "dYfQScuGwryR"
      },
      "source": [
        "### **Scatter chart for the coeff of variation and demand signal based on the weightage of volume**\n",
        "\n",
        "\n",
        "1.   Smooth Demand if cv2 < 0.49\n",
        "2.   Erratic Demand if cv2 >0.49\n",
        "\n",
        "1.   No Demand Is Intermittent or Lumpy since ADI is 1 for all the combinations\n",
        "\n",
        "\n",
        "\n"
      ]
    },
    {
      "cell_type": "code",
      "metadata": {
        "id": "r_ZlbjEmw084",
        "colab": {
          "base_uri": "https://localhost:8080/",
          "height": 542
        },
        "outputId": "a19d3e05-fcb5-4eed-c11e-71a1cab879ea"
      },
      "source": [
        "fig = px.scatter(x=demand_clas[( 'volume', 'cv2')], y=demand_clas[('week_no', 'adi')],\n",
        "\t              size=demand_clas[( 'volume', 'sum')])\n",
        "fig.update_layout(\n",
        "    title = 'Demand Classification',\n",
        "    shapes=[\n",
        "    dict(\n",
        "      yref = 'paper', y0= 0, y1= 1,\n",
        "      xref = 'x', x0= 0.49, x1= 0.49\n",
        "      )],\n",
        "  xaxis=dict(\n",
        "        title='Coefficient of Variation'\n",
        "    ),\n",
        "    yaxis=dict(\n",
        "        title='Average Demand Interval'\n",
        "    )\n",
        ")\n",
        "fig.show()"
      ],
      "execution_count": null,
      "outputs": [
        {
          "output_type": "display_data",
          "data": {
            "text/html": [
              "<html>\n",
              "<head><meta charset=\"utf-8\" /></head>\n",
              "<body>\n",
              "    <div>\n",
              "            <script src=\"https://cdnjs.cloudflare.com/ajax/libs/mathjax/2.7.5/MathJax.js?config=TeX-AMS-MML_SVG\"></script><script type=\"text/javascript\">if (window.MathJax) {MathJax.Hub.Config({SVG: {font: \"STIX-Web\"}});}</script>\n",
              "                <script type=\"text/javascript\">window.PlotlyConfig = {MathJaxConfig: 'local'};</script>\n",
              "        <script src=\"https://cdn.plot.ly/plotly-latest.min.js\"></script>    \n",
              "            <div id=\"6f3f7cab-b710-41c6-a432-3f3b08ac4655\" class=\"plotly-graph-div\" style=\"height:525px; width:100%;\"></div>\n",
              "            <script type=\"text/javascript\">\n",
              "                \n",
              "                    window.PLOTLYENV=window.PLOTLYENV || {};\n",
              "                    \n",
              "                if (document.getElementById(\"6f3f7cab-b710-41c6-a432-3f3b08ac4655\")) {\n",
              "                    Plotly.newPlot(\n",
              "                        '6f3f7cab-b710-41c6-a432-3f3b08ac4655',\n",
              "                        [{\"hoverlabel\": {\"namelength\": 0}, \"hovertemplate\": \"x=%{x}<br>y=%{y}<br>size=%{marker.size}\", \"legendgroup\": \"\", \"marker\": {\"color\": \"#636efa\", \"size\": [19726, 10921, 8187, 9001, 15671, 9649, 21049, 12037, 12305, 6359, 7014, 7641, 20945, 11060, 31130, 13533, 6757, 8135, 4925, 7582, 9701, 15141, 8925, 6810, 8688, 4359, 6477, 4485, 45195, 35716, 27973, 5800, 9362, 4160, 4209, 5515, 3395, 4146, 3319, 6706, 3800, 5423, 5784, 11549, 7962, 6535, 6303, 7089, 5864, 6215, 12844, 20350, 24071, 24949, 7043, 6080, 8821, 5490, 4119, 8625, 6382, 6005, 5328, 6315, 41312, 43430, 13563, 12941, 4307, 4274, 4407, 20210, 6826, 33942, 10914, 6575, 6635, 4966, 26772, 39421, 14903, 17824, 12411, 15100, 6855, 13748, 5221, 13148, 8498, 6253, 25385, 32418, 6738, 6052, 49660, 16319, 8277, 7916, 6910, 8617, 7397, 9772, 7622, 7134, 18946, 43573, 48586, 25454, 7332, 7061, 9441, 39673, 29086, 35473, 40775, 27088, 25088, 23796, 2486, 4528, 2081, 2552, 2517, 3320, 128855, 57643, 253859, 52955, 95051, 121275, 116773, 35341, 32664, 123500, 33604, 27194, 16320, 18948, 38274, 20109, 18006, 17488, 19583, 63107, 12361, 90412, 14226, 9010, 11490, 17483, 7518, 20123, 44402, 10962, 13770, 7696, 25196, 12537, 11027, 16108, 15537, 15190, 11192, 12012, 23145, 24872, 20042, 19475, 16696, 22813, 24233, 11217, 31825, 16735, 52254, 18879, 38719, 44409, 42384, 13558, 11676, 30090, 24113, 24911, 79972, 71157, 99578, 20111, 14714, 29413, 8504, 11114, 7004, 7866, 6944, 18860, 20669, 76055, 58300, 82861, 57318, 115613, 87642, 37739, 13632, 16712, 47886, 29891, 42513, 14560, 16277, 21394, 21886, 41418, 10090, 12019, 24577, 32973, 45302, 35847, 55546, 46738, 14850, 17360, 15804, 20750, 27464, 17502, 21118, 16805, 21609, 32197, 17760, 15488, 6123, 7511, 8621, 43176, 36632, 24303, 28415, 63921, 75094, 35418, 26579, 24935, 28978, 7527, 9725, 8344, 7852, 6869, 6035, 10755, 13065, 14167, 18150, 15211, 18206, 9277, 17600, 32390, 21984, 17688, 24775, 19830, 20149, 25235, 38717, 6093, 13425, 7756, 10995, 16984, 14741, 9481, 14344, 11569, 10909, 11634, 7001, 13251, 8297, 9850, 6820, 6194, 29211, 33272, 18211, 34067, 14886, 15450, 13514, 12733, 6111, 8474, 9208, 6218, 14867, 17326, 14138, 18839, 14556, 15478, 13494, 10581, 8290, 36420, 80495, 13215, 11573, 7733, 12462, 8739, 38446, 31551, 59999, 70319, 98708, 78314, 29917, 58671, 8173, 13670, 13292, 12446, 16854, 12511, 7317, 88846, 64421, 136269, 33046, 114010, 195120, 151862, 32573, 29090, 86999, 52356, 20308, 71200, 24661, 48755, 50869, 40939, 16784, 34002, 42285, 6803, 6366, 27236, 49536, 28881, 35944, 25071, 80252, 25919, 23983, 19069, 33533, 56790, 49632, 29362, 42965, 37222, 33434, 35850, 41813, 60151, 86863, 10428, 14909, 9305, 15626, 20673, 22177, 25282, 14008, 15088, 8936, 11365, 9747, 54617, 52763, 44272, 46324, 41283, 31430, 35248, 55418, 28840, 45468, 32337, 34370, 32002, 31416, 40977, 32962, 35820, 23568, 19901, 21005, 8316, 9478, 7479, 20402, 15567, 15244, 20205, 32403, 14234, 17796, 13274, 16936, 9849, 9547, 7932, 8696, 26211, 24223, 13664, 13030, 25605, 37409, 25471, 26329, 28589, 46094, 72597, 25836, 33467, 22946, 30732, 10441, 10578, 3368, 3217, 2877, 2925, 4065, 3054, 3295, 3758, 4283, 6007, 8173, 9316, 8493, 2961, 2279, 2161, 1931, 2457, 3844, 8911, 1751, 2140, 1671, 4047, 7962, 3686, 3177, 3119, 8347, 6766, 7061, 3444, 3725, 1669, 5955, 12049, 2513, 12336, 6746, 7003, 6708, 17615, 9580, 12444, 3999, 3841, 9089, 2443, 3578, 3146, 2991, 4959, 7032, 14261, 6622, 13593, 12036, 16712, 14462, 5597, 7189, 12106, 25092, 15883, 16139, 17218, 28545, 15289, 44018, 2757, 5303, 3088, 2497, 5720, 5513, 5217, 13840, 13785, 7981, 4638, 13310, 11223, 6218, 5483, 16528, 3948, 6429, 5284, 4461, 6093, 5518, 5023, 37226, 8146, 6514, 8382, 5924, 4867, 7248, 3736, 4870, 6262, 6831, 14004, 6947, 19757, 13349, 13220, 14747, 17856, 19039, 2301, 2498, 4501, 13242, 17001, 8747, 10907, 3122, 2473, 5055, 2548, 2448, 15229, 2604, 37392, 2880, 4807, 2299, 2170, 6608, 14903, 5683, 3293, 2760, 3550, 20913, 17056, 10272, 12884, 8335, 24260, 8477, 8202, 6945, 4574, 4682, 7474, 5968], \"sizemode\": \"area\", \"sizeref\": 634.6475, \"symbol\": \"circle\"}, \"mode\": \"markers\", \"name\": \"\", \"showlegend\": false, \"type\": \"scatter\", \"x\": [0.6281221741358408, 0.6788675377357329, 0.6634898162435859, 0.4804697649074698, 0.35048296909631155, 0.508299946704109, 0.8303916848021895, 0.9567450877582286, 0.9946176811302795, 0.3919611082963116, 0.39373208216756483, 0.5332526913707814, 0.9883959889433883, 0.7504652740147842, 1.0202801918249387, 0.8762169840360529, 0.6603888709619015, 0.8649480897266201, 0.7941491187385737, 0.6053382607929528, 0.6685772566733131, 0.6330880462770391, 0.63892926199186, 0.3968761782548662, 0.5144351243228429, 1.8971461049496365, 0.7236604537326009, 0.7533740856520569, 0.7407430784571007, 0.4146623643779697, 0.47814731640410235, 1.202241539403926, 1.1848647964924068, 1.1838332290630127, 1.1958912730882794, 1.2236175668683036, 1.0019720320794145, 0.9279009932496953, 0.6235619121830219, 0.6589691343416881, 0.677976224917104, 0.8085578786582254, 0.7083894506840711, 0.9584455805364827, 0.9132258808404963, 0.8535076856118595, 0.7547504915760351, 0.733346089922582, 0.7953880918802, 1.1837435932580966, 0.4925255115612305, 0.28205730294808345, 0.3026435097317173, 0.5259928107190328, 0.6347998239223792, 0.6749865995807164, 0.5502604703819678, 0.7051440191835339, 0.9260948050907929, 0.9851182314866695, 0.5754863695553571, 0.7211043577922704, 0.622318900666145, 0.9254395959953338, 0.4136608932604048, 0.43865631034900215, 0.33083915748422826, 0.5454096690391863, 0.8587516128260385, 0.861469273903909, 1.3766452586074618, 0.5066689344262976, 0.6387286511029471, 0.484720908890655, 0.41720407802916126, 0.9439137702776149, 0.8577515886310978, 1.1690791007280052, 0.5309880194956799, 0.7141350309602795, 0.4674914927249538, 0.48174333333521235, 0.5854695498097174, 0.5417013624796041, 1.0086198542384306, 0.837397770056113, 1.1413810159135043, 0.3191592421526566, 0.9159300399864662, 0.5300115348425852, 0.3283992868439988, 0.30526515057741926, 0.7224798949109312, 0.9281139991723372, 1.0536259306247049, 0.8422164794352351, 0.954908246439192, 0.9050336971899418, 0.8534613996152127, 1.0962658444086444, 1.0080434609482154, 0.897259853607214, 1.0203923771690824, 0.9192537765412597, 0.9342262178877957, 0.7479272727637306, 0.9604717476888469, 0.2206111241994124, 0.8650828385916439, 0.6643071981377117, 0.6362297801329257, 0.19963665407570777, 0.2287545910467511, 0.22966160927719667, 0.22463034337277757, 0.31680532536021994, 0.21993269155291198, 0.46043881481034493, 0.648062877396001, 0.606699904929348, 0.7093210454166429, 0.6907922929219912, 0.794692580661408, 0.6908822571351948, 0.6914000314560261, 0.6631064472215253, 0.6974768395805696, 0.6400497971127307, 0.7489437393344085, 0.6959440099820748, 0.6112763239940595, 0.7328368049822231, 0.6788890646069506, 0.686502168601165, 0.24118188807332064, 0.29669271178262957, 0.26713319329336294, 0.2798536299732594, 0.33556955001116084, 0.3695137710838257, 0.4706500039406476, 0.40558227858828855, 0.5428974976553882, 0.8272075397294681, 1.3662818614492291, 0.888889368608836, 1.3488519222102107, 1.1927703059564716, 1.4433413654204938, 1.2217909571196404, 1.2065095352746857, 0.7291723501480689, 0.6433197192904976, 0.6613977458783842, 0.6106260278785817, 0.8736182111323973, 0.8644146406444287, 0.7839825810982598, 0.5952380929730127, 0.46242400446719234, 0.4399103369691311, 0.43215658434094045, 0.595948306407495, 0.4264143490562826, 1.1278118112088131, 0.9592602533311858, 1.042214653901721, 1.287078117752618, 1.1199653543238042, 1.0516134230816214, 1.0797923187182814, 0.30214413355611996, 0.4412005335060916, 0.4596801953067266, 0.5429357850905274, 0.4203245249511984, 0.43738188362521585, 0.3935402762669546, 0.4490043331066634, 0.5625856158232396, 0.4757002806144617, 0.4071683340411303, 0.3261053883473606, 0.33112863150614286, 0.20918113730399707, 0.30082587551606965, 0.18562907485170516, 0.5226149645856647, 0.4298253595881549, 0.26434988721408126, 0.758645320601185, 0.7480984688454219, 0.8076804237878347, 0.8385778722843141, 0.8110015840277638, 1.2456619301864893, 1.0418395630496182, 0.2870100738827781, 0.3196911554023242, 0.2374862755072313, 0.3692925650563169, 0.24340444546797324, 0.3097456571073698, 0.4502990552938846, 0.6130211333682707, 0.576281442216533, 1.337230216922362, 1.1025765542080024, 1.0925868466690365, 1.1698077508900528, 1.1578120416418596, 1.1338104308951362, 1.1041203387669276, 0.9197442070908691, 0.3341769992435789, 0.4632805107039065, 1.0137202461638632, 1.05543976120769, 1.1920927202925184, 0.847086167765522, 1.0333865216914657, 0.8084852620613202, 0.4761189466517841, 0.6481996916924206, 0.9664834918520588, 1.1712569090969878, 1.1553398816764908, 1.0615726802375507, 1.1742986850857215, 1.1338020019531714, 1.118089823108815, 1.1229353654865182, 1.165610259447738, 1.1600111676791311, 0.5136340630406551, 0.6623175926516686, 0.7982671885211444, 0.5908570196774016, 0.8264225061096718, 0.2170205154288895, 0.29284010909610014, 0.2304236787287698, 0.18287959896202008, 0.22735740473638297, 0.5187497040832623, 0.4903747524546146, 1.035989930549201, 1.7177558536739899, 1.5453454633880421, 1.612975904711868, 1.5933047050659466, 1.4940690794604452, 1.5325451807571056, 1.511333336561363, 1.5056559428168395, 1.4200049584963956, 1.3949109832069329, 1.5664617935667955, 1.6256641038609965, 1.5904195062856359, 0.929091981403164, 0.9756936666652611, 0.8766878989550941, 0.9427847972247044, 0.3431830756640388, 0.2961835348635515, 0.37155155556802155, 0.2566355454905241, 0.6070871298997109, 0.3936293668538469, 0.45891531027344235, 0.44284416959517925, 0.3825406384649306, 0.2391159345540942, 0.22435545845851773, 0.3211654654038001, 0.24830313365525866, 0.24418618078861784, 0.44453933223379083, 0.6623940269607129, 0.48494399352551065, 0.6274241605487039, 0.6858328343090755, 0.7663526504184413, 0.7498137121839975, 0.859924390319991, 0.6683125397135407, 0.6887175305906983, 0.9909086380444687, 1.0175694317402701, 0.9612534499319014, 0.707519237341507, 1.2401076659919523, 1.3066621297698475, 1.3931554817384442, 1.3216450332315897, 1.3253818671660151, 1.4855314952806844, 0.5810741921456468, 0.6755320525064878, 0.6037939526647371, 0.5720369538376863, 0.5651963356010894, 0.7171645169055351, 0.6715993847179977, 0.349827660433685, 0.5418693962680324, 0.8076074302721876, 0.677399237004714, 0.5373997842191802, 0.5987915793624743, 0.6397135157474731, 0.6451228440894539, 0.7096444052297833, 0.18037623423241808, 0.31532528069658144, 0.17754342208118676, 0.41893701861151766, 0.24006258477287776, 0.3581894878002908, 0.4478132703958547, 0.4051532082670274, 0.35749893910435004, 0.5887764105946688, 0.7199196837274368, 0.7708427453920149, 0.6889053927721852, 0.6944494952308735, 0.9741428879694404, 0.1927596651548641, 0.25639249045514456, 0.1507640485627985, 0.26417737994313717, 0.2340414798200088, 0.19374606382741713, 0.22826737906267386, 0.23584129265162163, 0.3384931311411801, 0.3348322585417247, 0.6812765239940242, 0.7244595242695487, 0.7278859358780442, 0.6108174617223585, 0.4986556421313547, 0.5215065908375305, 0.5984900153277029, 0.7435087923020096, 0.744442173644466, 0.6690567520917863, 0.6572284972308395, 0.6111092449585165, 0.8741074944446579, 1.026878199114547, 0.8141482255995117, 0.9262724816225071, 1.0205464252403325, 0.692641110562393, 0.20327737720453373, 0.2500745984742789, 0.49825742673149054, 0.6932724869112841, 0.6663866595632386, 0.8232540789321936, 0.26835352159364434, 0.23620274496126983, 0.2864811567867495, 0.23986944554225786, 0.25849353974268796, 0.22384250018464244, 0.2652979520374062, 0.17154165410898523, 0.49754783625065624, 0.6440296807565301, 0.545997368246325, 0.2817485421021447, 0.2537554641878707, 0.7568421841752379, 0.7539933670661683, 0.9787324774188588, 0.760969676689706, 0.49793115816640343, 0.4900883249735558, 0.5265873862721123, 0.3121019770335143, 0.26152038086273843, 0.41129091792823236, 0.36760265154647537, 0.33089242607649005, 0.3350216442225458, 0.38864523766727255, 0.3587198677423752, 0.6653665722760731, 0.619528750527478, 0.6744517466197509, 0.6647994576086809, 0.6505156401453199, 0.7079838166345962, 0.7020668811628425, 0.934917708996172, 0.568747426903721, 0.4332401751182128, 0.6920350248479603, 0.46613362577791045, 0.759059312839056, 0.8616994295955128, 0.7519353921128715, 0.2925594198927625, 0.33277034879812895, 1.1788044845600343, 0.7966164863545355, 0.8177501341038854, 0.7600247584132938, 0.7772481630963084, 0.8580635925753385, 0.8313668239908037, 1.0360847079182567, 0.72231134210964, 0.8571280860845274, 0.9908015870177218, 0.781576162672306, 0.5309851610067994, 0.6766102783872479, 0.5993231798777515, 0.3157275587681723, 0.5613277217424509, 0.3914586798046172, 0.3328978852504347, 0.44340105569134, 0.8729616451467963, 0.7573327474024257, 0.7978498198004877, 0.7887135400447934, 0.7116012283759321, 0.8932239742292518, 1.0177962513077052, 0.41402746919703154, 0.6519792984720821, 0.9498524573652287, 0.9047643635344933, 0.5029633132099149, 0.4464989354923796, 0.44728274258087997, 0.4797661973971518, 0.5659943600908676, 0.8129186200499863, 0.5791664270020743, 0.6212086492642251, 0.5302174497295541, 0.6693885832023646, 1.0335008316236665, 1.1062125407648553, 1.8129987468293394, 1.8050023643142536, 1.8290020484738947, 1.789404311252682, 1.8200245361195966, 1.4214021255198024, 1.477138793430569, 1.421442932260344, 0.6129999997647061, 0.846680042949879, 0.8780202616798032, 0.8454129181214727, 0.8997917669270178, 0.41762131517312795, 0.44045987712479395, 0.3485903940812078, 1.6763052387918311, 1.6085777511669963, 1.9002872625318399, 1.655473280370477, 1.6752207945802133, 0.7330354965204063, 0.3893676968520514, 1.3476200100453724, 0.8223396778796288, 0.9874738473273389, 0.602712065815756, 0.5856917966900295, 0.95385073832027, 0.5836276600379642, 0.5701232834306641, 0.5018566077755275, 0.839019374935148, 0.6659143538474391, 0.6646766130833551, 0.6321372924852194, 0.3171521840377165, 0.3881326332877231, 0.32070454539559934, 0.3614976334162141, 0.30116957043483733, 0.400461999351377, 0.9144949676451827, 0.8645526888817687, 0.4770486770796118, 1.483219108528888, 0.9554759986829333, 0.9204237882716416, 0.7552683542190362, 0.8558956950857878, 0.8222521494640971, 0.8446530204593314, 0.7962007198992039, 0.36601451075528446, 0.46319515834996566, 0.582018452916032, 0.47615000937360297, 0.7899968677241751, 0.7273868990310357, 0.6567729682232666, 0.7999945169307809, 0.78725987848428, 0.9614854561852307, 0.65944950308027, 1.066387111353125, 0.644785894725291, 0.5160042866086826, 0.6518941639173551, 0.6198927937599927, 0.5347227204235475, 0.5355114667263764, 0.606588222353034, 0.534894135044439, 0.6378145080052243, 0.8069762740336396, 0.9609314558180286, 0.7103232479316174, 0.7630317907445844, 0.5472678817698404, 0.4401239613580913, 0.5081277398139205, 0.4076016604490255, 0.4009606078238506, 0.44764460925408855, 0.976675641566358, 0.9767651426322371, 0.9597508714624607, 0.9246871268896535, 0.9626794869580877, 1.0001774538227624, 0.36067766490747377, 0.27973118110217654, 0.34578390178815693, 0.317474304450341, 1.060313565470725, 0.878670968903148, 0.6401139287572811, 0.7896532217834903, 0.6815488032560519, 0.7186995559195721, 0.9528027410643576, 0.9848895603703999, 0.3465784761239525, 0.633979403547807, 0.6685731858135512, 0.5270761993876615, 0.5789800562178524, 0.8999369647062693, 0.6264396538845132, 0.9033902249088194, 0.712071690644044, 0.5541162977872597, 0.471005030693454, 0.5766252870873453, 0.5460021863881758, 0.35275776165730893, 0.5067567641204618, 0.3598863960085624, 0.9832385839424949, 1.0056189437207113, 1.045792681975041, 0.5509324897159532, 1.1915449615836153, 0.8024375425500538, 0.5221003446759328, 0.5896650185624742, 0.4918166153607785, 0.5760876930603949, 0.5032409578414422, 0.6685604399362006, 0.3746073631410592, 0.33343090478492343, 0.6377731206130466, 0.4956786203319503], \"xaxis\": \"x\", \"y\": [1.0, 1.0, 1.0, 1.0, 1.0, 1.0, 1.0, 1.0, 1.0, 1.0, 1.0, 1.0, 1.0, 1.0, 1.0, 1.0, 1.0, 1.0, 1.0, 1.0, 1.0, 1.0, 1.0, 1.0, 1.0, 1.0, 1.0, 1.0, 1.0, 1.0, 1.0, 1.0, 1.0, 1.0, 1.0, 1.0, 1.0, 1.0, 1.0, 1.0, 1.0, 1.0, 1.0, 1.0, 1.0, 1.0, 1.0, 1.0, 1.0, 1.0, 1.0, 1.0, 1.0, 1.0, 1.0, 1.0, 1.0, 1.0, 1.0, 1.0, 1.0, 1.0, 1.0, 1.0, 1.0, 1.0, 1.0, 1.0, 1.0, 1.0, 1.0, 1.0, 1.0, 1.0, 1.0, 1.0, 1.0, 1.0, 1.0, 1.0, 1.0, 1.0, 1.0, 1.0, 1.0, 1.0, 1.0, 1.0, 1.0, 1.0, 1.0, 1.0, 1.0, 1.0, 1.0, 1.0, 1.0, 1.0, 1.0, 1.0, 1.0, 1.0, 1.0, 1.0, 1.0, 1.0, 1.0, 1.0, 1.0, 1.0, 1.0, 1.0, 1.0, 1.0, 1.0, 1.0, 1.0, 1.0, 1.0, 1.0, 1.0, 1.0, 1.0, 1.0, 1.0, 1.0, 1.0, 1.0, 1.0, 1.0, 1.0, 1.0, 1.0, 1.0, 1.0, 1.0, 1.0, 1.0, 1.0, 1.0, 1.0, 1.0, 1.0, 1.0, 1.0, 1.0, 1.0, 1.0, 1.0, 1.0, 1.0, 1.0, 1.0, 1.0, 1.0, 1.0, 1.0, 1.0, 1.0, 1.0, 1.0, 1.0, 1.0, 1.0, 1.0, 1.0, 1.0, 1.0, 1.0, 1.0, 1.0, 1.0, 1.0, 1.0, 1.0, 1.0, 1.0, 1.0, 1.0, 1.0, 1.0, 1.0, 1.0, 1.0, 1.0, 1.0, 1.0, 1.0, 1.0, 1.0, 1.0, 1.0, 1.0, 1.0, 1.0, 1.0, 1.0, 1.0, 1.0, 1.0, 1.0, 1.0, 1.0, 1.0, 1.0, 1.0, 1.0, 1.0, 1.0, 1.0, 1.0, 1.0, 1.0, 1.0, 1.0, 1.0, 1.0, 1.0, 1.0, 1.0, 1.0, 1.0, 1.0, 1.0, 1.0, 1.0, 1.0, 1.0, 1.0, 1.0, 1.0, 1.0, 1.0, 1.0, 1.0, 1.0, 1.0, 1.0, 1.0, 1.0, 1.0, 1.0, 1.0, 1.0, 1.0, 1.0, 1.0, 1.0, 1.0, 1.0, 1.0, 1.0, 1.0, 1.0, 1.0, 1.0, 1.0, 1.0, 1.0, 1.0, 1.0, 1.0, 1.0, 1.0, 1.0, 1.0, 1.0, 1.0, 1.0, 1.0, 1.0, 1.0, 1.0, 1.0, 1.0, 1.0, 1.0, 1.0, 1.0, 1.0, 1.0, 1.0, 1.0, 1.0, 1.0, 1.0, 1.0, 1.0, 1.0, 1.0, 1.0, 1.0, 1.0, 1.0, 1.0, 1.0, 1.0, 1.0, 1.0, 1.0, 1.0, 1.0, 1.0, 1.0, 1.0, 1.0, 1.0, 1.0, 1.0, 1.0, 1.0, 1.0, 1.0, 1.0, 1.0, 1.0, 1.0, 1.0, 1.0, 1.0, 1.0, 1.0, 1.0, 1.0, 1.0, 1.0, 1.0, 1.0, 1.0, 1.0, 1.0, 1.0, 1.0, 1.0, 1.0, 1.0, 1.0, 1.0, 1.0, 1.0, 1.0, 1.0, 1.0, 1.0, 1.0, 1.0, 1.0, 1.0, 1.0, 1.0, 1.0, 1.0, 1.0, 1.0, 1.0, 1.0, 1.0, 1.0, 1.0, 1.0, 1.0, 1.0, 1.0, 1.0, 1.0, 1.0, 1.0, 1.0, 1.0, 1.0, 1.0, 1.0, 1.0, 1.0, 1.0, 1.0, 1.0, 1.0, 1.0, 1.0, 1.0, 1.0, 1.0, 1.0, 1.0, 1.0, 1.0, 1.0, 1.0, 1.0, 1.0, 1.0, 1.0, 1.0, 1.0, 1.0, 1.0, 1.0, 1.0, 1.0, 1.0, 1.0, 1.0, 1.0, 1.0, 1.0, 1.0, 1.0, 1.0, 1.0, 1.0, 1.0, 1.0, 1.0, 1.0, 1.0, 1.0, 1.0, 1.0, 1.0, 1.0, 1.0, 1.0, 1.0, 1.0, 1.0, 1.0, 1.0, 1.0, 1.0, 1.0, 1.0, 1.0, 1.0, 1.0, 1.0, 1.0, 1.0, 1.0, 1.0, 1.0, 1.0, 1.0, 1.0, 1.0, 1.0, 1.0, 1.0, 1.0, 1.0, 1.0, 1.0, 1.0, 1.0, 1.0, 1.0, 1.0, 1.0, 1.0, 1.0, 1.0, 1.0, 1.0, 1.0, 1.0, 1.0, 1.0, 1.0, 1.0, 1.0, 1.0, 1.0, 1.0, 1.0, 1.0, 1.0, 1.0, 1.0, 1.0, 1.0, 1.0, 1.0, 1.0, 1.0, 1.0, 1.0, 1.0, 1.0, 1.0, 1.0, 1.0, 1.0, 1.0, 1.0, 1.0, 1.0, 1.0, 1.0, 1.0, 1.0, 1.0, 1.0, 1.0, 1.0, 1.0, 1.0, 1.0, 1.0, 1.0, 1.0, 1.0, 1.0, 1.0, 1.0, 1.0, 1.0, 1.0, 1.0, 1.0, 1.0, 1.0, 1.0, 1.0, 1.0, 1.0, 1.0, 1.0, 1.0, 1.0, 1.0, 1.0, 1.0, 1.0, 1.0, 1.0, 1.0, 1.0, 1.0, 1.0, 1.0, 1.0, 1.0, 1.0, 1.0, 1.0, 1.0, 1.0, 1.0, 1.0, 1.0, 1.0, 1.0, 1.0, 1.0, 1.0, 1.0, 1.0, 1.0, 1.0, 1.0, 1.0, 1.0, 1.0, 1.0, 1.0, 1.0, 1.0, 1.0, 1.0, 1.0, 1.0, 1.0, 1.0, 1.0, 1.0, 1.0, 1.0, 1.0, 1.0, 1.0, 1.0, 1.0, 1.0, 1.0, 1.0], \"yaxis\": \"y\"}],\n",
              "                        {\"legend\": {\"itemsizing\": \"constant\", \"tracegroupgap\": 0}, \"margin\": {\"t\": 60}, \"shapes\": [{\"x0\": 0.49, \"x1\": 0.49, \"xref\": \"x\", \"y0\": 0, \"y1\": 1, \"yref\": \"paper\"}], \"template\": {\"data\": {\"bar\": [{\"error_x\": {\"color\": \"#2a3f5f\"}, \"error_y\": {\"color\": \"#2a3f5f\"}, \"marker\": {\"line\": {\"color\": \"#E5ECF6\", \"width\": 0.5}}, \"type\": \"bar\"}], \"barpolar\": [{\"marker\": {\"line\": {\"color\": \"#E5ECF6\", \"width\": 0.5}}, \"type\": \"barpolar\"}], \"carpet\": [{\"aaxis\": {\"endlinecolor\": \"#2a3f5f\", \"gridcolor\": \"white\", \"linecolor\": \"white\", \"minorgridcolor\": \"white\", \"startlinecolor\": \"#2a3f5f\"}, \"baxis\": {\"endlinecolor\": \"#2a3f5f\", \"gridcolor\": \"white\", \"linecolor\": \"white\", \"minorgridcolor\": \"white\", \"startlinecolor\": \"#2a3f5f\"}, \"type\": \"carpet\"}], \"choropleth\": [{\"colorbar\": {\"outlinewidth\": 0, \"ticks\": \"\"}, \"type\": \"choropleth\"}], \"contour\": [{\"colorbar\": {\"outlinewidth\": 0, \"ticks\": \"\"}, \"colorscale\": [[0.0, \"#0d0887\"], [0.1111111111111111, \"#46039f\"], [0.2222222222222222, \"#7201a8\"], [0.3333333333333333, \"#9c179e\"], [0.4444444444444444, \"#bd3786\"], [0.5555555555555556, \"#d8576b\"], [0.6666666666666666, \"#ed7953\"], [0.7777777777777778, \"#fb9f3a\"], [0.8888888888888888, \"#fdca26\"], [1.0, \"#f0f921\"]], \"type\": \"contour\"}], \"contourcarpet\": [{\"colorbar\": {\"outlinewidth\": 0, \"ticks\": \"\"}, \"type\": \"contourcarpet\"}], \"heatmap\": [{\"colorbar\": {\"outlinewidth\": 0, \"ticks\": \"\"}, \"colorscale\": [[0.0, \"#0d0887\"], [0.1111111111111111, \"#46039f\"], [0.2222222222222222, \"#7201a8\"], [0.3333333333333333, \"#9c179e\"], [0.4444444444444444, \"#bd3786\"], [0.5555555555555556, \"#d8576b\"], [0.6666666666666666, \"#ed7953\"], [0.7777777777777778, \"#fb9f3a\"], [0.8888888888888888, \"#fdca26\"], [1.0, \"#f0f921\"]], \"type\": \"heatmap\"}], \"heatmapgl\": [{\"colorbar\": {\"outlinewidth\": 0, \"ticks\": \"\"}, \"colorscale\": [[0.0, \"#0d0887\"], [0.1111111111111111, \"#46039f\"], [0.2222222222222222, \"#7201a8\"], [0.3333333333333333, \"#9c179e\"], [0.4444444444444444, \"#bd3786\"], [0.5555555555555556, \"#d8576b\"], [0.6666666666666666, \"#ed7953\"], [0.7777777777777778, \"#fb9f3a\"], [0.8888888888888888, \"#fdca26\"], [1.0, \"#f0f921\"]], \"type\": \"heatmapgl\"}], \"histogram\": [{\"marker\": {\"colorbar\": {\"outlinewidth\": 0, \"ticks\": \"\"}}, \"type\": \"histogram\"}], \"histogram2d\": [{\"colorbar\": {\"outlinewidth\": 0, \"ticks\": \"\"}, \"colorscale\": [[0.0, \"#0d0887\"], [0.1111111111111111, \"#46039f\"], [0.2222222222222222, \"#7201a8\"], [0.3333333333333333, \"#9c179e\"], [0.4444444444444444, \"#bd3786\"], [0.5555555555555556, \"#d8576b\"], [0.6666666666666666, \"#ed7953\"], [0.7777777777777778, \"#fb9f3a\"], [0.8888888888888888, \"#fdca26\"], [1.0, \"#f0f921\"]], \"type\": \"histogram2d\"}], \"histogram2dcontour\": [{\"colorbar\": {\"outlinewidth\": 0, \"ticks\": \"\"}, \"colorscale\": [[0.0, \"#0d0887\"], [0.1111111111111111, \"#46039f\"], [0.2222222222222222, \"#7201a8\"], [0.3333333333333333, \"#9c179e\"], [0.4444444444444444, \"#bd3786\"], [0.5555555555555556, \"#d8576b\"], [0.6666666666666666, \"#ed7953\"], [0.7777777777777778, \"#fb9f3a\"], [0.8888888888888888, \"#fdca26\"], [1.0, \"#f0f921\"]], \"type\": \"histogram2dcontour\"}], \"mesh3d\": [{\"colorbar\": {\"outlinewidth\": 0, \"ticks\": \"\"}, \"type\": \"mesh3d\"}], \"parcoords\": [{\"line\": {\"colorbar\": {\"outlinewidth\": 0, \"ticks\": \"\"}}, \"type\": \"parcoords\"}], \"pie\": [{\"automargin\": true, \"type\": \"pie\"}], \"scatter\": [{\"marker\": {\"colorbar\": {\"outlinewidth\": 0, \"ticks\": \"\"}}, \"type\": \"scatter\"}], \"scatter3d\": [{\"line\": {\"colorbar\": {\"outlinewidth\": 0, \"ticks\": \"\"}}, \"marker\": {\"colorbar\": {\"outlinewidth\": 0, \"ticks\": \"\"}}, \"type\": \"scatter3d\"}], \"scattercarpet\": [{\"marker\": {\"colorbar\": {\"outlinewidth\": 0, \"ticks\": \"\"}}, \"type\": \"scattercarpet\"}], \"scattergeo\": [{\"marker\": {\"colorbar\": {\"outlinewidth\": 0, \"ticks\": \"\"}}, \"type\": \"scattergeo\"}], \"scattergl\": [{\"marker\": {\"colorbar\": {\"outlinewidth\": 0, \"ticks\": \"\"}}, \"type\": \"scattergl\"}], \"scattermapbox\": [{\"marker\": {\"colorbar\": {\"outlinewidth\": 0, \"ticks\": \"\"}}, \"type\": \"scattermapbox\"}], \"scatterpolar\": [{\"marker\": {\"colorbar\": {\"outlinewidth\": 0, \"ticks\": \"\"}}, \"type\": \"scatterpolar\"}], \"scatterpolargl\": [{\"marker\": {\"colorbar\": {\"outlinewidth\": 0, \"ticks\": \"\"}}, \"type\": \"scatterpolargl\"}], \"scatterternary\": [{\"marker\": {\"colorbar\": {\"outlinewidth\": 0, \"ticks\": \"\"}}, \"type\": \"scatterternary\"}], \"surface\": [{\"colorbar\": {\"outlinewidth\": 0, \"ticks\": \"\"}, \"colorscale\": [[0.0, \"#0d0887\"], [0.1111111111111111, \"#46039f\"], [0.2222222222222222, \"#7201a8\"], [0.3333333333333333, \"#9c179e\"], [0.4444444444444444, \"#bd3786\"], [0.5555555555555556, \"#d8576b\"], [0.6666666666666666, \"#ed7953\"], [0.7777777777777778, \"#fb9f3a\"], [0.8888888888888888, \"#fdca26\"], [1.0, \"#f0f921\"]], \"type\": \"surface\"}], \"table\": [{\"cells\": {\"fill\": {\"color\": \"#EBF0F8\"}, \"line\": {\"color\": \"white\"}}, \"header\": {\"fill\": {\"color\": \"#C8D4E3\"}, \"line\": {\"color\": \"white\"}}, \"type\": \"table\"}]}, \"layout\": {\"annotationdefaults\": {\"arrowcolor\": \"#2a3f5f\", \"arrowhead\": 0, \"arrowwidth\": 1}, \"coloraxis\": {\"colorbar\": {\"outlinewidth\": 0, \"ticks\": \"\"}}, \"colorscale\": {\"diverging\": [[0, \"#8e0152\"], [0.1, \"#c51b7d\"], [0.2, \"#de77ae\"], [0.3, \"#f1b6da\"], [0.4, \"#fde0ef\"], [0.5, \"#f7f7f7\"], [0.6, \"#e6f5d0\"], [0.7, \"#b8e186\"], [0.8, \"#7fbc41\"], [0.9, \"#4d9221\"], [1, \"#276419\"]], \"sequential\": [[0.0, \"#0d0887\"], [0.1111111111111111, \"#46039f\"], [0.2222222222222222, \"#7201a8\"], [0.3333333333333333, \"#9c179e\"], [0.4444444444444444, \"#bd3786\"], [0.5555555555555556, \"#d8576b\"], [0.6666666666666666, \"#ed7953\"], [0.7777777777777778, \"#fb9f3a\"], [0.8888888888888888, \"#fdca26\"], [1.0, \"#f0f921\"]], \"sequentialminus\": [[0.0, \"#0d0887\"], [0.1111111111111111, \"#46039f\"], [0.2222222222222222, \"#7201a8\"], [0.3333333333333333, \"#9c179e\"], [0.4444444444444444, \"#bd3786\"], [0.5555555555555556, \"#d8576b\"], [0.6666666666666666, \"#ed7953\"], [0.7777777777777778, \"#fb9f3a\"], [0.8888888888888888, \"#fdca26\"], [1.0, \"#f0f921\"]]}, \"colorway\": [\"#636efa\", \"#EF553B\", \"#00cc96\", \"#ab63fa\", \"#FFA15A\", \"#19d3f3\", \"#FF6692\", \"#B6E880\", \"#FF97FF\", \"#FECB52\"], \"font\": {\"color\": \"#2a3f5f\"}, \"geo\": {\"bgcolor\": \"white\", \"lakecolor\": \"white\", \"landcolor\": \"#E5ECF6\", \"showlakes\": true, \"showland\": true, \"subunitcolor\": \"white\"}, \"hoverlabel\": {\"align\": \"left\"}, \"hovermode\": \"closest\", \"mapbox\": {\"style\": \"light\"}, \"paper_bgcolor\": \"white\", \"plot_bgcolor\": \"#E5ECF6\", \"polar\": {\"angularaxis\": {\"gridcolor\": \"white\", \"linecolor\": \"white\", \"ticks\": \"\"}, \"bgcolor\": \"#E5ECF6\", \"radialaxis\": {\"gridcolor\": \"white\", \"linecolor\": \"white\", \"ticks\": \"\"}}, \"scene\": {\"xaxis\": {\"backgroundcolor\": \"#E5ECF6\", \"gridcolor\": \"white\", \"gridwidth\": 2, \"linecolor\": \"white\", \"showbackground\": true, \"ticks\": \"\", \"zerolinecolor\": \"white\"}, \"yaxis\": {\"backgroundcolor\": \"#E5ECF6\", \"gridcolor\": \"white\", \"gridwidth\": 2, \"linecolor\": \"white\", \"showbackground\": true, \"ticks\": \"\", \"zerolinecolor\": \"white\"}, \"zaxis\": {\"backgroundcolor\": \"#E5ECF6\", \"gridcolor\": \"white\", \"gridwidth\": 2, \"linecolor\": \"white\", \"showbackground\": true, \"ticks\": \"\", \"zerolinecolor\": \"white\"}}, \"shapedefaults\": {\"line\": {\"color\": \"#2a3f5f\"}}, \"ternary\": {\"aaxis\": {\"gridcolor\": \"white\", \"linecolor\": \"white\", \"ticks\": \"\"}, \"baxis\": {\"gridcolor\": \"white\", \"linecolor\": \"white\", \"ticks\": \"\"}, \"bgcolor\": \"#E5ECF6\", \"caxis\": {\"gridcolor\": \"white\", \"linecolor\": \"white\", \"ticks\": \"\"}}, \"title\": {\"x\": 0.05}, \"xaxis\": {\"automargin\": true, \"gridcolor\": \"white\", \"linecolor\": \"white\", \"ticks\": \"\", \"title\": {\"standoff\": 15}, \"zerolinecolor\": \"white\", \"zerolinewidth\": 2}, \"yaxis\": {\"automargin\": true, \"gridcolor\": \"white\", \"linecolor\": \"white\", \"ticks\": \"\", \"title\": {\"standoff\": 15}, \"zerolinecolor\": \"white\", \"zerolinewidth\": 2}}}, \"title\": {\"text\": \"Demand Classification\"}, \"xaxis\": {\"anchor\": \"y\", \"domain\": [0.0, 1.0], \"title\": {\"text\": \"Coefficient of Variation\"}}, \"yaxis\": {\"anchor\": \"x\", \"domain\": [0.0, 1.0], \"title\": {\"text\": \"Average Demand Interval\"}}},\n",
              "                        {\"responsive\": true}\n",
              "                    ).then(function(){\n",
              "                            \n",
              "var gd = document.getElementById('6f3f7cab-b710-41c6-a432-3f3b08ac4655');\n",
              "var x = new MutationObserver(function (mutations, observer) {{\n",
              "        var display = window.getComputedStyle(gd).display;\n",
              "        if (!display || display === 'none') {{\n",
              "            console.log([gd, 'removed!']);\n",
              "            Plotly.purge(gd);\n",
              "            observer.disconnect();\n",
              "        }}\n",
              "}});\n",
              "\n",
              "// Listen for the removal of the full notebook cells\n",
              "var notebookContainer = gd.closest('#notebook-container');\n",
              "if (notebookContainer) {{\n",
              "    x.observe(notebookContainer, {childList: true});\n",
              "}}\n",
              "\n",
              "// Listen for the clearing of the current output cell\n",
              "var outputEl = gd.closest('.output');\n",
              "if (outputEl) {{\n",
              "    x.observe(outputEl, {childList: true});\n",
              "}}\n",
              "\n",
              "                        })\n",
              "                };\n",
              "                \n",
              "            </script>\n",
              "        </div>\n",
              "</body>\n",
              "</html>"
            ]
          },
          "metadata": {
            "tags": []
          }
        }
      ]
    },
    {
      "cell_type": "code",
      "metadata": {
        "id": "LpG_SihWYAci"
      },
      "source": [
        "smooth_comb = demand_clas[demand_clas[( 'volume', 'cv2')]<0.49]"
      ],
      "execution_count": null,
      "outputs": []
    },
    {
      "cell_type": "markdown",
      "metadata": {
        "id": "i1R8SoBc1TXz"
      },
      "source": [
        "#### **Total Number of smooth and erratic combaintions**"
      ]
    },
    {
      "cell_type": "code",
      "metadata": {
        "id": "v83aq8wSym-j",
        "colab": {
          "base_uri": "https://localhost:8080/",
          "height": 84
        },
        "outputId": "3bcca2ff-bb23-4ffd-8009-c3982cb0d19d"
      },
      "source": [
        "print (\"Total number of smooth combinations \", demand_clas[demand_clas[( 'volume', 'cv2')] < 0.49].shape[0])\n",
        "print (\"Volume represnted by the smooth signals \", demand_clas[demand_clas[( 'volume', 'cv2')] < 0.49][( 'volume', 'sum')].sum())\n",
        "print (\"Total number of erratic combinations \", demand_clas[demand_clas[( 'volume', 'cv2')] > 0.49].shape[0])\n",
        "print (\"Volume represnted by the erratic signals \", demand_clas[demand_clas[( 'volume', 'cv2')] > 0.49][( 'volume', 'sum')].sum())"
      ],
      "execution_count": null,
      "outputs": [
        {
          "output_type": "stream",
          "text": [
            "Total number of smooth combinations  165\n",
            "Volume represnted by the smooth signals  5188763\n",
            "Total number of erratic combinations  420\n",
            "Volume represnted by the erratic signals  7375809\n"
          ],
          "name": "stdout"
        }
      ]
    },
    {
      "cell_type": "markdown",
      "metadata": {
        "id": "r6wzhKvQ98tH"
      },
      "source": [
        "## **Bar Chart for state wise sales** \n",
        "\n",
        "\n"
      ]
    },
    {
      "cell_type": "code",
      "metadata": {
        "id": "_E0gEh_P-WdA",
        "colab": {
          "base_uri": "https://localhost:8080/",
          "height": 542
        },
        "outputId": "cefb5edb-4099-4977-d161-75734cd047e6"
      },
      "source": [
        "store_agg = df_final_master.groupby('store_id').aggregate({'state_id':'first', 'volume': 'sum',}).reset_index()\n",
        "fig = px.bar(store_agg, x='store_id', y='volume', color=\"state_id\", title='State wise sales')\n",
        "fig.show()"
      ],
      "execution_count": null,
      "outputs": [
        {
          "output_type": "display_data",
          "data": {
            "text/html": [
              "<html>\n",
              "<head><meta charset=\"utf-8\" /></head>\n",
              "<body>\n",
              "    <div>\n",
              "            <script src=\"https://cdnjs.cloudflare.com/ajax/libs/mathjax/2.7.5/MathJax.js?config=TeX-AMS-MML_SVG\"></script><script type=\"text/javascript\">if (window.MathJax) {MathJax.Hub.Config({SVG: {font: \"STIX-Web\"}});}</script>\n",
              "                <script type=\"text/javascript\">window.PlotlyConfig = {MathJaxConfig: 'local'};</script>\n",
              "        <script src=\"https://cdn.plot.ly/plotly-latest.min.js\"></script>    \n",
              "            <div id=\"7115d87e-e72e-4a0b-be92-0aaf2f905582\" class=\"plotly-graph-div\" style=\"height:525px; width:100%;\"></div>\n",
              "            <script type=\"text/javascript\">\n",
              "                \n",
              "                    window.PLOTLYENV=window.PLOTLYENV || {};\n",
              "                    \n",
              "                if (document.getElementById(\"7115d87e-e72e-4a0b-be92-0aaf2f905582\")) {\n",
              "                    Plotly.newPlot(\n",
              "                        '7115d87e-e72e-4a0b-be92-0aaf2f905582',\n",
              "                        [{\"alignmentgroup\": \"True\", \"hoverlabel\": {\"namelength\": 0}, \"hovertemplate\": \"state_id=CA<br>store_id=%{x}<br>volume=%{y}\", \"legendgroup\": \"state_id=CA\", \"marker\": {\"color\": \"#636efa\"}, \"name\": \"state_id=CA\", \"offsetgroup\": \"state_id=CA\", \"orientation\": \"v\", \"showlegend\": true, \"textposition\": \"auto\", \"type\": \"bar\", \"x\": [\"CA_1\", \"CA_2\", \"CA_3\", \"CA_4\"], \"xaxis\": \"x\", \"y\": [1612430, 451042, 3401358, 210169], \"yaxis\": \"y\"}, {\"alignmentgroup\": \"True\", \"hoverlabel\": {\"namelength\": 0}, \"hovertemplate\": \"state_id=TX<br>store_id=%{x}<br>volume=%{y}\", \"legendgroup\": \"state_id=TX\", \"marker\": {\"color\": \"#EF553B\"}, \"name\": \"state_id=TX\", \"offsetgroup\": \"state_id=TX\", \"orientation\": \"v\", \"showlegend\": true, \"textposition\": \"auto\", \"type\": \"bar\", \"x\": [\"TX_1\", \"TX_2\", \"TX_3\"], \"xaxis\": \"x\", \"y\": [913224, 1737959, 1277164], \"yaxis\": \"y\"}, {\"alignmentgroup\": \"True\", \"hoverlabel\": {\"namelength\": 0}, \"hovertemplate\": \"state_id=WI<br>store_id=%{x}<br>volume=%{y}\", \"legendgroup\": \"state_id=WI\", \"marker\": {\"color\": \"#00cc96\"}, \"name\": \"state_id=WI\", \"offsetgroup\": \"state_id=WI\", \"orientation\": \"v\", \"showlegend\": true, \"textposition\": \"auto\", \"type\": \"bar\", \"x\": [\"WI_1\", \"WI_2\", \"WI_3\"], \"xaxis\": \"x\", \"y\": [418982, 1178123, 1364121], \"yaxis\": \"y\"}],\n",
              "                        {\"barmode\": \"relative\", \"legend\": {\"tracegroupgap\": 0}, \"template\": {\"data\": {\"bar\": [{\"error_x\": {\"color\": \"#2a3f5f\"}, \"error_y\": {\"color\": \"#2a3f5f\"}, \"marker\": {\"line\": {\"color\": \"#E5ECF6\", \"width\": 0.5}}, \"type\": \"bar\"}], \"barpolar\": [{\"marker\": {\"line\": {\"color\": \"#E5ECF6\", \"width\": 0.5}}, \"type\": \"barpolar\"}], \"carpet\": [{\"aaxis\": {\"endlinecolor\": \"#2a3f5f\", \"gridcolor\": \"white\", \"linecolor\": \"white\", \"minorgridcolor\": \"white\", \"startlinecolor\": \"#2a3f5f\"}, \"baxis\": {\"endlinecolor\": \"#2a3f5f\", \"gridcolor\": \"white\", \"linecolor\": \"white\", \"minorgridcolor\": \"white\", \"startlinecolor\": \"#2a3f5f\"}, \"type\": \"carpet\"}], \"choropleth\": [{\"colorbar\": {\"outlinewidth\": 0, \"ticks\": \"\"}, \"type\": \"choropleth\"}], \"contour\": [{\"colorbar\": {\"outlinewidth\": 0, \"ticks\": \"\"}, \"colorscale\": [[0.0, \"#0d0887\"], [0.1111111111111111, \"#46039f\"], [0.2222222222222222, \"#7201a8\"], [0.3333333333333333, \"#9c179e\"], [0.4444444444444444, \"#bd3786\"], [0.5555555555555556, \"#d8576b\"], [0.6666666666666666, \"#ed7953\"], [0.7777777777777778, \"#fb9f3a\"], [0.8888888888888888, \"#fdca26\"], [1.0, \"#f0f921\"]], \"type\": \"contour\"}], \"contourcarpet\": [{\"colorbar\": {\"outlinewidth\": 0, \"ticks\": \"\"}, \"type\": \"contourcarpet\"}], \"heatmap\": [{\"colorbar\": {\"outlinewidth\": 0, \"ticks\": \"\"}, \"colorscale\": [[0.0, \"#0d0887\"], [0.1111111111111111, \"#46039f\"], [0.2222222222222222, \"#7201a8\"], [0.3333333333333333, \"#9c179e\"], [0.4444444444444444, \"#bd3786\"], [0.5555555555555556, \"#d8576b\"], [0.6666666666666666, \"#ed7953\"], [0.7777777777777778, \"#fb9f3a\"], [0.8888888888888888, \"#fdca26\"], [1.0, \"#f0f921\"]], \"type\": \"heatmap\"}], \"heatmapgl\": [{\"colorbar\": {\"outlinewidth\": 0, \"ticks\": \"\"}, \"colorscale\": [[0.0, \"#0d0887\"], [0.1111111111111111, \"#46039f\"], [0.2222222222222222, \"#7201a8\"], [0.3333333333333333, \"#9c179e\"], [0.4444444444444444, \"#bd3786\"], [0.5555555555555556, \"#d8576b\"], [0.6666666666666666, \"#ed7953\"], [0.7777777777777778, \"#fb9f3a\"], [0.8888888888888888, \"#fdca26\"], [1.0, \"#f0f921\"]], \"type\": \"heatmapgl\"}], \"histogram\": [{\"marker\": {\"colorbar\": {\"outlinewidth\": 0, \"ticks\": \"\"}}, \"type\": \"histogram\"}], \"histogram2d\": [{\"colorbar\": {\"outlinewidth\": 0, \"ticks\": \"\"}, \"colorscale\": [[0.0, \"#0d0887\"], [0.1111111111111111, \"#46039f\"], [0.2222222222222222, \"#7201a8\"], [0.3333333333333333, \"#9c179e\"], [0.4444444444444444, \"#bd3786\"], [0.5555555555555556, \"#d8576b\"], [0.6666666666666666, \"#ed7953\"], [0.7777777777777778, \"#fb9f3a\"], [0.8888888888888888, \"#fdca26\"], [1.0, \"#f0f921\"]], \"type\": \"histogram2d\"}], \"histogram2dcontour\": [{\"colorbar\": {\"outlinewidth\": 0, \"ticks\": \"\"}, \"colorscale\": [[0.0, \"#0d0887\"], [0.1111111111111111, \"#46039f\"], [0.2222222222222222, \"#7201a8\"], [0.3333333333333333, \"#9c179e\"], [0.4444444444444444, \"#bd3786\"], [0.5555555555555556, \"#d8576b\"], [0.6666666666666666, \"#ed7953\"], [0.7777777777777778, \"#fb9f3a\"], [0.8888888888888888, \"#fdca26\"], [1.0, \"#f0f921\"]], \"type\": \"histogram2dcontour\"}], \"mesh3d\": [{\"colorbar\": {\"outlinewidth\": 0, \"ticks\": \"\"}, \"type\": \"mesh3d\"}], \"parcoords\": [{\"line\": {\"colorbar\": {\"outlinewidth\": 0, \"ticks\": \"\"}}, \"type\": \"parcoords\"}], \"pie\": [{\"automargin\": true, \"type\": \"pie\"}], \"scatter\": [{\"marker\": {\"colorbar\": {\"outlinewidth\": 0, \"ticks\": \"\"}}, \"type\": \"scatter\"}], \"scatter3d\": [{\"line\": {\"colorbar\": {\"outlinewidth\": 0, \"ticks\": \"\"}}, \"marker\": {\"colorbar\": {\"outlinewidth\": 0, \"ticks\": \"\"}}, \"type\": \"scatter3d\"}], \"scattercarpet\": [{\"marker\": {\"colorbar\": {\"outlinewidth\": 0, \"ticks\": \"\"}}, \"type\": \"scattercarpet\"}], \"scattergeo\": [{\"marker\": {\"colorbar\": {\"outlinewidth\": 0, \"ticks\": \"\"}}, \"type\": \"scattergeo\"}], \"scattergl\": [{\"marker\": {\"colorbar\": {\"outlinewidth\": 0, \"ticks\": \"\"}}, \"type\": \"scattergl\"}], \"scattermapbox\": [{\"marker\": {\"colorbar\": {\"outlinewidth\": 0, \"ticks\": \"\"}}, \"type\": \"scattermapbox\"}], \"scatterpolar\": [{\"marker\": {\"colorbar\": {\"outlinewidth\": 0, \"ticks\": \"\"}}, \"type\": \"scatterpolar\"}], \"scatterpolargl\": [{\"marker\": {\"colorbar\": {\"outlinewidth\": 0, \"ticks\": \"\"}}, \"type\": \"scatterpolargl\"}], \"scatterternary\": [{\"marker\": {\"colorbar\": {\"outlinewidth\": 0, \"ticks\": \"\"}}, \"type\": \"scatterternary\"}], \"surface\": [{\"colorbar\": {\"outlinewidth\": 0, \"ticks\": \"\"}, \"colorscale\": [[0.0, \"#0d0887\"], [0.1111111111111111, \"#46039f\"], [0.2222222222222222, \"#7201a8\"], [0.3333333333333333, \"#9c179e\"], [0.4444444444444444, \"#bd3786\"], [0.5555555555555556, \"#d8576b\"], [0.6666666666666666, \"#ed7953\"], [0.7777777777777778, \"#fb9f3a\"], [0.8888888888888888, \"#fdca26\"], [1.0, \"#f0f921\"]], \"type\": \"surface\"}], \"table\": [{\"cells\": {\"fill\": {\"color\": \"#EBF0F8\"}, \"line\": {\"color\": \"white\"}}, \"header\": {\"fill\": {\"color\": \"#C8D4E3\"}, \"line\": {\"color\": \"white\"}}, \"type\": \"table\"}]}, \"layout\": {\"annotationdefaults\": {\"arrowcolor\": \"#2a3f5f\", \"arrowhead\": 0, \"arrowwidth\": 1}, \"coloraxis\": {\"colorbar\": {\"outlinewidth\": 0, \"ticks\": \"\"}}, \"colorscale\": {\"diverging\": [[0, \"#8e0152\"], [0.1, \"#c51b7d\"], [0.2, \"#de77ae\"], [0.3, \"#f1b6da\"], [0.4, \"#fde0ef\"], [0.5, \"#f7f7f7\"], [0.6, \"#e6f5d0\"], [0.7, \"#b8e186\"], [0.8, \"#7fbc41\"], [0.9, \"#4d9221\"], [1, \"#276419\"]], \"sequential\": [[0.0, \"#0d0887\"], [0.1111111111111111, \"#46039f\"], [0.2222222222222222, \"#7201a8\"], [0.3333333333333333, \"#9c179e\"], [0.4444444444444444, \"#bd3786\"], [0.5555555555555556, \"#d8576b\"], [0.6666666666666666, \"#ed7953\"], [0.7777777777777778, \"#fb9f3a\"], [0.8888888888888888, \"#fdca26\"], [1.0, \"#f0f921\"]], \"sequentialminus\": [[0.0, \"#0d0887\"], [0.1111111111111111, \"#46039f\"], [0.2222222222222222, \"#7201a8\"], [0.3333333333333333, \"#9c179e\"], [0.4444444444444444, \"#bd3786\"], [0.5555555555555556, \"#d8576b\"], [0.6666666666666666, \"#ed7953\"], [0.7777777777777778, \"#fb9f3a\"], [0.8888888888888888, \"#fdca26\"], [1.0, \"#f0f921\"]]}, \"colorway\": [\"#636efa\", \"#EF553B\", \"#00cc96\", \"#ab63fa\", \"#FFA15A\", \"#19d3f3\", \"#FF6692\", \"#B6E880\", \"#FF97FF\", \"#FECB52\"], \"font\": {\"color\": \"#2a3f5f\"}, \"geo\": {\"bgcolor\": \"white\", \"lakecolor\": \"white\", \"landcolor\": \"#E5ECF6\", \"showlakes\": true, \"showland\": true, \"subunitcolor\": \"white\"}, \"hoverlabel\": {\"align\": \"left\"}, \"hovermode\": \"closest\", \"mapbox\": {\"style\": \"light\"}, \"paper_bgcolor\": \"white\", \"plot_bgcolor\": \"#E5ECF6\", \"polar\": {\"angularaxis\": {\"gridcolor\": \"white\", \"linecolor\": \"white\", \"ticks\": \"\"}, \"bgcolor\": \"#E5ECF6\", \"radialaxis\": {\"gridcolor\": \"white\", \"linecolor\": \"white\", \"ticks\": \"\"}}, \"scene\": {\"xaxis\": {\"backgroundcolor\": \"#E5ECF6\", \"gridcolor\": \"white\", \"gridwidth\": 2, \"linecolor\": \"white\", \"showbackground\": true, \"ticks\": \"\", \"zerolinecolor\": \"white\"}, \"yaxis\": {\"backgroundcolor\": \"#E5ECF6\", \"gridcolor\": \"white\", \"gridwidth\": 2, \"linecolor\": \"white\", \"showbackground\": true, \"ticks\": \"\", \"zerolinecolor\": \"white\"}, \"zaxis\": {\"backgroundcolor\": \"#E5ECF6\", \"gridcolor\": \"white\", \"gridwidth\": 2, \"linecolor\": \"white\", \"showbackground\": true, \"ticks\": \"\", \"zerolinecolor\": \"white\"}}, \"shapedefaults\": {\"line\": {\"color\": \"#2a3f5f\"}}, \"ternary\": {\"aaxis\": {\"gridcolor\": \"white\", \"linecolor\": \"white\", \"ticks\": \"\"}, \"baxis\": {\"gridcolor\": \"white\", \"linecolor\": \"white\", \"ticks\": \"\"}, \"bgcolor\": \"#E5ECF6\", \"caxis\": {\"gridcolor\": \"white\", \"linecolor\": \"white\", \"ticks\": \"\"}}, \"title\": {\"x\": 0.05}, \"xaxis\": {\"automargin\": true, \"gridcolor\": \"white\", \"linecolor\": \"white\", \"ticks\": \"\", \"title\": {\"standoff\": 15}, \"zerolinecolor\": \"white\", \"zerolinewidth\": 2}, \"yaxis\": {\"automargin\": true, \"gridcolor\": \"white\", \"linecolor\": \"white\", \"ticks\": \"\", \"title\": {\"standoff\": 15}, \"zerolinecolor\": \"white\", \"zerolinewidth\": 2}}}, \"title\": {\"text\": \"State wise sales\"}, \"xaxis\": {\"anchor\": \"y\", \"domain\": [0.0, 1.0], \"title\": {\"text\": \"store_id\"}}, \"yaxis\": {\"anchor\": \"x\", \"domain\": [0.0, 1.0], \"title\": {\"text\": \"volume\"}}},\n",
              "                        {\"responsive\": true}\n",
              "                    ).then(function(){\n",
              "                            \n",
              "var gd = document.getElementById('7115d87e-e72e-4a0b-be92-0aaf2f905582');\n",
              "var x = new MutationObserver(function (mutations, observer) {{\n",
              "        var display = window.getComputedStyle(gd).display;\n",
              "        if (!display || display === 'none') {{\n",
              "            console.log([gd, 'removed!']);\n",
              "            Plotly.purge(gd);\n",
              "            observer.disconnect();\n",
              "        }}\n",
              "}});\n",
              "\n",
              "// Listen for the removal of the full notebook cells\n",
              "var notebookContainer = gd.closest('#notebook-container');\n",
              "if (notebookContainer) {{\n",
              "    x.observe(notebookContainer, {childList: true});\n",
              "}}\n",
              "\n",
              "// Listen for the clearing of the current output cell\n",
              "var outputEl = gd.closest('.output');\n",
              "if (outputEl) {{\n",
              "    x.observe(outputEl, {childList: true});\n",
              "}}\n",
              "\n",
              "                        })\n",
              "                };\n",
              "                \n",
              "            </script>\n",
              "        </div>\n",
              "</body>\n",
              "</html>"
            ]
          },
          "metadata": {
            "tags": []
          }
        }
      ]
    },
    {
      "cell_type": "markdown",
      "metadata": {
        "id": "KtrlESsdASar"
      },
      "source": [
        "## **Item Category State Wise Sales**"
      ]
    },
    {
      "cell_type": "code",
      "metadata": {
        "id": "XpkZJbsp-sI-",
        "colab": {
          "base_uri": "https://localhost:8080/",
          "height": 710
        },
        "outputId": "f233b00f-2e53-40df-b8fa-e00f67e37281"
      },
      "source": [
        "store_agg = df_final_master.groupby(['cat_id','state_id']).aggregate({'volume': 'sum',}).reset_index()\n",
        "print (store_agg)\n",
        "fig = px.bar(store_agg, x='state_id', y='volume', color=\"cat_id\", title='Category State wise sales')\n",
        "fig.show()"
      ],
      "execution_count": null,
      "outputs": [
        {
          "output_type": "stream",
          "text": [
            "      cat_id state_id   volume\n",
            "0      FOODS       CA  4947223\n",
            "1      FOODS       TX  3660337\n",
            "2      FOODS       WI  2703860\n",
            "3    HOBBIES       CA    75457\n",
            "4    HOBBIES       TX    69622\n",
            "5    HOBBIES       WI    29443\n",
            "6  HOUSEHOLD       CA   652319\n",
            "7  HOUSEHOLD       TX   198388\n",
            "8  HOUSEHOLD       WI   227923\n"
          ],
          "name": "stdout"
        },
        {
          "output_type": "display_data",
          "data": {
            "text/html": [
              "<html>\n",
              "<head><meta charset=\"utf-8\" /></head>\n",
              "<body>\n",
              "    <div>\n",
              "            <script src=\"https://cdnjs.cloudflare.com/ajax/libs/mathjax/2.7.5/MathJax.js?config=TeX-AMS-MML_SVG\"></script><script type=\"text/javascript\">if (window.MathJax) {MathJax.Hub.Config({SVG: {font: \"STIX-Web\"}});}</script>\n",
              "                <script type=\"text/javascript\">window.PlotlyConfig = {MathJaxConfig: 'local'};</script>\n",
              "        <script src=\"https://cdn.plot.ly/plotly-latest.min.js\"></script>    \n",
              "            <div id=\"f9849845-3c34-4ec9-b141-bc1b0c02408b\" class=\"plotly-graph-div\" style=\"height:525px; width:100%;\"></div>\n",
              "            <script type=\"text/javascript\">\n",
              "                \n",
              "                    window.PLOTLYENV=window.PLOTLYENV || {};\n",
              "                    \n",
              "                if (document.getElementById(\"f9849845-3c34-4ec9-b141-bc1b0c02408b\")) {\n",
              "                    Plotly.newPlot(\n",
              "                        'f9849845-3c34-4ec9-b141-bc1b0c02408b',\n",
              "                        [{\"alignmentgroup\": \"True\", \"hoverlabel\": {\"namelength\": 0}, \"hovertemplate\": \"cat_id=FOODS<br>state_id=%{x}<br>volume=%{y}\", \"legendgroup\": \"cat_id=FOODS\", \"marker\": {\"color\": \"#636efa\"}, \"name\": \"cat_id=FOODS\", \"offsetgroup\": \"cat_id=FOODS\", \"orientation\": \"v\", \"showlegend\": true, \"textposition\": \"auto\", \"type\": \"bar\", \"x\": [\"CA\", \"TX\", \"WI\"], \"xaxis\": \"x\", \"y\": [4947223, 3660337, 2703860], \"yaxis\": \"y\"}, {\"alignmentgroup\": \"True\", \"hoverlabel\": {\"namelength\": 0}, \"hovertemplate\": \"cat_id=HOBBIES<br>state_id=%{x}<br>volume=%{y}\", \"legendgroup\": \"cat_id=HOBBIES\", \"marker\": {\"color\": \"#EF553B\"}, \"name\": \"cat_id=HOBBIES\", \"offsetgroup\": \"cat_id=HOBBIES\", \"orientation\": \"v\", \"showlegend\": true, \"textposition\": \"auto\", \"type\": \"bar\", \"x\": [\"CA\", \"TX\", \"WI\"], \"xaxis\": \"x\", \"y\": [75457, 69622, 29443], \"yaxis\": \"y\"}, {\"alignmentgroup\": \"True\", \"hoverlabel\": {\"namelength\": 0}, \"hovertemplate\": \"cat_id=HOUSEHOLD<br>state_id=%{x}<br>volume=%{y}\", \"legendgroup\": \"cat_id=HOUSEHOLD\", \"marker\": {\"color\": \"#00cc96\"}, \"name\": \"cat_id=HOUSEHOLD\", \"offsetgroup\": \"cat_id=HOUSEHOLD\", \"orientation\": \"v\", \"showlegend\": true, \"textposition\": \"auto\", \"type\": \"bar\", \"x\": [\"CA\", \"TX\", \"WI\"], \"xaxis\": \"x\", \"y\": [652319, 198388, 227923], \"yaxis\": \"y\"}],\n",
              "                        {\"barmode\": \"relative\", \"legend\": {\"tracegroupgap\": 0}, \"template\": {\"data\": {\"bar\": [{\"error_x\": {\"color\": \"#2a3f5f\"}, \"error_y\": {\"color\": \"#2a3f5f\"}, \"marker\": {\"line\": {\"color\": \"#E5ECF6\", \"width\": 0.5}}, \"type\": \"bar\"}], \"barpolar\": [{\"marker\": {\"line\": {\"color\": \"#E5ECF6\", \"width\": 0.5}}, \"type\": \"barpolar\"}], \"carpet\": [{\"aaxis\": {\"endlinecolor\": \"#2a3f5f\", \"gridcolor\": \"white\", \"linecolor\": \"white\", \"minorgridcolor\": \"white\", \"startlinecolor\": \"#2a3f5f\"}, \"baxis\": {\"endlinecolor\": \"#2a3f5f\", \"gridcolor\": \"white\", \"linecolor\": \"white\", \"minorgridcolor\": \"white\", \"startlinecolor\": \"#2a3f5f\"}, \"type\": \"carpet\"}], \"choropleth\": [{\"colorbar\": {\"outlinewidth\": 0, \"ticks\": \"\"}, \"type\": \"choropleth\"}], \"contour\": [{\"colorbar\": {\"outlinewidth\": 0, \"ticks\": \"\"}, \"colorscale\": [[0.0, \"#0d0887\"], [0.1111111111111111, \"#46039f\"], [0.2222222222222222, \"#7201a8\"], [0.3333333333333333, \"#9c179e\"], [0.4444444444444444, \"#bd3786\"], [0.5555555555555556, \"#d8576b\"], [0.6666666666666666, \"#ed7953\"], [0.7777777777777778, \"#fb9f3a\"], [0.8888888888888888, \"#fdca26\"], [1.0, \"#f0f921\"]], \"type\": \"contour\"}], \"contourcarpet\": [{\"colorbar\": {\"outlinewidth\": 0, \"ticks\": \"\"}, \"type\": \"contourcarpet\"}], \"heatmap\": [{\"colorbar\": {\"outlinewidth\": 0, \"ticks\": \"\"}, \"colorscale\": [[0.0, \"#0d0887\"], [0.1111111111111111, \"#46039f\"], [0.2222222222222222, \"#7201a8\"], [0.3333333333333333, \"#9c179e\"], [0.4444444444444444, \"#bd3786\"], [0.5555555555555556, \"#d8576b\"], [0.6666666666666666, \"#ed7953\"], [0.7777777777777778, \"#fb9f3a\"], [0.8888888888888888, \"#fdca26\"], [1.0, \"#f0f921\"]], \"type\": \"heatmap\"}], \"heatmapgl\": [{\"colorbar\": {\"outlinewidth\": 0, \"ticks\": \"\"}, \"colorscale\": [[0.0, \"#0d0887\"], [0.1111111111111111, \"#46039f\"], [0.2222222222222222, \"#7201a8\"], [0.3333333333333333, \"#9c179e\"], [0.4444444444444444, \"#bd3786\"], [0.5555555555555556, \"#d8576b\"], [0.6666666666666666, \"#ed7953\"], [0.7777777777777778, \"#fb9f3a\"], [0.8888888888888888, \"#fdca26\"], [1.0, \"#f0f921\"]], \"type\": \"heatmapgl\"}], \"histogram\": [{\"marker\": {\"colorbar\": {\"outlinewidth\": 0, \"ticks\": \"\"}}, \"type\": \"histogram\"}], \"histogram2d\": [{\"colorbar\": {\"outlinewidth\": 0, \"ticks\": \"\"}, \"colorscale\": [[0.0, \"#0d0887\"], [0.1111111111111111, \"#46039f\"], [0.2222222222222222, \"#7201a8\"], [0.3333333333333333, \"#9c179e\"], [0.4444444444444444, \"#bd3786\"], [0.5555555555555556, \"#d8576b\"], [0.6666666666666666, \"#ed7953\"], [0.7777777777777778, \"#fb9f3a\"], [0.8888888888888888, \"#fdca26\"], [1.0, \"#f0f921\"]], \"type\": \"histogram2d\"}], \"histogram2dcontour\": [{\"colorbar\": {\"outlinewidth\": 0, \"ticks\": \"\"}, \"colorscale\": [[0.0, \"#0d0887\"], [0.1111111111111111, \"#46039f\"], [0.2222222222222222, \"#7201a8\"], [0.3333333333333333, \"#9c179e\"], [0.4444444444444444, \"#bd3786\"], [0.5555555555555556, \"#d8576b\"], [0.6666666666666666, \"#ed7953\"], [0.7777777777777778, \"#fb9f3a\"], [0.8888888888888888, \"#fdca26\"], [1.0, \"#f0f921\"]], \"type\": \"histogram2dcontour\"}], \"mesh3d\": [{\"colorbar\": {\"outlinewidth\": 0, \"ticks\": \"\"}, \"type\": \"mesh3d\"}], \"parcoords\": [{\"line\": {\"colorbar\": {\"outlinewidth\": 0, \"ticks\": \"\"}}, \"type\": \"parcoords\"}], \"pie\": [{\"automargin\": true, \"type\": \"pie\"}], \"scatter\": [{\"marker\": {\"colorbar\": {\"outlinewidth\": 0, \"ticks\": \"\"}}, \"type\": \"scatter\"}], \"scatter3d\": [{\"line\": {\"colorbar\": {\"outlinewidth\": 0, \"ticks\": \"\"}}, \"marker\": {\"colorbar\": {\"outlinewidth\": 0, \"ticks\": \"\"}}, \"type\": \"scatter3d\"}], \"scattercarpet\": [{\"marker\": {\"colorbar\": {\"outlinewidth\": 0, \"ticks\": \"\"}}, \"type\": \"scattercarpet\"}], \"scattergeo\": [{\"marker\": {\"colorbar\": {\"outlinewidth\": 0, \"ticks\": \"\"}}, \"type\": \"scattergeo\"}], \"scattergl\": [{\"marker\": {\"colorbar\": {\"outlinewidth\": 0, \"ticks\": \"\"}}, \"type\": \"scattergl\"}], \"scattermapbox\": [{\"marker\": {\"colorbar\": {\"outlinewidth\": 0, \"ticks\": \"\"}}, \"type\": \"scattermapbox\"}], \"scatterpolar\": [{\"marker\": {\"colorbar\": {\"outlinewidth\": 0, \"ticks\": \"\"}}, \"type\": \"scatterpolar\"}], \"scatterpolargl\": [{\"marker\": {\"colorbar\": {\"outlinewidth\": 0, \"ticks\": \"\"}}, \"type\": \"scatterpolargl\"}], \"scatterternary\": [{\"marker\": {\"colorbar\": {\"outlinewidth\": 0, \"ticks\": \"\"}}, \"type\": \"scatterternary\"}], \"surface\": [{\"colorbar\": {\"outlinewidth\": 0, \"ticks\": \"\"}, \"colorscale\": [[0.0, \"#0d0887\"], [0.1111111111111111, \"#46039f\"], [0.2222222222222222, \"#7201a8\"], [0.3333333333333333, \"#9c179e\"], [0.4444444444444444, \"#bd3786\"], [0.5555555555555556, \"#d8576b\"], [0.6666666666666666, \"#ed7953\"], [0.7777777777777778, \"#fb9f3a\"], [0.8888888888888888, \"#fdca26\"], [1.0, \"#f0f921\"]], \"type\": \"surface\"}], \"table\": [{\"cells\": {\"fill\": {\"color\": \"#EBF0F8\"}, \"line\": {\"color\": \"white\"}}, \"header\": {\"fill\": {\"color\": \"#C8D4E3\"}, \"line\": {\"color\": \"white\"}}, \"type\": \"table\"}]}, \"layout\": {\"annotationdefaults\": {\"arrowcolor\": \"#2a3f5f\", \"arrowhead\": 0, \"arrowwidth\": 1}, \"coloraxis\": {\"colorbar\": {\"outlinewidth\": 0, \"ticks\": \"\"}}, \"colorscale\": {\"diverging\": [[0, \"#8e0152\"], [0.1, \"#c51b7d\"], [0.2, \"#de77ae\"], [0.3, \"#f1b6da\"], [0.4, \"#fde0ef\"], [0.5, \"#f7f7f7\"], [0.6, \"#e6f5d0\"], [0.7, \"#b8e186\"], [0.8, \"#7fbc41\"], [0.9, \"#4d9221\"], [1, \"#276419\"]], \"sequential\": [[0.0, \"#0d0887\"], [0.1111111111111111, \"#46039f\"], [0.2222222222222222, \"#7201a8\"], [0.3333333333333333, \"#9c179e\"], [0.4444444444444444, \"#bd3786\"], [0.5555555555555556, \"#d8576b\"], [0.6666666666666666, \"#ed7953\"], [0.7777777777777778, \"#fb9f3a\"], [0.8888888888888888, \"#fdca26\"], [1.0, \"#f0f921\"]], \"sequentialminus\": [[0.0, \"#0d0887\"], [0.1111111111111111, \"#46039f\"], [0.2222222222222222, \"#7201a8\"], [0.3333333333333333, \"#9c179e\"], [0.4444444444444444, \"#bd3786\"], [0.5555555555555556, \"#d8576b\"], [0.6666666666666666, \"#ed7953\"], [0.7777777777777778, \"#fb9f3a\"], [0.8888888888888888, \"#fdca26\"], [1.0, \"#f0f921\"]]}, \"colorway\": [\"#636efa\", \"#EF553B\", \"#00cc96\", \"#ab63fa\", \"#FFA15A\", \"#19d3f3\", \"#FF6692\", \"#B6E880\", \"#FF97FF\", \"#FECB52\"], \"font\": {\"color\": \"#2a3f5f\"}, \"geo\": {\"bgcolor\": \"white\", \"lakecolor\": \"white\", \"landcolor\": \"#E5ECF6\", \"showlakes\": true, \"showland\": true, \"subunitcolor\": \"white\"}, \"hoverlabel\": {\"align\": \"left\"}, \"hovermode\": \"closest\", \"mapbox\": {\"style\": \"light\"}, \"paper_bgcolor\": \"white\", \"plot_bgcolor\": \"#E5ECF6\", \"polar\": {\"angularaxis\": {\"gridcolor\": \"white\", \"linecolor\": \"white\", \"ticks\": \"\"}, \"bgcolor\": \"#E5ECF6\", \"radialaxis\": {\"gridcolor\": \"white\", \"linecolor\": \"white\", \"ticks\": \"\"}}, \"scene\": {\"xaxis\": {\"backgroundcolor\": \"#E5ECF6\", \"gridcolor\": \"white\", \"gridwidth\": 2, \"linecolor\": \"white\", \"showbackground\": true, \"ticks\": \"\", \"zerolinecolor\": \"white\"}, \"yaxis\": {\"backgroundcolor\": \"#E5ECF6\", \"gridcolor\": \"white\", \"gridwidth\": 2, \"linecolor\": \"white\", \"showbackground\": true, \"ticks\": \"\", \"zerolinecolor\": \"white\"}, \"zaxis\": {\"backgroundcolor\": \"#E5ECF6\", \"gridcolor\": \"white\", \"gridwidth\": 2, \"linecolor\": \"white\", \"showbackground\": true, \"ticks\": \"\", \"zerolinecolor\": \"white\"}}, \"shapedefaults\": {\"line\": {\"color\": \"#2a3f5f\"}}, \"ternary\": {\"aaxis\": {\"gridcolor\": \"white\", \"linecolor\": \"white\", \"ticks\": \"\"}, \"baxis\": {\"gridcolor\": \"white\", \"linecolor\": \"white\", \"ticks\": \"\"}, \"bgcolor\": \"#E5ECF6\", \"caxis\": {\"gridcolor\": \"white\", \"linecolor\": \"white\", \"ticks\": \"\"}}, \"title\": {\"x\": 0.05}, \"xaxis\": {\"automargin\": true, \"gridcolor\": \"white\", \"linecolor\": \"white\", \"ticks\": \"\", \"title\": {\"standoff\": 15}, \"zerolinecolor\": \"white\", \"zerolinewidth\": 2}, \"yaxis\": {\"automargin\": true, \"gridcolor\": \"white\", \"linecolor\": \"white\", \"ticks\": \"\", \"title\": {\"standoff\": 15}, \"zerolinecolor\": \"white\", \"zerolinewidth\": 2}}}, \"title\": {\"text\": \"Category State wise sales\"}, \"xaxis\": {\"anchor\": \"y\", \"domain\": [0.0, 1.0], \"title\": {\"text\": \"state_id\"}}, \"yaxis\": {\"anchor\": \"x\", \"domain\": [0.0, 1.0], \"title\": {\"text\": \"volume\"}}},\n",
              "                        {\"responsive\": true}\n",
              "                    ).then(function(){\n",
              "                            \n",
              "var gd = document.getElementById('f9849845-3c34-4ec9-b141-bc1b0c02408b');\n",
              "var x = new MutationObserver(function (mutations, observer) {{\n",
              "        var display = window.getComputedStyle(gd).display;\n",
              "        if (!display || display === 'none') {{\n",
              "            console.log([gd, 'removed!']);\n",
              "            Plotly.purge(gd);\n",
              "            observer.disconnect();\n",
              "        }}\n",
              "}});\n",
              "\n",
              "// Listen for the removal of the full notebook cells\n",
              "var notebookContainer = gd.closest('#notebook-container');\n",
              "if (notebookContainer) {{\n",
              "    x.observe(notebookContainer, {childList: true});\n",
              "}}\n",
              "\n",
              "// Listen for the clearing of the current output cell\n",
              "var outputEl = gd.closest('.output');\n",
              "if (outputEl) {{\n",
              "    x.observe(outputEl, {childList: true});\n",
              "}}\n",
              "\n",
              "                        })\n",
              "                };\n",
              "                \n",
              "            </script>\n",
              "        </div>\n",
              "</body>\n",
              "</html>"
            ]
          },
          "metadata": {
            "tags": []
          }
        }
      ]
    },
    {
      "cell_type": "code",
      "metadata": {
        "id": "ej_r1GsTAjV3",
        "colab": {
          "base_uri": "https://localhost:8080/",
          "height": 101
        },
        "outputId": "2dcf9df2-134d-4460-82f8-25a676361873"
      },
      "source": [
        "df_final_master.columns"
      ],
      "execution_count": null,
      "outputs": [
        {
          "output_type": "execute_result",
          "data": {
            "text/plain": [
              "Index(['id', 'item_id', 'cat_id', 'store_id', 'dept_id', 'state_id', 'week_no',\n",
              "       'sell_price', 'volume', 'd', 'date', 'month', 'year', 'snap_CA',\n",
              "       'snap_TX', 'snap_WI', 'event_name_1', 'event_type_1', 'event_name_2',\n",
              "       'event_type_2'],\n",
              "      dtype='object')"
            ]
          },
          "metadata": {
            "tags": []
          },
          "execution_count": 87
        }
      ]
    },
    {
      "cell_type": "markdown",
      "metadata": {
        "id": "NZcmA6jXDSfi"
      },
      "source": [
        "## **Graph for the total numbers of items in each department**"
      ]
    },
    {
      "cell_type": "code",
      "metadata": {
        "id": "CvJ4NLDZClch",
        "colab": {
          "base_uri": "https://localhost:8080/",
          "height": 542
        },
        "outputId": "f59a91c6-a5c1-4e08-9392-b92f31a0d698"
      },
      "source": [
        "def count_unique(x):\n",
        "  return len(x.unique())\n",
        "\n",
        "department_items = df_final_master.groupby('dept_id').agg({'item_id':count_unique}).reset_index()\n",
        "fig = px.bar(department_items, x='dept_id', y='item_id', color=\"dept_id\", title='Items in each department')\n",
        "fig.show()"
      ],
      "execution_count": null,
      "outputs": [
        {
          "output_type": "display_data",
          "data": {
            "text/html": [
              "<html>\n",
              "<head><meta charset=\"utf-8\" /></head>\n",
              "<body>\n",
              "    <div>\n",
              "            <script src=\"https://cdnjs.cloudflare.com/ajax/libs/mathjax/2.7.5/MathJax.js?config=TeX-AMS-MML_SVG\"></script><script type=\"text/javascript\">if (window.MathJax) {MathJax.Hub.Config({SVG: {font: \"STIX-Web\"}});}</script>\n",
              "                <script type=\"text/javascript\">window.PlotlyConfig = {MathJaxConfig: 'local'};</script>\n",
              "        <script src=\"https://cdn.plot.ly/plotly-latest.min.js\"></script>    \n",
              "            <div id=\"4563d31a-b04e-4f97-a7f6-edf8f55a2f41\" class=\"plotly-graph-div\" style=\"height:525px; width:100%;\"></div>\n",
              "            <script type=\"text/javascript\">\n",
              "                \n",
              "                    window.PLOTLYENV=window.PLOTLYENV || {};\n",
              "                    \n",
              "                if (document.getElementById(\"4563d31a-b04e-4f97-a7f6-edf8f55a2f41\")) {\n",
              "                    Plotly.newPlot(\n",
              "                        '4563d31a-b04e-4f97-a7f6-edf8f55a2f41',\n",
              "                        [{\"alignmentgroup\": \"True\", \"hoverlabel\": {\"namelength\": 0}, \"hovertemplate\": \"dept_id=%{x}<br>item_id=%{y}\", \"legendgroup\": \"dept_id=FOODS_1\", \"marker\": {\"color\": \"#636efa\"}, \"name\": \"dept_id=FOODS_1\", \"offsetgroup\": \"dept_id=FOODS_1\", \"orientation\": \"v\", \"showlegend\": true, \"textposition\": \"auto\", \"type\": \"bar\", \"x\": [\"FOODS_1\"], \"xaxis\": \"x\", \"y\": [11], \"yaxis\": \"y\"}, {\"alignmentgroup\": \"True\", \"hoverlabel\": {\"namelength\": 0}, \"hovertemplate\": \"dept_id=%{x}<br>item_id=%{y}\", \"legendgroup\": \"dept_id=FOODS_2\", \"marker\": {\"color\": \"#EF553B\"}, \"name\": \"dept_id=FOODS_2\", \"offsetgroup\": \"dept_id=FOODS_2\", \"orientation\": \"v\", \"showlegend\": true, \"textposition\": \"auto\", \"type\": \"bar\", \"x\": [\"FOODS_2\"], \"xaxis\": \"x\", \"y\": [30], \"yaxis\": \"y\"}, {\"alignmentgroup\": \"True\", \"hoverlabel\": {\"namelength\": 0}, \"hovertemplate\": \"dept_id=%{x}<br>item_id=%{y}\", \"legendgroup\": \"dept_id=FOODS_3\", \"marker\": {\"color\": \"#00cc96\"}, \"name\": \"dept_id=FOODS_3\", \"offsetgroup\": \"dept_id=FOODS_3\", \"orientation\": \"v\", \"showlegend\": true, \"textposition\": \"auto\", \"type\": \"bar\", \"x\": [\"FOODS_3\"], \"xaxis\": \"x\", \"y\": [91], \"yaxis\": \"y\"}, {\"alignmentgroup\": \"True\", \"hoverlabel\": {\"namelength\": 0}, \"hovertemplate\": \"dept_id=%{x}<br>item_id=%{y}\", \"legendgroup\": \"dept_id=HOBBIES_1\", \"marker\": {\"color\": \"#ab63fa\"}, \"name\": \"dept_id=HOBBIES_1\", \"offsetgroup\": \"dept_id=HOBBIES_1\", \"orientation\": \"v\", \"showlegend\": true, \"textposition\": \"auto\", \"type\": \"bar\", \"x\": [\"HOBBIES_1\"], \"xaxis\": \"x\", \"y\": [17], \"yaxis\": \"y\"}, {\"alignmentgroup\": \"True\", \"hoverlabel\": {\"namelength\": 0}, \"hovertemplate\": \"dept_id=%{x}<br>item_id=%{y}\", \"legendgroup\": \"dept_id=HOUSEHOLD_1\", \"marker\": {\"color\": \"#FFA15A\"}, \"name\": \"dept_id=HOUSEHOLD_1\", \"offsetgroup\": \"dept_id=HOUSEHOLD_1\", \"orientation\": \"v\", \"showlegend\": true, \"textposition\": \"auto\", \"type\": \"bar\", \"x\": [\"HOUSEHOLD_1\"], \"xaxis\": \"x\", \"y\": [46], \"yaxis\": \"y\"}, {\"alignmentgroup\": \"True\", \"hoverlabel\": {\"namelength\": 0}, \"hovertemplate\": \"dept_id=%{x}<br>item_id=%{y}\", \"legendgroup\": \"dept_id=HOUSEHOLD_2\", \"marker\": {\"color\": \"#19d3f3\"}, \"name\": \"dept_id=HOUSEHOLD_2\", \"offsetgroup\": \"dept_id=HOUSEHOLD_2\", \"orientation\": \"v\", \"showlegend\": true, \"textposition\": \"auto\", \"type\": \"bar\", \"x\": [\"HOUSEHOLD_2\"], \"xaxis\": \"x\", \"y\": [1], \"yaxis\": \"y\"}],\n",
              "                        {\"barmode\": \"relative\", \"legend\": {\"tracegroupgap\": 0}, \"template\": {\"data\": {\"bar\": [{\"error_x\": {\"color\": \"#2a3f5f\"}, \"error_y\": {\"color\": \"#2a3f5f\"}, \"marker\": {\"line\": {\"color\": \"#E5ECF6\", \"width\": 0.5}}, \"type\": \"bar\"}], \"barpolar\": [{\"marker\": {\"line\": {\"color\": \"#E5ECF6\", \"width\": 0.5}}, \"type\": \"barpolar\"}], \"carpet\": [{\"aaxis\": {\"endlinecolor\": \"#2a3f5f\", \"gridcolor\": \"white\", \"linecolor\": \"white\", \"minorgridcolor\": \"white\", \"startlinecolor\": \"#2a3f5f\"}, \"baxis\": {\"endlinecolor\": \"#2a3f5f\", \"gridcolor\": \"white\", \"linecolor\": \"white\", \"minorgridcolor\": \"white\", \"startlinecolor\": \"#2a3f5f\"}, \"type\": \"carpet\"}], \"choropleth\": [{\"colorbar\": {\"outlinewidth\": 0, \"ticks\": \"\"}, \"type\": \"choropleth\"}], \"contour\": [{\"colorbar\": {\"outlinewidth\": 0, \"ticks\": \"\"}, \"colorscale\": [[0.0, \"#0d0887\"], [0.1111111111111111, \"#46039f\"], [0.2222222222222222, \"#7201a8\"], [0.3333333333333333, \"#9c179e\"], [0.4444444444444444, \"#bd3786\"], [0.5555555555555556, \"#d8576b\"], [0.6666666666666666, \"#ed7953\"], [0.7777777777777778, \"#fb9f3a\"], [0.8888888888888888, \"#fdca26\"], [1.0, \"#f0f921\"]], \"type\": \"contour\"}], \"contourcarpet\": [{\"colorbar\": {\"outlinewidth\": 0, \"ticks\": \"\"}, \"type\": \"contourcarpet\"}], \"heatmap\": [{\"colorbar\": {\"outlinewidth\": 0, \"ticks\": \"\"}, \"colorscale\": [[0.0, \"#0d0887\"], [0.1111111111111111, \"#46039f\"], [0.2222222222222222, \"#7201a8\"], [0.3333333333333333, \"#9c179e\"], [0.4444444444444444, \"#bd3786\"], [0.5555555555555556, \"#d8576b\"], [0.6666666666666666, \"#ed7953\"], [0.7777777777777778, \"#fb9f3a\"], [0.8888888888888888, \"#fdca26\"], [1.0, \"#f0f921\"]], \"type\": \"heatmap\"}], \"heatmapgl\": [{\"colorbar\": {\"outlinewidth\": 0, \"ticks\": \"\"}, \"colorscale\": [[0.0, \"#0d0887\"], [0.1111111111111111, \"#46039f\"], [0.2222222222222222, \"#7201a8\"], [0.3333333333333333, \"#9c179e\"], [0.4444444444444444, \"#bd3786\"], [0.5555555555555556, \"#d8576b\"], [0.6666666666666666, \"#ed7953\"], [0.7777777777777778, \"#fb9f3a\"], [0.8888888888888888, \"#fdca26\"], [1.0, \"#f0f921\"]], \"type\": \"heatmapgl\"}], \"histogram\": [{\"marker\": {\"colorbar\": {\"outlinewidth\": 0, \"ticks\": \"\"}}, \"type\": \"histogram\"}], \"histogram2d\": [{\"colorbar\": {\"outlinewidth\": 0, \"ticks\": \"\"}, \"colorscale\": [[0.0, \"#0d0887\"], [0.1111111111111111, \"#46039f\"], [0.2222222222222222, \"#7201a8\"], [0.3333333333333333, \"#9c179e\"], [0.4444444444444444, \"#bd3786\"], [0.5555555555555556, \"#d8576b\"], [0.6666666666666666, \"#ed7953\"], [0.7777777777777778, \"#fb9f3a\"], [0.8888888888888888, \"#fdca26\"], [1.0, \"#f0f921\"]], \"type\": \"histogram2d\"}], \"histogram2dcontour\": [{\"colorbar\": {\"outlinewidth\": 0, \"ticks\": \"\"}, \"colorscale\": [[0.0, \"#0d0887\"], [0.1111111111111111, \"#46039f\"], [0.2222222222222222, \"#7201a8\"], [0.3333333333333333, \"#9c179e\"], [0.4444444444444444, \"#bd3786\"], [0.5555555555555556, \"#d8576b\"], [0.6666666666666666, \"#ed7953\"], [0.7777777777777778, \"#fb9f3a\"], [0.8888888888888888, \"#fdca26\"], [1.0, \"#f0f921\"]], \"type\": \"histogram2dcontour\"}], \"mesh3d\": [{\"colorbar\": {\"outlinewidth\": 0, \"ticks\": \"\"}, \"type\": \"mesh3d\"}], \"parcoords\": [{\"line\": {\"colorbar\": {\"outlinewidth\": 0, \"ticks\": \"\"}}, \"type\": \"parcoords\"}], \"pie\": [{\"automargin\": true, \"type\": \"pie\"}], \"scatter\": [{\"marker\": {\"colorbar\": {\"outlinewidth\": 0, \"ticks\": \"\"}}, \"type\": \"scatter\"}], \"scatter3d\": [{\"line\": {\"colorbar\": {\"outlinewidth\": 0, \"ticks\": \"\"}}, \"marker\": {\"colorbar\": {\"outlinewidth\": 0, \"ticks\": \"\"}}, \"type\": \"scatter3d\"}], \"scattercarpet\": [{\"marker\": {\"colorbar\": {\"outlinewidth\": 0, \"ticks\": \"\"}}, \"type\": \"scattercarpet\"}], \"scattergeo\": [{\"marker\": {\"colorbar\": {\"outlinewidth\": 0, \"ticks\": \"\"}}, \"type\": \"scattergeo\"}], \"scattergl\": [{\"marker\": {\"colorbar\": {\"outlinewidth\": 0, \"ticks\": \"\"}}, \"type\": \"scattergl\"}], \"scattermapbox\": [{\"marker\": {\"colorbar\": {\"outlinewidth\": 0, \"ticks\": \"\"}}, \"type\": \"scattermapbox\"}], \"scatterpolar\": [{\"marker\": {\"colorbar\": {\"outlinewidth\": 0, \"ticks\": \"\"}}, \"type\": \"scatterpolar\"}], \"scatterpolargl\": [{\"marker\": {\"colorbar\": {\"outlinewidth\": 0, \"ticks\": \"\"}}, \"type\": \"scatterpolargl\"}], \"scatterternary\": [{\"marker\": {\"colorbar\": {\"outlinewidth\": 0, \"ticks\": \"\"}}, \"type\": \"scatterternary\"}], \"surface\": [{\"colorbar\": {\"outlinewidth\": 0, \"ticks\": \"\"}, \"colorscale\": [[0.0, \"#0d0887\"], [0.1111111111111111, \"#46039f\"], [0.2222222222222222, \"#7201a8\"], [0.3333333333333333, \"#9c179e\"], [0.4444444444444444, \"#bd3786\"], [0.5555555555555556, \"#d8576b\"], [0.6666666666666666, \"#ed7953\"], [0.7777777777777778, \"#fb9f3a\"], [0.8888888888888888, \"#fdca26\"], [1.0, \"#f0f921\"]], \"type\": \"surface\"}], \"table\": [{\"cells\": {\"fill\": {\"color\": \"#EBF0F8\"}, \"line\": {\"color\": \"white\"}}, \"header\": {\"fill\": {\"color\": \"#C8D4E3\"}, \"line\": {\"color\": \"white\"}}, \"type\": \"table\"}]}, \"layout\": {\"annotationdefaults\": {\"arrowcolor\": \"#2a3f5f\", \"arrowhead\": 0, \"arrowwidth\": 1}, \"coloraxis\": {\"colorbar\": {\"outlinewidth\": 0, \"ticks\": \"\"}}, \"colorscale\": {\"diverging\": [[0, \"#8e0152\"], [0.1, \"#c51b7d\"], [0.2, \"#de77ae\"], [0.3, \"#f1b6da\"], [0.4, \"#fde0ef\"], [0.5, \"#f7f7f7\"], [0.6, \"#e6f5d0\"], [0.7, \"#b8e186\"], [0.8, \"#7fbc41\"], [0.9, \"#4d9221\"], [1, \"#276419\"]], \"sequential\": [[0.0, \"#0d0887\"], [0.1111111111111111, \"#46039f\"], [0.2222222222222222, \"#7201a8\"], [0.3333333333333333, \"#9c179e\"], [0.4444444444444444, \"#bd3786\"], [0.5555555555555556, \"#d8576b\"], [0.6666666666666666, \"#ed7953\"], [0.7777777777777778, \"#fb9f3a\"], [0.8888888888888888, \"#fdca26\"], [1.0, \"#f0f921\"]], \"sequentialminus\": [[0.0, \"#0d0887\"], [0.1111111111111111, \"#46039f\"], [0.2222222222222222, \"#7201a8\"], [0.3333333333333333, \"#9c179e\"], [0.4444444444444444, \"#bd3786\"], [0.5555555555555556, \"#d8576b\"], [0.6666666666666666, \"#ed7953\"], [0.7777777777777778, \"#fb9f3a\"], [0.8888888888888888, \"#fdca26\"], [1.0, \"#f0f921\"]]}, \"colorway\": [\"#636efa\", \"#EF553B\", \"#00cc96\", \"#ab63fa\", \"#FFA15A\", \"#19d3f3\", \"#FF6692\", \"#B6E880\", \"#FF97FF\", \"#FECB52\"], \"font\": {\"color\": \"#2a3f5f\"}, \"geo\": {\"bgcolor\": \"white\", \"lakecolor\": \"white\", \"landcolor\": \"#E5ECF6\", \"showlakes\": true, \"showland\": true, \"subunitcolor\": \"white\"}, \"hoverlabel\": {\"align\": \"left\"}, \"hovermode\": \"closest\", \"mapbox\": {\"style\": \"light\"}, \"paper_bgcolor\": \"white\", \"plot_bgcolor\": \"#E5ECF6\", \"polar\": {\"angularaxis\": {\"gridcolor\": \"white\", \"linecolor\": \"white\", \"ticks\": \"\"}, \"bgcolor\": \"#E5ECF6\", \"radialaxis\": {\"gridcolor\": \"white\", \"linecolor\": \"white\", \"ticks\": \"\"}}, \"scene\": {\"xaxis\": {\"backgroundcolor\": \"#E5ECF6\", \"gridcolor\": \"white\", \"gridwidth\": 2, \"linecolor\": \"white\", \"showbackground\": true, \"ticks\": \"\", \"zerolinecolor\": \"white\"}, \"yaxis\": {\"backgroundcolor\": \"#E5ECF6\", \"gridcolor\": \"white\", \"gridwidth\": 2, \"linecolor\": \"white\", \"showbackground\": true, \"ticks\": \"\", \"zerolinecolor\": \"white\"}, \"zaxis\": {\"backgroundcolor\": \"#E5ECF6\", \"gridcolor\": \"white\", \"gridwidth\": 2, \"linecolor\": \"white\", \"showbackground\": true, \"ticks\": \"\", \"zerolinecolor\": \"white\"}}, \"shapedefaults\": {\"line\": {\"color\": \"#2a3f5f\"}}, \"ternary\": {\"aaxis\": {\"gridcolor\": \"white\", \"linecolor\": \"white\", \"ticks\": \"\"}, \"baxis\": {\"gridcolor\": \"white\", \"linecolor\": \"white\", \"ticks\": \"\"}, \"bgcolor\": \"#E5ECF6\", \"caxis\": {\"gridcolor\": \"white\", \"linecolor\": \"white\", \"ticks\": \"\"}}, \"title\": {\"x\": 0.05}, \"xaxis\": {\"automargin\": true, \"gridcolor\": \"white\", \"linecolor\": \"white\", \"ticks\": \"\", \"title\": {\"standoff\": 15}, \"zerolinecolor\": \"white\", \"zerolinewidth\": 2}, \"yaxis\": {\"automargin\": true, \"gridcolor\": \"white\", \"linecolor\": \"white\", \"ticks\": \"\", \"title\": {\"standoff\": 15}, \"zerolinecolor\": \"white\", \"zerolinewidth\": 2}}}, \"title\": {\"text\": \"Items in each department\"}, \"xaxis\": {\"anchor\": \"y\", \"categoryarray\": [\"FOODS_1\", \"FOODS_2\", \"FOODS_3\", \"HOBBIES_1\", \"HOUSEHOLD_1\", \"HOUSEHOLD_2\"], \"categoryorder\": \"array\", \"domain\": [0.0, 1.0], \"title\": {\"text\": \"dept_id\"}}, \"yaxis\": {\"anchor\": \"x\", \"domain\": [0.0, 1.0], \"title\": {\"text\": \"item_id\"}}},\n",
              "                        {\"responsive\": true}\n",
              "                    ).then(function(){\n",
              "                            \n",
              "var gd = document.getElementById('4563d31a-b04e-4f97-a7f6-edf8f55a2f41');\n",
              "var x = new MutationObserver(function (mutations, observer) {{\n",
              "        var display = window.getComputedStyle(gd).display;\n",
              "        if (!display || display === 'none') {{\n",
              "            console.log([gd, 'removed!']);\n",
              "            Plotly.purge(gd);\n",
              "            observer.disconnect();\n",
              "        }}\n",
              "}});\n",
              "\n",
              "// Listen for the removal of the full notebook cells\n",
              "var notebookContainer = gd.closest('#notebook-container');\n",
              "if (notebookContainer) {{\n",
              "    x.observe(notebookContainer, {childList: true});\n",
              "}}\n",
              "\n",
              "// Listen for the clearing of the current output cell\n",
              "var outputEl = gd.closest('.output');\n",
              "if (outputEl) {{\n",
              "    x.observe(outputEl, {childList: true});\n",
              "}}\n",
              "\n",
              "                        })\n",
              "                };\n",
              "                \n",
              "            </script>\n",
              "        </div>\n",
              "</body>\n",
              "</html>"
            ]
          },
          "metadata": {
            "tags": []
          }
        }
      ]
    },
    {
      "cell_type": "markdown",
      "metadata": {
        "id": "ICqEF8rHD-a-"
      },
      "source": [
        "## **Sales in each department for each state**"
      ]
    },
    {
      "cell_type": "code",
      "metadata": {
        "id": "w96ldaENCqZ1",
        "colab": {
          "base_uri": "https://localhost:8080/",
          "height": 542
        },
        "outputId": "638c5dae-2177-4b33-dd46-4efcac4d5473"
      },
      "source": [
        "department_sales = df_final_master.groupby(['dept_id','state_id']).agg({'volume':'sum'}).reset_index()\n",
        "fig = px.bar(department_sales, x=department_sales['dept_id']+department_sales['state_id'], y='volume', color=\"state_id\", title='volume in each department of state')\n",
        "fig.show()"
      ],
      "execution_count": null,
      "outputs": [
        {
          "output_type": "display_data",
          "data": {
            "text/html": [
              "<html>\n",
              "<head><meta charset=\"utf-8\" /></head>\n",
              "<body>\n",
              "    <div>\n",
              "            <script src=\"https://cdnjs.cloudflare.com/ajax/libs/mathjax/2.7.5/MathJax.js?config=TeX-AMS-MML_SVG\"></script><script type=\"text/javascript\">if (window.MathJax) {MathJax.Hub.Config({SVG: {font: \"STIX-Web\"}});}</script>\n",
              "                <script type=\"text/javascript\">window.PlotlyConfig = {MathJaxConfig: 'local'};</script>\n",
              "        <script src=\"https://cdn.plot.ly/plotly-latest.min.js\"></script>    \n",
              "            <div id=\"9dedcbd9-cc66-4cca-a967-3086ff6c8432\" class=\"plotly-graph-div\" style=\"height:525px; width:100%;\"></div>\n",
              "            <script type=\"text/javascript\">\n",
              "                \n",
              "                    window.PLOTLYENV=window.PLOTLYENV || {};\n",
              "                    \n",
              "                if (document.getElementById(\"9dedcbd9-cc66-4cca-a967-3086ff6c8432\")) {\n",
              "                    Plotly.newPlot(\n",
              "                        '9dedcbd9-cc66-4cca-a967-3086ff6c8432',\n",
              "                        [{\"alignmentgroup\": \"True\", \"hoverlabel\": {\"namelength\": 0}, \"hovertemplate\": \"state_id=CA<br>x=%{x}<br>volume=%{y}\", \"legendgroup\": \"state_id=CA\", \"marker\": {\"color\": \"#636efa\"}, \"name\": \"state_id=CA\", \"offsetgroup\": \"state_id=CA\", \"orientation\": \"v\", \"showlegend\": true, \"textposition\": \"auto\", \"type\": \"bar\", \"x\": [\"FOODS_1CA\", \"FOODS_2CA\", \"FOODS_3CA\", \"HOBBIES_1CA\", \"HOUSEHOLD_1CA\", \"HOUSEHOLD_2CA\"], \"xaxis\": \"x\", \"y\": [140895, 477207, 4329121, 75457, 646351, 5968], \"yaxis\": \"y\"}, {\"alignmentgroup\": \"True\", \"hoverlabel\": {\"namelength\": 0}, \"hovertemplate\": \"state_id=TX<br>x=%{x}<br>volume=%{y}\", \"legendgroup\": \"state_id=TX\", \"marker\": {\"color\": \"#EF553B\"}, \"name\": \"state_id=TX\", \"offsetgroup\": \"state_id=TX\", \"orientation\": \"v\", \"showlegend\": true, \"textposition\": \"auto\", \"type\": \"bar\", \"x\": [\"FOODS_1TX\", \"FOODS_2TX\", \"FOODS_3TX\", \"HOBBIES_1TX\", \"HOUSEHOLD_1TX\"], \"xaxis\": \"x\", \"y\": [151865, 191448, 3317024, 69622, 198388], \"yaxis\": \"y\"}, {\"alignmentgroup\": \"True\", \"hoverlabel\": {\"namelength\": 0}, \"hovertemplate\": \"state_id=WI<br>x=%{x}<br>volume=%{y}\", \"legendgroup\": \"state_id=WI\", \"marker\": {\"color\": \"#00cc96\"}, \"name\": \"state_id=WI\", \"offsetgroup\": \"state_id=WI\", \"orientation\": \"v\", \"showlegend\": true, \"textposition\": \"auto\", \"type\": \"bar\", \"x\": [\"FOODS_1WI\", \"FOODS_2WI\", \"FOODS_3WI\", \"HOBBIES_1WI\", \"HOUSEHOLD_1WI\"], \"xaxis\": \"x\", \"y\": [60648, 268211, 2375001, 29443, 227923], \"yaxis\": \"y\"}],\n",
              "                        {\"barmode\": \"relative\", \"legend\": {\"tracegroupgap\": 0}, \"template\": {\"data\": {\"bar\": [{\"error_x\": {\"color\": \"#2a3f5f\"}, \"error_y\": {\"color\": \"#2a3f5f\"}, \"marker\": {\"line\": {\"color\": \"#E5ECF6\", \"width\": 0.5}}, \"type\": \"bar\"}], \"barpolar\": [{\"marker\": {\"line\": {\"color\": \"#E5ECF6\", \"width\": 0.5}}, \"type\": \"barpolar\"}], \"carpet\": [{\"aaxis\": {\"endlinecolor\": \"#2a3f5f\", \"gridcolor\": \"white\", \"linecolor\": \"white\", \"minorgridcolor\": \"white\", \"startlinecolor\": \"#2a3f5f\"}, \"baxis\": {\"endlinecolor\": \"#2a3f5f\", \"gridcolor\": \"white\", \"linecolor\": \"white\", \"minorgridcolor\": \"white\", \"startlinecolor\": \"#2a3f5f\"}, \"type\": \"carpet\"}], \"choropleth\": [{\"colorbar\": {\"outlinewidth\": 0, \"ticks\": \"\"}, \"type\": \"choropleth\"}], \"contour\": [{\"colorbar\": {\"outlinewidth\": 0, \"ticks\": \"\"}, \"colorscale\": [[0.0, \"#0d0887\"], [0.1111111111111111, \"#46039f\"], [0.2222222222222222, \"#7201a8\"], [0.3333333333333333, \"#9c179e\"], [0.4444444444444444, \"#bd3786\"], [0.5555555555555556, \"#d8576b\"], [0.6666666666666666, \"#ed7953\"], [0.7777777777777778, \"#fb9f3a\"], [0.8888888888888888, \"#fdca26\"], [1.0, \"#f0f921\"]], \"type\": \"contour\"}], \"contourcarpet\": [{\"colorbar\": {\"outlinewidth\": 0, \"ticks\": \"\"}, \"type\": \"contourcarpet\"}], \"heatmap\": [{\"colorbar\": {\"outlinewidth\": 0, \"ticks\": \"\"}, \"colorscale\": [[0.0, \"#0d0887\"], [0.1111111111111111, \"#46039f\"], [0.2222222222222222, \"#7201a8\"], [0.3333333333333333, \"#9c179e\"], [0.4444444444444444, \"#bd3786\"], [0.5555555555555556, \"#d8576b\"], [0.6666666666666666, \"#ed7953\"], [0.7777777777777778, \"#fb9f3a\"], [0.8888888888888888, \"#fdca26\"], [1.0, \"#f0f921\"]], \"type\": \"heatmap\"}], \"heatmapgl\": [{\"colorbar\": {\"outlinewidth\": 0, \"ticks\": \"\"}, \"colorscale\": [[0.0, \"#0d0887\"], [0.1111111111111111, \"#46039f\"], [0.2222222222222222, \"#7201a8\"], [0.3333333333333333, \"#9c179e\"], [0.4444444444444444, \"#bd3786\"], [0.5555555555555556, \"#d8576b\"], [0.6666666666666666, \"#ed7953\"], [0.7777777777777778, \"#fb9f3a\"], [0.8888888888888888, \"#fdca26\"], [1.0, \"#f0f921\"]], \"type\": \"heatmapgl\"}], \"histogram\": [{\"marker\": {\"colorbar\": {\"outlinewidth\": 0, \"ticks\": \"\"}}, \"type\": \"histogram\"}], \"histogram2d\": [{\"colorbar\": {\"outlinewidth\": 0, \"ticks\": \"\"}, \"colorscale\": [[0.0, \"#0d0887\"], [0.1111111111111111, \"#46039f\"], [0.2222222222222222, \"#7201a8\"], [0.3333333333333333, \"#9c179e\"], [0.4444444444444444, \"#bd3786\"], [0.5555555555555556, \"#d8576b\"], [0.6666666666666666, \"#ed7953\"], [0.7777777777777778, \"#fb9f3a\"], [0.8888888888888888, \"#fdca26\"], [1.0, \"#f0f921\"]], \"type\": \"histogram2d\"}], \"histogram2dcontour\": [{\"colorbar\": {\"outlinewidth\": 0, \"ticks\": \"\"}, \"colorscale\": [[0.0, \"#0d0887\"], [0.1111111111111111, \"#46039f\"], [0.2222222222222222, \"#7201a8\"], [0.3333333333333333, \"#9c179e\"], [0.4444444444444444, \"#bd3786\"], [0.5555555555555556, \"#d8576b\"], [0.6666666666666666, \"#ed7953\"], [0.7777777777777778, \"#fb9f3a\"], [0.8888888888888888, \"#fdca26\"], [1.0, \"#f0f921\"]], \"type\": \"histogram2dcontour\"}], \"mesh3d\": [{\"colorbar\": {\"outlinewidth\": 0, \"ticks\": \"\"}, \"type\": \"mesh3d\"}], \"parcoords\": [{\"line\": {\"colorbar\": {\"outlinewidth\": 0, \"ticks\": \"\"}}, \"type\": \"parcoords\"}], \"pie\": [{\"automargin\": true, \"type\": \"pie\"}], \"scatter\": [{\"marker\": {\"colorbar\": {\"outlinewidth\": 0, \"ticks\": \"\"}}, \"type\": \"scatter\"}], \"scatter3d\": [{\"line\": {\"colorbar\": {\"outlinewidth\": 0, \"ticks\": \"\"}}, \"marker\": {\"colorbar\": {\"outlinewidth\": 0, \"ticks\": \"\"}}, \"type\": \"scatter3d\"}], \"scattercarpet\": [{\"marker\": {\"colorbar\": {\"outlinewidth\": 0, \"ticks\": \"\"}}, \"type\": \"scattercarpet\"}], \"scattergeo\": [{\"marker\": {\"colorbar\": {\"outlinewidth\": 0, \"ticks\": \"\"}}, \"type\": \"scattergeo\"}], \"scattergl\": [{\"marker\": {\"colorbar\": {\"outlinewidth\": 0, \"ticks\": \"\"}}, \"type\": \"scattergl\"}], \"scattermapbox\": [{\"marker\": {\"colorbar\": {\"outlinewidth\": 0, \"ticks\": \"\"}}, \"type\": \"scattermapbox\"}], \"scatterpolar\": [{\"marker\": {\"colorbar\": {\"outlinewidth\": 0, \"ticks\": \"\"}}, \"type\": \"scatterpolar\"}], \"scatterpolargl\": [{\"marker\": {\"colorbar\": {\"outlinewidth\": 0, \"ticks\": \"\"}}, \"type\": \"scatterpolargl\"}], \"scatterternary\": [{\"marker\": {\"colorbar\": {\"outlinewidth\": 0, \"ticks\": \"\"}}, \"type\": \"scatterternary\"}], \"surface\": [{\"colorbar\": {\"outlinewidth\": 0, \"ticks\": \"\"}, \"colorscale\": [[0.0, \"#0d0887\"], [0.1111111111111111, \"#46039f\"], [0.2222222222222222, \"#7201a8\"], [0.3333333333333333, \"#9c179e\"], [0.4444444444444444, \"#bd3786\"], [0.5555555555555556, \"#d8576b\"], [0.6666666666666666, \"#ed7953\"], [0.7777777777777778, \"#fb9f3a\"], [0.8888888888888888, \"#fdca26\"], [1.0, \"#f0f921\"]], \"type\": \"surface\"}], \"table\": [{\"cells\": {\"fill\": {\"color\": \"#EBF0F8\"}, \"line\": {\"color\": \"white\"}}, \"header\": {\"fill\": {\"color\": \"#C8D4E3\"}, \"line\": {\"color\": \"white\"}}, \"type\": \"table\"}]}, \"layout\": {\"annotationdefaults\": {\"arrowcolor\": \"#2a3f5f\", \"arrowhead\": 0, \"arrowwidth\": 1}, \"coloraxis\": {\"colorbar\": {\"outlinewidth\": 0, \"ticks\": \"\"}}, \"colorscale\": {\"diverging\": [[0, \"#8e0152\"], [0.1, \"#c51b7d\"], [0.2, \"#de77ae\"], [0.3, \"#f1b6da\"], [0.4, \"#fde0ef\"], [0.5, \"#f7f7f7\"], [0.6, \"#e6f5d0\"], [0.7, \"#b8e186\"], [0.8, \"#7fbc41\"], [0.9, \"#4d9221\"], [1, \"#276419\"]], \"sequential\": [[0.0, \"#0d0887\"], [0.1111111111111111, \"#46039f\"], [0.2222222222222222, \"#7201a8\"], [0.3333333333333333, \"#9c179e\"], [0.4444444444444444, \"#bd3786\"], [0.5555555555555556, \"#d8576b\"], [0.6666666666666666, \"#ed7953\"], [0.7777777777777778, \"#fb9f3a\"], [0.8888888888888888, \"#fdca26\"], [1.0, \"#f0f921\"]], \"sequentialminus\": [[0.0, \"#0d0887\"], [0.1111111111111111, \"#46039f\"], [0.2222222222222222, \"#7201a8\"], [0.3333333333333333, \"#9c179e\"], [0.4444444444444444, \"#bd3786\"], [0.5555555555555556, \"#d8576b\"], [0.6666666666666666, \"#ed7953\"], [0.7777777777777778, \"#fb9f3a\"], [0.8888888888888888, \"#fdca26\"], [1.0, \"#f0f921\"]]}, \"colorway\": [\"#636efa\", \"#EF553B\", \"#00cc96\", \"#ab63fa\", \"#FFA15A\", \"#19d3f3\", \"#FF6692\", \"#B6E880\", \"#FF97FF\", \"#FECB52\"], \"font\": {\"color\": \"#2a3f5f\"}, \"geo\": {\"bgcolor\": \"white\", \"lakecolor\": \"white\", \"landcolor\": \"#E5ECF6\", \"showlakes\": true, \"showland\": true, \"subunitcolor\": \"white\"}, \"hoverlabel\": {\"align\": \"left\"}, \"hovermode\": \"closest\", \"mapbox\": {\"style\": \"light\"}, \"paper_bgcolor\": \"white\", \"plot_bgcolor\": \"#E5ECF6\", \"polar\": {\"angularaxis\": {\"gridcolor\": \"white\", \"linecolor\": \"white\", \"ticks\": \"\"}, \"bgcolor\": \"#E5ECF6\", \"radialaxis\": {\"gridcolor\": \"white\", \"linecolor\": \"white\", \"ticks\": \"\"}}, \"scene\": {\"xaxis\": {\"backgroundcolor\": \"#E5ECF6\", \"gridcolor\": \"white\", \"gridwidth\": 2, \"linecolor\": \"white\", \"showbackground\": true, \"ticks\": \"\", \"zerolinecolor\": \"white\"}, \"yaxis\": {\"backgroundcolor\": \"#E5ECF6\", \"gridcolor\": \"white\", \"gridwidth\": 2, \"linecolor\": \"white\", \"showbackground\": true, \"ticks\": \"\", \"zerolinecolor\": \"white\"}, \"zaxis\": {\"backgroundcolor\": \"#E5ECF6\", \"gridcolor\": \"white\", \"gridwidth\": 2, \"linecolor\": \"white\", \"showbackground\": true, \"ticks\": \"\", \"zerolinecolor\": \"white\"}}, \"shapedefaults\": {\"line\": {\"color\": \"#2a3f5f\"}}, \"ternary\": {\"aaxis\": {\"gridcolor\": \"white\", \"linecolor\": \"white\", \"ticks\": \"\"}, \"baxis\": {\"gridcolor\": \"white\", \"linecolor\": \"white\", \"ticks\": \"\"}, \"bgcolor\": \"#E5ECF6\", \"caxis\": {\"gridcolor\": \"white\", \"linecolor\": \"white\", \"ticks\": \"\"}}, \"title\": {\"x\": 0.05}, \"xaxis\": {\"automargin\": true, \"gridcolor\": \"white\", \"linecolor\": \"white\", \"ticks\": \"\", \"title\": {\"standoff\": 15}, \"zerolinecolor\": \"white\", \"zerolinewidth\": 2}, \"yaxis\": {\"automargin\": true, \"gridcolor\": \"white\", \"linecolor\": \"white\", \"ticks\": \"\", \"title\": {\"standoff\": 15}, \"zerolinecolor\": \"white\", \"zerolinewidth\": 2}}}, \"title\": {\"text\": \"volume in each department of state\"}, \"xaxis\": {\"anchor\": \"y\", \"domain\": [0.0, 1.0], \"title\": {\"text\": \"x\"}}, \"yaxis\": {\"anchor\": \"x\", \"domain\": [0.0, 1.0], \"title\": {\"text\": \"volume\"}}},\n",
              "                        {\"responsive\": true}\n",
              "                    ).then(function(){\n",
              "                            \n",
              "var gd = document.getElementById('9dedcbd9-cc66-4cca-a967-3086ff6c8432');\n",
              "var x = new MutationObserver(function (mutations, observer) {{\n",
              "        var display = window.getComputedStyle(gd).display;\n",
              "        if (!display || display === 'none') {{\n",
              "            console.log([gd, 'removed!']);\n",
              "            Plotly.purge(gd);\n",
              "            observer.disconnect();\n",
              "        }}\n",
              "}});\n",
              "\n",
              "// Listen for the removal of the full notebook cells\n",
              "var notebookContainer = gd.closest('#notebook-container');\n",
              "if (notebookContainer) {{\n",
              "    x.observe(notebookContainer, {childList: true});\n",
              "}}\n",
              "\n",
              "// Listen for the clearing of the current output cell\n",
              "var outputEl = gd.closest('.output');\n",
              "if (outputEl) {{\n",
              "    x.observe(outputEl, {childList: true});\n",
              "}}\n",
              "\n",
              "                        })\n",
              "                };\n",
              "                \n",
              "            </script>\n",
              "        </div>\n",
              "</body>\n",
              "</html>"
            ]
          },
          "metadata": {
            "tags": []
          }
        }
      ]
    },
    {
      "cell_type": "markdown",
      "metadata": {
        "id": "mPVv01CLFjFx"
      },
      "source": [
        "## **Time Series Plot for each item category**"
      ]
    },
    {
      "cell_type": "code",
      "metadata": {
        "id": "ZMINBCieEua7",
        "colab": {
          "base_uri": "https://localhost:8080/",
          "height": 542
        },
        "outputId": "d5551334-7680-4343-9225-0de3e1d04b27"
      },
      "source": [
        "item_cat_agg = df_final_master.groupby(['date','cat_id']).agg({'volume':'sum'}).reset_index()\n",
        "fig = px.line(item_cat_agg, x=\"date\", y=\"volume\", color=\"cat_id\",\n",
        "              line_group=\"cat_id\", hover_name=\"cat_id\")\n",
        "fig.show()"
      ],
      "execution_count": null,
      "outputs": [
        {
          "output_type": "display_data",
          "data": {
            "text/html": [
              "<html>\n",
              "<head><meta charset=\"utf-8\" /></head>\n",
              "<body>\n",
              "    <div>\n",
              "            <script src=\"https://cdnjs.cloudflare.com/ajax/libs/mathjax/2.7.5/MathJax.js?config=TeX-AMS-MML_SVG\"></script><script type=\"text/javascript\">if (window.MathJax) {MathJax.Hub.Config({SVG: {font: \"STIX-Web\"}});}</script>\n",
              "                <script type=\"text/javascript\">window.PlotlyConfig = {MathJaxConfig: 'local'};</script>\n",
              "        <script src=\"https://cdn.plot.ly/plotly-latest.min.js\"></script>    \n",
              "            <div id=\"38d3f039-1255-48aa-9886-eb6d0171b7cd\" class=\"plotly-graph-div\" style=\"height:525px; width:100%;\"></div>\n",
              "            <script type=\"text/javascript\">\n",
              "                \n",
              "                    window.PLOTLYENV=window.PLOTLYENV || {};\n",
              "                    \n",
              "                if (document.getElementById(\"38d3f039-1255-48aa-9886-eb6d0171b7cd\")) {\n",
              "                    Plotly.newPlot(\n",
              "                        '38d3f039-1255-48aa-9886-eb6d0171b7cd',\n",
              "                        [{\"hoverlabel\": {\"namelength\": 0}, \"hovertemplate\": \"<b>%{hovertext}</b><br><br>cat_id=FOODS<br>date=%{x}<br>volume=%{y}\", \"hovertext\": [\"FOODS\", \"FOODS\", \"FOODS\", \"FOODS\", \"FOODS\", \"FOODS\", \"FOODS\", \"FOODS\", \"FOODS\", \"FOODS\", \"FOODS\", \"FOODS\", \"FOODS\", \"FOODS\", \"FOODS\", \"FOODS\", \"FOODS\", \"FOODS\", \"FOODS\", \"FOODS\", \"FOODS\", \"FOODS\", \"FOODS\", \"FOODS\", \"FOODS\", \"FOODS\", \"FOODS\", \"FOODS\", \"FOODS\", \"FOODS\", \"FOODS\", \"FOODS\", \"FOODS\", \"FOODS\", \"FOODS\", \"FOODS\", \"FOODS\", \"FOODS\", \"FOODS\", \"FOODS\", \"FOODS\", \"FOODS\", \"FOODS\", \"FOODS\", \"FOODS\", \"FOODS\", \"FOODS\", \"FOODS\", \"FOODS\", \"FOODS\", \"FOODS\", \"FOODS\", \"FOODS\", \"FOODS\", \"FOODS\", \"FOODS\", \"FOODS\", \"FOODS\", \"FOODS\", \"FOODS\", \"FOODS\", \"FOODS\", \"FOODS\", \"FOODS\", \"FOODS\", \"FOODS\", \"FOODS\", \"FOODS\", \"FOODS\", \"FOODS\", \"FOODS\", \"FOODS\", \"FOODS\", \"FOODS\", \"FOODS\", \"FOODS\", \"FOODS\", \"FOODS\", \"FOODS\", \"FOODS\", \"FOODS\", \"FOODS\", \"FOODS\", \"FOODS\", \"FOODS\", \"FOODS\", \"FOODS\", \"FOODS\", \"FOODS\", \"FOODS\", \"FOODS\", \"FOODS\", \"FOODS\", \"FOODS\", \"FOODS\", \"FOODS\", \"FOODS\", \"FOODS\", \"FOODS\", \"FOODS\", \"FOODS\", \"FOODS\", \"FOODS\", \"FOODS\", \"FOODS\", \"FOODS\", \"FOODS\", \"FOODS\", \"FOODS\", \"FOODS\", \"FOODS\", \"FOODS\", \"FOODS\", \"FOODS\", \"FOODS\", \"FOODS\", \"FOODS\", \"FOODS\", \"FOODS\", \"FOODS\", \"FOODS\", \"FOODS\", \"FOODS\", \"FOODS\", \"FOODS\", \"FOODS\", \"FOODS\", \"FOODS\", \"FOODS\", \"FOODS\", \"FOODS\", \"FOODS\", \"FOODS\", \"FOODS\", \"FOODS\", \"FOODS\", \"FOODS\", \"FOODS\", \"FOODS\", \"FOODS\", \"FOODS\", \"FOODS\", \"FOODS\", \"FOODS\", \"FOODS\", \"FOODS\", \"FOODS\", \"FOODS\", \"FOODS\", \"FOODS\", \"FOODS\", \"FOODS\", \"FOODS\", \"FOODS\", \"FOODS\", \"FOODS\", \"FOODS\", \"FOODS\", \"FOODS\", \"FOODS\", \"FOODS\", \"FOODS\", \"FOODS\", \"FOODS\", \"FOODS\", \"FOODS\", \"FOODS\", \"FOODS\", \"FOODS\", \"FOODS\", \"FOODS\", \"FOODS\", \"FOODS\", \"FOODS\", \"FOODS\", \"FOODS\", \"FOODS\", \"FOODS\", \"FOODS\", \"FOODS\", \"FOODS\", \"FOODS\", \"FOODS\", \"FOODS\", \"FOODS\", \"FOODS\", \"FOODS\", \"FOODS\", \"FOODS\", \"FOODS\", \"FOODS\", \"FOODS\", \"FOODS\", \"FOODS\", \"FOODS\", \"FOODS\", \"FOODS\", \"FOODS\", \"FOODS\", \"FOODS\", \"FOODS\", \"FOODS\", \"FOODS\", \"FOODS\", \"FOODS\", \"FOODS\", \"FOODS\", \"FOODS\", \"FOODS\", \"FOODS\", \"FOODS\", \"FOODS\", \"FOODS\", \"FOODS\", \"FOODS\", \"FOODS\", \"FOODS\", \"FOODS\", \"FOODS\", \"FOODS\", \"FOODS\", \"FOODS\", \"FOODS\", \"FOODS\", \"FOODS\", \"FOODS\", \"FOODS\", \"FOODS\", \"FOODS\", \"FOODS\", \"FOODS\", \"FOODS\", \"FOODS\", \"FOODS\", \"FOODS\", \"FOODS\", \"FOODS\", \"FOODS\", \"FOODS\", \"FOODS\", \"FOODS\", \"FOODS\", \"FOODS\", \"FOODS\", \"FOODS\", \"FOODS\", \"FOODS\", \"FOODS\", \"FOODS\", \"FOODS\", \"FOODS\", \"FOODS\", \"FOODS\", \"FOODS\", \"FOODS\", \"FOODS\", \"FOODS\", \"FOODS\", \"FOODS\", \"FOODS\", \"FOODS\", \"FOODS\", \"FOODS\", \"FOODS\", \"FOODS\", \"FOODS\", \"FOODS\", \"FOODS\", \"FOODS\", \"FOODS\", \"FOODS\", \"FOODS\", \"FOODS\", \"FOODS\", \"FOODS\", \"FOODS\", \"FOODS\", \"FOODS\"], \"legendgroup\": \"cat_id=FOODS\", \"line\": {\"color\": \"#636efa\", \"dash\": \"solid\"}, \"mode\": \"lines\", \"name\": \"cat_id=FOODS\", \"showlegend\": true, \"type\": \"scatter\", \"x\": [\"2011-01-29\", \"2011-02-05\", \"2011-02-12\", \"2011-02-19\", \"2011-02-26\", \"2011-03-05\", \"2011-03-12\", \"2011-03-19\", \"2011-03-26\", \"2011-04-02\", \"2011-04-09\", \"2011-04-16\", \"2011-04-23\", \"2011-04-30\", \"2011-05-07\", \"2011-05-14\", \"2011-05-21\", \"2011-05-28\", \"2011-06-04\", \"2011-06-11\", \"2011-06-18\", \"2011-06-25\", \"2011-07-02\", \"2011-07-09\", \"2011-07-16\", \"2011-07-23\", \"2011-07-30\", \"2011-08-06\", \"2011-08-13\", \"2011-08-20\", \"2011-08-27\", \"2011-09-03\", \"2011-09-10\", \"2011-09-17\", \"2011-09-24\", \"2011-10-01\", \"2011-10-08\", \"2011-10-15\", \"2011-10-22\", \"2011-10-29\", \"2011-11-05\", \"2011-11-12\", \"2011-11-19\", \"2011-11-26\", \"2011-12-03\", \"2011-12-10\", \"2011-12-17\", \"2011-12-24\", \"2011-12-31\", \"2012-01-07\", \"2012-01-14\", \"2012-01-21\", \"2012-01-28\", \"2012-02-04\", \"2012-02-11\", \"2012-02-18\", \"2012-02-25\", \"2012-03-03\", \"2012-03-10\", \"2012-03-17\", \"2012-03-24\", \"2012-03-31\", \"2012-04-07\", \"2012-04-14\", \"2012-04-21\", \"2012-04-28\", \"2012-05-05\", \"2012-05-12\", \"2012-05-19\", \"2012-05-26\", \"2012-06-02\", \"2012-06-09\", \"2012-06-16\", \"2012-06-23\", \"2012-06-30\", \"2012-07-07\", \"2012-07-14\", \"2012-07-21\", \"2012-07-28\", \"2012-08-04\", \"2012-08-11\", \"2012-08-18\", \"2012-08-25\", \"2012-09-01\", \"2012-09-08\", \"2012-09-15\", \"2012-09-22\", \"2012-09-29\", \"2012-10-06\", \"2012-10-13\", \"2012-10-20\", \"2012-10-27\", \"2012-11-03\", \"2012-11-10\", \"2012-11-17\", \"2012-11-24\", \"2012-12-01\", \"2012-12-08\", \"2012-12-15\", \"2012-12-22\", \"2012-12-29\", \"2013-01-05\", \"2013-01-12\", \"2013-01-19\", \"2013-01-26\", \"2013-02-02\", \"2013-02-09\", \"2013-02-16\", \"2013-02-23\", \"2013-03-02\", \"2013-03-09\", \"2013-03-16\", \"2013-03-23\", \"2013-03-30\", \"2013-04-06\", \"2013-04-13\", \"2013-04-20\", \"2013-04-27\", \"2013-05-04\", \"2013-05-11\", \"2013-05-18\", \"2013-05-25\", \"2013-06-01\", \"2013-06-08\", \"2013-06-15\", \"2013-06-22\", \"2013-06-29\", \"2013-07-06\", \"2013-07-13\", \"2013-07-20\", \"2013-07-27\", \"2013-08-03\", \"2013-08-10\", \"2013-08-17\", \"2013-08-24\", \"2013-08-31\", \"2013-09-07\", \"2013-09-14\", \"2013-09-21\", \"2013-09-28\", \"2013-10-05\", \"2013-10-12\", \"2013-10-19\", \"2013-10-26\", \"2013-11-02\", \"2013-11-09\", \"2013-11-16\", \"2013-11-23\", \"2013-11-30\", \"2013-12-07\", \"2013-12-14\", \"2013-12-21\", \"2013-12-28\", \"2014-01-04\", \"2014-01-11\", \"2014-01-18\", \"2014-01-25\", \"2014-02-01\", \"2014-02-08\", \"2014-02-15\", \"2014-02-22\", \"2014-03-01\", \"2014-03-08\", \"2014-03-15\", \"2014-03-22\", \"2014-03-29\", \"2014-04-05\", \"2014-04-12\", \"2014-04-19\", \"2014-04-26\", \"2014-05-03\", \"2014-05-10\", \"2014-05-17\", \"2014-05-24\", \"2014-05-31\", \"2014-06-07\", \"2014-06-14\", \"2014-06-21\", \"2014-06-28\", \"2014-07-05\", \"2014-07-12\", \"2014-07-19\", \"2014-07-26\", \"2014-08-02\", \"2014-08-09\", \"2014-08-16\", \"2014-08-23\", \"2014-08-30\", \"2014-09-06\", \"2014-09-13\", \"2014-09-20\", \"2014-09-27\", \"2014-10-04\", \"2014-10-11\", \"2014-10-18\", \"2014-10-25\", \"2014-11-01\", \"2014-11-08\", \"2014-11-15\", \"2014-11-22\", \"2014-11-29\", \"2014-12-06\", \"2014-12-13\", \"2014-12-20\", \"2014-12-27\", \"2015-01-03\", \"2015-01-10\", \"2015-01-17\", \"2015-01-24\", \"2015-01-31\", \"2015-02-07\", \"2015-02-14\", \"2015-02-21\", \"2015-02-28\", \"2015-03-07\", \"2015-03-14\", \"2015-03-21\", \"2015-03-28\", \"2015-04-04\", \"2015-04-11\", \"2015-04-18\", \"2015-04-25\", \"2015-05-02\", \"2015-05-09\", \"2015-05-16\", \"2015-05-23\", \"2015-05-30\", \"2015-06-06\", \"2015-06-13\", \"2015-06-20\", \"2015-06-27\", \"2015-07-04\", \"2015-07-11\", \"2015-07-18\", \"2015-07-25\", \"2015-08-01\", \"2015-08-08\", \"2015-08-15\", \"2015-08-22\", \"2015-08-29\", \"2015-09-05\", \"2015-09-12\", \"2015-09-19\", \"2015-09-26\", \"2015-10-03\", \"2015-10-10\", \"2015-10-17\", \"2015-10-24\", \"2015-10-31\", \"2015-11-07\", \"2015-11-14\", \"2015-11-21\", \"2015-11-28\", \"2015-12-05\", \"2015-12-12\", \"2015-12-19\", \"2015-12-26\", \"2016-01-02\", \"2016-01-09\", \"2016-01-16\", \"2016-01-23\", \"2016-01-30\", \"2016-02-06\", \"2016-02-13\", \"2016-02-20\", \"2016-02-27\", \"2016-03-05\", \"2016-03-12\", \"2016-03-19\", \"2016-03-26\", \"2016-04-02\", \"2016-04-09\", \"2016-04-16\", \"2016-04-23\", \"2016-04-30\", \"2016-05-07\", \"2016-05-14\", \"2016-05-21\"], \"xaxis\": \"x\", \"y\": [37995, 39112, 31051, 28438, 29690, 31766, 30029, 26628, 27835, 30976, 30837, 29368, 27362, 29306, 30499, 27890, 28430, 29456, 33919, 33494, 31292, 30219, 36446, 34238, 32368, 29322, 34998, 36251, 36836, 34366, 32899, 33856, 33980, 32394, 38701, 44428, 44180, 41771, 38773, 39360, 42070, 41066, 46716, 34491, 42873, 45181, 46305, 36279, 40400, 40219, 38969, 37001, 38683, 45639, 42541, 41324, 41935, 49010, 47657, 41374, 40427, 46859, 47007, 41228, 40684, 43845, 49888, 49026, 46203, 45853, 52192, 54521, 48423, 46272, 54152, 50434, 48258, 45777, 46883, 52924, 53076, 45724, 44259, 49699, 46981, 42797, 40341, 45904, 45105, 41229, 35129, 39946, 44587, 42445, 45921, 32224, 42458, 43752, 44919, 41311, 41898, 43153, 42330, 35410, 35004, 40606, 43508, 38655, 37704, 43112, 42125, 37132, 37430, 40166, 41323, 37978, 36572, 37623, 41437, 41665, 38425, 37498, 45087, 46314, 42298, 41469, 53040, 46275, 44173, 41556, 43572, 49465, 50459, 47922, 55107, 59222, 58640, 51611, 46864, 45409, 50734, 46082, 40858, 41685, 46262, 43568, 38108, 37983, 45465, 43997, 39080, 35195, 43533, 42725, 42030, 35478, 34737, 40694, 39210, 35383, 33355, 36812, 44915, 39545, 37729, 40325, 47612, 45610, 43121, 42618, 45664, 44701, 36854, 35193, 41510, 45252, 43857, 38098, 48634, 49181, 46253, 41875, 43553, 46884, 44019, 42905, 40693, 42977, 46149, 41624, 39437, 40926, 45954, 41867, 39428, 39084, 44030, 42151, 39005, 43679, 36449, 36867, 38110, 35126, 33618, 42377, 42150, 38852, 36205, 42014, 45265, 35057, 31696, 35782, 39618, 39807, 34681, 36770, 38555, 38505, 36905, 37754, 42440, 39633, 33259, 32542, 35802, 40795, 41284, 38044, 42342, 43646, 45906, 42507, 39445, 45532, 44678, 41706, 37458, 39392, 44177, 43119, 42727, 39416, 45706, 43383, 40714, 38808, 38375, 38237, 37218, 41948, 32819, 32788, 35628, 32927, 31361, 35890, 41391, 37810, 35648, 40049, 45730, 44169, 40676, 39441, 42540, 43212, 40770, 42000, 44913, 44650, 42198, 40280, 43944, 45498, 43569, 14839], \"yaxis\": \"y\"}, {\"hoverlabel\": {\"namelength\": 0}, \"hovertemplate\": \"<b>%{hovertext}</b><br><br>cat_id=HOBBIES<br>date=%{x}<br>volume=%{y}\", \"hovertext\": [\"HOBBIES\", \"HOBBIES\", \"HOBBIES\", \"HOBBIES\", \"HOBBIES\", \"HOBBIES\", \"HOBBIES\", \"HOBBIES\", \"HOBBIES\", \"HOBBIES\", \"HOBBIES\", \"HOBBIES\", \"HOBBIES\", \"HOBBIES\", \"HOBBIES\", \"HOBBIES\", \"HOBBIES\", \"HOBBIES\", \"HOBBIES\", \"HOBBIES\", \"HOBBIES\", \"HOBBIES\", \"HOBBIES\", \"HOBBIES\", \"HOBBIES\", \"HOBBIES\", \"HOBBIES\", \"HOBBIES\", \"HOBBIES\", \"HOBBIES\", \"HOBBIES\", \"HOBBIES\", \"HOBBIES\", \"HOBBIES\", \"HOBBIES\", \"HOBBIES\", \"HOBBIES\", \"HOBBIES\", \"HOBBIES\", \"HOBBIES\", \"HOBBIES\", \"HOBBIES\", \"HOBBIES\", \"HOBBIES\", \"HOBBIES\", \"HOBBIES\", \"HOBBIES\", \"HOBBIES\", \"HOBBIES\", \"HOBBIES\", \"HOBBIES\", \"HOBBIES\", \"HOBBIES\", \"HOBBIES\", \"HOBBIES\", \"HOBBIES\", \"HOBBIES\", \"HOBBIES\", \"HOBBIES\", \"HOBBIES\", \"HOBBIES\", \"HOBBIES\", \"HOBBIES\", \"HOBBIES\", \"HOBBIES\", \"HOBBIES\", \"HOBBIES\", \"HOBBIES\", \"HOBBIES\", \"HOBBIES\", \"HOBBIES\", \"HOBBIES\", \"HOBBIES\", \"HOBBIES\", \"HOBBIES\", \"HOBBIES\", \"HOBBIES\", \"HOBBIES\", \"HOBBIES\", \"HOBBIES\", \"HOBBIES\", \"HOBBIES\", \"HOBBIES\", \"HOBBIES\", \"HOBBIES\", \"HOBBIES\", \"HOBBIES\", \"HOBBIES\", \"HOBBIES\", \"HOBBIES\", \"HOBBIES\", \"HOBBIES\", \"HOBBIES\", \"HOBBIES\", \"HOBBIES\", \"HOBBIES\", \"HOBBIES\", \"HOBBIES\", \"HOBBIES\", \"HOBBIES\", \"HOBBIES\", \"HOBBIES\", \"HOBBIES\", \"HOBBIES\", \"HOBBIES\", \"HOBBIES\", \"HOBBIES\", \"HOBBIES\", \"HOBBIES\", \"HOBBIES\", \"HOBBIES\", \"HOBBIES\", \"HOBBIES\", \"HOBBIES\", \"HOBBIES\", \"HOBBIES\", \"HOBBIES\", \"HOBBIES\", \"HOBBIES\", \"HOBBIES\", \"HOBBIES\", \"HOBBIES\", \"HOBBIES\", \"HOBBIES\", \"HOBBIES\", \"HOBBIES\", \"HOBBIES\", \"HOBBIES\", \"HOBBIES\", \"HOBBIES\", \"HOBBIES\", \"HOBBIES\", \"HOBBIES\", \"HOBBIES\", \"HOBBIES\", \"HOBBIES\", \"HOBBIES\", \"HOBBIES\", \"HOBBIES\", \"HOBBIES\", \"HOBBIES\", \"HOBBIES\", \"HOBBIES\", \"HOBBIES\", \"HOBBIES\", \"HOBBIES\", \"HOBBIES\", \"HOBBIES\", \"HOBBIES\", \"HOBBIES\", \"HOBBIES\", \"HOBBIES\", \"HOBBIES\", \"HOBBIES\", \"HOBBIES\", \"HOBBIES\", \"HOBBIES\", \"HOBBIES\", \"HOBBIES\", \"HOBBIES\", \"HOBBIES\", \"HOBBIES\", \"HOBBIES\", \"HOBBIES\", \"HOBBIES\", \"HOBBIES\", \"HOBBIES\", \"HOBBIES\", \"HOBBIES\", \"HOBBIES\", \"HOBBIES\", \"HOBBIES\", \"HOBBIES\", \"HOBBIES\", \"HOBBIES\", \"HOBBIES\", \"HOBBIES\", \"HOBBIES\", \"HOBBIES\", \"HOBBIES\", \"HOBBIES\", \"HOBBIES\", \"HOBBIES\", \"HOBBIES\", \"HOBBIES\", \"HOBBIES\", \"HOBBIES\", \"HOBBIES\", \"HOBBIES\", \"HOBBIES\", \"HOBBIES\", \"HOBBIES\", \"HOBBIES\", \"HOBBIES\", \"HOBBIES\", \"HOBBIES\", \"HOBBIES\", \"HOBBIES\", \"HOBBIES\", \"HOBBIES\", \"HOBBIES\", \"HOBBIES\", \"HOBBIES\", \"HOBBIES\", \"HOBBIES\", \"HOBBIES\", \"HOBBIES\", \"HOBBIES\", \"HOBBIES\", \"HOBBIES\", \"HOBBIES\", \"HOBBIES\", \"HOBBIES\", \"HOBBIES\", \"HOBBIES\", \"HOBBIES\", \"HOBBIES\", \"HOBBIES\", \"HOBBIES\", \"HOBBIES\", \"HOBBIES\", \"HOBBIES\", \"HOBBIES\", \"HOBBIES\", \"HOBBIES\", \"HOBBIES\", \"HOBBIES\", \"HOBBIES\", \"HOBBIES\", \"HOBBIES\", \"HOBBIES\", \"HOBBIES\", \"HOBBIES\", \"HOBBIES\", \"HOBBIES\", \"HOBBIES\", \"HOBBIES\", \"HOBBIES\", \"HOBBIES\", \"HOBBIES\", \"HOBBIES\", \"HOBBIES\", \"HOBBIES\", \"HOBBIES\", \"HOBBIES\", \"HOBBIES\", \"HOBBIES\", \"HOBBIES\", \"HOBBIES\", \"HOBBIES\", \"HOBBIES\", \"HOBBIES\", \"HOBBIES\", \"HOBBIES\", \"HOBBIES\", \"HOBBIES\", \"HOBBIES\", \"HOBBIES\", \"HOBBIES\", \"HOBBIES\", \"HOBBIES\", \"HOBBIES\", \"HOBBIES\", \"HOBBIES\", \"HOBBIES\", \"HOBBIES\", \"HOBBIES\", \"HOBBIES\", \"HOBBIES\", \"HOBBIES\", \"HOBBIES\", \"HOBBIES\", \"HOBBIES\", \"HOBBIES\", \"HOBBIES\", \"HOBBIES\", \"HOBBIES\", \"HOBBIES\"], \"legendgroup\": \"cat_id=HOBBIES\", \"line\": {\"color\": \"#EF553B\", \"dash\": \"solid\"}, \"mode\": \"lines\", \"name\": \"cat_id=HOBBIES\", \"showlegend\": true, \"type\": \"scatter\", \"x\": [\"2011-01-29\", \"2011-02-05\", \"2011-02-12\", \"2011-02-19\", \"2011-02-26\", \"2011-03-05\", \"2011-03-12\", \"2011-03-19\", \"2011-03-26\", \"2011-04-02\", \"2011-04-09\", \"2011-04-16\", \"2011-04-23\", \"2011-04-30\", \"2011-05-07\", \"2011-05-14\", \"2011-05-21\", \"2011-05-28\", \"2011-06-04\", \"2011-06-11\", \"2011-06-18\", \"2011-06-25\", \"2011-07-02\", \"2011-07-09\", \"2011-07-16\", \"2011-07-23\", \"2011-07-30\", \"2011-08-06\", \"2011-08-13\", \"2011-08-20\", \"2011-08-27\", \"2011-09-03\", \"2011-09-10\", \"2011-09-17\", \"2011-09-24\", \"2011-10-01\", \"2011-10-08\", \"2011-10-15\", \"2011-10-22\", \"2011-10-29\", \"2011-11-05\", \"2011-11-12\", \"2011-11-19\", \"2011-11-26\", \"2011-12-03\", \"2011-12-10\", \"2011-12-17\", \"2011-12-24\", \"2011-12-31\", \"2012-01-07\", \"2012-01-14\", \"2012-01-21\", \"2012-01-28\", \"2012-02-04\", \"2012-02-11\", \"2012-02-18\", \"2012-02-25\", \"2012-03-03\", \"2012-03-10\", \"2012-03-17\", \"2012-03-24\", \"2012-03-31\", \"2012-04-07\", \"2012-04-14\", \"2012-04-21\", \"2012-04-28\", \"2012-05-05\", \"2012-05-12\", \"2012-05-19\", \"2012-05-26\", \"2012-06-02\", \"2012-06-09\", \"2012-06-16\", \"2012-06-23\", \"2012-06-30\", \"2012-07-07\", \"2012-07-14\", \"2012-07-21\", \"2012-07-28\", \"2012-08-04\", \"2012-08-11\", \"2012-08-18\", \"2012-08-25\", \"2012-09-01\", \"2012-09-08\", \"2012-09-15\", \"2012-09-22\", \"2012-09-29\", \"2012-10-06\", \"2012-10-13\", \"2012-10-20\", \"2012-10-27\", \"2012-11-03\", \"2012-11-10\", \"2012-11-17\", \"2012-11-24\", \"2012-12-01\", \"2012-12-08\", \"2012-12-15\", \"2012-12-22\", \"2012-12-29\", \"2013-01-05\", \"2013-01-12\", \"2013-01-19\", \"2013-01-26\", \"2013-02-02\", \"2013-02-09\", \"2013-02-16\", \"2013-02-23\", \"2013-03-02\", \"2013-03-09\", \"2013-03-16\", \"2013-03-23\", \"2013-03-30\", \"2013-04-06\", \"2013-04-13\", \"2013-04-20\", \"2013-04-27\", \"2013-05-04\", \"2013-05-11\", \"2013-05-18\", \"2013-05-25\", \"2013-06-01\", \"2013-06-08\", \"2013-06-15\", \"2013-06-22\", \"2013-06-29\", \"2013-07-06\", \"2013-07-13\", \"2013-07-20\", \"2013-07-27\", \"2013-08-03\", \"2013-08-10\", \"2013-08-17\", \"2013-08-24\", \"2013-08-31\", \"2013-09-07\", \"2013-09-14\", \"2013-09-21\", \"2013-09-28\", \"2013-10-05\", \"2013-10-12\", \"2013-10-19\", \"2013-10-26\", \"2013-11-02\", \"2013-11-09\", \"2013-11-16\", \"2013-11-23\", \"2013-11-30\", \"2013-12-07\", \"2013-12-14\", \"2013-12-21\", \"2013-12-28\", \"2014-01-04\", \"2014-01-11\", \"2014-01-18\", \"2014-01-25\", \"2014-02-01\", \"2014-02-08\", \"2014-02-15\", \"2014-02-22\", \"2014-03-01\", \"2014-03-08\", \"2014-03-15\", \"2014-03-22\", \"2014-03-29\", \"2014-04-05\", \"2014-04-12\", \"2014-04-19\", \"2014-04-26\", \"2014-05-03\", \"2014-05-10\", \"2014-05-17\", \"2014-05-24\", \"2014-05-31\", \"2014-06-07\", \"2014-06-14\", \"2014-06-21\", \"2014-06-28\", \"2014-07-05\", \"2014-07-12\", \"2014-07-19\", \"2014-07-26\", \"2014-08-02\", \"2014-08-09\", \"2014-08-16\", \"2014-08-23\", \"2014-08-30\", \"2014-09-06\", \"2014-09-13\", \"2014-09-20\", \"2014-09-27\", \"2014-10-04\", \"2014-10-11\", \"2014-10-18\", \"2014-10-25\", \"2014-11-01\", \"2014-11-08\", \"2014-11-15\", \"2014-11-22\", \"2014-11-29\", \"2014-12-06\", \"2014-12-13\", \"2014-12-20\", \"2014-12-27\", \"2015-01-03\", \"2015-01-10\", \"2015-01-17\", \"2015-01-24\", \"2015-01-31\", \"2015-02-07\", \"2015-02-14\", \"2015-02-21\", \"2015-02-28\", \"2015-03-07\", \"2015-03-14\", \"2015-03-21\", \"2015-03-28\", \"2015-04-04\", \"2015-04-11\", \"2015-04-18\", \"2015-04-25\", \"2015-05-02\", \"2015-05-09\", \"2015-05-16\", \"2015-05-23\", \"2015-05-30\", \"2015-06-06\", \"2015-06-13\", \"2015-06-20\", \"2015-06-27\", \"2015-07-04\", \"2015-07-11\", \"2015-07-18\", \"2015-07-25\", \"2015-08-01\", \"2015-08-08\", \"2015-08-15\", \"2015-08-22\", \"2015-08-29\", \"2015-09-05\", \"2015-09-12\", \"2015-09-19\", \"2015-09-26\", \"2015-10-03\", \"2015-10-10\", \"2015-10-17\", \"2015-10-24\", \"2015-10-31\", \"2015-11-07\", \"2015-11-14\", \"2015-11-21\", \"2015-11-28\", \"2015-12-05\", \"2015-12-12\", \"2015-12-19\", \"2015-12-26\", \"2016-01-02\", \"2016-01-09\", \"2016-01-16\", \"2016-01-23\", \"2016-01-30\", \"2016-02-06\", \"2016-02-13\", \"2016-02-20\", \"2016-02-27\", \"2016-03-05\", \"2016-03-12\", \"2016-03-19\", \"2016-03-26\", \"2016-04-02\", \"2016-04-09\", \"2016-04-16\", \"2016-04-23\", \"2016-04-30\", \"2016-05-07\", \"2016-05-14\", \"2016-05-21\"], \"xaxis\": \"x\", \"y\": [136, 194, 198, 151, 152, 179, 312, 244, 303, 332, 320, 357, 264, 298, 300, 323, 303, 303, 330, 381, 402, 375, 355, 338, 359, 361, 438, 302, 315, 281, 294, 294, 314, 297, 344, 321, 273, 293, 245, 284, 194, 182, 185, 181, 245, 233, 276, 178, 189, 227, 218, 231, 250, 250, 217, 249, 270, 260, 295, 323, 278, 344, 270, 336, 267, 322, 271, 298, 334, 305, 363, 430, 413, 408, 504, 474, 520, 558, 594, 542, 503, 491, 538, 514, 460, 545, 487, 472, 454, 500, 469, 625, 541, 540, 496, 478, 601, 512, 550, 387, 517, 488, 543, 480, 467, 535, 514, 556, 588, 593, 557, 573, 528, 470, 530, 510, 513, 468, 521, 583, 572, 589, 579, 567, 528, 499, 539, 506, 496, 528, 547, 489, 548, 511, 500, 445, 459, 524, 544, 570, 649, 588, 585, 596, 539, 575, 649, 569, 604, 601, 638, 478, 582, 707, 733, 613, 618, 596, 573, 509, 429, 416, 436, 420, 495, 570, 561, 501, 509, 399, 420, 415, 485, 516, 567, 585, 583, 577, 636, 564, 558, 551, 546, 528, 529, 528, 547, 569, 540, 574, 577, 612, 527, 554, 562, 571, 592, 559, 625, 527, 577, 553, 584, 562, 836, 808, 590, 940, 820, 783, 1156, 1199, 1159, 1277, 1226, 1253, 1231, 1205, 1225, 1106, 1156, 1193, 1222, 1114, 1197, 1266, 1196, 1170, 1137, 1105, 1253, 1191, 1128, 1124, 1046, 1223, 1043, 1104, 1088, 1144, 1091, 1192, 1055, 926, 1181, 1099, 1208, 1204, 1206, 1165, 1260, 1104, 1226, 1167, 1268, 1087, 1274, 1268, 1207, 1267, 1245, 1335, 1330, 1128, 1139, 1188, 1154, 1134, 1057, 1106, 1119, 1087, 1066, 1150, 1167, 1092, 1120, 412], \"yaxis\": \"y\"}, {\"hoverlabel\": {\"namelength\": 0}, \"hovertemplate\": \"<b>%{hovertext}</b><br><br>cat_id=HOUSEHOLD<br>date=%{x}<br>volume=%{y}\", \"hovertext\": [\"HOUSEHOLD\", \"HOUSEHOLD\", \"HOUSEHOLD\", \"HOUSEHOLD\", \"HOUSEHOLD\", \"HOUSEHOLD\", \"HOUSEHOLD\", \"HOUSEHOLD\", \"HOUSEHOLD\", \"HOUSEHOLD\", \"HOUSEHOLD\", \"HOUSEHOLD\", \"HOUSEHOLD\", \"HOUSEHOLD\", \"HOUSEHOLD\", \"HOUSEHOLD\", \"HOUSEHOLD\", \"HOUSEHOLD\", \"HOUSEHOLD\", \"HOUSEHOLD\", \"HOUSEHOLD\", \"HOUSEHOLD\", \"HOUSEHOLD\", \"HOUSEHOLD\", \"HOUSEHOLD\", \"HOUSEHOLD\", \"HOUSEHOLD\", \"HOUSEHOLD\", \"HOUSEHOLD\", \"HOUSEHOLD\", \"HOUSEHOLD\", \"HOUSEHOLD\", \"HOUSEHOLD\", \"HOUSEHOLD\", \"HOUSEHOLD\", \"HOUSEHOLD\", \"HOUSEHOLD\", \"HOUSEHOLD\", \"HOUSEHOLD\", \"HOUSEHOLD\", \"HOUSEHOLD\", \"HOUSEHOLD\", \"HOUSEHOLD\", \"HOUSEHOLD\", \"HOUSEHOLD\", \"HOUSEHOLD\", \"HOUSEHOLD\", \"HOUSEHOLD\", \"HOUSEHOLD\", \"HOUSEHOLD\", \"HOUSEHOLD\", \"HOUSEHOLD\", \"HOUSEHOLD\", \"HOUSEHOLD\", \"HOUSEHOLD\", \"HOUSEHOLD\", \"HOUSEHOLD\", \"HOUSEHOLD\", \"HOUSEHOLD\", \"HOUSEHOLD\", \"HOUSEHOLD\", \"HOUSEHOLD\", \"HOUSEHOLD\", \"HOUSEHOLD\", \"HOUSEHOLD\", \"HOUSEHOLD\", \"HOUSEHOLD\", \"HOUSEHOLD\", \"HOUSEHOLD\", \"HOUSEHOLD\", \"HOUSEHOLD\", \"HOUSEHOLD\", \"HOUSEHOLD\", \"HOUSEHOLD\", \"HOUSEHOLD\", \"HOUSEHOLD\", \"HOUSEHOLD\", \"HOUSEHOLD\", \"HOUSEHOLD\", \"HOUSEHOLD\", \"HOUSEHOLD\", \"HOUSEHOLD\", \"HOUSEHOLD\", \"HOUSEHOLD\", \"HOUSEHOLD\", \"HOUSEHOLD\", \"HOUSEHOLD\", \"HOUSEHOLD\", \"HOUSEHOLD\", \"HOUSEHOLD\", \"HOUSEHOLD\", \"HOUSEHOLD\", \"HOUSEHOLD\", \"HOUSEHOLD\", \"HOUSEHOLD\", \"HOUSEHOLD\", \"HOUSEHOLD\", \"HOUSEHOLD\", \"HOUSEHOLD\", \"HOUSEHOLD\", \"HOUSEHOLD\", \"HOUSEHOLD\", \"HOUSEHOLD\", \"HOUSEHOLD\", \"HOUSEHOLD\", \"HOUSEHOLD\", \"HOUSEHOLD\", \"HOUSEHOLD\", \"HOUSEHOLD\", \"HOUSEHOLD\", \"HOUSEHOLD\", \"HOUSEHOLD\", \"HOUSEHOLD\", \"HOUSEHOLD\", \"HOUSEHOLD\", \"HOUSEHOLD\", \"HOUSEHOLD\", \"HOUSEHOLD\", \"HOUSEHOLD\", \"HOUSEHOLD\", \"HOUSEHOLD\", \"HOUSEHOLD\", \"HOUSEHOLD\", \"HOUSEHOLD\", \"HOUSEHOLD\", \"HOUSEHOLD\", \"HOUSEHOLD\", \"HOUSEHOLD\", \"HOUSEHOLD\", \"HOUSEHOLD\", \"HOUSEHOLD\", \"HOUSEHOLD\", \"HOUSEHOLD\", \"HOUSEHOLD\", \"HOUSEHOLD\", \"HOUSEHOLD\", \"HOUSEHOLD\", \"HOUSEHOLD\", \"HOUSEHOLD\", \"HOUSEHOLD\", \"HOUSEHOLD\", \"HOUSEHOLD\", \"HOUSEHOLD\", \"HOUSEHOLD\", \"HOUSEHOLD\", \"HOUSEHOLD\", \"HOUSEHOLD\", \"HOUSEHOLD\", \"HOUSEHOLD\", \"HOUSEHOLD\", \"HOUSEHOLD\", \"HOUSEHOLD\", \"HOUSEHOLD\", \"HOUSEHOLD\", \"HOUSEHOLD\", \"HOUSEHOLD\", \"HOUSEHOLD\", \"HOUSEHOLD\", \"HOUSEHOLD\", \"HOUSEHOLD\", \"HOUSEHOLD\", \"HOUSEHOLD\", \"HOUSEHOLD\", \"HOUSEHOLD\", \"HOUSEHOLD\", \"HOUSEHOLD\", \"HOUSEHOLD\", \"HOUSEHOLD\", \"HOUSEHOLD\", \"HOUSEHOLD\", \"HOUSEHOLD\", \"HOUSEHOLD\", \"HOUSEHOLD\", \"HOUSEHOLD\", \"HOUSEHOLD\", \"HOUSEHOLD\", \"HOUSEHOLD\", \"HOUSEHOLD\", \"HOUSEHOLD\", \"HOUSEHOLD\", \"HOUSEHOLD\", \"HOUSEHOLD\", \"HOUSEHOLD\", \"HOUSEHOLD\", \"HOUSEHOLD\", \"HOUSEHOLD\", \"HOUSEHOLD\", \"HOUSEHOLD\", \"HOUSEHOLD\", \"HOUSEHOLD\", \"HOUSEHOLD\", \"HOUSEHOLD\", \"HOUSEHOLD\", \"HOUSEHOLD\", \"HOUSEHOLD\", \"HOUSEHOLD\", \"HOUSEHOLD\", \"HOUSEHOLD\", \"HOUSEHOLD\", \"HOUSEHOLD\", \"HOUSEHOLD\", \"HOUSEHOLD\", \"HOUSEHOLD\", \"HOUSEHOLD\", \"HOUSEHOLD\", \"HOUSEHOLD\", \"HOUSEHOLD\", \"HOUSEHOLD\", \"HOUSEHOLD\", \"HOUSEHOLD\", \"HOUSEHOLD\", \"HOUSEHOLD\", \"HOUSEHOLD\", \"HOUSEHOLD\", \"HOUSEHOLD\", \"HOUSEHOLD\", \"HOUSEHOLD\", \"HOUSEHOLD\", \"HOUSEHOLD\", \"HOUSEHOLD\", \"HOUSEHOLD\", \"HOUSEHOLD\", \"HOUSEHOLD\", \"HOUSEHOLD\", \"HOUSEHOLD\", \"HOUSEHOLD\", \"HOUSEHOLD\", \"HOUSEHOLD\", \"HOUSEHOLD\", \"HOUSEHOLD\", \"HOUSEHOLD\", \"HOUSEHOLD\", \"HOUSEHOLD\", \"HOUSEHOLD\", \"HOUSEHOLD\", \"HOUSEHOLD\", \"HOUSEHOLD\", \"HOUSEHOLD\", \"HOUSEHOLD\", \"HOUSEHOLD\", \"HOUSEHOLD\", \"HOUSEHOLD\", \"HOUSEHOLD\", \"HOUSEHOLD\", \"HOUSEHOLD\", \"HOUSEHOLD\", \"HOUSEHOLD\", \"HOUSEHOLD\", \"HOUSEHOLD\", \"HOUSEHOLD\", \"HOUSEHOLD\", \"HOUSEHOLD\", \"HOUSEHOLD\", \"HOUSEHOLD\", \"HOUSEHOLD\", \"HOUSEHOLD\", \"HOUSEHOLD\", \"HOUSEHOLD\", \"HOUSEHOLD\", \"HOUSEHOLD\", \"HOUSEHOLD\", \"HOUSEHOLD\", \"HOUSEHOLD\", \"HOUSEHOLD\", \"HOUSEHOLD\", \"HOUSEHOLD\", \"HOUSEHOLD\", \"HOUSEHOLD\", \"HOUSEHOLD\", \"HOUSEHOLD\", \"HOUSEHOLD\", \"HOUSEHOLD\", \"HOUSEHOLD\", \"HOUSEHOLD\", \"HOUSEHOLD\", \"HOUSEHOLD\", \"HOUSEHOLD\", \"HOUSEHOLD\"], \"legendgroup\": \"cat_id=HOUSEHOLD\", \"line\": {\"color\": \"#00cc96\", \"dash\": \"solid\"}, \"mode\": \"lines\", \"name\": \"cat_id=HOUSEHOLD\", \"showlegend\": true, \"type\": \"scatter\", \"x\": [\"2011-01-29\", \"2011-02-05\", \"2011-02-12\", \"2011-02-19\", \"2011-02-26\", \"2011-03-05\", \"2011-03-12\", \"2011-03-19\", \"2011-03-26\", \"2011-04-02\", \"2011-04-09\", \"2011-04-16\", \"2011-04-23\", \"2011-04-30\", \"2011-05-07\", \"2011-05-14\", \"2011-05-21\", \"2011-05-28\", \"2011-06-04\", \"2011-06-11\", \"2011-06-18\", \"2011-06-25\", \"2011-07-02\", \"2011-07-09\", \"2011-07-16\", \"2011-07-23\", \"2011-07-30\", \"2011-08-06\", \"2011-08-13\", \"2011-08-20\", \"2011-08-27\", \"2011-09-03\", \"2011-09-10\", \"2011-09-17\", \"2011-09-24\", \"2011-10-01\", \"2011-10-08\", \"2011-10-15\", \"2011-10-22\", \"2011-10-29\", \"2011-11-05\", \"2011-11-12\", \"2011-11-19\", \"2011-11-26\", \"2011-12-03\", \"2011-12-10\", \"2011-12-17\", \"2011-12-24\", \"2011-12-31\", \"2012-01-07\", \"2012-01-14\", \"2012-01-21\", \"2012-01-28\", \"2012-02-04\", \"2012-02-11\", \"2012-02-18\", \"2012-02-25\", \"2012-03-03\", \"2012-03-10\", \"2012-03-17\", \"2012-03-24\", \"2012-03-31\", \"2012-04-07\", \"2012-04-14\", \"2012-04-21\", \"2012-04-28\", \"2012-05-05\", \"2012-05-12\", \"2012-05-19\", \"2012-05-26\", \"2012-06-02\", \"2012-06-09\", \"2012-06-16\", \"2012-06-23\", \"2012-06-30\", \"2012-07-07\", \"2012-07-14\", \"2012-07-21\", \"2012-07-28\", \"2012-08-04\", \"2012-08-11\", \"2012-08-18\", \"2012-08-25\", \"2012-09-01\", \"2012-09-08\", \"2012-09-15\", \"2012-09-22\", \"2012-09-29\", \"2012-10-06\", \"2012-10-13\", \"2012-10-20\", \"2012-10-27\", \"2012-11-03\", \"2012-11-10\", \"2012-11-17\", \"2012-11-24\", \"2012-12-01\", \"2012-12-08\", \"2012-12-15\", \"2012-12-22\", \"2012-12-29\", \"2013-01-05\", \"2013-01-12\", \"2013-01-19\", \"2013-01-26\", \"2013-02-02\", \"2013-02-09\", \"2013-02-16\", \"2013-02-23\", \"2013-03-02\", \"2013-03-09\", \"2013-03-16\", \"2013-03-23\", \"2013-03-30\", \"2013-04-06\", \"2013-04-13\", \"2013-04-20\", \"2013-04-27\", \"2013-05-04\", \"2013-05-11\", \"2013-05-18\", \"2013-05-25\", \"2013-06-01\", \"2013-06-08\", \"2013-06-15\", \"2013-06-22\", \"2013-06-29\", \"2013-07-06\", \"2013-07-13\", \"2013-07-20\", \"2013-07-27\", \"2013-08-03\", \"2013-08-10\", \"2013-08-17\", \"2013-08-24\", \"2013-08-31\", \"2013-09-07\", \"2013-09-14\", \"2013-09-21\", \"2013-09-28\", \"2013-10-05\", \"2013-10-12\", \"2013-10-19\", \"2013-10-26\", \"2013-11-02\", \"2013-11-09\", \"2013-11-16\", \"2013-11-23\", \"2013-11-30\", \"2013-12-07\", \"2013-12-14\", \"2013-12-21\", \"2013-12-28\", \"2014-01-04\", \"2014-01-11\", \"2014-01-18\", \"2014-01-25\", \"2014-02-01\", \"2014-02-08\", \"2014-02-15\", \"2014-02-22\", \"2014-03-01\", \"2014-03-08\", \"2014-03-15\", \"2014-03-22\", \"2014-03-29\", \"2014-04-05\", \"2014-04-12\", \"2014-04-19\", \"2014-04-26\", \"2014-05-03\", \"2014-05-10\", \"2014-05-17\", \"2014-05-24\", \"2014-05-31\", \"2014-06-07\", \"2014-06-14\", \"2014-06-21\", \"2014-06-28\", \"2014-07-05\", \"2014-07-12\", \"2014-07-19\", \"2014-07-26\", \"2014-08-02\", \"2014-08-09\", \"2014-08-16\", \"2014-08-23\", \"2014-08-30\", \"2014-09-06\", \"2014-09-13\", \"2014-09-20\", \"2014-09-27\", \"2014-10-04\", \"2014-10-11\", \"2014-10-18\", \"2014-10-25\", \"2014-11-01\", \"2014-11-08\", \"2014-11-15\", \"2014-11-22\", \"2014-11-29\", \"2014-12-06\", \"2014-12-13\", \"2014-12-20\", \"2014-12-27\", \"2015-01-03\", \"2015-01-10\", \"2015-01-17\", \"2015-01-24\", \"2015-01-31\", \"2015-02-07\", \"2015-02-14\", \"2015-02-21\", \"2015-02-28\", \"2015-03-07\", \"2015-03-14\", \"2015-03-21\", \"2015-03-28\", \"2015-04-04\", \"2015-04-11\", \"2015-04-18\", \"2015-04-25\", \"2015-05-02\", \"2015-05-09\", \"2015-05-16\", \"2015-05-23\", \"2015-05-30\", \"2015-06-06\", \"2015-06-13\", \"2015-06-20\", \"2015-06-27\", \"2015-07-04\", \"2015-07-11\", \"2015-07-18\", \"2015-07-25\", \"2015-08-01\", \"2015-08-08\", \"2015-08-15\", \"2015-08-22\", \"2015-08-29\", \"2015-09-05\", \"2015-09-12\", \"2015-09-19\", \"2015-09-26\", \"2015-10-03\", \"2015-10-10\", \"2015-10-17\", \"2015-10-24\", \"2015-10-31\", \"2015-11-07\", \"2015-11-14\", \"2015-11-21\", \"2015-11-28\", \"2015-12-05\", \"2015-12-12\", \"2015-12-19\", \"2015-12-26\", \"2016-01-02\", \"2016-01-09\", \"2016-01-16\", \"2016-01-23\", \"2016-01-30\", \"2016-02-06\", \"2016-02-13\", \"2016-02-20\", \"2016-02-27\", \"2016-03-05\", \"2016-03-12\", \"2016-03-19\", \"2016-03-26\", \"2016-04-02\", \"2016-04-09\", \"2016-04-16\", \"2016-04-23\", \"2016-04-30\", \"2016-05-07\", \"2016-05-14\", \"2016-05-21\"], \"xaxis\": \"x\", \"y\": [1681, 1735, 2148, 2492, 2227, 2345, 2435, 2432, 2464, 2638, 2514, 2368, 2363, 2296, 2273, 2461, 2130, 2156, 2582, 2436, 2505, 2244, 2645, 2821, 2314, 2568, 2589, 2707, 2641, 2702, 2260, 2871, 3525, 3198, 3309, 2938, 3149, 3507, 3154, 3459, 3080, 2901, 2947, 2607, 2802, 2878, 2759, 2507, 2824, 3017, 3026, 2827, 3392, 3379, 3179, 3190, 2812, 2712, 2870, 2872, 2538, 3031, 2734, 2778, 2604, 2711, 2694, 2844, 2948, 3320, 3181, 3820, 3814, 3783, 3895, 3795, 3691, 3765, 3848, 4186, 4202, 3959, 4909, 4969, 5077, 4647, 4854, 5169, 4726, 4630, 4676, 4532, 4921, 4307, 4354, 4248, 4783, 4015, 4274, 4181, 4298, 3776, 4287, 4503, 4236, 4650, 4548, 4648, 5274, 5131, 4410, 4489, 4877, 5178, 4830, 4599, 4608, 4794, 4770, 4791, 4735, 4795, 5224, 5050, 4786, 4882, 5452, 4918, 4867, 4747, 4659, 5071, 4704, 4210, 4361, 4937, 5094, 5237, 4300, 5586, 5237, 4894, 4695, 4651, 4998, 4415, 4384, 4404, 4495, 4045, 3967, 3924, 3496, 3129, 3280, 3926, 3958, 4358, 4603, 4902, 4366, 4587, 4335, 4361, 4101, 4581, 4431, 3860, 3918, 4461, 4370, 3949, 4000, 4047, 4450, 3807, 3982, 4091, 4370, 4122, 4156, 3176, 3581, 3377, 3066, 3899, 4158, 3718, 3273, 4084, 3431, 4715, 4354, 4064, 4116, 3876, 4581, 3536, 3570, 4012, 4522, 3853, 3709, 3268, 4071, 2981, 3778, 3914, 3663, 4550, 4546, 3644, 4220, 4273, 4253, 4121, 4251, 4504, 4344, 4134, 4148, 4293, 4405, 4210, 4200, 4233, 4790, 4512, 4245, 4083, 4921, 4364, 4511, 4339, 4304, 4607, 4277, 4458, 4122, 4301, 4044, 4326, 4009, 4353, 4185, 3869, 3869, 3849, 3977, 3743, 3883, 3654, 4245, 3886, 3780, 3323, 4203, 3872, 3800, 3831, 4091, 4509, 4382, 4489, 4333, 4337, 4116, 3967, 3998, 4296, 4879, 4327, 4444, 4415, 4666, 4332, 4516, 1629], \"yaxis\": \"y\"}],\n",
              "                        {\"legend\": {\"tracegroupgap\": 0}, \"margin\": {\"t\": 60}, \"template\": {\"data\": {\"bar\": [{\"error_x\": {\"color\": \"#2a3f5f\"}, \"error_y\": {\"color\": \"#2a3f5f\"}, \"marker\": {\"line\": {\"color\": \"#E5ECF6\", \"width\": 0.5}}, \"type\": \"bar\"}], \"barpolar\": [{\"marker\": {\"line\": {\"color\": \"#E5ECF6\", \"width\": 0.5}}, \"type\": \"barpolar\"}], \"carpet\": [{\"aaxis\": {\"endlinecolor\": \"#2a3f5f\", \"gridcolor\": \"white\", \"linecolor\": \"white\", \"minorgridcolor\": \"white\", \"startlinecolor\": \"#2a3f5f\"}, \"baxis\": {\"endlinecolor\": \"#2a3f5f\", \"gridcolor\": \"white\", \"linecolor\": \"white\", \"minorgridcolor\": \"white\", \"startlinecolor\": \"#2a3f5f\"}, \"type\": \"carpet\"}], \"choropleth\": [{\"colorbar\": {\"outlinewidth\": 0, \"ticks\": \"\"}, \"type\": \"choropleth\"}], \"contour\": [{\"colorbar\": {\"outlinewidth\": 0, \"ticks\": \"\"}, \"colorscale\": [[0.0, \"#0d0887\"], [0.1111111111111111, \"#46039f\"], [0.2222222222222222, \"#7201a8\"], [0.3333333333333333, \"#9c179e\"], [0.4444444444444444, \"#bd3786\"], [0.5555555555555556, \"#d8576b\"], [0.6666666666666666, \"#ed7953\"], [0.7777777777777778, \"#fb9f3a\"], [0.8888888888888888, \"#fdca26\"], [1.0, \"#f0f921\"]], \"type\": \"contour\"}], \"contourcarpet\": [{\"colorbar\": {\"outlinewidth\": 0, \"ticks\": \"\"}, \"type\": \"contourcarpet\"}], \"heatmap\": [{\"colorbar\": {\"outlinewidth\": 0, \"ticks\": \"\"}, \"colorscale\": [[0.0, \"#0d0887\"], [0.1111111111111111, \"#46039f\"], [0.2222222222222222, \"#7201a8\"], [0.3333333333333333, \"#9c179e\"], [0.4444444444444444, \"#bd3786\"], [0.5555555555555556, \"#d8576b\"], [0.6666666666666666, \"#ed7953\"], [0.7777777777777778, \"#fb9f3a\"], [0.8888888888888888, \"#fdca26\"], [1.0, \"#f0f921\"]], \"type\": \"heatmap\"}], \"heatmapgl\": [{\"colorbar\": {\"outlinewidth\": 0, \"ticks\": \"\"}, \"colorscale\": [[0.0, \"#0d0887\"], [0.1111111111111111, \"#46039f\"], [0.2222222222222222, \"#7201a8\"], [0.3333333333333333, \"#9c179e\"], [0.4444444444444444, \"#bd3786\"], [0.5555555555555556, \"#d8576b\"], [0.6666666666666666, \"#ed7953\"], [0.7777777777777778, \"#fb9f3a\"], [0.8888888888888888, \"#fdca26\"], [1.0, \"#f0f921\"]], \"type\": \"heatmapgl\"}], \"histogram\": [{\"marker\": {\"colorbar\": {\"outlinewidth\": 0, \"ticks\": \"\"}}, \"type\": \"histogram\"}], \"histogram2d\": [{\"colorbar\": {\"outlinewidth\": 0, \"ticks\": \"\"}, \"colorscale\": [[0.0, \"#0d0887\"], [0.1111111111111111, \"#46039f\"], [0.2222222222222222, \"#7201a8\"], [0.3333333333333333, \"#9c179e\"], [0.4444444444444444, \"#bd3786\"], [0.5555555555555556, \"#d8576b\"], [0.6666666666666666, \"#ed7953\"], [0.7777777777777778, \"#fb9f3a\"], [0.8888888888888888, \"#fdca26\"], [1.0, \"#f0f921\"]], \"type\": \"histogram2d\"}], \"histogram2dcontour\": [{\"colorbar\": {\"outlinewidth\": 0, \"ticks\": \"\"}, \"colorscale\": [[0.0, \"#0d0887\"], [0.1111111111111111, \"#46039f\"], [0.2222222222222222, \"#7201a8\"], [0.3333333333333333, \"#9c179e\"], [0.4444444444444444, \"#bd3786\"], [0.5555555555555556, \"#d8576b\"], [0.6666666666666666, \"#ed7953\"], [0.7777777777777778, \"#fb9f3a\"], [0.8888888888888888, \"#fdca26\"], [1.0, \"#f0f921\"]], \"type\": \"histogram2dcontour\"}], \"mesh3d\": [{\"colorbar\": {\"outlinewidth\": 0, \"ticks\": \"\"}, \"type\": \"mesh3d\"}], \"parcoords\": [{\"line\": {\"colorbar\": {\"outlinewidth\": 0, \"ticks\": \"\"}}, \"type\": \"parcoords\"}], \"pie\": [{\"automargin\": true, \"type\": \"pie\"}], \"scatter\": [{\"marker\": {\"colorbar\": {\"outlinewidth\": 0, \"ticks\": \"\"}}, \"type\": \"scatter\"}], \"scatter3d\": [{\"line\": {\"colorbar\": {\"outlinewidth\": 0, \"ticks\": \"\"}}, \"marker\": {\"colorbar\": {\"outlinewidth\": 0, \"ticks\": \"\"}}, \"type\": \"scatter3d\"}], \"scattercarpet\": [{\"marker\": {\"colorbar\": {\"outlinewidth\": 0, \"ticks\": \"\"}}, \"type\": \"scattercarpet\"}], \"scattergeo\": [{\"marker\": {\"colorbar\": {\"outlinewidth\": 0, \"ticks\": \"\"}}, \"type\": \"scattergeo\"}], \"scattergl\": [{\"marker\": {\"colorbar\": {\"outlinewidth\": 0, \"ticks\": \"\"}}, \"type\": \"scattergl\"}], \"scattermapbox\": [{\"marker\": {\"colorbar\": {\"outlinewidth\": 0, \"ticks\": \"\"}}, \"type\": \"scattermapbox\"}], \"scatterpolar\": [{\"marker\": {\"colorbar\": {\"outlinewidth\": 0, \"ticks\": \"\"}}, \"type\": \"scatterpolar\"}], \"scatterpolargl\": [{\"marker\": {\"colorbar\": {\"outlinewidth\": 0, \"ticks\": \"\"}}, \"type\": \"scatterpolargl\"}], \"scatterternary\": [{\"marker\": {\"colorbar\": {\"outlinewidth\": 0, \"ticks\": \"\"}}, \"type\": \"scatterternary\"}], \"surface\": [{\"colorbar\": {\"outlinewidth\": 0, \"ticks\": \"\"}, \"colorscale\": [[0.0, \"#0d0887\"], [0.1111111111111111, \"#46039f\"], [0.2222222222222222, \"#7201a8\"], [0.3333333333333333, \"#9c179e\"], [0.4444444444444444, \"#bd3786\"], [0.5555555555555556, \"#d8576b\"], [0.6666666666666666, \"#ed7953\"], [0.7777777777777778, \"#fb9f3a\"], [0.8888888888888888, \"#fdca26\"], [1.0, \"#f0f921\"]], \"type\": \"surface\"}], \"table\": [{\"cells\": {\"fill\": {\"color\": \"#EBF0F8\"}, \"line\": {\"color\": \"white\"}}, \"header\": {\"fill\": {\"color\": \"#C8D4E3\"}, \"line\": {\"color\": \"white\"}}, \"type\": \"table\"}]}, \"layout\": {\"annotationdefaults\": {\"arrowcolor\": \"#2a3f5f\", \"arrowhead\": 0, \"arrowwidth\": 1}, \"coloraxis\": {\"colorbar\": {\"outlinewidth\": 0, \"ticks\": \"\"}}, \"colorscale\": {\"diverging\": [[0, \"#8e0152\"], [0.1, \"#c51b7d\"], [0.2, \"#de77ae\"], [0.3, \"#f1b6da\"], [0.4, \"#fde0ef\"], [0.5, \"#f7f7f7\"], [0.6, \"#e6f5d0\"], [0.7, \"#b8e186\"], [0.8, \"#7fbc41\"], [0.9, \"#4d9221\"], [1, \"#276419\"]], \"sequential\": [[0.0, \"#0d0887\"], [0.1111111111111111, \"#46039f\"], [0.2222222222222222, \"#7201a8\"], [0.3333333333333333, \"#9c179e\"], [0.4444444444444444, \"#bd3786\"], [0.5555555555555556, \"#d8576b\"], [0.6666666666666666, \"#ed7953\"], [0.7777777777777778, \"#fb9f3a\"], [0.8888888888888888, \"#fdca26\"], [1.0, \"#f0f921\"]], \"sequentialminus\": [[0.0, \"#0d0887\"], [0.1111111111111111, \"#46039f\"], [0.2222222222222222, \"#7201a8\"], [0.3333333333333333, \"#9c179e\"], [0.4444444444444444, \"#bd3786\"], [0.5555555555555556, \"#d8576b\"], [0.6666666666666666, \"#ed7953\"], [0.7777777777777778, \"#fb9f3a\"], [0.8888888888888888, \"#fdca26\"], [1.0, \"#f0f921\"]]}, \"colorway\": [\"#636efa\", \"#EF553B\", \"#00cc96\", \"#ab63fa\", \"#FFA15A\", \"#19d3f3\", \"#FF6692\", \"#B6E880\", \"#FF97FF\", \"#FECB52\"], \"font\": {\"color\": \"#2a3f5f\"}, \"geo\": {\"bgcolor\": \"white\", \"lakecolor\": \"white\", \"landcolor\": \"#E5ECF6\", \"showlakes\": true, \"showland\": true, \"subunitcolor\": \"white\"}, \"hoverlabel\": {\"align\": \"left\"}, \"hovermode\": \"closest\", \"mapbox\": {\"style\": \"light\"}, \"paper_bgcolor\": \"white\", \"plot_bgcolor\": \"#E5ECF6\", \"polar\": {\"angularaxis\": {\"gridcolor\": \"white\", \"linecolor\": \"white\", \"ticks\": \"\"}, \"bgcolor\": \"#E5ECF6\", \"radialaxis\": {\"gridcolor\": \"white\", \"linecolor\": \"white\", \"ticks\": \"\"}}, \"scene\": {\"xaxis\": {\"backgroundcolor\": \"#E5ECF6\", \"gridcolor\": \"white\", \"gridwidth\": 2, \"linecolor\": \"white\", \"showbackground\": true, \"ticks\": \"\", \"zerolinecolor\": \"white\"}, \"yaxis\": {\"backgroundcolor\": \"#E5ECF6\", \"gridcolor\": \"white\", \"gridwidth\": 2, \"linecolor\": \"white\", \"showbackground\": true, \"ticks\": \"\", \"zerolinecolor\": \"white\"}, \"zaxis\": {\"backgroundcolor\": \"#E5ECF6\", \"gridcolor\": \"white\", \"gridwidth\": 2, \"linecolor\": \"white\", \"showbackground\": true, \"ticks\": \"\", \"zerolinecolor\": \"white\"}}, \"shapedefaults\": {\"line\": {\"color\": \"#2a3f5f\"}}, \"ternary\": {\"aaxis\": {\"gridcolor\": \"white\", \"linecolor\": \"white\", \"ticks\": \"\"}, \"baxis\": {\"gridcolor\": \"white\", \"linecolor\": \"white\", \"ticks\": \"\"}, \"bgcolor\": \"#E5ECF6\", \"caxis\": {\"gridcolor\": \"white\", \"linecolor\": \"white\", \"ticks\": \"\"}}, \"title\": {\"x\": 0.05}, \"xaxis\": {\"automargin\": true, \"gridcolor\": \"white\", \"linecolor\": \"white\", \"ticks\": \"\", \"title\": {\"standoff\": 15}, \"zerolinecolor\": \"white\", \"zerolinewidth\": 2}, \"yaxis\": {\"automargin\": true, \"gridcolor\": \"white\", \"linecolor\": \"white\", \"ticks\": \"\", \"title\": {\"standoff\": 15}, \"zerolinecolor\": \"white\", \"zerolinewidth\": 2}}}, \"xaxis\": {\"anchor\": \"y\", \"domain\": [0.0, 1.0], \"title\": {\"text\": \"date\"}}, \"yaxis\": {\"anchor\": \"x\", \"domain\": [0.0, 1.0], \"title\": {\"text\": \"volume\"}}},\n",
              "                        {\"responsive\": true}\n",
              "                    ).then(function(){\n",
              "                            \n",
              "var gd = document.getElementById('38d3f039-1255-48aa-9886-eb6d0171b7cd');\n",
              "var x = new MutationObserver(function (mutations, observer) {{\n",
              "        var display = window.getComputedStyle(gd).display;\n",
              "        if (!display || display === 'none') {{\n",
              "            console.log([gd, 'removed!']);\n",
              "            Plotly.purge(gd);\n",
              "            observer.disconnect();\n",
              "        }}\n",
              "}});\n",
              "\n",
              "// Listen for the removal of the full notebook cells\n",
              "var notebookContainer = gd.closest('#notebook-container');\n",
              "if (notebookContainer) {{\n",
              "    x.observe(notebookContainer, {childList: true});\n",
              "}}\n",
              "\n",
              "// Listen for the clearing of the current output cell\n",
              "var outputEl = gd.closest('.output');\n",
              "if (outputEl) {{\n",
              "    x.observe(outputEl, {childList: true});\n",
              "}}\n",
              "\n",
              "                        })\n",
              "                };\n",
              "                \n",
              "            </script>\n",
              "        </div>\n",
              "</body>\n",
              "</html>"
            ]
          },
          "metadata": {
            "tags": []
          }
        }
      ]
    },
    {
      "cell_type": "markdown",
      "metadata": {
        "id": "IZHPEQEOHb3s"
      },
      "source": [
        "## **Time Series Plot for each item category**"
      ]
    },
    {
      "cell_type": "code",
      "metadata": {
        "id": "OvQ-Q8EYGiBj",
        "colab": {
          "base_uri": "https://localhost:8080/",
          "height": 542
        },
        "outputId": "a70cb4c8-1aa4-4ad9-a0e8-8697b4e3490b"
      },
      "source": [
        "state_cat_agg = df_final_master.groupby(['date','state_id']).agg({'volume':'sum'}).reset_index()\n",
        "fig = px.line(state_cat_agg, x=\"date\", y=\"volume\", color=\"state_id\",\n",
        "              line_group=\"state_id\", hover_name=\"state_id\")\n",
        "fig.show()"
      ],
      "execution_count": null,
      "outputs": [
        {
          "output_type": "display_data",
          "data": {
            "text/html": [
              "<html>\n",
              "<head><meta charset=\"utf-8\" /></head>\n",
              "<body>\n",
              "    <div>\n",
              "            <script src=\"https://cdnjs.cloudflare.com/ajax/libs/mathjax/2.7.5/MathJax.js?config=TeX-AMS-MML_SVG\"></script><script type=\"text/javascript\">if (window.MathJax) {MathJax.Hub.Config({SVG: {font: \"STIX-Web\"}});}</script>\n",
              "                <script type=\"text/javascript\">window.PlotlyConfig = {MathJaxConfig: 'local'};</script>\n",
              "        <script src=\"https://cdn.plot.ly/plotly-latest.min.js\"></script>    \n",
              "            <div id=\"37b50d2a-80bc-4e89-9172-462ef5430c66\" class=\"plotly-graph-div\" style=\"height:525px; width:100%;\"></div>\n",
              "            <script type=\"text/javascript\">\n",
              "                \n",
              "                    window.PLOTLYENV=window.PLOTLYENV || {};\n",
              "                    \n",
              "                if (document.getElementById(\"37b50d2a-80bc-4e89-9172-462ef5430c66\")) {\n",
              "                    Plotly.newPlot(\n",
              "                        '37b50d2a-80bc-4e89-9172-462ef5430c66',\n",
              "                        [{\"hoverlabel\": {\"namelength\": 0}, \"hovertemplate\": \"<b>%{hovertext}</b><br><br>state_id=CA<br>date=%{x}<br>volume=%{y}\", \"hovertext\": [\"CA\", \"CA\", \"CA\", \"CA\", \"CA\", \"CA\", \"CA\", \"CA\", \"CA\", \"CA\", \"CA\", \"CA\", \"CA\", \"CA\", \"CA\", \"CA\", \"CA\", \"CA\", \"CA\", \"CA\", \"CA\", \"CA\", \"CA\", \"CA\", \"CA\", \"CA\", \"CA\", \"CA\", \"CA\", \"CA\", \"CA\", \"CA\", \"CA\", \"CA\", \"CA\", \"CA\", \"CA\", \"CA\", \"CA\", \"CA\", \"CA\", \"CA\", \"CA\", \"CA\", \"CA\", \"CA\", \"CA\", \"CA\", \"CA\", \"CA\", \"CA\", \"CA\", \"CA\", \"CA\", \"CA\", \"CA\", \"CA\", \"CA\", \"CA\", \"CA\", \"CA\", \"CA\", \"CA\", \"CA\", \"CA\", \"CA\", \"CA\", \"CA\", \"CA\", \"CA\", \"CA\", \"CA\", \"CA\", \"CA\", \"CA\", \"CA\", \"CA\", \"CA\", \"CA\", \"CA\", \"CA\", \"CA\", \"CA\", \"CA\", \"CA\", \"CA\", \"CA\", \"CA\", \"CA\", \"CA\", \"CA\", \"CA\", \"CA\", \"CA\", \"CA\", \"CA\", \"CA\", \"CA\", \"CA\", \"CA\", \"CA\", \"CA\", \"CA\", \"CA\", \"CA\", \"CA\", \"CA\", \"CA\", \"CA\", \"CA\", \"CA\", \"CA\", \"CA\", \"CA\", \"CA\", \"CA\", \"CA\", \"CA\", \"CA\", \"CA\", \"CA\", \"CA\", \"CA\", \"CA\", \"CA\", \"CA\", \"CA\", \"CA\", \"CA\", \"CA\", \"CA\", \"CA\", \"CA\", \"CA\", \"CA\", \"CA\", \"CA\", \"CA\", \"CA\", \"CA\", \"CA\", \"CA\", \"CA\", \"CA\", \"CA\", \"CA\", \"CA\", \"CA\", \"CA\", \"CA\", \"CA\", \"CA\", \"CA\", \"CA\", \"CA\", \"CA\", \"CA\", \"CA\", \"CA\", \"CA\", \"CA\", \"CA\", \"CA\", \"CA\", \"CA\", \"CA\", \"CA\", \"CA\", \"CA\", \"CA\", \"CA\", \"CA\", \"CA\", \"CA\", \"CA\", \"CA\", \"CA\", \"CA\", \"CA\", \"CA\", \"CA\", \"CA\", \"CA\", \"CA\", \"CA\", \"CA\", \"CA\", \"CA\", \"CA\", \"CA\", \"CA\", \"CA\", \"CA\", \"CA\", \"CA\", \"CA\", \"CA\", \"CA\", \"CA\", \"CA\", \"CA\", \"CA\", \"CA\", \"CA\", \"CA\", \"CA\", \"CA\", \"CA\", \"CA\", \"CA\", \"CA\", \"CA\", \"CA\", \"CA\", \"CA\", \"CA\", \"CA\", \"CA\", \"CA\", \"CA\", \"CA\", \"CA\", \"CA\", \"CA\", \"CA\", \"CA\", \"CA\", \"CA\", \"CA\", \"CA\", \"CA\", \"CA\", \"CA\", \"CA\", \"CA\", \"CA\", \"CA\", \"CA\", \"CA\", \"CA\", \"CA\", \"CA\", \"CA\", \"CA\", \"CA\", \"CA\", \"CA\", \"CA\", \"CA\", \"CA\", \"CA\", \"CA\", \"CA\", \"CA\", \"CA\", \"CA\", \"CA\", \"CA\", \"CA\", \"CA\", \"CA\", \"CA\", \"CA\", \"CA\", \"CA\", \"CA\", \"CA\", \"CA\", \"CA\", \"CA\", \"CA\", \"CA\", \"CA\", \"CA\", \"CA\", \"CA\", \"CA\", \"CA\"], \"legendgroup\": \"state_id=CA\", \"line\": {\"color\": \"#636efa\", \"dash\": \"solid\"}, \"mode\": \"lines\", \"name\": \"state_id=CA\", \"showlegend\": true, \"type\": \"scatter\", \"x\": [\"2011-01-29\", \"2011-02-05\", \"2011-02-12\", \"2011-02-19\", \"2011-02-26\", \"2011-03-05\", \"2011-03-12\", \"2011-03-19\", \"2011-03-26\", \"2011-04-02\", \"2011-04-09\", \"2011-04-16\", \"2011-04-23\", \"2011-04-30\", \"2011-05-07\", \"2011-05-14\", \"2011-05-21\", \"2011-05-28\", \"2011-06-04\", \"2011-06-11\", \"2011-06-18\", \"2011-06-25\", \"2011-07-02\", \"2011-07-09\", \"2011-07-16\", \"2011-07-23\", \"2011-07-30\", \"2011-08-06\", \"2011-08-13\", \"2011-08-20\", \"2011-08-27\", \"2011-09-03\", \"2011-09-10\", \"2011-09-17\", \"2011-09-24\", \"2011-10-01\", \"2011-10-08\", \"2011-10-15\", \"2011-10-22\", \"2011-10-29\", \"2011-11-05\", \"2011-11-12\", \"2011-11-19\", \"2011-11-26\", \"2011-12-03\", \"2011-12-10\", \"2011-12-17\", \"2011-12-24\", \"2011-12-31\", \"2012-01-07\", \"2012-01-14\", \"2012-01-21\", \"2012-01-28\", \"2012-02-04\", \"2012-02-11\", \"2012-02-18\", \"2012-02-25\", \"2012-03-03\", \"2012-03-10\", \"2012-03-17\", \"2012-03-24\", \"2012-03-31\", \"2012-04-07\", \"2012-04-14\", \"2012-04-21\", \"2012-04-28\", \"2012-05-05\", \"2012-05-12\", \"2012-05-19\", \"2012-05-26\", \"2012-06-02\", \"2012-06-09\", \"2012-06-16\", \"2012-06-23\", \"2012-06-30\", \"2012-07-07\", \"2012-07-14\", \"2012-07-21\", \"2012-07-28\", \"2012-08-04\", \"2012-08-11\", \"2012-08-18\", \"2012-08-25\", \"2012-09-01\", \"2012-09-08\", \"2012-09-15\", \"2012-09-22\", \"2012-09-29\", \"2012-10-06\", \"2012-10-13\", \"2012-10-20\", \"2012-10-27\", \"2012-11-03\", \"2012-11-10\", \"2012-11-17\", \"2012-11-24\", \"2012-12-01\", \"2012-12-08\", \"2012-12-15\", \"2012-12-22\", \"2012-12-29\", \"2013-01-05\", \"2013-01-12\", \"2013-01-19\", \"2013-01-26\", \"2013-02-02\", \"2013-02-09\", \"2013-02-16\", \"2013-02-23\", \"2013-03-02\", \"2013-03-09\", \"2013-03-16\", \"2013-03-23\", \"2013-03-30\", \"2013-04-06\", \"2013-04-13\", \"2013-04-20\", \"2013-04-27\", \"2013-05-04\", \"2013-05-11\", \"2013-05-18\", \"2013-05-25\", \"2013-06-01\", \"2013-06-08\", \"2013-06-15\", \"2013-06-22\", \"2013-06-29\", \"2013-07-06\", \"2013-07-13\", \"2013-07-20\", \"2013-07-27\", \"2013-08-03\", \"2013-08-10\", \"2013-08-17\", \"2013-08-24\", \"2013-08-31\", \"2013-09-07\", \"2013-09-14\", \"2013-09-21\", \"2013-09-28\", \"2013-10-05\", \"2013-10-12\", \"2013-10-19\", \"2013-10-26\", \"2013-11-02\", \"2013-11-09\", \"2013-11-16\", \"2013-11-23\", \"2013-11-30\", \"2013-12-07\", \"2013-12-14\", \"2013-12-21\", \"2013-12-28\", \"2014-01-04\", \"2014-01-11\", \"2014-01-18\", \"2014-01-25\", \"2014-02-01\", \"2014-02-08\", \"2014-02-15\", \"2014-02-22\", \"2014-03-01\", \"2014-03-08\", \"2014-03-15\", \"2014-03-22\", \"2014-03-29\", \"2014-04-05\", \"2014-04-12\", \"2014-04-19\", \"2014-04-26\", \"2014-05-03\", \"2014-05-10\", \"2014-05-17\", \"2014-05-24\", \"2014-05-31\", \"2014-06-07\", \"2014-06-14\", \"2014-06-21\", \"2014-06-28\", \"2014-07-05\", \"2014-07-12\", \"2014-07-19\", \"2014-07-26\", \"2014-08-02\", \"2014-08-09\", \"2014-08-16\", \"2014-08-23\", \"2014-08-30\", \"2014-09-06\", \"2014-09-13\", \"2014-09-20\", \"2014-09-27\", \"2014-10-04\", \"2014-10-11\", \"2014-10-18\", \"2014-10-25\", \"2014-11-01\", \"2014-11-08\", \"2014-11-15\", \"2014-11-22\", \"2014-11-29\", \"2014-12-06\", \"2014-12-13\", \"2014-12-20\", \"2014-12-27\", \"2015-01-03\", \"2015-01-10\", \"2015-01-17\", \"2015-01-24\", \"2015-01-31\", \"2015-02-07\", \"2015-02-14\", \"2015-02-21\", \"2015-02-28\", \"2015-03-07\", \"2015-03-14\", \"2015-03-21\", \"2015-03-28\", \"2015-04-04\", \"2015-04-11\", \"2015-04-18\", \"2015-04-25\", \"2015-05-02\", \"2015-05-09\", \"2015-05-16\", \"2015-05-23\", \"2015-05-30\", \"2015-06-06\", \"2015-06-13\", \"2015-06-20\", \"2015-06-27\", \"2015-07-04\", \"2015-07-11\", \"2015-07-18\", \"2015-07-25\", \"2015-08-01\", \"2015-08-08\", \"2015-08-15\", \"2015-08-22\", \"2015-08-29\", \"2015-09-05\", \"2015-09-12\", \"2015-09-19\", \"2015-09-26\", \"2015-10-03\", \"2015-10-10\", \"2015-10-17\", \"2015-10-24\", \"2015-10-31\", \"2015-11-07\", \"2015-11-14\", \"2015-11-21\", \"2015-11-28\", \"2015-12-05\", \"2015-12-12\", \"2015-12-19\", \"2015-12-26\", \"2016-01-02\", \"2016-01-09\", \"2016-01-16\", \"2016-01-23\", \"2016-01-30\", \"2016-02-06\", \"2016-02-13\", \"2016-02-20\", \"2016-02-27\", \"2016-03-05\", \"2016-03-12\", \"2016-03-19\", \"2016-03-26\", \"2016-04-02\", \"2016-04-09\", \"2016-04-16\", \"2016-04-23\", \"2016-04-30\", \"2016-05-07\", \"2016-05-14\", \"2016-05-21\"], \"xaxis\": \"x\", \"y\": [17345, 17816, 12964, 12944, 13136, 15408, 13797, 13013, 14088, 15358, 14396, 14106, 12797, 13968, 14565, 13387, 13646, 12811, 15497, 15269, 16091, 14463, 18427, 15275, 14564, 13757, 15774, 16468, 15766, 15257, 13631, 16388, 15482, 16023, 19584, 20889, 20749, 19709, 18803, 18870, 19919, 18868, 21987, 16439, 20591, 20803, 22067, 17503, 18860, 19303, 18764, 18445, 19210, 22890, 20974, 21343, 20105, 23850, 21214, 19495, 19560, 22099, 22294, 20450, 20742, 21134, 24351, 23472, 23148, 21850, 24546, 26320, 24428, 23676, 26939, 25382, 23662, 24680, 24226, 27748, 28053, 24941, 23523, 26021, 24975, 22367, 21903, 24948, 23010, 19902, 17549, 19415, 20806, 19195, 20577, 15392, 19903, 19489, 20284, 18959, 20523, 20572, 19770, 17149, 17253, 18204, 19301, 18696, 19098, 20884, 20105, 18979, 19299, 20398, 21026, 18976, 21209, 21217, 21233, 21845, 20200, 19894, 24257, 24825, 22137, 23549, 31345, 24707, 22570, 23868, 23839, 25963, 26821, 25950, 28638, 30679, 30917, 27194, 24967, 24315, 26956, 23289, 22221, 22660, 24982, 22559, 19784, 19713, 22228, 21475, 19614, 18625, 22112, 20868, 20727, 20102, 19096, 21518, 20839, 18177, 16864, 18970, 23000, 20957, 21228, 21405, 26448, 22720, 22791, 24626, 25277, 24089, 19728, 19252, 22742, 24286, 23270, 21657, 26637, 25924, 24355, 22895, 24154, 24965, 22875, 22982, 21237, 21573, 24142, 22691, 21520, 21534, 23541, 20377, 21234, 20184, 22502, 21017, 19676, 22526, 19455, 18536, 17867, 17209, 17360, 20875, 20542, 20403, 18637, 20894, 21916, 17099, 16271, 18039, 20250, 19723, 18902, 19336, 19249, 18481, 18198, 18997, 20355, 18656, 16918, 17128, 18901, 21430, 21017, 20797, 23381, 21366, 21945, 21625, 20292, 22462, 22287, 22776, 19972, 20874, 23232, 21568, 23099, 20858, 22893, 20801, 20483, 20202, 19518, 18856, 17766, 20125, 16594, 15989, 16404, 15461, 16203, 17680, 19440, 18733, 18551, 19482, 20460, 19660, 19134, 18481, 19396, 18808, 19779, 20822, 21147, 19950, 20063, 19421, 20976, 20433, 20327, 7185], \"yaxis\": \"y\"}, {\"hoverlabel\": {\"namelength\": 0}, \"hovertemplate\": \"<b>%{hovertext}</b><br><br>state_id=TX<br>date=%{x}<br>volume=%{y}\", \"hovertext\": [\"TX\", \"TX\", \"TX\", \"TX\", \"TX\", \"TX\", \"TX\", \"TX\", \"TX\", \"TX\", \"TX\", \"TX\", \"TX\", \"TX\", \"TX\", \"TX\", \"TX\", \"TX\", \"TX\", \"TX\", \"TX\", \"TX\", \"TX\", \"TX\", \"TX\", \"TX\", \"TX\", \"TX\", \"TX\", \"TX\", \"TX\", \"TX\", \"TX\", \"TX\", \"TX\", \"TX\", \"TX\", \"TX\", \"TX\", \"TX\", \"TX\", \"TX\", \"TX\", \"TX\", \"TX\", \"TX\", \"TX\", \"TX\", \"TX\", \"TX\", \"TX\", \"TX\", \"TX\", \"TX\", \"TX\", \"TX\", \"TX\", \"TX\", \"TX\", \"TX\", \"TX\", \"TX\", \"TX\", \"TX\", \"TX\", \"TX\", \"TX\", \"TX\", \"TX\", \"TX\", \"TX\", \"TX\", \"TX\", \"TX\", \"TX\", \"TX\", \"TX\", \"TX\", \"TX\", \"TX\", \"TX\", \"TX\", \"TX\", \"TX\", \"TX\", \"TX\", \"TX\", \"TX\", \"TX\", \"TX\", \"TX\", \"TX\", \"TX\", \"TX\", \"TX\", \"TX\", \"TX\", \"TX\", \"TX\", \"TX\", \"TX\", \"TX\", \"TX\", \"TX\", \"TX\", \"TX\", \"TX\", \"TX\", \"TX\", \"TX\", \"TX\", \"TX\", \"TX\", \"TX\", \"TX\", \"TX\", \"TX\", \"TX\", \"TX\", \"TX\", \"TX\", \"TX\", \"TX\", \"TX\", \"TX\", \"TX\", \"TX\", \"TX\", \"TX\", \"TX\", \"TX\", \"TX\", \"TX\", \"TX\", \"TX\", \"TX\", \"TX\", \"TX\", \"TX\", \"TX\", \"TX\", \"TX\", \"TX\", \"TX\", \"TX\", \"TX\", \"TX\", \"TX\", \"TX\", \"TX\", \"TX\", \"TX\", \"TX\", \"TX\", \"TX\", \"TX\", \"TX\", \"TX\", \"TX\", \"TX\", \"TX\", \"TX\", \"TX\", \"TX\", \"TX\", \"TX\", \"TX\", \"TX\", \"TX\", \"TX\", \"TX\", \"TX\", \"TX\", \"TX\", \"TX\", \"TX\", \"TX\", \"TX\", \"TX\", \"TX\", \"TX\", \"TX\", \"TX\", \"TX\", \"TX\", \"TX\", \"TX\", \"TX\", \"TX\", \"TX\", \"TX\", \"TX\", \"TX\", \"TX\", \"TX\", \"TX\", \"TX\", \"TX\", \"TX\", \"TX\", \"TX\", \"TX\", \"TX\", \"TX\", \"TX\", \"TX\", \"TX\", \"TX\", \"TX\", \"TX\", \"TX\", \"TX\", \"TX\", \"TX\", \"TX\", \"TX\", \"TX\", \"TX\", \"TX\", \"TX\", \"TX\", \"TX\", \"TX\", \"TX\", \"TX\", \"TX\", \"TX\", \"TX\", \"TX\", \"TX\", \"TX\", \"TX\", \"TX\", \"TX\", \"TX\", \"TX\", \"TX\", \"TX\", \"TX\", \"TX\", \"TX\", \"TX\", \"TX\", \"TX\", \"TX\", \"TX\", \"TX\", \"TX\", \"TX\", \"TX\", \"TX\", \"TX\", \"TX\", \"TX\", \"TX\", \"TX\", \"TX\", \"TX\", \"TX\", \"TX\", \"TX\", \"TX\", \"TX\", \"TX\", \"TX\", \"TX\", \"TX\", \"TX\", \"TX\", \"TX\", \"TX\", \"TX\", \"TX\", \"TX\", \"TX\", \"TX\", \"TX\", \"TX\"], \"legendgroup\": \"state_id=TX\", \"line\": {\"color\": \"#EF553B\", \"dash\": \"solid\"}, \"mode\": \"lines\", \"name\": \"state_id=TX\", \"showlegend\": true, \"type\": \"scatter\", \"x\": [\"2011-01-29\", \"2011-02-05\", \"2011-02-12\", \"2011-02-19\", \"2011-02-26\", \"2011-03-05\", \"2011-03-12\", \"2011-03-19\", \"2011-03-26\", \"2011-04-02\", \"2011-04-09\", \"2011-04-16\", \"2011-04-23\", \"2011-04-30\", \"2011-05-07\", \"2011-05-14\", \"2011-05-21\", \"2011-05-28\", \"2011-06-04\", \"2011-06-11\", \"2011-06-18\", \"2011-06-25\", \"2011-07-02\", \"2011-07-09\", \"2011-07-16\", \"2011-07-23\", \"2011-07-30\", \"2011-08-06\", \"2011-08-13\", \"2011-08-20\", \"2011-08-27\", \"2011-09-03\", \"2011-09-10\", \"2011-09-17\", \"2011-09-24\", \"2011-10-01\", \"2011-10-08\", \"2011-10-15\", \"2011-10-22\", \"2011-10-29\", \"2011-11-05\", \"2011-11-12\", \"2011-11-19\", \"2011-11-26\", \"2011-12-03\", \"2011-12-10\", \"2011-12-17\", \"2011-12-24\", \"2011-12-31\", \"2012-01-07\", \"2012-01-14\", \"2012-01-21\", \"2012-01-28\", \"2012-02-04\", \"2012-02-11\", \"2012-02-18\", \"2012-02-25\", \"2012-03-03\", \"2012-03-10\", \"2012-03-17\", \"2012-03-24\", \"2012-03-31\", \"2012-04-07\", \"2012-04-14\", \"2012-04-21\", \"2012-04-28\", \"2012-05-05\", \"2012-05-12\", \"2012-05-19\", \"2012-05-26\", \"2012-06-02\", \"2012-06-09\", \"2012-06-16\", \"2012-06-23\", \"2012-06-30\", \"2012-07-07\", \"2012-07-14\", \"2012-07-21\", \"2012-07-28\", \"2012-08-04\", \"2012-08-11\", \"2012-08-18\", \"2012-08-25\", \"2012-09-01\", \"2012-09-08\", \"2012-09-15\", \"2012-09-22\", \"2012-09-29\", \"2012-10-06\", \"2012-10-13\", \"2012-10-20\", \"2012-10-27\", \"2012-11-03\", \"2012-11-10\", \"2012-11-17\", \"2012-11-24\", \"2012-12-01\", \"2012-12-08\", \"2012-12-15\", \"2012-12-22\", \"2012-12-29\", \"2013-01-05\", \"2013-01-12\", \"2013-01-19\", \"2013-01-26\", \"2013-02-02\", \"2013-02-09\", \"2013-02-16\", \"2013-02-23\", \"2013-03-02\", \"2013-03-09\", \"2013-03-16\", \"2013-03-23\", \"2013-03-30\", \"2013-04-06\", \"2013-04-13\", \"2013-04-20\", \"2013-04-27\", \"2013-05-04\", \"2013-05-11\", \"2013-05-18\", \"2013-05-25\", \"2013-06-01\", \"2013-06-08\", \"2013-06-15\", \"2013-06-22\", \"2013-06-29\", \"2013-07-06\", \"2013-07-13\", \"2013-07-20\", \"2013-07-27\", \"2013-08-03\", \"2013-08-10\", \"2013-08-17\", \"2013-08-24\", \"2013-08-31\", \"2013-09-07\", \"2013-09-14\", \"2013-09-21\", \"2013-09-28\", \"2013-10-05\", \"2013-10-12\", \"2013-10-19\", \"2013-10-26\", \"2013-11-02\", \"2013-11-09\", \"2013-11-16\", \"2013-11-23\", \"2013-11-30\", \"2013-12-07\", \"2013-12-14\", \"2013-12-21\", \"2013-12-28\", \"2014-01-04\", \"2014-01-11\", \"2014-01-18\", \"2014-01-25\", \"2014-02-01\", \"2014-02-08\", \"2014-02-15\", \"2014-02-22\", \"2014-03-01\", \"2014-03-08\", \"2014-03-15\", \"2014-03-22\", \"2014-03-29\", \"2014-04-05\", \"2014-04-12\", \"2014-04-19\", \"2014-04-26\", \"2014-05-03\", \"2014-05-10\", \"2014-05-17\", \"2014-05-24\", \"2014-05-31\", \"2014-06-07\", \"2014-06-14\", \"2014-06-21\", \"2014-06-28\", \"2014-07-05\", \"2014-07-12\", \"2014-07-19\", \"2014-07-26\", \"2014-08-02\", \"2014-08-09\", \"2014-08-16\", \"2014-08-23\", \"2014-08-30\", \"2014-09-06\", \"2014-09-13\", \"2014-09-20\", \"2014-09-27\", \"2014-10-04\", \"2014-10-11\", \"2014-10-18\", \"2014-10-25\", \"2014-11-01\", \"2014-11-08\", \"2014-11-15\", \"2014-11-22\", \"2014-11-29\", \"2014-12-06\", \"2014-12-13\", \"2014-12-20\", \"2014-12-27\", \"2015-01-03\", \"2015-01-10\", \"2015-01-17\", \"2015-01-24\", \"2015-01-31\", \"2015-02-07\", \"2015-02-14\", \"2015-02-21\", \"2015-02-28\", \"2015-03-07\", \"2015-03-14\", \"2015-03-21\", \"2015-03-28\", \"2015-04-04\", \"2015-04-11\", \"2015-04-18\", \"2015-04-25\", \"2015-05-02\", \"2015-05-09\", \"2015-05-16\", \"2015-05-23\", \"2015-05-30\", \"2015-06-06\", \"2015-06-13\", \"2015-06-20\", \"2015-06-27\", \"2015-07-04\", \"2015-07-11\", \"2015-07-18\", \"2015-07-25\", \"2015-08-01\", \"2015-08-08\", \"2015-08-15\", \"2015-08-22\", \"2015-08-29\", \"2015-09-05\", \"2015-09-12\", \"2015-09-19\", \"2015-09-26\", \"2015-10-03\", \"2015-10-10\", \"2015-10-17\", \"2015-10-24\", \"2015-10-31\", \"2015-11-07\", \"2015-11-14\", \"2015-11-21\", \"2015-11-28\", \"2015-12-05\", \"2015-12-12\", \"2015-12-19\", \"2015-12-26\", \"2016-01-02\", \"2016-01-09\", \"2016-01-16\", \"2016-01-23\", \"2016-01-30\", \"2016-02-06\", \"2016-02-13\", \"2016-02-20\", \"2016-02-27\", \"2016-03-05\", \"2016-03-12\", \"2016-03-19\", \"2016-03-26\", \"2016-04-02\", \"2016-04-09\", \"2016-04-16\", \"2016-04-23\", \"2016-04-30\", \"2016-05-07\", \"2016-05-14\", \"2016-05-21\"], \"xaxis\": \"x\", \"y\": [11175, 11248, 12043, 10869, 10766, 11095, 10944, 9397, 9497, 10372, 11364, 11134, 10374, 10452, 10909, 10319, 10682, 11655, 12244, 13119, 11136, 11419, 12487, 13150, 11710, 11386, 13055, 14326, 15622, 14497, 13328, 12641, 14168, 12422, 13999, 16035, 16037, 16009, 14438, 14189, 15069, 15234, 17648, 12009, 14333, 16102, 16690, 12988, 14173, 13967, 14202, 12963, 14085, 16249, 15273, 14432, 14947, 16526, 18258, 15048, 15205, 17148, 17437, 15104, 14533, 15206, 16843, 16951, 16333, 17405, 17197, 18223, 15935, 15687, 16033, 15369, 15927, 15428, 15947, 17270, 17774, 15834, 16063, 16538, 14783, 14365, 14421, 14738, 14846, 14761, 13751, 14239, 15103, 14469, 17596, 12143, 14716, 14990, 16224, 14880, 13614, 13273, 13713, 12770, 12486, 14271, 14698, 13801, 13415, 14056, 14236, 13126, 13514, 13414, 13243, 13211, 12547, 12167, 13523, 14003, 14150, 14403, 15227, 15050, 14950, 13914, 16135, 14631, 14258, 14071, 15416, 16654, 16102, 16105, 19131, 19985, 18782, 16839, 15727, 14595, 15861, 15422, 14158, 14300, 14324, 14450, 13281, 12616, 15269, 15078, 14041, 12122, 15062, 13117, 13397, 11612, 11953, 13128, 12716, 12450, 11719, 12004, 13897, 12639, 12124, 13371, 14180, 15918, 15491, 14035, 14439, 13901, 12783, 12725, 13985, 14860, 15000, 12614, 15438, 15857, 16081, 14015, 15122, 15494, 14786, 15097, 15493, 14881, 15282, 13922, 13513, 14226, 15782, 14315, 13145, 13685, 13684, 13570, 13390, 15388, 12230, 12772, 14548, 12767, 12008, 13480, 13363, 13687, 12496, 14382, 16190, 12955, 11978, 12973, 13475, 14961, 13048, 13917, 14311, 13989, 14541, 14282, 14841, 14467, 12504, 12479, 12993, 13830, 14987, 13432, 14006, 15365, 16361, 15833, 14661, 16717, 15893, 13593, 13355, 12464, 13429, 14156, 14124, 13329, 14858, 14560, 14362, 13380, 12599, 13096, 13396, 15315, 11764, 12075, 13997, 12465, 11758, 11691, 14313, 13777, 12549, 14174, 16712, 15907, 14679, 14043, 14438, 16127, 14463, 14414, 14928, 14495, 14192, 14355, 15079, 15849, 15296, 5332], \"yaxis\": \"y\"}, {\"hoverlabel\": {\"namelength\": 0}, \"hovertemplate\": \"<b>%{hovertext}</b><br><br>state_id=WI<br>date=%{x}<br>volume=%{y}\", \"hovertext\": [\"WI\", \"WI\", \"WI\", \"WI\", \"WI\", \"WI\", \"WI\", \"WI\", \"WI\", \"WI\", \"WI\", \"WI\", \"WI\", \"WI\", \"WI\", \"WI\", \"WI\", \"WI\", \"WI\", \"WI\", \"WI\", \"WI\", \"WI\", \"WI\", \"WI\", \"WI\", \"WI\", \"WI\", \"WI\", \"WI\", \"WI\", \"WI\", \"WI\", \"WI\", \"WI\", \"WI\", \"WI\", \"WI\", \"WI\", \"WI\", \"WI\", \"WI\", \"WI\", \"WI\", \"WI\", \"WI\", \"WI\", \"WI\", \"WI\", \"WI\", \"WI\", \"WI\", \"WI\", \"WI\", \"WI\", \"WI\", \"WI\", \"WI\", \"WI\", \"WI\", \"WI\", \"WI\", \"WI\", \"WI\", \"WI\", \"WI\", \"WI\", \"WI\", \"WI\", \"WI\", \"WI\", \"WI\", \"WI\", \"WI\", \"WI\", \"WI\", \"WI\", \"WI\", \"WI\", \"WI\", \"WI\", \"WI\", \"WI\", \"WI\", \"WI\", \"WI\", \"WI\", \"WI\", \"WI\", \"WI\", \"WI\", \"WI\", \"WI\", \"WI\", \"WI\", \"WI\", \"WI\", \"WI\", \"WI\", \"WI\", \"WI\", \"WI\", \"WI\", \"WI\", \"WI\", \"WI\", \"WI\", \"WI\", \"WI\", \"WI\", \"WI\", \"WI\", \"WI\", \"WI\", \"WI\", \"WI\", \"WI\", \"WI\", \"WI\", \"WI\", \"WI\", \"WI\", \"WI\", \"WI\", \"WI\", \"WI\", \"WI\", \"WI\", \"WI\", \"WI\", \"WI\", \"WI\", \"WI\", \"WI\", \"WI\", \"WI\", \"WI\", \"WI\", \"WI\", \"WI\", \"WI\", \"WI\", \"WI\", \"WI\", \"WI\", \"WI\", \"WI\", \"WI\", \"WI\", \"WI\", \"WI\", \"WI\", \"WI\", \"WI\", \"WI\", \"WI\", \"WI\", \"WI\", \"WI\", \"WI\", \"WI\", \"WI\", \"WI\", \"WI\", \"WI\", \"WI\", \"WI\", \"WI\", \"WI\", \"WI\", \"WI\", \"WI\", \"WI\", \"WI\", \"WI\", \"WI\", \"WI\", \"WI\", \"WI\", \"WI\", \"WI\", \"WI\", \"WI\", \"WI\", \"WI\", \"WI\", \"WI\", \"WI\", \"WI\", \"WI\", \"WI\", \"WI\", \"WI\", \"WI\", \"WI\", \"WI\", \"WI\", \"WI\", \"WI\", \"WI\", \"WI\", \"WI\", \"WI\", \"WI\", \"WI\", \"WI\", \"WI\", \"WI\", \"WI\", \"WI\", \"WI\", \"WI\", \"WI\", \"WI\", \"WI\", \"WI\", \"WI\", \"WI\", \"WI\", \"WI\", \"WI\", \"WI\", \"WI\", \"WI\", \"WI\", \"WI\", \"WI\", \"WI\", \"WI\", \"WI\", \"WI\", \"WI\", \"WI\", \"WI\", \"WI\", \"WI\", \"WI\", \"WI\", \"WI\", \"WI\", \"WI\", \"WI\", \"WI\", \"WI\", \"WI\", \"WI\", \"WI\", \"WI\", \"WI\", \"WI\", \"WI\", \"WI\", \"WI\", \"WI\", \"WI\", \"WI\", \"WI\", \"WI\", \"WI\", \"WI\", \"WI\", \"WI\", \"WI\", \"WI\", \"WI\", \"WI\", \"WI\", \"WI\", \"WI\", \"WI\", \"WI\", \"WI\", \"WI\", \"WI\", \"WI\", \"WI\", \"WI\", \"WI\"], \"legendgroup\": \"state_id=WI\", \"line\": {\"color\": \"#00cc96\", \"dash\": \"solid\"}, \"mode\": \"lines\", \"name\": \"state_id=WI\", \"showlegend\": true, \"type\": \"scatter\", \"x\": [\"2011-01-29\", \"2011-02-05\", \"2011-02-12\", \"2011-02-19\", \"2011-02-26\", \"2011-03-05\", \"2011-03-12\", \"2011-03-19\", \"2011-03-26\", \"2011-04-02\", \"2011-04-09\", \"2011-04-16\", \"2011-04-23\", \"2011-04-30\", \"2011-05-07\", \"2011-05-14\", \"2011-05-21\", \"2011-05-28\", \"2011-06-04\", \"2011-06-11\", \"2011-06-18\", \"2011-06-25\", \"2011-07-02\", \"2011-07-09\", \"2011-07-16\", \"2011-07-23\", \"2011-07-30\", \"2011-08-06\", \"2011-08-13\", \"2011-08-20\", \"2011-08-27\", \"2011-09-03\", \"2011-09-10\", \"2011-09-17\", \"2011-09-24\", \"2011-10-01\", \"2011-10-08\", \"2011-10-15\", \"2011-10-22\", \"2011-10-29\", \"2011-11-05\", \"2011-11-12\", \"2011-11-19\", \"2011-11-26\", \"2011-12-03\", \"2011-12-10\", \"2011-12-17\", \"2011-12-24\", \"2011-12-31\", \"2012-01-07\", \"2012-01-14\", \"2012-01-21\", \"2012-01-28\", \"2012-02-04\", \"2012-02-11\", \"2012-02-18\", \"2012-02-25\", \"2012-03-03\", \"2012-03-10\", \"2012-03-17\", \"2012-03-24\", \"2012-03-31\", \"2012-04-07\", \"2012-04-14\", \"2012-04-21\", \"2012-04-28\", \"2012-05-05\", \"2012-05-12\", \"2012-05-19\", \"2012-05-26\", \"2012-06-02\", \"2012-06-09\", \"2012-06-16\", \"2012-06-23\", \"2012-06-30\", \"2012-07-07\", \"2012-07-14\", \"2012-07-21\", \"2012-07-28\", \"2012-08-04\", \"2012-08-11\", \"2012-08-18\", \"2012-08-25\", \"2012-09-01\", \"2012-09-08\", \"2012-09-15\", \"2012-09-22\", \"2012-09-29\", \"2012-10-06\", \"2012-10-13\", \"2012-10-20\", \"2012-10-27\", \"2012-11-03\", \"2012-11-10\", \"2012-11-17\", \"2012-11-24\", \"2012-12-01\", \"2012-12-08\", \"2012-12-15\", \"2012-12-22\", \"2012-12-29\", \"2013-01-05\", \"2013-01-12\", \"2013-01-19\", \"2013-01-26\", \"2013-02-02\", \"2013-02-09\", \"2013-02-16\", \"2013-02-23\", \"2013-03-02\", \"2013-03-09\", \"2013-03-16\", \"2013-03-23\", \"2013-03-30\", \"2013-04-06\", \"2013-04-13\", \"2013-04-20\", \"2013-04-27\", \"2013-05-04\", \"2013-05-11\", \"2013-05-18\", \"2013-05-25\", \"2013-06-01\", \"2013-06-08\", \"2013-06-15\", \"2013-06-22\", \"2013-06-29\", \"2013-07-06\", \"2013-07-13\", \"2013-07-20\", \"2013-07-27\", \"2013-08-03\", \"2013-08-10\", \"2013-08-17\", \"2013-08-24\", \"2013-08-31\", \"2013-09-07\", \"2013-09-14\", \"2013-09-21\", \"2013-09-28\", \"2013-10-05\", \"2013-10-12\", \"2013-10-19\", \"2013-10-26\", \"2013-11-02\", \"2013-11-09\", \"2013-11-16\", \"2013-11-23\", \"2013-11-30\", \"2013-12-07\", \"2013-12-14\", \"2013-12-21\", \"2013-12-28\", \"2014-01-04\", \"2014-01-11\", \"2014-01-18\", \"2014-01-25\", \"2014-02-01\", \"2014-02-08\", \"2014-02-15\", \"2014-02-22\", \"2014-03-01\", \"2014-03-08\", \"2014-03-15\", \"2014-03-22\", \"2014-03-29\", \"2014-04-05\", \"2014-04-12\", \"2014-04-19\", \"2014-04-26\", \"2014-05-03\", \"2014-05-10\", \"2014-05-17\", \"2014-05-24\", \"2014-05-31\", \"2014-06-07\", \"2014-06-14\", \"2014-06-21\", \"2014-06-28\", \"2014-07-05\", \"2014-07-12\", \"2014-07-19\", \"2014-07-26\", \"2014-08-02\", \"2014-08-09\", \"2014-08-16\", \"2014-08-23\", \"2014-08-30\", \"2014-09-06\", \"2014-09-13\", \"2014-09-20\", \"2014-09-27\", \"2014-10-04\", \"2014-10-11\", \"2014-10-18\", \"2014-10-25\", \"2014-11-01\", \"2014-11-08\", \"2014-11-15\", \"2014-11-22\", \"2014-11-29\", \"2014-12-06\", \"2014-12-13\", \"2014-12-20\", \"2014-12-27\", \"2015-01-03\", \"2015-01-10\", \"2015-01-17\", \"2015-01-24\", \"2015-01-31\", \"2015-02-07\", \"2015-02-14\", \"2015-02-21\", \"2015-02-28\", \"2015-03-07\", \"2015-03-14\", \"2015-03-21\", \"2015-03-28\", \"2015-04-04\", \"2015-04-11\", \"2015-04-18\", \"2015-04-25\", \"2015-05-02\", \"2015-05-09\", \"2015-05-16\", \"2015-05-23\", \"2015-05-30\", \"2015-06-06\", \"2015-06-13\", \"2015-06-20\", \"2015-06-27\", \"2015-07-04\", \"2015-07-11\", \"2015-07-18\", \"2015-07-25\", \"2015-08-01\", \"2015-08-08\", \"2015-08-15\", \"2015-08-22\", \"2015-08-29\", \"2015-09-05\", \"2015-09-12\", \"2015-09-19\", \"2015-09-26\", \"2015-10-03\", \"2015-10-10\", \"2015-10-17\", \"2015-10-24\", \"2015-10-31\", \"2015-11-07\", \"2015-11-14\", \"2015-11-21\", \"2015-11-28\", \"2015-12-05\", \"2015-12-12\", \"2015-12-19\", \"2015-12-26\", \"2016-01-02\", \"2016-01-09\", \"2016-01-16\", \"2016-01-23\", \"2016-01-30\", \"2016-02-06\", \"2016-02-13\", \"2016-02-20\", \"2016-02-27\", \"2016-03-05\", \"2016-03-12\", \"2016-03-19\", \"2016-03-26\", \"2016-04-02\", \"2016-04-09\", \"2016-04-16\", \"2016-04-23\", \"2016-04-30\", \"2016-05-07\", \"2016-05-14\", \"2016-05-21\"], \"xaxis\": \"x\", \"y\": [11292, 11977, 8390, 7268, 8167, 7787, 8035, 6894, 7017, 8216, 7911, 6853, 6818, 7480, 7598, 6968, 6535, 7449, 9090, 7923, 6972, 6956, 8532, 8972, 8767, 7108, 9196, 8466, 8404, 7595, 8494, 7992, 8169, 7444, 8771, 10763, 10816, 9853, 8931, 10044, 10356, 10047, 10213, 8831, 10996, 11387, 10583, 8473, 10380, 10193, 9247, 8651, 9030, 10129, 9690, 8988, 9965, 11606, 11350, 10026, 8478, 10987, 10280, 8788, 8280, 10538, 11659, 11745, 10004, 10223, 13993, 14228, 12287, 11100, 15579, 13952, 12880, 9992, 11152, 12634, 11954, 9399, 10120, 12623, 12760, 11257, 9358, 11859, 12429, 11696, 8974, 11449, 14140, 13628, 12598, 9415, 13223, 13800, 13235, 12040, 12576, 13572, 13677, 10474, 9968, 13316, 14571, 11362, 11053, 13896, 12751, 10089, 10022, 12002, 12414, 10900, 7937, 9501, 11972, 11191, 9382, 8585, 11406, 12056, 10525, 9387, 11551, 12361, 12708, 8892, 9523, 12408, 12788, 10588, 12199, 13940, 14494, 13339, 11014, 12655, 13803, 12853, 9759, 9972, 12493, 11549, 10076, 10627, 13067, 12090, 10030, 8850, 10437, 12576, 11919, 8303, 8264, 11002, 10831, 10167, 9567, 10841, 12789, 10730, 8973, 10700, 11976, 11333, 9266, 8817, 10738, 11075, 8828, 7779, 9800, 10498, 10152, 8495, 11565, 12086, 10531, 8692, 8404, 10330, 9953, 9253, 8668, 10810, 10538, 9669, 8412, 10493, 11512, 11793, 9727, 9662, 13017, 11659, 10134, 10304, 9863, 9965, 9988, 8980, 9157, 11811, 12613, 9616, 9555, 12071, 12861, 9846, 8826, 10320, 11372, 10497, 8213, 9226, 10564, 11275, 9470, 9961, 12871, 11834, 9234, 8434, 9894, 11217, 10662, 9003, 11129, 12470, 13239, 10512, 9842, 12183, 11818, 10899, 9341, 11499, 12651, 12913, 10568, 10508, 13321, 12990, 10946, 10279, 11441, 11193, 11199, 11266, 9932, 9777, 10275, 9411, 8877, 11659, 12645, 10398, 9884, 12237, 14270, 14219, 12335, 12442, 13976, 13378, 11583, 12166, 14836, 15619, 13453, 12069, 13722, 14640, 13582, 4363], \"yaxis\": \"y\"}],\n",
              "                        {\"legend\": {\"tracegroupgap\": 0}, \"margin\": {\"t\": 60}, \"template\": {\"data\": {\"bar\": [{\"error_x\": {\"color\": \"#2a3f5f\"}, \"error_y\": {\"color\": \"#2a3f5f\"}, \"marker\": {\"line\": {\"color\": \"#E5ECF6\", \"width\": 0.5}}, \"type\": \"bar\"}], \"barpolar\": [{\"marker\": {\"line\": {\"color\": \"#E5ECF6\", \"width\": 0.5}}, \"type\": \"barpolar\"}], \"carpet\": [{\"aaxis\": {\"endlinecolor\": \"#2a3f5f\", \"gridcolor\": \"white\", \"linecolor\": \"white\", \"minorgridcolor\": \"white\", \"startlinecolor\": \"#2a3f5f\"}, \"baxis\": {\"endlinecolor\": \"#2a3f5f\", \"gridcolor\": \"white\", \"linecolor\": \"white\", \"minorgridcolor\": \"white\", \"startlinecolor\": \"#2a3f5f\"}, \"type\": \"carpet\"}], \"choropleth\": [{\"colorbar\": {\"outlinewidth\": 0, \"ticks\": \"\"}, \"type\": \"choropleth\"}], \"contour\": [{\"colorbar\": {\"outlinewidth\": 0, \"ticks\": \"\"}, \"colorscale\": [[0.0, \"#0d0887\"], [0.1111111111111111, \"#46039f\"], [0.2222222222222222, \"#7201a8\"], [0.3333333333333333, \"#9c179e\"], [0.4444444444444444, \"#bd3786\"], [0.5555555555555556, \"#d8576b\"], [0.6666666666666666, \"#ed7953\"], [0.7777777777777778, \"#fb9f3a\"], [0.8888888888888888, \"#fdca26\"], [1.0, \"#f0f921\"]], \"type\": \"contour\"}], \"contourcarpet\": [{\"colorbar\": {\"outlinewidth\": 0, \"ticks\": \"\"}, \"type\": \"contourcarpet\"}], \"heatmap\": [{\"colorbar\": {\"outlinewidth\": 0, \"ticks\": \"\"}, \"colorscale\": [[0.0, \"#0d0887\"], [0.1111111111111111, \"#46039f\"], [0.2222222222222222, \"#7201a8\"], [0.3333333333333333, \"#9c179e\"], [0.4444444444444444, \"#bd3786\"], [0.5555555555555556, \"#d8576b\"], [0.6666666666666666, \"#ed7953\"], [0.7777777777777778, \"#fb9f3a\"], [0.8888888888888888, \"#fdca26\"], [1.0, \"#f0f921\"]], \"type\": \"heatmap\"}], \"heatmapgl\": [{\"colorbar\": {\"outlinewidth\": 0, \"ticks\": \"\"}, \"colorscale\": [[0.0, \"#0d0887\"], [0.1111111111111111, \"#46039f\"], [0.2222222222222222, \"#7201a8\"], [0.3333333333333333, \"#9c179e\"], [0.4444444444444444, \"#bd3786\"], [0.5555555555555556, \"#d8576b\"], [0.6666666666666666, \"#ed7953\"], [0.7777777777777778, \"#fb9f3a\"], [0.8888888888888888, \"#fdca26\"], [1.0, \"#f0f921\"]], \"type\": \"heatmapgl\"}], \"histogram\": [{\"marker\": {\"colorbar\": {\"outlinewidth\": 0, \"ticks\": \"\"}}, \"type\": \"histogram\"}], \"histogram2d\": [{\"colorbar\": {\"outlinewidth\": 0, \"ticks\": \"\"}, \"colorscale\": [[0.0, \"#0d0887\"], [0.1111111111111111, \"#46039f\"], [0.2222222222222222, \"#7201a8\"], [0.3333333333333333, \"#9c179e\"], [0.4444444444444444, \"#bd3786\"], [0.5555555555555556, \"#d8576b\"], [0.6666666666666666, \"#ed7953\"], [0.7777777777777778, \"#fb9f3a\"], [0.8888888888888888, \"#fdca26\"], [1.0, \"#f0f921\"]], \"type\": \"histogram2d\"}], \"histogram2dcontour\": [{\"colorbar\": {\"outlinewidth\": 0, \"ticks\": \"\"}, \"colorscale\": [[0.0, \"#0d0887\"], [0.1111111111111111, \"#46039f\"], [0.2222222222222222, \"#7201a8\"], [0.3333333333333333, \"#9c179e\"], [0.4444444444444444, \"#bd3786\"], [0.5555555555555556, \"#d8576b\"], [0.6666666666666666, \"#ed7953\"], [0.7777777777777778, \"#fb9f3a\"], [0.8888888888888888, \"#fdca26\"], [1.0, \"#f0f921\"]], \"type\": \"histogram2dcontour\"}], \"mesh3d\": [{\"colorbar\": {\"outlinewidth\": 0, \"ticks\": \"\"}, \"type\": \"mesh3d\"}], \"parcoords\": [{\"line\": {\"colorbar\": {\"outlinewidth\": 0, \"ticks\": \"\"}}, \"type\": \"parcoords\"}], \"pie\": [{\"automargin\": true, \"type\": \"pie\"}], \"scatter\": [{\"marker\": {\"colorbar\": {\"outlinewidth\": 0, \"ticks\": \"\"}}, \"type\": \"scatter\"}], \"scatter3d\": [{\"line\": {\"colorbar\": {\"outlinewidth\": 0, \"ticks\": \"\"}}, \"marker\": {\"colorbar\": {\"outlinewidth\": 0, \"ticks\": \"\"}}, \"type\": \"scatter3d\"}], \"scattercarpet\": [{\"marker\": {\"colorbar\": {\"outlinewidth\": 0, \"ticks\": \"\"}}, \"type\": \"scattercarpet\"}], \"scattergeo\": [{\"marker\": {\"colorbar\": {\"outlinewidth\": 0, \"ticks\": \"\"}}, \"type\": \"scattergeo\"}], \"scattergl\": [{\"marker\": {\"colorbar\": {\"outlinewidth\": 0, \"ticks\": \"\"}}, \"type\": \"scattergl\"}], \"scattermapbox\": [{\"marker\": {\"colorbar\": {\"outlinewidth\": 0, \"ticks\": \"\"}}, \"type\": \"scattermapbox\"}], \"scatterpolar\": [{\"marker\": {\"colorbar\": {\"outlinewidth\": 0, \"ticks\": \"\"}}, \"type\": \"scatterpolar\"}], \"scatterpolargl\": [{\"marker\": {\"colorbar\": {\"outlinewidth\": 0, \"ticks\": \"\"}}, \"type\": \"scatterpolargl\"}], \"scatterternary\": [{\"marker\": {\"colorbar\": {\"outlinewidth\": 0, \"ticks\": \"\"}}, \"type\": \"scatterternary\"}], \"surface\": [{\"colorbar\": {\"outlinewidth\": 0, \"ticks\": \"\"}, \"colorscale\": [[0.0, \"#0d0887\"], [0.1111111111111111, \"#46039f\"], [0.2222222222222222, \"#7201a8\"], [0.3333333333333333, \"#9c179e\"], [0.4444444444444444, \"#bd3786\"], [0.5555555555555556, \"#d8576b\"], [0.6666666666666666, \"#ed7953\"], [0.7777777777777778, \"#fb9f3a\"], [0.8888888888888888, \"#fdca26\"], [1.0, \"#f0f921\"]], \"type\": \"surface\"}], \"table\": [{\"cells\": {\"fill\": {\"color\": \"#EBF0F8\"}, \"line\": {\"color\": \"white\"}}, \"header\": {\"fill\": {\"color\": \"#C8D4E3\"}, \"line\": {\"color\": \"white\"}}, \"type\": \"table\"}]}, \"layout\": {\"annotationdefaults\": {\"arrowcolor\": \"#2a3f5f\", \"arrowhead\": 0, \"arrowwidth\": 1}, \"coloraxis\": {\"colorbar\": {\"outlinewidth\": 0, \"ticks\": \"\"}}, \"colorscale\": {\"diverging\": [[0, \"#8e0152\"], [0.1, \"#c51b7d\"], [0.2, \"#de77ae\"], [0.3, \"#f1b6da\"], [0.4, \"#fde0ef\"], [0.5, \"#f7f7f7\"], [0.6, \"#e6f5d0\"], [0.7, \"#b8e186\"], [0.8, \"#7fbc41\"], [0.9, \"#4d9221\"], [1, \"#276419\"]], \"sequential\": [[0.0, \"#0d0887\"], [0.1111111111111111, \"#46039f\"], [0.2222222222222222, \"#7201a8\"], [0.3333333333333333, \"#9c179e\"], [0.4444444444444444, \"#bd3786\"], [0.5555555555555556, \"#d8576b\"], [0.6666666666666666, \"#ed7953\"], [0.7777777777777778, \"#fb9f3a\"], [0.8888888888888888, \"#fdca26\"], [1.0, \"#f0f921\"]], \"sequentialminus\": [[0.0, \"#0d0887\"], [0.1111111111111111, \"#46039f\"], [0.2222222222222222, \"#7201a8\"], [0.3333333333333333, \"#9c179e\"], [0.4444444444444444, \"#bd3786\"], [0.5555555555555556, \"#d8576b\"], [0.6666666666666666, \"#ed7953\"], [0.7777777777777778, \"#fb9f3a\"], [0.8888888888888888, \"#fdca26\"], [1.0, \"#f0f921\"]]}, \"colorway\": [\"#636efa\", \"#EF553B\", \"#00cc96\", \"#ab63fa\", \"#FFA15A\", \"#19d3f3\", \"#FF6692\", \"#B6E880\", \"#FF97FF\", \"#FECB52\"], \"font\": {\"color\": \"#2a3f5f\"}, \"geo\": {\"bgcolor\": \"white\", \"lakecolor\": \"white\", \"landcolor\": \"#E5ECF6\", \"showlakes\": true, \"showland\": true, \"subunitcolor\": \"white\"}, \"hoverlabel\": {\"align\": \"left\"}, \"hovermode\": \"closest\", \"mapbox\": {\"style\": \"light\"}, \"paper_bgcolor\": \"white\", \"plot_bgcolor\": \"#E5ECF6\", \"polar\": {\"angularaxis\": {\"gridcolor\": \"white\", \"linecolor\": \"white\", \"ticks\": \"\"}, \"bgcolor\": \"#E5ECF6\", \"radialaxis\": {\"gridcolor\": \"white\", \"linecolor\": \"white\", \"ticks\": \"\"}}, \"scene\": {\"xaxis\": {\"backgroundcolor\": \"#E5ECF6\", \"gridcolor\": \"white\", \"gridwidth\": 2, \"linecolor\": \"white\", \"showbackground\": true, \"ticks\": \"\", \"zerolinecolor\": \"white\"}, \"yaxis\": {\"backgroundcolor\": \"#E5ECF6\", \"gridcolor\": \"white\", \"gridwidth\": 2, \"linecolor\": \"white\", \"showbackground\": true, \"ticks\": \"\", \"zerolinecolor\": \"white\"}, \"zaxis\": {\"backgroundcolor\": \"#E5ECF6\", \"gridcolor\": \"white\", \"gridwidth\": 2, \"linecolor\": \"white\", \"showbackground\": true, \"ticks\": \"\", \"zerolinecolor\": \"white\"}}, \"shapedefaults\": {\"line\": {\"color\": \"#2a3f5f\"}}, \"ternary\": {\"aaxis\": {\"gridcolor\": \"white\", \"linecolor\": \"white\", \"ticks\": \"\"}, \"baxis\": {\"gridcolor\": \"white\", \"linecolor\": \"white\", \"ticks\": \"\"}, \"bgcolor\": \"#E5ECF6\", \"caxis\": {\"gridcolor\": \"white\", \"linecolor\": \"white\", \"ticks\": \"\"}}, \"title\": {\"x\": 0.05}, \"xaxis\": {\"automargin\": true, \"gridcolor\": \"white\", \"linecolor\": \"white\", \"ticks\": \"\", \"title\": {\"standoff\": 15}, \"zerolinecolor\": \"white\", \"zerolinewidth\": 2}, \"yaxis\": {\"automargin\": true, \"gridcolor\": \"white\", \"linecolor\": \"white\", \"ticks\": \"\", \"title\": {\"standoff\": 15}, \"zerolinecolor\": \"white\", \"zerolinewidth\": 2}}}, \"xaxis\": {\"anchor\": \"y\", \"domain\": [0.0, 1.0], \"title\": {\"text\": \"date\"}}, \"yaxis\": {\"anchor\": \"x\", \"domain\": [0.0, 1.0], \"title\": {\"text\": \"volume\"}}},\n",
              "                        {\"responsive\": true}\n",
              "                    ).then(function(){\n",
              "                            \n",
              "var gd = document.getElementById('37b50d2a-80bc-4e89-9172-462ef5430c66');\n",
              "var x = new MutationObserver(function (mutations, observer) {{\n",
              "        var display = window.getComputedStyle(gd).display;\n",
              "        if (!display || display === 'none') {{\n",
              "            console.log([gd, 'removed!']);\n",
              "            Plotly.purge(gd);\n",
              "            observer.disconnect();\n",
              "        }}\n",
              "}});\n",
              "\n",
              "// Listen for the removal of the full notebook cells\n",
              "var notebookContainer = gd.closest('#notebook-container');\n",
              "if (notebookContainer) {{\n",
              "    x.observe(notebookContainer, {childList: true});\n",
              "}}\n",
              "\n",
              "// Listen for the clearing of the current output cell\n",
              "var outputEl = gd.closest('.output');\n",
              "if (outputEl) {{\n",
              "    x.observe(outputEl, {childList: true});\n",
              "}}\n",
              "\n",
              "                        })\n",
              "                };\n",
              "                \n",
              "            </script>\n",
              "        </div>\n",
              "</body>\n",
              "</html>"
            ]
          },
          "metadata": {
            "tags": []
          }
        }
      ]
    },
    {
      "cell_type": "markdown",
      "metadata": {
        "id": "Nd43RNNKTZJS"
      },
      "source": [
        "## **Seasonality and trend decomposition for California** "
      ]
    },
    {
      "cell_type": "code",
      "metadata": {
        "id": "E5KuIJGpKDUt",
        "colab": {
          "base_uri": "https://localhost:8080/",
          "height": 697
        },
        "outputId": "915cade5-280b-4718-b10b-38f2b027a370"
      },
      "source": [
        "subset_df = state_cat_agg[state_cat_agg['state_id']=='CA']\n",
        "subset_df['date'] = pd.to_datetime(                                                           \n",
        "            subset_df['date'],                                                                        \n",
        "            format = '%Y-%m-%d'                                                                     \n",
        "      )                     \n",
        "subset_df.index = subset_df['date']\n",
        "res = STL(subset_df['volume']).fit()\n",
        "#creating the dataframe for the graph plotting\n",
        "graph_df = res.trend.reset_index()\n",
        "graph_df = pd.merge(graph_df, res.seasonal.reset_index(), on='date', how='left') \n",
        "graph_df = pd.merge(graph_df, res.resid.reset_index(), on='date', how='left')\n",
        "graph_df = pd.melt(graph_df, id_vars='date')\n",
        "\n",
        "#plotting the graph\n",
        "fig = px.line(graph_df, x=\"date\", y=\"value\", color=\"variable\",\n",
        "              line_group=\"variable\", hover_name=\"variable\", title='California Seasonality and trend decomposition')\n",
        "fig.show()"
      ],
      "execution_count": null,
      "outputs": [
        {
          "output_type": "stream",
          "text": [
            "/usr/local/lib/python3.6/dist-packages/ipykernel_launcher.py:4: SettingWithCopyWarning:\n",
            "\n",
            "\n",
            "A value is trying to be set on a copy of a slice from a DataFrame.\n",
            "Try using .loc[row_indexer,col_indexer] = value instead\n",
            "\n",
            "See the caveats in the documentation: https://pandas.pydata.org/pandas-docs/stable/user_guide/indexing.html#returning-a-view-versus-a-copy\n",
            "\n"
          ],
          "name": "stderr"
        },
        {
          "output_type": "display_data",
          "data": {
            "text/html": [
              "<html>\n",
              "<head><meta charset=\"utf-8\" /></head>\n",
              "<body>\n",
              "    <div>\n",
              "            <script src=\"https://cdnjs.cloudflare.com/ajax/libs/mathjax/2.7.5/MathJax.js?config=TeX-AMS-MML_SVG\"></script><script type=\"text/javascript\">if (window.MathJax) {MathJax.Hub.Config({SVG: {font: \"STIX-Web\"}});}</script>\n",
              "                <script type=\"text/javascript\">window.PlotlyConfig = {MathJaxConfig: 'local'};</script>\n",
              "        <script src=\"https://cdn.plot.ly/plotly-latest.min.js\"></script>    \n",
              "            <div id=\"80e0faef-ba4e-414f-932a-2dcced0ddfac\" class=\"plotly-graph-div\" style=\"height:525px; width:100%;\"></div>\n",
              "            <script type=\"text/javascript\">\n",
              "                \n",
              "                    window.PLOTLYENV=window.PLOTLYENV || {};\n",
              "                    \n",
              "                if (document.getElementById(\"80e0faef-ba4e-414f-932a-2dcced0ddfac\")) {\n",
              "                    Plotly.newPlot(\n",
              "                        '80e0faef-ba4e-414f-932a-2dcced0ddfac',\n",
              "                        [{\"hoverlabel\": {\"namelength\": 0}, \"hovertemplate\": \"<b>%{hovertext}</b><br><br>variable=trend<br>date=%{x}<br>value=%{y}\", \"hovertext\": [\"trend\", \"trend\", \"trend\", \"trend\", \"trend\", \"trend\", \"trend\", \"trend\", \"trend\", \"trend\", \"trend\", \"trend\", \"trend\", \"trend\", \"trend\", \"trend\", \"trend\", \"trend\", \"trend\", \"trend\", \"trend\", \"trend\", \"trend\", \"trend\", \"trend\", \"trend\", \"trend\", \"trend\", \"trend\", \"trend\", \"trend\", \"trend\", \"trend\", \"trend\", \"trend\", \"trend\", \"trend\", \"trend\", \"trend\", \"trend\", \"trend\", \"trend\", \"trend\", \"trend\", \"trend\", \"trend\", \"trend\", \"trend\", \"trend\", \"trend\", \"trend\", \"trend\", \"trend\", \"trend\", \"trend\", \"trend\", \"trend\", \"trend\", \"trend\", \"trend\", \"trend\", \"trend\", \"trend\", \"trend\", \"trend\", \"trend\", \"trend\", \"trend\", \"trend\", \"trend\", \"trend\", \"trend\", \"trend\", \"trend\", \"trend\", \"trend\", \"trend\", \"trend\", \"trend\", \"trend\", \"trend\", \"trend\", \"trend\", \"trend\", \"trend\", \"trend\", \"trend\", \"trend\", \"trend\", \"trend\", \"trend\", \"trend\", \"trend\", \"trend\", \"trend\", \"trend\", \"trend\", \"trend\", \"trend\", \"trend\", \"trend\", \"trend\", \"trend\", \"trend\", \"trend\", \"trend\", \"trend\", \"trend\", \"trend\", \"trend\", \"trend\", \"trend\", \"trend\", \"trend\", \"trend\", \"trend\", \"trend\", \"trend\", \"trend\", \"trend\", \"trend\", \"trend\", \"trend\", \"trend\", \"trend\", \"trend\", \"trend\", \"trend\", \"trend\", \"trend\", \"trend\", \"trend\", \"trend\", \"trend\", \"trend\", \"trend\", \"trend\", \"trend\", \"trend\", \"trend\", \"trend\", \"trend\", \"trend\", \"trend\", \"trend\", \"trend\", \"trend\", \"trend\", \"trend\", \"trend\", \"trend\", \"trend\", \"trend\", \"trend\", \"trend\", \"trend\", \"trend\", \"trend\", \"trend\", \"trend\", \"trend\", \"trend\", \"trend\", \"trend\", \"trend\", \"trend\", \"trend\", \"trend\", \"trend\", \"trend\", \"trend\", \"trend\", \"trend\", \"trend\", \"trend\", \"trend\", \"trend\", \"trend\", \"trend\", \"trend\", \"trend\", \"trend\", \"trend\", \"trend\", \"trend\", \"trend\", \"trend\", \"trend\", \"trend\", \"trend\", \"trend\", \"trend\", \"trend\", \"trend\", \"trend\", \"trend\", \"trend\", \"trend\", \"trend\", \"trend\", \"trend\", \"trend\", \"trend\", \"trend\", \"trend\", \"trend\", \"trend\", \"trend\", \"trend\", \"trend\", \"trend\", \"trend\", \"trend\", \"trend\", \"trend\", \"trend\", \"trend\", \"trend\", \"trend\", \"trend\", \"trend\", \"trend\", \"trend\", \"trend\", \"trend\", \"trend\", \"trend\", \"trend\", \"trend\", \"trend\", \"trend\", \"trend\", \"trend\", \"trend\", \"trend\", \"trend\", \"trend\", \"trend\", \"trend\", \"trend\", \"trend\", \"trend\", \"trend\", \"trend\", \"trend\", \"trend\", \"trend\", \"trend\", \"trend\", \"trend\", \"trend\", \"trend\", \"trend\", \"trend\", \"trend\", \"trend\", \"trend\", \"trend\", \"trend\", \"trend\", \"trend\", \"trend\", \"trend\", \"trend\", \"trend\", \"trend\", \"trend\", \"trend\", \"trend\", \"trend\", \"trend\", \"trend\", \"trend\", \"trend\", \"trend\", \"trend\", \"trend\", \"trend\"], \"legendgroup\": \"variable=trend\", \"line\": {\"color\": \"#636efa\", \"dash\": \"solid\"}, \"mode\": \"lines\", \"name\": \"variable=trend\", \"showlegend\": true, \"type\": \"scatter\", \"x\": [\"2011-01-29T00:00:00\", \"2011-02-05T00:00:00\", \"2011-02-12T00:00:00\", \"2011-02-19T00:00:00\", \"2011-02-26T00:00:00\", \"2011-03-05T00:00:00\", \"2011-03-12T00:00:00\", \"2011-03-19T00:00:00\", \"2011-03-26T00:00:00\", \"2011-04-02T00:00:00\", \"2011-04-09T00:00:00\", \"2011-04-16T00:00:00\", \"2011-04-23T00:00:00\", \"2011-04-30T00:00:00\", \"2011-05-07T00:00:00\", \"2011-05-14T00:00:00\", \"2011-05-21T00:00:00\", \"2011-05-28T00:00:00\", \"2011-06-04T00:00:00\", \"2011-06-11T00:00:00\", \"2011-06-18T00:00:00\", \"2011-06-25T00:00:00\", \"2011-07-02T00:00:00\", \"2011-07-09T00:00:00\", \"2011-07-16T00:00:00\", \"2011-07-23T00:00:00\", \"2011-07-30T00:00:00\", \"2011-08-06T00:00:00\", \"2011-08-13T00:00:00\", \"2011-08-20T00:00:00\", \"2011-08-27T00:00:00\", \"2011-09-03T00:00:00\", \"2011-09-10T00:00:00\", \"2011-09-17T00:00:00\", \"2011-09-24T00:00:00\", \"2011-10-01T00:00:00\", \"2011-10-08T00:00:00\", \"2011-10-15T00:00:00\", \"2011-10-22T00:00:00\", \"2011-10-29T00:00:00\", \"2011-11-05T00:00:00\", \"2011-11-12T00:00:00\", \"2011-11-19T00:00:00\", \"2011-11-26T00:00:00\", \"2011-12-03T00:00:00\", \"2011-12-10T00:00:00\", \"2011-12-17T00:00:00\", \"2011-12-24T00:00:00\", \"2011-12-31T00:00:00\", \"2012-01-07T00:00:00\", \"2012-01-14T00:00:00\", \"2012-01-21T00:00:00\", \"2012-01-28T00:00:00\", \"2012-02-04T00:00:00\", \"2012-02-11T00:00:00\", \"2012-02-18T00:00:00\", \"2012-02-25T00:00:00\", \"2012-03-03T00:00:00\", \"2012-03-10T00:00:00\", \"2012-03-17T00:00:00\", \"2012-03-24T00:00:00\", \"2012-03-31T00:00:00\", \"2012-04-07T00:00:00\", \"2012-04-14T00:00:00\", \"2012-04-21T00:00:00\", \"2012-04-28T00:00:00\", \"2012-05-05T00:00:00\", \"2012-05-12T00:00:00\", \"2012-05-19T00:00:00\", \"2012-05-26T00:00:00\", \"2012-06-02T00:00:00\", \"2012-06-09T00:00:00\", \"2012-06-16T00:00:00\", \"2012-06-23T00:00:00\", \"2012-06-30T00:00:00\", \"2012-07-07T00:00:00\", \"2012-07-14T00:00:00\", \"2012-07-21T00:00:00\", \"2012-07-28T00:00:00\", \"2012-08-04T00:00:00\", \"2012-08-11T00:00:00\", \"2012-08-18T00:00:00\", \"2012-08-25T00:00:00\", \"2012-09-01T00:00:00\", \"2012-09-08T00:00:00\", \"2012-09-15T00:00:00\", \"2012-09-22T00:00:00\", \"2012-09-29T00:00:00\", \"2012-10-06T00:00:00\", \"2012-10-13T00:00:00\", \"2012-10-20T00:00:00\", \"2012-10-27T00:00:00\", \"2012-11-03T00:00:00\", \"2012-11-10T00:00:00\", \"2012-11-17T00:00:00\", \"2012-11-24T00:00:00\", \"2012-12-01T00:00:00\", \"2012-12-08T00:00:00\", \"2012-12-15T00:00:00\", \"2012-12-22T00:00:00\", \"2012-12-29T00:00:00\", \"2013-01-05T00:00:00\", \"2013-01-12T00:00:00\", \"2013-01-19T00:00:00\", \"2013-01-26T00:00:00\", \"2013-02-02T00:00:00\", \"2013-02-09T00:00:00\", \"2013-02-16T00:00:00\", \"2013-02-23T00:00:00\", \"2013-03-02T00:00:00\", \"2013-03-09T00:00:00\", \"2013-03-16T00:00:00\", \"2013-03-23T00:00:00\", \"2013-03-30T00:00:00\", \"2013-04-06T00:00:00\", \"2013-04-13T00:00:00\", \"2013-04-20T00:00:00\", \"2013-04-27T00:00:00\", \"2013-05-04T00:00:00\", \"2013-05-11T00:00:00\", \"2013-05-18T00:00:00\", \"2013-05-25T00:00:00\", \"2013-06-01T00:00:00\", \"2013-06-08T00:00:00\", \"2013-06-15T00:00:00\", \"2013-06-22T00:00:00\", \"2013-06-29T00:00:00\", \"2013-07-06T00:00:00\", \"2013-07-13T00:00:00\", \"2013-07-20T00:00:00\", \"2013-07-27T00:00:00\", \"2013-08-03T00:00:00\", \"2013-08-10T00:00:00\", \"2013-08-17T00:00:00\", \"2013-08-24T00:00:00\", \"2013-08-31T00:00:00\", \"2013-09-07T00:00:00\", \"2013-09-14T00:00:00\", \"2013-09-21T00:00:00\", \"2013-09-28T00:00:00\", \"2013-10-05T00:00:00\", \"2013-10-12T00:00:00\", \"2013-10-19T00:00:00\", \"2013-10-26T00:00:00\", \"2013-11-02T00:00:00\", \"2013-11-09T00:00:00\", \"2013-11-16T00:00:00\", \"2013-11-23T00:00:00\", \"2013-11-30T00:00:00\", \"2013-12-07T00:00:00\", \"2013-12-14T00:00:00\", \"2013-12-21T00:00:00\", \"2013-12-28T00:00:00\", \"2014-01-04T00:00:00\", \"2014-01-11T00:00:00\", \"2014-01-18T00:00:00\", \"2014-01-25T00:00:00\", \"2014-02-01T00:00:00\", \"2014-02-08T00:00:00\", \"2014-02-15T00:00:00\", \"2014-02-22T00:00:00\", \"2014-03-01T00:00:00\", \"2014-03-08T00:00:00\", \"2014-03-15T00:00:00\", \"2014-03-22T00:00:00\", \"2014-03-29T00:00:00\", \"2014-04-05T00:00:00\", \"2014-04-12T00:00:00\", \"2014-04-19T00:00:00\", \"2014-04-26T00:00:00\", \"2014-05-03T00:00:00\", \"2014-05-10T00:00:00\", \"2014-05-17T00:00:00\", \"2014-05-24T00:00:00\", \"2014-05-31T00:00:00\", \"2014-06-07T00:00:00\", \"2014-06-14T00:00:00\", \"2014-06-21T00:00:00\", \"2014-06-28T00:00:00\", \"2014-07-05T00:00:00\", \"2014-07-12T00:00:00\", \"2014-07-19T00:00:00\", \"2014-07-26T00:00:00\", \"2014-08-02T00:00:00\", \"2014-08-09T00:00:00\", \"2014-08-16T00:00:00\", \"2014-08-23T00:00:00\", \"2014-08-30T00:00:00\", \"2014-09-06T00:00:00\", \"2014-09-13T00:00:00\", \"2014-09-20T00:00:00\", \"2014-09-27T00:00:00\", \"2014-10-04T00:00:00\", \"2014-10-11T00:00:00\", \"2014-10-18T00:00:00\", \"2014-10-25T00:00:00\", \"2014-11-01T00:00:00\", \"2014-11-08T00:00:00\", \"2014-11-15T00:00:00\", \"2014-11-22T00:00:00\", \"2014-11-29T00:00:00\", \"2014-12-06T00:00:00\", \"2014-12-13T00:00:00\", \"2014-12-20T00:00:00\", \"2014-12-27T00:00:00\", \"2015-01-03T00:00:00\", \"2015-01-10T00:00:00\", \"2015-01-17T00:00:00\", \"2015-01-24T00:00:00\", \"2015-01-31T00:00:00\", \"2015-02-07T00:00:00\", \"2015-02-14T00:00:00\", \"2015-02-21T00:00:00\", \"2015-02-28T00:00:00\", \"2015-03-07T00:00:00\", \"2015-03-14T00:00:00\", \"2015-03-21T00:00:00\", \"2015-03-28T00:00:00\", \"2015-04-04T00:00:00\", \"2015-04-11T00:00:00\", \"2015-04-18T00:00:00\", \"2015-04-25T00:00:00\", \"2015-05-02T00:00:00\", \"2015-05-09T00:00:00\", \"2015-05-16T00:00:00\", \"2015-05-23T00:00:00\", \"2015-05-30T00:00:00\", \"2015-06-06T00:00:00\", \"2015-06-13T00:00:00\", \"2015-06-20T00:00:00\", \"2015-06-27T00:00:00\", \"2015-07-04T00:00:00\", \"2015-07-11T00:00:00\", \"2015-07-18T00:00:00\", \"2015-07-25T00:00:00\", \"2015-08-01T00:00:00\", \"2015-08-08T00:00:00\", \"2015-08-15T00:00:00\", \"2015-08-22T00:00:00\", \"2015-08-29T00:00:00\", \"2015-09-05T00:00:00\", \"2015-09-12T00:00:00\", \"2015-09-19T00:00:00\", \"2015-09-26T00:00:00\", \"2015-10-03T00:00:00\", \"2015-10-10T00:00:00\", \"2015-10-17T00:00:00\", \"2015-10-24T00:00:00\", \"2015-10-31T00:00:00\", \"2015-11-07T00:00:00\", \"2015-11-14T00:00:00\", \"2015-11-21T00:00:00\", \"2015-11-28T00:00:00\", \"2015-12-05T00:00:00\", \"2015-12-12T00:00:00\", \"2015-12-19T00:00:00\", \"2015-12-26T00:00:00\", \"2016-01-02T00:00:00\", \"2016-01-09T00:00:00\", \"2016-01-16T00:00:00\", \"2016-01-23T00:00:00\", \"2016-01-30T00:00:00\", \"2016-02-06T00:00:00\", \"2016-02-13T00:00:00\", \"2016-02-20T00:00:00\", \"2016-02-27T00:00:00\", \"2016-03-05T00:00:00\", \"2016-03-12T00:00:00\", \"2016-03-19T00:00:00\", \"2016-03-26T00:00:00\", \"2016-04-02T00:00:00\", \"2016-04-09T00:00:00\", \"2016-04-16T00:00:00\", \"2016-04-23T00:00:00\", \"2016-04-30T00:00:00\", \"2016-05-07T00:00:00\", \"2016-05-14T00:00:00\", \"2016-05-21T00:00:00\"], \"xaxis\": \"x\", \"y\": [12226.114204204092, 12380.998646842987, 12536.407377980287, 12692.337763394367, 12848.784368686955, 13005.741442918716, 13163.202671229112, 13321.161732091969, 13479.608781607258, 13638.52830005706, 13797.898372239419, 13957.692173263984, 14117.8777815372, 14278.417377378504, 14439.26848517071, 14600.383714977952, 14761.713097311578, 14923.205685335352, 15084.810300549727, 15246.475259424611, 15408.149023194106, 15569.781238468247, 15731.320756000803, 15892.71645473238, 16053.91800087035, 16214.876110921654, 16375.542359159994, 16535.871951628505, 16695.824251455513, 16855.369200944893, 17014.49502360989, 17173.213460540712, 17331.574064311666, 17489.687158924058, 17647.755622055585, 17806.119130260748, 17965.317778746565, 18126.17204111976, 18289.79311387271, 18457.324775470646, 18626.09093787224, 18795.79759044859, 18966.432547916087, 19137.993604851476, 19310.36767289785, 19483.28739237508, 19656.33285569095, 19828.954776200786, 20000.476021294646, 20170.124370412464, 20337.100034161944, 20500.5445120821, 20659.548405147565, 20813.1614664362, 20960.512240227614, 21100.81020430312, 21233.342209720475, 21357.47595317269, 21472.642653228668, 21578.37630006639, 21674.32874770757, 21760.339593878845, 21836.468275013238, 21902.96197996825, 21960.22922854604, 22008.81690554654, 22049.322144608457, 22082.374899681592, 22108.566471609956, 22128.48115697947, 22142.749235140644, 22152.03220634563, 22156.931127165502, 22157.916641426913, 22155.36875060725, 22149.625130897948, 22140.946606273123, 22129.490663573626, 22115.364477664352, 22098.70784140402, 22079.636813036093, 22058.174587759462, 22034.30140895054, 22008.016359660243, 21979.396766092254, 21948.593133827275, 21915.791793977492, 21881.196842346773, 21845.083423129676, 21807.817687499257, 21769.738587222557, 21731.15329695646, 21692.407751485844, 21653.78437966767, 21615.549693629, 21578.034928107314, 21541.694866960042, 21507.198321301676, 21475.434443534017, 21447.391754033164, 21423.999377338045, 21405.995947063664, 21393.92858562662, 21388.21848427539, 21389.134248094604, 21396.788138930613, 21411.153183316386, 21432.155162872765, 21459.635825374895, 21493.29562131991, 21532.73027432099, 21577.49882730083, 21627.15848048524, 21681.19422846919, 21739.02663879694, 21800.020688019325, 21863.4700136567, 21928.607358503024, 21994.641458547896, 22060.753253716688, 22126.19584294311, 22190.320218324337, 22252.52598478639, 22312.240214074256, 22368.98979569772, 22422.507790954252, 22472.685977549096, 22519.51159125127, 22563.10760482296, 22603.79882522073, 22641.995082831465, 22678.0905338863, 22712.508541102176, 22745.67519795099, 22777.95427007636, 22809.568048472414, 22840.549633888444, 22870.75890309496, 22899.89941149553, 22927.571822919566, 22953.33446240354, 22976.788555109066, 22997.655775540534, 23015.749789802885, 23030.88937927304, 23042.88587712586, 23051.44518652083, 23056.17845963862, 23056.69516241832, 23052.652599757275, 23043.740052662335, 23029.70411180655, 23010.39954169141, 22985.778237167102, 22955.895241815302, 22920.89002889046, 22880.979047057677, 22836.52776906182, 22787.99951961092, 22735.916063082772, 22680.865691832063, 22623.506586974112, 22564.596664236127, 22504.94213622588, 22445.30536854821, 22386.332063397596, 22328.61612617852, 22272.78961895736, 22219.441306062592, 22169.024761121975, 22121.860967266344, 22078.067323925432, 22037.551084895527, 22000.02651852564, 21964.977207944452, 21931.79890737002, 21899.94255779409, 21868.978022894902, 21838.568698657575, 21808.3746060481, 21777.982584393816, 21746.922808018517, 21714.716725147355, 21680.892570327473, 21645.02462546108, 21606.79295638494, 21565.9537403949, 21522.30515186198, 21475.848539095197, 21426.708330419904, 21375.09943271268, 21321.27952962123, 21265.560352242, 21208.324663991618, 21149.973085658192, 21090.944533196864, 21031.731163954773, 20972.849613266953, 20914.85726855229, 20858.327998422097, 20803.77536210091, 20751.551568470557, 20701.85071573733, 20654.778408166967, 20610.353660816036, 20568.527883665483, 20529.163086913682, 20492.10758713277, 20457.186045190003, 20424.167188932617, 20392.827712661157, 20362.941412565815, 20334.285708413223, 20306.614897845375, 20279.657337740482, 20253.134953003948, 20226.7780074129, 20200.344369112277, 20173.572682755334, 20146.201943062075, 20118.046296604196, 20089.012008399313, 20059.075382108687, 20028.35832422354, 19997.099598561592, 19965.6137938953, 19934.3333129622, 19903.73293798895, 19874.257016708056, 19846.28626353371, 19820.148931678545, 19796.11380786444, 19774.41989779921, 19755.265895291574, 19738.780939882738, 19725.04549988154, 19714.052843481863, 19705.74196074716, 19700.0277941047, 19706.618836540598, 19713.88359380089, 19721.20920818351, 19728.326147289412, 19735.155427404105, 19741.699268035452, 19747.98875759656, 19754.06245347748, 19759.956016142987, 19765.701184085876, 19771.32518265258, 19776.85428336463, 19782.312925508108, 19787.722510054955, 19793.104741723288, 19798.480489393805, 19803.868517467836, 19809.284213315994, 19814.740693863372, 19820.249677100503, 19825.823393205665, 19831.473958687755, 19837.213704165704, 19843.053889968287, 19849.005729749824, 19855.079780656757, 19861.28125307125, 19867.609144289985, 19874.05912578404, 19880.627454017307, 19887.31151816008, 19894.107859541742, 19901.010857460296, 19908.01326719034, 19915.106540054254, 19922.280372791465, 19929.52453419097, 19936.82871961782, 19944.179908516657], \"yaxis\": \"y\"}, {\"hoverlabel\": {\"namelength\": 0}, \"hovertemplate\": \"<b>%{hovertext}</b><br><br>variable=season<br>date=%{x}<br>value=%{y}\", \"hovertext\": [\"season\", \"season\", \"season\", \"season\", \"season\", \"season\", \"season\", \"season\", \"season\", \"season\", \"season\", \"season\", \"season\", \"season\", \"season\", \"season\", \"season\", \"season\", \"season\", \"season\", \"season\", \"season\", \"season\", \"season\", \"season\", \"season\", \"season\", \"season\", \"season\", \"season\", \"season\", \"season\", \"season\", \"season\", \"season\", \"season\", \"season\", \"season\", \"season\", \"season\", \"season\", \"season\", \"season\", \"season\", \"season\", \"season\", \"season\", \"season\", \"season\", \"season\", \"season\", \"season\", \"season\", \"season\", \"season\", \"season\", \"season\", \"season\", \"season\", \"season\", \"season\", \"season\", \"season\", \"season\", \"season\", \"season\", \"season\", \"season\", \"season\", \"season\", \"season\", \"season\", \"season\", \"season\", \"season\", \"season\", \"season\", \"season\", \"season\", \"season\", \"season\", \"season\", \"season\", \"season\", \"season\", \"season\", \"season\", \"season\", \"season\", \"season\", \"season\", \"season\", \"season\", \"season\", \"season\", \"season\", \"season\", \"season\", \"season\", \"season\", \"season\", \"season\", \"season\", \"season\", \"season\", \"season\", \"season\", \"season\", \"season\", \"season\", \"season\", \"season\", \"season\", \"season\", \"season\", \"season\", \"season\", \"season\", \"season\", \"season\", \"season\", \"season\", \"season\", \"season\", \"season\", \"season\", \"season\", \"season\", \"season\", \"season\", \"season\", \"season\", \"season\", \"season\", \"season\", \"season\", \"season\", \"season\", \"season\", \"season\", \"season\", \"season\", \"season\", \"season\", \"season\", \"season\", \"season\", \"season\", \"season\", \"season\", \"season\", \"season\", \"season\", \"season\", \"season\", \"season\", \"season\", \"season\", \"season\", \"season\", \"season\", \"season\", \"season\", \"season\", \"season\", \"season\", \"season\", \"season\", \"season\", \"season\", \"season\", \"season\", \"season\", \"season\", \"season\", \"season\", \"season\", \"season\", \"season\", \"season\", \"season\", \"season\", \"season\", \"season\", \"season\", \"season\", \"season\", \"season\", \"season\", \"season\", \"season\", \"season\", \"season\", \"season\", \"season\", \"season\", \"season\", \"season\", \"season\", \"season\", \"season\", \"season\", \"season\", \"season\", \"season\", \"season\", \"season\", \"season\", \"season\", \"season\", \"season\", \"season\", \"season\", \"season\", \"season\", \"season\", \"season\", \"season\", \"season\", \"season\", \"season\", \"season\", \"season\", \"season\", \"season\", \"season\", \"season\", \"season\", \"season\", \"season\", \"season\", \"season\", \"season\", \"season\", \"season\", \"season\", \"season\", \"season\", \"season\", \"season\", \"season\", \"season\", \"season\", \"season\", \"season\", \"season\", \"season\", \"season\", \"season\", \"season\", \"season\", \"season\", \"season\", \"season\", \"season\", \"season\", \"season\", \"season\", \"season\", \"season\", \"season\", \"season\", \"season\", \"season\", \"season\", \"season\", \"season\", \"season\", \"season\", \"season\", \"season\", \"season\", \"season\", \"season\", \"season\", \"season\", \"season\", \"season\"], \"legendgroup\": \"variable=season\", \"line\": {\"color\": \"#EF553B\", \"dash\": \"solid\"}, \"mode\": \"lines\", \"name\": \"variable=season\", \"showlegend\": true, \"type\": \"scatter\", \"x\": [\"2011-01-29T00:00:00\", \"2011-02-05T00:00:00\", \"2011-02-12T00:00:00\", \"2011-02-19T00:00:00\", \"2011-02-26T00:00:00\", \"2011-03-05T00:00:00\", \"2011-03-12T00:00:00\", \"2011-03-19T00:00:00\", \"2011-03-26T00:00:00\", \"2011-04-02T00:00:00\", \"2011-04-09T00:00:00\", \"2011-04-16T00:00:00\", \"2011-04-23T00:00:00\", \"2011-04-30T00:00:00\", \"2011-05-07T00:00:00\", \"2011-05-14T00:00:00\", \"2011-05-21T00:00:00\", \"2011-05-28T00:00:00\", \"2011-06-04T00:00:00\", \"2011-06-11T00:00:00\", \"2011-06-18T00:00:00\", \"2011-06-25T00:00:00\", \"2011-07-02T00:00:00\", \"2011-07-09T00:00:00\", \"2011-07-16T00:00:00\", \"2011-07-23T00:00:00\", \"2011-07-30T00:00:00\", \"2011-08-06T00:00:00\", \"2011-08-13T00:00:00\", \"2011-08-20T00:00:00\", \"2011-08-27T00:00:00\", \"2011-09-03T00:00:00\", \"2011-09-10T00:00:00\", \"2011-09-17T00:00:00\", \"2011-09-24T00:00:00\", \"2011-10-01T00:00:00\", \"2011-10-08T00:00:00\", \"2011-10-15T00:00:00\", \"2011-10-22T00:00:00\", \"2011-10-29T00:00:00\", \"2011-11-05T00:00:00\", \"2011-11-12T00:00:00\", \"2011-11-19T00:00:00\", \"2011-11-26T00:00:00\", \"2011-12-03T00:00:00\", \"2011-12-10T00:00:00\", \"2011-12-17T00:00:00\", \"2011-12-24T00:00:00\", \"2011-12-31T00:00:00\", \"2012-01-07T00:00:00\", \"2012-01-14T00:00:00\", \"2012-01-21T00:00:00\", \"2012-01-28T00:00:00\", \"2012-02-04T00:00:00\", \"2012-02-11T00:00:00\", \"2012-02-18T00:00:00\", \"2012-02-25T00:00:00\", \"2012-03-03T00:00:00\", \"2012-03-10T00:00:00\", \"2012-03-17T00:00:00\", \"2012-03-24T00:00:00\", \"2012-03-31T00:00:00\", \"2012-04-07T00:00:00\", \"2012-04-14T00:00:00\", \"2012-04-21T00:00:00\", \"2012-04-28T00:00:00\", \"2012-05-05T00:00:00\", \"2012-05-12T00:00:00\", \"2012-05-19T00:00:00\", \"2012-05-26T00:00:00\", \"2012-06-02T00:00:00\", \"2012-06-09T00:00:00\", \"2012-06-16T00:00:00\", \"2012-06-23T00:00:00\", \"2012-06-30T00:00:00\", \"2012-07-07T00:00:00\", \"2012-07-14T00:00:00\", \"2012-07-21T00:00:00\", \"2012-07-28T00:00:00\", \"2012-08-04T00:00:00\", \"2012-08-11T00:00:00\", \"2012-08-18T00:00:00\", \"2012-08-25T00:00:00\", \"2012-09-01T00:00:00\", \"2012-09-08T00:00:00\", \"2012-09-15T00:00:00\", \"2012-09-22T00:00:00\", \"2012-09-29T00:00:00\", \"2012-10-06T00:00:00\", \"2012-10-13T00:00:00\", \"2012-10-20T00:00:00\", \"2012-10-27T00:00:00\", \"2012-11-03T00:00:00\", \"2012-11-10T00:00:00\", \"2012-11-17T00:00:00\", \"2012-11-24T00:00:00\", \"2012-12-01T00:00:00\", \"2012-12-08T00:00:00\", \"2012-12-15T00:00:00\", \"2012-12-22T00:00:00\", \"2012-12-29T00:00:00\", \"2013-01-05T00:00:00\", \"2013-01-12T00:00:00\", \"2013-01-19T00:00:00\", \"2013-01-26T00:00:00\", \"2013-02-02T00:00:00\", \"2013-02-09T00:00:00\", \"2013-02-16T00:00:00\", \"2013-02-23T00:00:00\", \"2013-03-02T00:00:00\", \"2013-03-09T00:00:00\", \"2013-03-16T00:00:00\", \"2013-03-23T00:00:00\", \"2013-03-30T00:00:00\", \"2013-04-06T00:00:00\", \"2013-04-13T00:00:00\", \"2013-04-20T00:00:00\", \"2013-04-27T00:00:00\", \"2013-05-04T00:00:00\", \"2013-05-11T00:00:00\", \"2013-05-18T00:00:00\", \"2013-05-25T00:00:00\", \"2013-06-01T00:00:00\", \"2013-06-08T00:00:00\", \"2013-06-15T00:00:00\", \"2013-06-22T00:00:00\", \"2013-06-29T00:00:00\", \"2013-07-06T00:00:00\", \"2013-07-13T00:00:00\", \"2013-07-20T00:00:00\", \"2013-07-27T00:00:00\", \"2013-08-03T00:00:00\", \"2013-08-10T00:00:00\", \"2013-08-17T00:00:00\", \"2013-08-24T00:00:00\", \"2013-08-31T00:00:00\", \"2013-09-07T00:00:00\", \"2013-09-14T00:00:00\", \"2013-09-21T00:00:00\", \"2013-09-28T00:00:00\", \"2013-10-05T00:00:00\", \"2013-10-12T00:00:00\", \"2013-10-19T00:00:00\", \"2013-10-26T00:00:00\", \"2013-11-02T00:00:00\", \"2013-11-09T00:00:00\", \"2013-11-16T00:00:00\", \"2013-11-23T00:00:00\", \"2013-11-30T00:00:00\", \"2013-12-07T00:00:00\", \"2013-12-14T00:00:00\", \"2013-12-21T00:00:00\", \"2013-12-28T00:00:00\", \"2014-01-04T00:00:00\", \"2014-01-11T00:00:00\", \"2014-01-18T00:00:00\", \"2014-01-25T00:00:00\", \"2014-02-01T00:00:00\", \"2014-02-08T00:00:00\", \"2014-02-15T00:00:00\", \"2014-02-22T00:00:00\", \"2014-03-01T00:00:00\", \"2014-03-08T00:00:00\", \"2014-03-15T00:00:00\", \"2014-03-22T00:00:00\", \"2014-03-29T00:00:00\", \"2014-04-05T00:00:00\", \"2014-04-12T00:00:00\", \"2014-04-19T00:00:00\", \"2014-04-26T00:00:00\", \"2014-05-03T00:00:00\", \"2014-05-10T00:00:00\", \"2014-05-17T00:00:00\", \"2014-05-24T00:00:00\", \"2014-05-31T00:00:00\", \"2014-06-07T00:00:00\", \"2014-06-14T00:00:00\", \"2014-06-21T00:00:00\", \"2014-06-28T00:00:00\", \"2014-07-05T00:00:00\", \"2014-07-12T00:00:00\", \"2014-07-19T00:00:00\", \"2014-07-26T00:00:00\", \"2014-08-02T00:00:00\", \"2014-08-09T00:00:00\", \"2014-08-16T00:00:00\", \"2014-08-23T00:00:00\", \"2014-08-30T00:00:00\", \"2014-09-06T00:00:00\", \"2014-09-13T00:00:00\", \"2014-09-20T00:00:00\", \"2014-09-27T00:00:00\", \"2014-10-04T00:00:00\", \"2014-10-11T00:00:00\", \"2014-10-18T00:00:00\", \"2014-10-25T00:00:00\", \"2014-11-01T00:00:00\", \"2014-11-08T00:00:00\", \"2014-11-15T00:00:00\", \"2014-11-22T00:00:00\", \"2014-11-29T00:00:00\", \"2014-12-06T00:00:00\", \"2014-12-13T00:00:00\", \"2014-12-20T00:00:00\", \"2014-12-27T00:00:00\", \"2015-01-03T00:00:00\", \"2015-01-10T00:00:00\", \"2015-01-17T00:00:00\", \"2015-01-24T00:00:00\", \"2015-01-31T00:00:00\", \"2015-02-07T00:00:00\", \"2015-02-14T00:00:00\", \"2015-02-21T00:00:00\", \"2015-02-28T00:00:00\", \"2015-03-07T00:00:00\", \"2015-03-14T00:00:00\", \"2015-03-21T00:00:00\", \"2015-03-28T00:00:00\", \"2015-04-04T00:00:00\", \"2015-04-11T00:00:00\", \"2015-04-18T00:00:00\", \"2015-04-25T00:00:00\", \"2015-05-02T00:00:00\", \"2015-05-09T00:00:00\", \"2015-05-16T00:00:00\", \"2015-05-23T00:00:00\", \"2015-05-30T00:00:00\", \"2015-06-06T00:00:00\", \"2015-06-13T00:00:00\", \"2015-06-20T00:00:00\", \"2015-06-27T00:00:00\", \"2015-07-04T00:00:00\", \"2015-07-11T00:00:00\", \"2015-07-18T00:00:00\", \"2015-07-25T00:00:00\", \"2015-08-01T00:00:00\", \"2015-08-08T00:00:00\", \"2015-08-15T00:00:00\", \"2015-08-22T00:00:00\", \"2015-08-29T00:00:00\", \"2015-09-05T00:00:00\", \"2015-09-12T00:00:00\", \"2015-09-19T00:00:00\", \"2015-09-26T00:00:00\", \"2015-10-03T00:00:00\", \"2015-10-10T00:00:00\", \"2015-10-17T00:00:00\", \"2015-10-24T00:00:00\", \"2015-10-31T00:00:00\", \"2015-11-07T00:00:00\", \"2015-11-14T00:00:00\", \"2015-11-21T00:00:00\", \"2015-11-28T00:00:00\", \"2015-12-05T00:00:00\", \"2015-12-12T00:00:00\", \"2015-12-19T00:00:00\", \"2015-12-26T00:00:00\", \"2016-01-02T00:00:00\", \"2016-01-09T00:00:00\", \"2016-01-16T00:00:00\", \"2016-01-23T00:00:00\", \"2016-01-30T00:00:00\", \"2016-02-06T00:00:00\", \"2016-02-13T00:00:00\", \"2016-02-20T00:00:00\", \"2016-02-27T00:00:00\", \"2016-03-05T00:00:00\", \"2016-03-12T00:00:00\", \"2016-03-19T00:00:00\", \"2016-03-26T00:00:00\", \"2016-04-02T00:00:00\", \"2016-04-09T00:00:00\", \"2016-04-16T00:00:00\", \"2016-04-23T00:00:00\", \"2016-04-30T00:00:00\", \"2016-05-07T00:00:00\", \"2016-05-14T00:00:00\", \"2016-05-21T00:00:00\"], \"xaxis\": \"x\", \"y\": [2962.1397743609955, 4233.48112092885, 30.276924782677128, 496.0139014695515, 195.96172516207548, 2880.033731188069, -20.24790147173107, -1240.4224422594182, -577.0638865837252, 1174.9869106378792, -25.35255292302827, -823.2955309155677, -1587.0883412250384, -991.4479465898896, 383.83423124424826, -644.681943497258, -305.37783611541215, -1506.003964830395, 1158.7906693558768, 1298.13990384878, 939.7244018217513, -322.8954522935089, 3525.1248478508064, 292.3804486635448, -1022.6107758387278, -1040.8787153879211, 28.790432723810483, 1713.9721227815648, 1519.255284215928, -251.10833221133115, -1491.3124133200515, 1359.5980735946307, -159.87186945531647, -932.5347946616583, 1125.8148149426636, 3190.824978512801, 2122.7080674436597, 256.6681985748646, -1536.7608950971455, -720.7974272752557, 424.93381571585655, -1035.1331296092376, 1551.5777358854336, -4860.286776736882, 377.18689433233044, 325.2914504212694, 1302.6108141006264, -2457.011879349852, -811.4550618173287, -1132.2610365910018, -2011.616020086011, -3349.1710807405348, 200.73035480077826, 1844.3432822592763, -574.5433078167669, -942.0404797859568, -1386.8145248672477, 1128.5575491781763, -243.12273703101175, -1591.9464351695901, -1163.65687301637, 279.9341026805704, 421.05171560671914, -1099.6075787709203, -1136.659894553449, -485.39822376250487, 736.9161466572804, -59.929110753763936, -853.1021412042253, -1765.8193413937313, 1258.0921240766634, 1911.0175894053373, 919.4860369557961, 138.16521920184454, 4688.630361038033, 1451.1964590618063, -2.4787908785193054, 86.71763627306531, 759.5576895187967, 2595.747708283244, 2363.852040557399, 961.7065513779036, 227.3916815588982, 2488.7974783408335, 2028.2915802503574, 463.8914787864303, 1102.8420407782305, 2369.1743228559776, 2384.055053225603, -82.80159652514665, -1377.4214580562186, -813.5115621251849, 652.6352512928072, -944.2936462635269, -40.22118574715083, -3646.8042756037785, -412.4310725289298, -746.4638257547624, -495.9980631288415, -3007.9422553950108, -1296.5318059883055, -1120.8312356431245, -1681.4508740434271, -2824.872918258195, -2297.415111435154, -229.11428179211907, -1004.4107520063275, -2291.171429730101, -2933.9730699544075, -556.6335014754527, -401.78843677292974, -1858.7562636859548, -1692.2888734937314, -545.8103944111036, 837.6992173554643, -1319.019392430345, -776.6846419196783, -37.81056892937575, 1123.6918823570832, 452.36523722229174, -1397.0957516720514, -2028.9794511214898, 1230.6647687190396, 2451.0317380600986, 952.6454697496337, 546.5640727069402, 5534.966931085484, 2513.253378606276, 1028.074309551048, 1161.1924706774687, 1415.8405098256126, 3412.8994153766216, 3105.14520239208, 2075.421386631843, 1587.2847428304974, 3260.7278783496677, 3861.1454758062264, 1637.0953248732044, 1087.468446423522, 1591.936651891505, 2559.9904697449624, -410.5709439076191, -1218.493030031709, -899.1700407582614, 761.210069031755, -892.7317017810382, -1468.5180506672664, -2398.7832502224455, -1237.2350732090053, -1826.305969691597, -2152.186814129975, -3487.628714012, -1829.1645555548498, -1073.3898955076331, -1276.1310628875785, -2259.8328055244006, -2910.9749451885386, -926.7785583317002, -667.8564042304645, -2861.472168566551, -3520.729047782332, -1692.5213759914798, -337.9624421619436, -1577.1224116113438, -1522.4940190425223, -719.0425613815019, 920.4737942069584, -1176.171981408658, -615.1180699502744, 93.57362288246148, 1109.9636471795159, 347.5393252338872, -1815.3189472134359, -3421.6007086044747, 448.4528964099062, 2190.8552675001333, 1007.6566445397406, 647.8563290322234, 5141.761738299394, 2612.1784926828773, 1763.467038088041, 1539.9630099356457, 1391.5473323938652, 3238.5841623700608, 2724.379765079388, 2516.796284595969, 1320.0845637775383, 2430.0443677668195, 4120.636132232794, 2036.7265131631293, 1793.020390414709, 1057.2617018853334, 2881.8790150692716, 60.55375897862184, -202.17875355933327, -379.82376116868465, 700.946242009608, -650.0918037669035, -1925.8383560892514, -568.1438969713021, -1971.3288696548304, -2667.8829188955638, -3013.6115626357914, -3910.609123212477, -2693.362228070393, -1250.6531959438835, -750.4284113515108, -1401.4492408773187, -2206.6467841933345, -516.1548744843526, 140.47303900611521, -2269.188210946591, -2965.6920522049822, -2043.9630402977914, -217.94220175275055, -1126.3740968569414, -908.2082460920467, -210.61484074115165, 1005.5078012684712, -645.9981961552965, -477.9413605356301, -81.05519904852666, 1116.6628361163314, 180.81570339197825, -1441.9542272304482, -6622.377133281707, -521.1625845277699, 1757.4996292312499, 1051.9438206098796, 593.6711471631946, 4387.032285666233, 2576.2693020179563, 2458.641726848448, 1747.8923879373783, 1257.4440606504277, 2879.1944765395465, 2054.0701865729084, 2738.6452757307907, 579.3202590440346, 1096.5206919296802, 3927.1405231591016, 2170.093287335856, 2469.979799066477, 499.2979390044458, 3119.7932533855983, 555.4692785090292, 896.2329188010915, 160.95123805288736, 578.6790574769891, -392.50975920051826, -2181.9041415061, 1433.2053918973575, -2697.5383525742213, -3478.5408015975036, -3720.851454994525, -4280.438045004968, -3652.173420699471, -1368.7241580626974, -144.9367651458571, -434.05137864655353, -1352.5999037297227, 61.922068870634476, 1112.511914149471, -1446.868543408663, -2178.329460719827, -2169.754828393234, -112.96887962968371, -645.7724805803381, -279.1941598957454, 389.3607223062401, 914.823008422477, -165.36679017651994, -411.67378918880917, -414.3696672646135, 1071.4009672115103, -43.901812011992845, -918.9473053480173, -9913.48662746528], \"yaxis\": \"y\"}, {\"hoverlabel\": {\"namelength\": 0}, \"hovertemplate\": \"<b>%{hovertext}</b><br><br>variable=resid<br>date=%{x}<br>value=%{y}\", \"hovertext\": [\"resid\", \"resid\", \"resid\", \"resid\", \"resid\", \"resid\", \"resid\", \"resid\", \"resid\", \"resid\", \"resid\", \"resid\", \"resid\", \"resid\", \"resid\", \"resid\", \"resid\", \"resid\", \"resid\", \"resid\", \"resid\", \"resid\", \"resid\", \"resid\", \"resid\", \"resid\", \"resid\", \"resid\", \"resid\", \"resid\", \"resid\", \"resid\", \"resid\", \"resid\", \"resid\", \"resid\", \"resid\", \"resid\", \"resid\", \"resid\", \"resid\", \"resid\", \"resid\", \"resid\", \"resid\", \"resid\", \"resid\", \"resid\", \"resid\", \"resid\", \"resid\", \"resid\", \"resid\", \"resid\", \"resid\", \"resid\", \"resid\", \"resid\", \"resid\", \"resid\", \"resid\", \"resid\", \"resid\", \"resid\", \"resid\", \"resid\", \"resid\", \"resid\", \"resid\", \"resid\", \"resid\", \"resid\", \"resid\", \"resid\", \"resid\", \"resid\", \"resid\", \"resid\", \"resid\", \"resid\", \"resid\", \"resid\", \"resid\", \"resid\", \"resid\", \"resid\", \"resid\", \"resid\", \"resid\", \"resid\", \"resid\", \"resid\", \"resid\", \"resid\", \"resid\", \"resid\", \"resid\", \"resid\", \"resid\", \"resid\", \"resid\", \"resid\", \"resid\", \"resid\", \"resid\", \"resid\", \"resid\", \"resid\", \"resid\", \"resid\", \"resid\", \"resid\", \"resid\", \"resid\", \"resid\", \"resid\", \"resid\", \"resid\", \"resid\", \"resid\", \"resid\", \"resid\", \"resid\", \"resid\", \"resid\", \"resid\", \"resid\", \"resid\", \"resid\", \"resid\", \"resid\", \"resid\", \"resid\", \"resid\", \"resid\", \"resid\", \"resid\", \"resid\", \"resid\", \"resid\", \"resid\", \"resid\", \"resid\", \"resid\", \"resid\", \"resid\", \"resid\", \"resid\", \"resid\", \"resid\", \"resid\", \"resid\", \"resid\", \"resid\", \"resid\", \"resid\", \"resid\", \"resid\", \"resid\", \"resid\", \"resid\", \"resid\", \"resid\", \"resid\", \"resid\", \"resid\", \"resid\", \"resid\", \"resid\", \"resid\", \"resid\", \"resid\", \"resid\", \"resid\", \"resid\", \"resid\", \"resid\", \"resid\", \"resid\", \"resid\", \"resid\", \"resid\", \"resid\", \"resid\", \"resid\", \"resid\", \"resid\", \"resid\", \"resid\", \"resid\", \"resid\", \"resid\", \"resid\", \"resid\", \"resid\", \"resid\", \"resid\", \"resid\", \"resid\", \"resid\", \"resid\", \"resid\", \"resid\", \"resid\", \"resid\", \"resid\", \"resid\", \"resid\", \"resid\", \"resid\", \"resid\", \"resid\", \"resid\", \"resid\", \"resid\", \"resid\", \"resid\", \"resid\", \"resid\", \"resid\", \"resid\", \"resid\", \"resid\", \"resid\", \"resid\", \"resid\", \"resid\", \"resid\", \"resid\", \"resid\", \"resid\", \"resid\", \"resid\", \"resid\", \"resid\", \"resid\", \"resid\", \"resid\", \"resid\", \"resid\", \"resid\", \"resid\", \"resid\", \"resid\", \"resid\", \"resid\", \"resid\", \"resid\", \"resid\", \"resid\", \"resid\", \"resid\", \"resid\", \"resid\", \"resid\", \"resid\", \"resid\", \"resid\", \"resid\", \"resid\", \"resid\", \"resid\", \"resid\", \"resid\", \"resid\", \"resid\", \"resid\", \"resid\", \"resid\", \"resid\", \"resid\", \"resid\", \"resid\", \"resid\", \"resid\", \"resid\", \"resid\", \"resid\"], \"legendgroup\": \"variable=resid\", \"line\": {\"color\": \"#00cc96\", \"dash\": \"solid\"}, \"mode\": \"lines\", \"name\": \"variable=resid\", \"showlegend\": true, \"type\": \"scatter\", \"x\": [\"2011-01-29T00:00:00\", \"2011-02-05T00:00:00\", \"2011-02-12T00:00:00\", \"2011-02-19T00:00:00\", \"2011-02-26T00:00:00\", \"2011-03-05T00:00:00\", \"2011-03-12T00:00:00\", \"2011-03-19T00:00:00\", \"2011-03-26T00:00:00\", \"2011-04-02T00:00:00\", \"2011-04-09T00:00:00\", \"2011-04-16T00:00:00\", \"2011-04-23T00:00:00\", \"2011-04-30T00:00:00\", \"2011-05-07T00:00:00\", \"2011-05-14T00:00:00\", \"2011-05-21T00:00:00\", \"2011-05-28T00:00:00\", \"2011-06-04T00:00:00\", \"2011-06-11T00:00:00\", \"2011-06-18T00:00:00\", \"2011-06-25T00:00:00\", \"2011-07-02T00:00:00\", \"2011-07-09T00:00:00\", \"2011-07-16T00:00:00\", \"2011-07-23T00:00:00\", \"2011-07-30T00:00:00\", \"2011-08-06T00:00:00\", \"2011-08-13T00:00:00\", \"2011-08-20T00:00:00\", \"2011-08-27T00:00:00\", \"2011-09-03T00:00:00\", \"2011-09-10T00:00:00\", \"2011-09-17T00:00:00\", \"2011-09-24T00:00:00\", \"2011-10-01T00:00:00\", \"2011-10-08T00:00:00\", \"2011-10-15T00:00:00\", \"2011-10-22T00:00:00\", \"2011-10-29T00:00:00\", \"2011-11-05T00:00:00\", \"2011-11-12T00:00:00\", \"2011-11-19T00:00:00\", \"2011-11-26T00:00:00\", \"2011-12-03T00:00:00\", \"2011-12-10T00:00:00\", \"2011-12-17T00:00:00\", \"2011-12-24T00:00:00\", \"2011-12-31T00:00:00\", \"2012-01-07T00:00:00\", \"2012-01-14T00:00:00\", \"2012-01-21T00:00:00\", \"2012-01-28T00:00:00\", \"2012-02-04T00:00:00\", \"2012-02-11T00:00:00\", \"2012-02-18T00:00:00\", \"2012-02-25T00:00:00\", \"2012-03-03T00:00:00\", \"2012-03-10T00:00:00\", \"2012-03-17T00:00:00\", \"2012-03-24T00:00:00\", \"2012-03-31T00:00:00\", \"2012-04-07T00:00:00\", \"2012-04-14T00:00:00\", \"2012-04-21T00:00:00\", \"2012-04-28T00:00:00\", \"2012-05-05T00:00:00\", \"2012-05-12T00:00:00\", \"2012-05-19T00:00:00\", \"2012-05-26T00:00:00\", \"2012-06-02T00:00:00\", \"2012-06-09T00:00:00\", \"2012-06-16T00:00:00\", \"2012-06-23T00:00:00\", \"2012-06-30T00:00:00\", \"2012-07-07T00:00:00\", \"2012-07-14T00:00:00\", \"2012-07-21T00:00:00\", \"2012-07-28T00:00:00\", \"2012-08-04T00:00:00\", \"2012-08-11T00:00:00\", \"2012-08-18T00:00:00\", \"2012-08-25T00:00:00\", \"2012-09-01T00:00:00\", \"2012-09-08T00:00:00\", \"2012-09-15T00:00:00\", \"2012-09-22T00:00:00\", \"2012-09-29T00:00:00\", \"2012-10-06T00:00:00\", \"2012-10-13T00:00:00\", \"2012-10-20T00:00:00\", \"2012-10-27T00:00:00\", \"2012-11-03T00:00:00\", \"2012-11-10T00:00:00\", \"2012-11-17T00:00:00\", \"2012-11-24T00:00:00\", \"2012-12-01T00:00:00\", \"2012-12-08T00:00:00\", \"2012-12-15T00:00:00\", \"2012-12-22T00:00:00\", \"2012-12-29T00:00:00\", \"2013-01-05T00:00:00\", \"2013-01-12T00:00:00\", \"2013-01-19T00:00:00\", \"2013-01-26T00:00:00\", \"2013-02-02T00:00:00\", \"2013-02-09T00:00:00\", \"2013-02-16T00:00:00\", \"2013-02-23T00:00:00\", \"2013-03-02T00:00:00\", \"2013-03-09T00:00:00\", \"2013-03-16T00:00:00\", \"2013-03-23T00:00:00\", \"2013-03-30T00:00:00\", \"2013-04-06T00:00:00\", \"2013-04-13T00:00:00\", \"2013-04-20T00:00:00\", \"2013-04-27T00:00:00\", \"2013-05-04T00:00:00\", \"2013-05-11T00:00:00\", \"2013-05-18T00:00:00\", \"2013-05-25T00:00:00\", \"2013-06-01T00:00:00\", \"2013-06-08T00:00:00\", \"2013-06-15T00:00:00\", \"2013-06-22T00:00:00\", \"2013-06-29T00:00:00\", \"2013-07-06T00:00:00\", \"2013-07-13T00:00:00\", \"2013-07-20T00:00:00\", \"2013-07-27T00:00:00\", \"2013-08-03T00:00:00\", \"2013-08-10T00:00:00\", \"2013-08-17T00:00:00\", \"2013-08-24T00:00:00\", \"2013-08-31T00:00:00\", \"2013-09-07T00:00:00\", \"2013-09-14T00:00:00\", \"2013-09-21T00:00:00\", \"2013-09-28T00:00:00\", \"2013-10-05T00:00:00\", \"2013-10-12T00:00:00\", \"2013-10-19T00:00:00\", \"2013-10-26T00:00:00\", \"2013-11-02T00:00:00\", \"2013-11-09T00:00:00\", \"2013-11-16T00:00:00\", \"2013-11-23T00:00:00\", \"2013-11-30T00:00:00\", \"2013-12-07T00:00:00\", \"2013-12-14T00:00:00\", \"2013-12-21T00:00:00\", \"2013-12-28T00:00:00\", \"2014-01-04T00:00:00\", \"2014-01-11T00:00:00\", \"2014-01-18T00:00:00\", \"2014-01-25T00:00:00\", \"2014-02-01T00:00:00\", \"2014-02-08T00:00:00\", \"2014-02-15T00:00:00\", \"2014-02-22T00:00:00\", \"2014-03-01T00:00:00\", \"2014-03-08T00:00:00\", \"2014-03-15T00:00:00\", \"2014-03-22T00:00:00\", \"2014-03-29T00:00:00\", \"2014-04-05T00:00:00\", \"2014-04-12T00:00:00\", \"2014-04-19T00:00:00\", \"2014-04-26T00:00:00\", \"2014-05-03T00:00:00\", \"2014-05-10T00:00:00\", \"2014-05-17T00:00:00\", \"2014-05-24T00:00:00\", \"2014-05-31T00:00:00\", \"2014-06-07T00:00:00\", \"2014-06-14T00:00:00\", \"2014-06-21T00:00:00\", \"2014-06-28T00:00:00\", \"2014-07-05T00:00:00\", \"2014-07-12T00:00:00\", \"2014-07-19T00:00:00\", \"2014-07-26T00:00:00\", \"2014-08-02T00:00:00\", \"2014-08-09T00:00:00\", \"2014-08-16T00:00:00\", \"2014-08-23T00:00:00\", \"2014-08-30T00:00:00\", \"2014-09-06T00:00:00\", \"2014-09-13T00:00:00\", \"2014-09-20T00:00:00\", \"2014-09-27T00:00:00\", \"2014-10-04T00:00:00\", \"2014-10-11T00:00:00\", \"2014-10-18T00:00:00\", \"2014-10-25T00:00:00\", \"2014-11-01T00:00:00\", \"2014-11-08T00:00:00\", \"2014-11-15T00:00:00\", \"2014-11-22T00:00:00\", \"2014-11-29T00:00:00\", \"2014-12-06T00:00:00\", \"2014-12-13T00:00:00\", \"2014-12-20T00:00:00\", \"2014-12-27T00:00:00\", \"2015-01-03T00:00:00\", \"2015-01-10T00:00:00\", \"2015-01-17T00:00:00\", \"2015-01-24T00:00:00\", \"2015-01-31T00:00:00\", \"2015-02-07T00:00:00\", \"2015-02-14T00:00:00\", \"2015-02-21T00:00:00\", \"2015-02-28T00:00:00\", \"2015-03-07T00:00:00\", \"2015-03-14T00:00:00\", \"2015-03-21T00:00:00\", \"2015-03-28T00:00:00\", \"2015-04-04T00:00:00\", \"2015-04-11T00:00:00\", \"2015-04-18T00:00:00\", \"2015-04-25T00:00:00\", \"2015-05-02T00:00:00\", \"2015-05-09T00:00:00\", \"2015-05-16T00:00:00\", \"2015-05-23T00:00:00\", \"2015-05-30T00:00:00\", \"2015-06-06T00:00:00\", \"2015-06-13T00:00:00\", \"2015-06-20T00:00:00\", \"2015-06-27T00:00:00\", \"2015-07-04T00:00:00\", \"2015-07-11T00:00:00\", \"2015-07-18T00:00:00\", \"2015-07-25T00:00:00\", \"2015-08-01T00:00:00\", \"2015-08-08T00:00:00\", \"2015-08-15T00:00:00\", \"2015-08-22T00:00:00\", \"2015-08-29T00:00:00\", \"2015-09-05T00:00:00\", \"2015-09-12T00:00:00\", \"2015-09-19T00:00:00\", \"2015-09-26T00:00:00\", \"2015-10-03T00:00:00\", \"2015-10-10T00:00:00\", \"2015-10-17T00:00:00\", \"2015-10-24T00:00:00\", \"2015-10-31T00:00:00\", \"2015-11-07T00:00:00\", \"2015-11-14T00:00:00\", \"2015-11-21T00:00:00\", \"2015-11-28T00:00:00\", \"2015-12-05T00:00:00\", \"2015-12-12T00:00:00\", \"2015-12-19T00:00:00\", \"2015-12-26T00:00:00\", \"2016-01-02T00:00:00\", \"2016-01-09T00:00:00\", \"2016-01-16T00:00:00\", \"2016-01-23T00:00:00\", \"2016-01-30T00:00:00\", \"2016-02-06T00:00:00\", \"2016-02-13T00:00:00\", \"2016-02-20T00:00:00\", \"2016-02-27T00:00:00\", \"2016-03-05T00:00:00\", \"2016-03-12T00:00:00\", \"2016-03-19T00:00:00\", \"2016-03-26T00:00:00\", \"2016-04-02T00:00:00\", \"2016-04-09T00:00:00\", \"2016-04-16T00:00:00\", \"2016-04-23T00:00:00\", \"2016-04-30T00:00:00\", \"2016-05-07T00:00:00\", \"2016-05-14T00:00:00\", \"2016-05-21T00:00:00\"], \"xaxis\": \"x\", \"y\": [2156.746021434912, 1201.5202322281639, 397.31569723703615, -244.35166486391972, 91.25390615097058, -477.7751741067841, 654.0452302426202, 932.2607101674494, 1185.4551049764668, 544.484789305061, 623.4541806836096, 971.6033576515838, 266.2105596878391, 681.0305692113852, -258.1027164149582, -568.7017714806934, -810.3352611961654, -606.201720504956, -746.600969905603, -1275.6151632733909, -256.8734250158577, -783.8857861747383, -829.4456038516091, -910.0969033959245, -467.3072250316218, -1416.9973955337337, -630.332791883804, -1781.8440744100699, -2449.0795356714407, -1347.2608687335614, -1892.1826102898376, -2144.8115341353423, -1689.7021948563488, -534.1523642624015, 810.4295630017514, -107.94410877354676, 660.9741538097769, 1326.1597603053742, 2049.9677812244336, 1133.4726518046082, 867.9752464119047, 1107.3355391606492, 1468.989716198481, 2161.293171885405, 903.4454327698186, 994.4211572036511, 1108.0563302084229, 131.05710314906537, -329.0209594773187, 265.13666617853596, 438.5159859240666, 1293.6265686584375, -1650.2787599483418, 232.49525130452457, 588.0310675891524, 1184.2302754828343, 258.4723151467733, 1363.9664976491367, -15.51991619765613, -491.4298648967997, -950.6718746911974, 58.72630344058416, 36.480009380044066, -353.35440119733175, -81.56933399258924, -389.41868178403456, 1564.7617087342624, 1449.5542110721726, 1892.5356695942683, 1487.3381844142605, 1145.1586407826944, 2256.9502042490312, 1351.5828358787003, 1379.9181393712424, 95.00088835471615, 1781.1784100402438, 1523.5321846053957, 2463.7917001533096, 1351.0778328168526, 3053.5444503127364, 3609.5111464065085, 1921.1188608626326, 1261.3069094905622, 1524.1861619989213, 967.3116536573907, -45.484612613705394, -1115.6338347557248, 697.6288347972477, -1219.1384763552778, -1823.0160909741098, -2843.3171291663384, -1502.6417348312752, -1539.0430027786497, -1514.4907334041454, -998.328507881848, -2539.2306525035347, -1226.2637944311136, -1271.7344955469125, -695.4363804051754, 519.5505013618458, 395.53242865026186, 286.8352885794593, 57.52228841680699, -1414.345566017193, -1838.7191366594488, -2963.673857138492, -1105.74243131006, -444.9837331426643, 572.3372445795139, -52.662119844459085, -1025.94183754806, -739.7425636148764, -635.8696069915095, -737.3838340580878, -1550.7258561524031, -1505.0012955889797, 122.21462826297648, -673.7967895736474, -1885.3333409049774, -668.1184909389813, -529.1000912710588, -267.3407672028479, 773.809246494573, 61.72804786564666, -1184.6352654473521, 579.9281363388072, 3337.34709136542, -325.76496985754784, -1021.1819143740067, 103.00870410180141, -218.83559265707663, -127.98994926292289, 1003.3462565057453, 1128.9034154171677, 4272.760987093145, 4608.70407317792, 4215.304890305331, 2686.145772031836, 979.6321420809472, -204.5084748110712, 1442.6750678514945, 722.7823887985542, 441.8372544911763, 543.4202509553761, 1189.900551695202, 408.84582465517815, -1798.9271358535625, -944.3952094161759, 408.5399107906851, 248.65336993431993, -1277.5532385323604, -917.0753977945496, 930.7650138634381, -1044.388341659469, -952.7641789277222, -559.0572233660569, -874.0041018691372, -391.74921073011865, -1281.1431153804551, -1697.443894516222, -2296.1366440497295, -1960.9852109826315, 773.3657779258174, 29.180275385464483, 305.18865049431406, -262.28950201609405, 3198.9100796145212, 1623.3823624512988, 1186.6767638876809, 2363.4016159955645, 2045.1753855541392, 1663.3933508406808, -494.232137682091, 673.5741900788344, 328.56989564564356, 163.34582512984707, 362.40079766617055, -859.8343519271257, -343.3304369569669, 1503.4469012690242, 813.5503775181423, -391.88581795416394, 1047.7359424587812, 45.52326730246568, -1494.4043905404687, -1141.5892409809094, -1649.038304172438, -2379.3495196287986, -1454.4846713279912, -772.4348435830325, -1648.1198231273884, -844.541231506566, -606.4393673112718, -891.8784229702396, 286.20566790114026, -527.1207720281782, 769.3225940356169, 694.2421904999501, 686.9810875369621, 2235.8158985492046, 622.5535075539192, 452.33135042500726, 178.76084689846175, 464.83071504551117, -556.9914327456427, 1557.1253122784, 763.2653244378271, 1312.3416537445482, 386.4607390033307, 985.9876855517359, 1382.6992483327267, -994.7532016192235, -1097.5936562082388, -223.65185754758204, 188.28486401226837, 596.2391438529921, -416.569761320854, -653.7295283711246, -1930.0804840238052, -1019.20374690678, -1442.1049360685647, -1010.9568093507878, -820.7382182250185, -1553.1740276155178, -1637.145371331142, 3784.7633393864053, -512.1707284344302, -231.2325672201987, 90.7991626820658, 357.04258930309516, -826.1812173447761, -1006.3831098823975, -288.0616246476566, 121.84171677104678, -704.2250005331662, -142.23997642108588, 518.8769699452278, 331.6127635220473, -307.348053148733, 70.86047152972242, -409.02411695999035, -323.30249551936504, 900.6940536441107, 623.5466335914498, 31.507478578947484, 497.5419638944113, -167.29537227857145, 281.092745804126, -826.3802415628634, -522.8154234520625, 171.04985814146858, -1090.5183174054655, -496.1841574807331, -325.5639401257831, 326.3709656007195, -62.43047246286733, 45.88920738347588, -766.0165358006743, -235.31291195464655, -658.772014559112, 72.1259450419675, -417.1357730363379, -495.5658041177594, 1257.8628136588377, 1457.2496800630688, 789.4735753219829, -358.6402646603019, -420.2866452037015, 177.56670587843837, 545.3277595336804, 338.06913203578006, 214.35593271622201, 566.6605219984667, -79.73687278963916, -17.68134000297505, 547.3772778210259, 1309.118585730197, -2845.6932810513754], \"yaxis\": \"y\"}],\n",
              "                        {\"legend\": {\"tracegroupgap\": 0}, \"template\": {\"data\": {\"bar\": [{\"error_x\": {\"color\": \"#2a3f5f\"}, \"error_y\": {\"color\": \"#2a3f5f\"}, \"marker\": {\"line\": {\"color\": \"#E5ECF6\", \"width\": 0.5}}, \"type\": \"bar\"}], \"barpolar\": [{\"marker\": {\"line\": {\"color\": \"#E5ECF6\", \"width\": 0.5}}, \"type\": \"barpolar\"}], \"carpet\": [{\"aaxis\": {\"endlinecolor\": \"#2a3f5f\", \"gridcolor\": \"white\", \"linecolor\": \"white\", \"minorgridcolor\": \"white\", \"startlinecolor\": \"#2a3f5f\"}, \"baxis\": {\"endlinecolor\": \"#2a3f5f\", \"gridcolor\": \"white\", \"linecolor\": \"white\", \"minorgridcolor\": \"white\", \"startlinecolor\": \"#2a3f5f\"}, \"type\": \"carpet\"}], \"choropleth\": [{\"colorbar\": {\"outlinewidth\": 0, \"ticks\": \"\"}, \"type\": \"choropleth\"}], \"contour\": [{\"colorbar\": {\"outlinewidth\": 0, \"ticks\": \"\"}, \"colorscale\": [[0.0, \"#0d0887\"], [0.1111111111111111, \"#46039f\"], [0.2222222222222222, \"#7201a8\"], [0.3333333333333333, \"#9c179e\"], [0.4444444444444444, \"#bd3786\"], [0.5555555555555556, \"#d8576b\"], [0.6666666666666666, \"#ed7953\"], [0.7777777777777778, \"#fb9f3a\"], [0.8888888888888888, \"#fdca26\"], [1.0, \"#f0f921\"]], \"type\": \"contour\"}], \"contourcarpet\": [{\"colorbar\": {\"outlinewidth\": 0, \"ticks\": \"\"}, \"type\": \"contourcarpet\"}], \"heatmap\": [{\"colorbar\": {\"outlinewidth\": 0, \"ticks\": \"\"}, \"colorscale\": [[0.0, \"#0d0887\"], [0.1111111111111111, \"#46039f\"], [0.2222222222222222, \"#7201a8\"], [0.3333333333333333, \"#9c179e\"], [0.4444444444444444, \"#bd3786\"], [0.5555555555555556, \"#d8576b\"], [0.6666666666666666, \"#ed7953\"], [0.7777777777777778, \"#fb9f3a\"], [0.8888888888888888, \"#fdca26\"], [1.0, \"#f0f921\"]], \"type\": \"heatmap\"}], \"heatmapgl\": [{\"colorbar\": {\"outlinewidth\": 0, \"ticks\": \"\"}, \"colorscale\": [[0.0, \"#0d0887\"], [0.1111111111111111, \"#46039f\"], [0.2222222222222222, \"#7201a8\"], [0.3333333333333333, \"#9c179e\"], [0.4444444444444444, \"#bd3786\"], [0.5555555555555556, \"#d8576b\"], [0.6666666666666666, \"#ed7953\"], [0.7777777777777778, \"#fb9f3a\"], [0.8888888888888888, \"#fdca26\"], [1.0, \"#f0f921\"]], \"type\": \"heatmapgl\"}], \"histogram\": [{\"marker\": {\"colorbar\": {\"outlinewidth\": 0, \"ticks\": \"\"}}, \"type\": \"histogram\"}], \"histogram2d\": [{\"colorbar\": {\"outlinewidth\": 0, \"ticks\": \"\"}, \"colorscale\": [[0.0, \"#0d0887\"], [0.1111111111111111, \"#46039f\"], [0.2222222222222222, \"#7201a8\"], [0.3333333333333333, \"#9c179e\"], [0.4444444444444444, \"#bd3786\"], [0.5555555555555556, \"#d8576b\"], [0.6666666666666666, \"#ed7953\"], [0.7777777777777778, \"#fb9f3a\"], [0.8888888888888888, \"#fdca26\"], [1.0, \"#f0f921\"]], \"type\": \"histogram2d\"}], \"histogram2dcontour\": [{\"colorbar\": {\"outlinewidth\": 0, \"ticks\": \"\"}, \"colorscale\": [[0.0, \"#0d0887\"], [0.1111111111111111, \"#46039f\"], [0.2222222222222222, \"#7201a8\"], [0.3333333333333333, \"#9c179e\"], [0.4444444444444444, \"#bd3786\"], [0.5555555555555556, \"#d8576b\"], [0.6666666666666666, \"#ed7953\"], [0.7777777777777778, \"#fb9f3a\"], [0.8888888888888888, \"#fdca26\"], [1.0, \"#f0f921\"]], \"type\": \"histogram2dcontour\"}], \"mesh3d\": [{\"colorbar\": {\"outlinewidth\": 0, \"ticks\": \"\"}, \"type\": \"mesh3d\"}], \"parcoords\": [{\"line\": {\"colorbar\": {\"outlinewidth\": 0, \"ticks\": \"\"}}, \"type\": \"parcoords\"}], \"pie\": [{\"automargin\": true, \"type\": \"pie\"}], \"scatter\": [{\"marker\": {\"colorbar\": {\"outlinewidth\": 0, \"ticks\": \"\"}}, \"type\": \"scatter\"}], \"scatter3d\": [{\"line\": {\"colorbar\": {\"outlinewidth\": 0, \"ticks\": \"\"}}, \"marker\": {\"colorbar\": {\"outlinewidth\": 0, \"ticks\": \"\"}}, \"type\": \"scatter3d\"}], \"scattercarpet\": [{\"marker\": {\"colorbar\": {\"outlinewidth\": 0, \"ticks\": \"\"}}, \"type\": \"scattercarpet\"}], \"scattergeo\": [{\"marker\": {\"colorbar\": {\"outlinewidth\": 0, \"ticks\": \"\"}}, \"type\": \"scattergeo\"}], \"scattergl\": [{\"marker\": {\"colorbar\": {\"outlinewidth\": 0, \"ticks\": \"\"}}, \"type\": \"scattergl\"}], \"scattermapbox\": [{\"marker\": {\"colorbar\": {\"outlinewidth\": 0, \"ticks\": \"\"}}, \"type\": \"scattermapbox\"}], \"scatterpolar\": [{\"marker\": {\"colorbar\": {\"outlinewidth\": 0, \"ticks\": \"\"}}, \"type\": \"scatterpolar\"}], \"scatterpolargl\": [{\"marker\": {\"colorbar\": {\"outlinewidth\": 0, \"ticks\": \"\"}}, \"type\": \"scatterpolargl\"}], \"scatterternary\": [{\"marker\": {\"colorbar\": {\"outlinewidth\": 0, \"ticks\": \"\"}}, \"type\": \"scatterternary\"}], \"surface\": [{\"colorbar\": {\"outlinewidth\": 0, \"ticks\": \"\"}, \"colorscale\": [[0.0, \"#0d0887\"], [0.1111111111111111, \"#46039f\"], [0.2222222222222222, \"#7201a8\"], [0.3333333333333333, \"#9c179e\"], [0.4444444444444444, \"#bd3786\"], [0.5555555555555556, \"#d8576b\"], [0.6666666666666666, \"#ed7953\"], [0.7777777777777778, \"#fb9f3a\"], [0.8888888888888888, \"#fdca26\"], [1.0, \"#f0f921\"]], \"type\": \"surface\"}], \"table\": [{\"cells\": {\"fill\": {\"color\": \"#EBF0F8\"}, \"line\": {\"color\": \"white\"}}, \"header\": {\"fill\": {\"color\": \"#C8D4E3\"}, \"line\": {\"color\": \"white\"}}, \"type\": \"table\"}]}, \"layout\": {\"annotationdefaults\": {\"arrowcolor\": \"#2a3f5f\", \"arrowhead\": 0, \"arrowwidth\": 1}, \"coloraxis\": {\"colorbar\": {\"outlinewidth\": 0, \"ticks\": \"\"}}, \"colorscale\": {\"diverging\": [[0, \"#8e0152\"], [0.1, \"#c51b7d\"], [0.2, \"#de77ae\"], [0.3, \"#f1b6da\"], [0.4, \"#fde0ef\"], [0.5, \"#f7f7f7\"], [0.6, \"#e6f5d0\"], [0.7, \"#b8e186\"], [0.8, \"#7fbc41\"], [0.9, \"#4d9221\"], [1, \"#276419\"]], \"sequential\": [[0.0, \"#0d0887\"], [0.1111111111111111, \"#46039f\"], [0.2222222222222222, \"#7201a8\"], [0.3333333333333333, \"#9c179e\"], [0.4444444444444444, \"#bd3786\"], [0.5555555555555556, \"#d8576b\"], [0.6666666666666666, \"#ed7953\"], [0.7777777777777778, \"#fb9f3a\"], [0.8888888888888888, \"#fdca26\"], [1.0, \"#f0f921\"]], \"sequentialminus\": [[0.0, \"#0d0887\"], [0.1111111111111111, \"#46039f\"], [0.2222222222222222, \"#7201a8\"], [0.3333333333333333, \"#9c179e\"], [0.4444444444444444, \"#bd3786\"], [0.5555555555555556, \"#d8576b\"], [0.6666666666666666, \"#ed7953\"], [0.7777777777777778, \"#fb9f3a\"], [0.8888888888888888, \"#fdca26\"], [1.0, \"#f0f921\"]]}, \"colorway\": [\"#636efa\", \"#EF553B\", \"#00cc96\", \"#ab63fa\", \"#FFA15A\", \"#19d3f3\", \"#FF6692\", \"#B6E880\", \"#FF97FF\", \"#FECB52\"], \"font\": {\"color\": \"#2a3f5f\"}, \"geo\": {\"bgcolor\": \"white\", \"lakecolor\": \"white\", \"landcolor\": \"#E5ECF6\", \"showlakes\": true, \"showland\": true, \"subunitcolor\": \"white\"}, \"hoverlabel\": {\"align\": \"left\"}, \"hovermode\": \"closest\", \"mapbox\": {\"style\": \"light\"}, \"paper_bgcolor\": \"white\", \"plot_bgcolor\": \"#E5ECF6\", \"polar\": {\"angularaxis\": {\"gridcolor\": \"white\", \"linecolor\": \"white\", \"ticks\": \"\"}, \"bgcolor\": \"#E5ECF6\", \"radialaxis\": {\"gridcolor\": \"white\", \"linecolor\": \"white\", \"ticks\": \"\"}}, \"scene\": {\"xaxis\": {\"backgroundcolor\": \"#E5ECF6\", \"gridcolor\": \"white\", \"gridwidth\": 2, \"linecolor\": \"white\", \"showbackground\": true, \"ticks\": \"\", \"zerolinecolor\": \"white\"}, \"yaxis\": {\"backgroundcolor\": \"#E5ECF6\", \"gridcolor\": \"white\", \"gridwidth\": 2, \"linecolor\": \"white\", \"showbackground\": true, \"ticks\": \"\", \"zerolinecolor\": \"white\"}, \"zaxis\": {\"backgroundcolor\": \"#E5ECF6\", \"gridcolor\": \"white\", \"gridwidth\": 2, \"linecolor\": \"white\", \"showbackground\": true, \"ticks\": \"\", \"zerolinecolor\": \"white\"}}, \"shapedefaults\": {\"line\": {\"color\": \"#2a3f5f\"}}, \"ternary\": {\"aaxis\": {\"gridcolor\": \"white\", \"linecolor\": \"white\", \"ticks\": \"\"}, \"baxis\": {\"gridcolor\": \"white\", \"linecolor\": \"white\", \"ticks\": \"\"}, \"bgcolor\": \"#E5ECF6\", \"caxis\": {\"gridcolor\": \"white\", \"linecolor\": \"white\", \"ticks\": \"\"}}, \"title\": {\"x\": 0.05}, \"xaxis\": {\"automargin\": true, \"gridcolor\": \"white\", \"linecolor\": \"white\", \"ticks\": \"\", \"title\": {\"standoff\": 15}, \"zerolinecolor\": \"white\", \"zerolinewidth\": 2}, \"yaxis\": {\"automargin\": true, \"gridcolor\": \"white\", \"linecolor\": \"white\", \"ticks\": \"\", \"title\": {\"standoff\": 15}, \"zerolinecolor\": \"white\", \"zerolinewidth\": 2}}}, \"title\": {\"text\": \"California Seasonality and trend decomposition\"}, \"xaxis\": {\"anchor\": \"y\", \"domain\": [0.0, 1.0], \"title\": {\"text\": \"date\"}}, \"yaxis\": {\"anchor\": \"x\", \"domain\": [0.0, 1.0], \"title\": {\"text\": \"value\"}}},\n",
              "                        {\"responsive\": true}\n",
              "                    ).then(function(){\n",
              "                            \n",
              "var gd = document.getElementById('80e0faef-ba4e-414f-932a-2dcced0ddfac');\n",
              "var x = new MutationObserver(function (mutations, observer) {{\n",
              "        var display = window.getComputedStyle(gd).display;\n",
              "        if (!display || display === 'none') {{\n",
              "            console.log([gd, 'removed!']);\n",
              "            Plotly.purge(gd);\n",
              "            observer.disconnect();\n",
              "        }}\n",
              "}});\n",
              "\n",
              "// Listen for the removal of the full notebook cells\n",
              "var notebookContainer = gd.closest('#notebook-container');\n",
              "if (notebookContainer) {{\n",
              "    x.observe(notebookContainer, {childList: true});\n",
              "}}\n",
              "\n",
              "// Listen for the clearing of the current output cell\n",
              "var outputEl = gd.closest('.output');\n",
              "if (outputEl) {{\n",
              "    x.observe(outputEl, {childList: true});\n",
              "}}\n",
              "\n",
              "                        })\n",
              "                };\n",
              "                \n",
              "            </script>\n",
              "        </div>\n",
              "</body>\n",
              "</html>"
            ]
          },
          "metadata": {
            "tags": []
          }
        }
      ]
    },
    {
      "cell_type": "markdown",
      "metadata": {
        "id": "-dCbdAscT6SU"
      },
      "source": [
        "## **Seasonality and trend decomposition for Texas** "
      ]
    },
    {
      "cell_type": "code",
      "metadata": {
        "id": "L5EIvz_pNVEX",
        "colab": {
          "base_uri": "https://localhost:8080/",
          "height": 697
        },
        "outputId": "51d6748c-17cf-4c1f-882d-418e1dd622fb"
      },
      "source": [
        "subset_df = state_cat_agg[state_cat_agg['state_id']=='TX']\n",
        "subset_df['date'] = pd.to_datetime(                                                           \n",
        "            subset_df['date'],                                                                        \n",
        "            format = '%Y-%m-%d'                                                                     \n",
        "      )                     \n",
        "subset_df.index = subset_df['date']\n",
        "res = STL(subset_df['volume']).fit()\n",
        "#creating the dataframe for the graph plotting\n",
        "graph_df = res.trend.reset_index()\n",
        "graph_df = pd.merge(graph_df, res.seasonal.reset_index(), on='date', how='left') \n",
        "graph_df = pd.merge(graph_df, res.resid.reset_index(), on='date', how='left')\n",
        "graph_df = pd.melt(graph_df, id_vars='date')\n",
        "\n",
        "#plotting the graph\n",
        "fig = px.line(graph_df, x=\"date\", y=\"value\", color=\"variable\",\n",
        "              line_group=\"variable\", hover_name=\"variable\", title='Texas Seasonality and trend decomposition')\n",
        "fig.show()"
      ],
      "execution_count": null,
      "outputs": [
        {
          "output_type": "stream",
          "text": [
            "/usr/local/lib/python3.6/dist-packages/ipykernel_launcher.py:4: SettingWithCopyWarning:\n",
            "\n",
            "\n",
            "A value is trying to be set on a copy of a slice from a DataFrame.\n",
            "Try using .loc[row_indexer,col_indexer] = value instead\n",
            "\n",
            "See the caveats in the documentation: https://pandas.pydata.org/pandas-docs/stable/user_guide/indexing.html#returning-a-view-versus-a-copy\n",
            "\n"
          ],
          "name": "stderr"
        },
        {
          "output_type": "display_data",
          "data": {
            "text/html": [
              "<html>\n",
              "<head><meta charset=\"utf-8\" /></head>\n",
              "<body>\n",
              "    <div>\n",
              "            <script src=\"https://cdnjs.cloudflare.com/ajax/libs/mathjax/2.7.5/MathJax.js?config=TeX-AMS-MML_SVG\"></script><script type=\"text/javascript\">if (window.MathJax) {MathJax.Hub.Config({SVG: {font: \"STIX-Web\"}});}</script>\n",
              "                <script type=\"text/javascript\">window.PlotlyConfig = {MathJaxConfig: 'local'};</script>\n",
              "        <script src=\"https://cdn.plot.ly/plotly-latest.min.js\"></script>    \n",
              "            <div id=\"f87fdb57-fe29-4583-b9ef-25b4eb7dafa0\" class=\"plotly-graph-div\" style=\"height:525px; width:100%;\"></div>\n",
              "            <script type=\"text/javascript\">\n",
              "                \n",
              "                    window.PLOTLYENV=window.PLOTLYENV || {};\n",
              "                    \n",
              "                if (document.getElementById(\"f87fdb57-fe29-4583-b9ef-25b4eb7dafa0\")) {\n",
              "                    Plotly.newPlot(\n",
              "                        'f87fdb57-fe29-4583-b9ef-25b4eb7dafa0',\n",
              "                        [{\"hoverlabel\": {\"namelength\": 0}, \"hovertemplate\": \"<b>%{hovertext}</b><br><br>variable=trend<br>date=%{x}<br>value=%{y}\", \"hovertext\": [\"trend\", \"trend\", \"trend\", \"trend\", \"trend\", \"trend\", \"trend\", \"trend\", \"trend\", \"trend\", \"trend\", \"trend\", \"trend\", \"trend\", \"trend\", \"trend\", \"trend\", \"trend\", \"trend\", \"trend\", \"trend\", \"trend\", \"trend\", \"trend\", \"trend\", \"trend\", \"trend\", \"trend\", \"trend\", \"trend\", \"trend\", \"trend\", \"trend\", \"trend\", \"trend\", \"trend\", \"trend\", \"trend\", \"trend\", \"trend\", \"trend\", \"trend\", \"trend\", \"trend\", \"trend\", \"trend\", \"trend\", \"trend\", \"trend\", \"trend\", \"trend\", \"trend\", \"trend\", \"trend\", \"trend\", \"trend\", \"trend\", \"trend\", \"trend\", \"trend\", \"trend\", \"trend\", \"trend\", \"trend\", \"trend\", \"trend\", \"trend\", \"trend\", \"trend\", \"trend\", \"trend\", \"trend\", \"trend\", \"trend\", \"trend\", \"trend\", \"trend\", \"trend\", \"trend\", \"trend\", \"trend\", \"trend\", \"trend\", \"trend\", \"trend\", \"trend\", \"trend\", \"trend\", \"trend\", \"trend\", \"trend\", \"trend\", \"trend\", \"trend\", \"trend\", \"trend\", \"trend\", \"trend\", \"trend\", \"trend\", \"trend\", \"trend\", \"trend\", \"trend\", \"trend\", \"trend\", \"trend\", \"trend\", \"trend\", \"trend\", \"trend\", \"trend\", \"trend\", \"trend\", \"trend\", \"trend\", \"trend\", \"trend\", \"trend\", \"trend\", \"trend\", \"trend\", \"trend\", \"trend\", \"trend\", \"trend\", \"trend\", \"trend\", \"trend\", \"trend\", \"trend\", \"trend\", \"trend\", \"trend\", \"trend\", \"trend\", \"trend\", \"trend\", \"trend\", \"trend\", \"trend\", \"trend\", \"trend\", \"trend\", \"trend\", \"trend\", \"trend\", \"trend\", \"trend\", \"trend\", \"trend\", \"trend\", \"trend\", \"trend\", \"trend\", \"trend\", \"trend\", \"trend\", \"trend\", \"trend\", \"trend\", \"trend\", \"trend\", \"trend\", \"trend\", \"trend\", \"trend\", \"trend\", \"trend\", \"trend\", \"trend\", \"trend\", \"trend\", \"trend\", \"trend\", \"trend\", \"trend\", \"trend\", \"trend\", \"trend\", \"trend\", \"trend\", \"trend\", \"trend\", \"trend\", \"trend\", \"trend\", \"trend\", \"trend\", \"trend\", \"trend\", \"trend\", \"trend\", \"trend\", \"trend\", \"trend\", \"trend\", \"trend\", \"trend\", \"trend\", \"trend\", \"trend\", \"trend\", \"trend\", \"trend\", \"trend\", \"trend\", \"trend\", \"trend\", \"trend\", \"trend\", \"trend\", \"trend\", \"trend\", \"trend\", \"trend\", \"trend\", \"trend\", \"trend\", \"trend\", \"trend\", \"trend\", \"trend\", \"trend\", \"trend\", \"trend\", \"trend\", \"trend\", \"trend\", \"trend\", \"trend\", \"trend\", \"trend\", \"trend\", \"trend\", \"trend\", \"trend\", \"trend\", \"trend\", \"trend\", \"trend\", \"trend\", \"trend\", \"trend\", \"trend\", \"trend\", \"trend\", \"trend\", \"trend\", \"trend\", \"trend\", \"trend\", \"trend\", \"trend\", \"trend\", \"trend\", \"trend\", \"trend\", \"trend\", \"trend\", \"trend\", \"trend\", \"trend\", \"trend\", \"trend\", \"trend\", \"trend\", \"trend\", \"trend\", \"trend\", \"trend\", \"trend\", \"trend\", \"trend\", \"trend\", \"trend\", \"trend\", \"trend\"], \"legendgroup\": \"variable=trend\", \"line\": {\"color\": \"#636efa\", \"dash\": \"solid\"}, \"mode\": \"lines\", \"name\": \"variable=trend\", \"showlegend\": true, \"type\": \"scatter\", \"x\": [\"2011-01-29T00:00:00\", \"2011-02-05T00:00:00\", \"2011-02-12T00:00:00\", \"2011-02-19T00:00:00\", \"2011-02-26T00:00:00\", \"2011-03-05T00:00:00\", \"2011-03-12T00:00:00\", \"2011-03-19T00:00:00\", \"2011-03-26T00:00:00\", \"2011-04-02T00:00:00\", \"2011-04-09T00:00:00\", \"2011-04-16T00:00:00\", \"2011-04-23T00:00:00\", \"2011-04-30T00:00:00\", \"2011-05-07T00:00:00\", \"2011-05-14T00:00:00\", \"2011-05-21T00:00:00\", \"2011-05-28T00:00:00\", \"2011-06-04T00:00:00\", \"2011-06-11T00:00:00\", \"2011-06-18T00:00:00\", \"2011-06-25T00:00:00\", \"2011-07-02T00:00:00\", \"2011-07-09T00:00:00\", \"2011-07-16T00:00:00\", \"2011-07-23T00:00:00\", \"2011-07-30T00:00:00\", \"2011-08-06T00:00:00\", \"2011-08-13T00:00:00\", \"2011-08-20T00:00:00\", \"2011-08-27T00:00:00\", \"2011-09-03T00:00:00\", \"2011-09-10T00:00:00\", \"2011-09-17T00:00:00\", \"2011-09-24T00:00:00\", \"2011-10-01T00:00:00\", \"2011-10-08T00:00:00\", \"2011-10-15T00:00:00\", \"2011-10-22T00:00:00\", \"2011-10-29T00:00:00\", \"2011-11-05T00:00:00\", \"2011-11-12T00:00:00\", \"2011-11-19T00:00:00\", \"2011-11-26T00:00:00\", \"2011-12-03T00:00:00\", \"2011-12-10T00:00:00\", \"2011-12-17T00:00:00\", \"2011-12-24T00:00:00\", \"2011-12-31T00:00:00\", \"2012-01-07T00:00:00\", \"2012-01-14T00:00:00\", \"2012-01-21T00:00:00\", \"2012-01-28T00:00:00\", \"2012-02-04T00:00:00\", \"2012-02-11T00:00:00\", \"2012-02-18T00:00:00\", \"2012-02-25T00:00:00\", \"2012-03-03T00:00:00\", \"2012-03-10T00:00:00\", \"2012-03-17T00:00:00\", \"2012-03-24T00:00:00\", \"2012-03-31T00:00:00\", \"2012-04-07T00:00:00\", \"2012-04-14T00:00:00\", \"2012-04-21T00:00:00\", \"2012-04-28T00:00:00\", \"2012-05-05T00:00:00\", \"2012-05-12T00:00:00\", \"2012-05-19T00:00:00\", \"2012-05-26T00:00:00\", \"2012-06-02T00:00:00\", \"2012-06-09T00:00:00\", \"2012-06-16T00:00:00\", \"2012-06-23T00:00:00\", \"2012-06-30T00:00:00\", \"2012-07-07T00:00:00\", \"2012-07-14T00:00:00\", \"2012-07-21T00:00:00\", \"2012-07-28T00:00:00\", \"2012-08-04T00:00:00\", \"2012-08-11T00:00:00\", \"2012-08-18T00:00:00\", \"2012-08-25T00:00:00\", \"2012-09-01T00:00:00\", \"2012-09-08T00:00:00\", \"2012-09-15T00:00:00\", \"2012-09-22T00:00:00\", \"2012-09-29T00:00:00\", \"2012-10-06T00:00:00\", \"2012-10-13T00:00:00\", \"2012-10-20T00:00:00\", \"2012-10-27T00:00:00\", \"2012-11-03T00:00:00\", \"2012-11-10T00:00:00\", \"2012-11-17T00:00:00\", \"2012-11-24T00:00:00\", \"2012-12-01T00:00:00\", \"2012-12-08T00:00:00\", \"2012-12-15T00:00:00\", \"2012-12-22T00:00:00\", \"2012-12-29T00:00:00\", \"2013-01-05T00:00:00\", \"2013-01-12T00:00:00\", \"2013-01-19T00:00:00\", \"2013-01-26T00:00:00\", \"2013-02-02T00:00:00\", \"2013-02-09T00:00:00\", \"2013-02-16T00:00:00\", \"2013-02-23T00:00:00\", \"2013-03-02T00:00:00\", \"2013-03-09T00:00:00\", \"2013-03-16T00:00:00\", \"2013-03-23T00:00:00\", \"2013-03-30T00:00:00\", \"2013-04-06T00:00:00\", \"2013-04-13T00:00:00\", \"2013-04-20T00:00:00\", \"2013-04-27T00:00:00\", \"2013-05-04T00:00:00\", \"2013-05-11T00:00:00\", \"2013-05-18T00:00:00\", \"2013-05-25T00:00:00\", \"2013-06-01T00:00:00\", \"2013-06-08T00:00:00\", \"2013-06-15T00:00:00\", \"2013-06-22T00:00:00\", \"2013-06-29T00:00:00\", \"2013-07-06T00:00:00\", \"2013-07-13T00:00:00\", \"2013-07-20T00:00:00\", \"2013-07-27T00:00:00\", \"2013-08-03T00:00:00\", \"2013-08-10T00:00:00\", \"2013-08-17T00:00:00\", \"2013-08-24T00:00:00\", \"2013-08-31T00:00:00\", \"2013-09-07T00:00:00\", \"2013-09-14T00:00:00\", \"2013-09-21T00:00:00\", \"2013-09-28T00:00:00\", \"2013-10-05T00:00:00\", \"2013-10-12T00:00:00\", \"2013-10-19T00:00:00\", \"2013-10-26T00:00:00\", \"2013-11-02T00:00:00\", \"2013-11-09T00:00:00\", \"2013-11-16T00:00:00\", \"2013-11-23T00:00:00\", \"2013-11-30T00:00:00\", \"2013-12-07T00:00:00\", \"2013-12-14T00:00:00\", \"2013-12-21T00:00:00\", \"2013-12-28T00:00:00\", \"2014-01-04T00:00:00\", \"2014-01-11T00:00:00\", \"2014-01-18T00:00:00\", \"2014-01-25T00:00:00\", \"2014-02-01T00:00:00\", \"2014-02-08T00:00:00\", \"2014-02-15T00:00:00\", \"2014-02-22T00:00:00\", \"2014-03-01T00:00:00\", \"2014-03-08T00:00:00\", \"2014-03-15T00:00:00\", \"2014-03-22T00:00:00\", \"2014-03-29T00:00:00\", \"2014-04-05T00:00:00\", \"2014-04-12T00:00:00\", \"2014-04-19T00:00:00\", \"2014-04-26T00:00:00\", \"2014-05-03T00:00:00\", \"2014-05-10T00:00:00\", \"2014-05-17T00:00:00\", \"2014-05-24T00:00:00\", \"2014-05-31T00:00:00\", \"2014-06-07T00:00:00\", \"2014-06-14T00:00:00\", \"2014-06-21T00:00:00\", \"2014-06-28T00:00:00\", \"2014-07-05T00:00:00\", \"2014-07-12T00:00:00\", \"2014-07-19T00:00:00\", \"2014-07-26T00:00:00\", \"2014-08-02T00:00:00\", \"2014-08-09T00:00:00\", \"2014-08-16T00:00:00\", \"2014-08-23T00:00:00\", \"2014-08-30T00:00:00\", \"2014-09-06T00:00:00\", \"2014-09-13T00:00:00\", \"2014-09-20T00:00:00\", \"2014-09-27T00:00:00\", \"2014-10-04T00:00:00\", \"2014-10-11T00:00:00\", \"2014-10-18T00:00:00\", \"2014-10-25T00:00:00\", \"2014-11-01T00:00:00\", \"2014-11-08T00:00:00\", \"2014-11-15T00:00:00\", \"2014-11-22T00:00:00\", \"2014-11-29T00:00:00\", \"2014-12-06T00:00:00\", \"2014-12-13T00:00:00\", \"2014-12-20T00:00:00\", \"2014-12-27T00:00:00\", \"2015-01-03T00:00:00\", \"2015-01-10T00:00:00\", \"2015-01-17T00:00:00\", \"2015-01-24T00:00:00\", \"2015-01-31T00:00:00\", \"2015-02-07T00:00:00\", \"2015-02-14T00:00:00\", \"2015-02-21T00:00:00\", \"2015-02-28T00:00:00\", \"2015-03-07T00:00:00\", \"2015-03-14T00:00:00\", \"2015-03-21T00:00:00\", \"2015-03-28T00:00:00\", \"2015-04-04T00:00:00\", \"2015-04-11T00:00:00\", \"2015-04-18T00:00:00\", \"2015-04-25T00:00:00\", \"2015-05-02T00:00:00\", \"2015-05-09T00:00:00\", \"2015-05-16T00:00:00\", \"2015-05-23T00:00:00\", \"2015-05-30T00:00:00\", \"2015-06-06T00:00:00\", \"2015-06-13T00:00:00\", \"2015-06-20T00:00:00\", \"2015-06-27T00:00:00\", \"2015-07-04T00:00:00\", \"2015-07-11T00:00:00\", \"2015-07-18T00:00:00\", \"2015-07-25T00:00:00\", \"2015-08-01T00:00:00\", \"2015-08-08T00:00:00\", \"2015-08-15T00:00:00\", \"2015-08-22T00:00:00\", \"2015-08-29T00:00:00\", \"2015-09-05T00:00:00\", \"2015-09-12T00:00:00\", \"2015-09-19T00:00:00\", \"2015-09-26T00:00:00\", \"2015-10-03T00:00:00\", \"2015-10-10T00:00:00\", \"2015-10-17T00:00:00\", \"2015-10-24T00:00:00\", \"2015-10-31T00:00:00\", \"2015-11-07T00:00:00\", \"2015-11-14T00:00:00\", \"2015-11-21T00:00:00\", \"2015-11-28T00:00:00\", \"2015-12-05T00:00:00\", \"2015-12-12T00:00:00\", \"2015-12-19T00:00:00\", \"2015-12-26T00:00:00\", \"2016-01-02T00:00:00\", \"2016-01-09T00:00:00\", \"2016-01-16T00:00:00\", \"2016-01-23T00:00:00\", \"2016-01-30T00:00:00\", \"2016-02-06T00:00:00\", \"2016-02-13T00:00:00\", \"2016-02-20T00:00:00\", \"2016-02-27T00:00:00\", \"2016-03-05T00:00:00\", \"2016-03-12T00:00:00\", \"2016-03-19T00:00:00\", \"2016-03-26T00:00:00\", \"2016-04-02T00:00:00\", \"2016-04-09T00:00:00\", \"2016-04-16T00:00:00\", \"2016-04-23T00:00:00\", \"2016-04-30T00:00:00\", \"2016-05-07T00:00:00\", \"2016-05-14T00:00:00\", \"2016-05-21T00:00:00\"], \"xaxis\": \"x\", \"y\": [10089.744664235297, 10195.665197119184, 10301.611791351774, 10407.576401156157, 10513.54752131198, 10619.510567967704, 10725.449603444718, 10831.349664962385, 10937.198280662295, 11042.983626917367, 11148.694951211364, 11254.323620087713, 11359.861931321726, 11465.300118501578, 11570.625856326678, 11675.825723402359, 11780.887337647691, 11885.800892173285, 11990.559608669102, 12095.160336118588, 12199.603246694809, 12303.891893274513, 12408.032845967406, 12512.036077771136, 12615.914252338096, 12719.681338210781, 12823.354360490332, 12926.954997640505, 13030.510202664185, 13134.053671253478, 13237.627218475818, 13341.282661820213, 13445.08853452, 13549.137835745865, 13653.549626100808, 13758.473276515224, 13864.083695865827, 13970.554841804977, 14077.991800200163, 14186.293489309932, 14286.778521453665, 14385.510883006222, 14482.141587637687, 14576.350930720653, 14667.835177033776, 14756.30459304323, 14841.48088213584, 14923.040411536815, 15000.671488958022, 15074.079012836542, 15142.955245641368, 15206.988601124765, 15265.928654086329, 15319.630109029693, 15368.06761990113, 15411.30883919579, 15449.49008782067, 15482.832898962948, 15511.571635858265, 15535.944283089433, 15556.171157551935, 15572.496680796365, 15585.200019484384, 15594.52818695055, 15600.719100663617, 15604.014717327229, 15604.652026785994, 15602.83642304125, 15598.744000765973, 15592.54304729728, 15584.405658708883, 15574.464577454548, 15562.767824121065, 15549.283745534269, 15533.924346929072, 15516.579292495353, 15497.117657019791, 15475.393491971921, 15451.258685219722, 15424.568493705783, 15395.190158920672, 15363.026002855324, 15328.054324744999, 15290.353510760846, 15250.109549517512, 15207.572696979989, 15163.044181281964, 15116.881627316541, 15069.47441478938, 15021.253509760703, 14972.655077490173, 14924.104236768033, 14876.03449237236, 14828.8771580151, 14783.067465877442, 14738.988202722232, 14696.976194849141, 14657.412306912234, 14620.755333794905, 14587.513538061383, 14558.131425543132, 14532.921032329272, 14512.0782844551, 14495.705482753008, 14483.763679349218, 14476.05999064374, 14472.285464381148, 14472.057316893615, 14474.939288329368, 14480.399270124502, 14487.888452391704, 14496.931725033473, 14507.120822909186, 14518.031215835807, 14529.246316958903, 14540.42220320006, 14551.227498543409, 14561.357783204117, 14570.537681166461, 14578.536153821115, 14585.162676953028, 14590.25418387332, 14593.690439905504, 14595.404073283788, 14595.396548518305, 14593.723904647095, 14590.484534438867, 14585.815802946, 14579.88716078515, 14572.909947506052, 14565.173759486432, 14557.009776718574, 14548.731583239642, 14540.601474643643, 14532.801826321034, 14525.469252723675, 14518.66567223349, 14512.371682935913, 14506.487912018738, 14500.867934971402, 14495.363065676593, 14489.829021035368, 14484.122752501033, 14478.090729149168, 14471.546199245564, 14464.270277087171, 14455.99868572123, 14446.46375645119, 14435.479009853201, 14422.9359907507, 14408.772145923678, 14392.953663679313, 14375.486211265936, 14356.451481315726, 14335.997783751991, 14314.317482638264, 14291.608849680373, 14268.054601918158, 14243.83037622807, 14219.119325375688, 14194.12491305142, 14169.090629680048, 14144.325898369443, 14120.154113473589, 14096.883165684692, 14074.840671360791, 14054.371841309836, 14035.829653946572, 14019.547102316395, 14005.745422645385, 13994.54890944254, 13985.989818636921, 13980.00622434576, 13976.407408918078, 13974.838758948918, 13974.887505536972, 13976.199926108931, 13978.49950676719, 13981.594042401704, 13985.334290837305, 13989.567124263565, 13994.13090329752, 13998.86309592549, 14003.632697436313, 14008.34199471405, 14012.91988671125, 14017.287925926516, 14021.28505576888, 14024.790585115756, 14027.72891724018, 14030.052554533026, 14031.689284649534, 14032.55520019497, 14032.619719707503, 14031.901174041379, 14030.477139729486, 14028.47558742304, 14026.06306052802, 14023.437718907195, 14020.782447740867, 14018.23713068132, 14015.867657357494, 14013.669010706062, 14011.607012445302, 14009.61671766497, 14007.600149923761, 14005.4232589297, 14002.927399035403, 14000.026511059246, 13996.726906640317, 13993.07658669356, 13989.128878112459, 13984.924732789283, 13980.50647966917, 13975.90919083342, 13971.164754028445, 13966.31413037583, 13961.397870169007, 13956.430823100014, 13951.428163482764, 13946.423537332517, 13941.493336582229, 13936.709346722155, 13932.150135183167, 13927.87091414114, 13923.908772636854, 13920.355185151431, 13917.325827432074, 13914.940849044588, 13913.31908108716, 13912.537980487637, 13912.629372185154, 13913.614976915707, 13915.517608416194, 13918.317930878795, 13921.923560996953, 13926.212490584874, 13931.063999496715, 13936.374769203734, 13946.432961856704, 13955.788458317831, 13964.277161879472, 13971.96094768193, 13978.980365172432, 13985.482558808444, 13991.597344015656, 13997.432477163016, 14003.073262910126, 14008.58579013246, 14014.022890388815, 14019.427758206888, 14024.835113224695, 14030.271519269927, 14035.759360080978, 14041.317327566972, 14046.96064949431, 14052.701284051816, 14058.548474192105, 14064.510041059113, 14070.59343761537, 14076.80409482143, 14083.145938386491, 14089.621584484334, 14096.23247776657, 14102.978260171612, 14109.854523341244, 14116.852720181818, 14123.961712555867, 14131.168734819708, 14138.460128670056, 14145.820946341732, 14153.235880481965, 14160.689988338727, 14168.169968587616, 14175.665387844596, 14183.167965118024, 14190.670286611314, 14198.163461753229], \"yaxis\": \"y\"}, {\"hoverlabel\": {\"namelength\": 0}, \"hovertemplate\": \"<b>%{hovertext}</b><br><br>variable=season<br>date=%{x}<br>value=%{y}\", \"hovertext\": [\"season\", \"season\", \"season\", \"season\", \"season\", \"season\", \"season\", \"season\", \"season\", \"season\", \"season\", \"season\", \"season\", \"season\", \"season\", \"season\", \"season\", \"season\", \"season\", \"season\", \"season\", \"season\", \"season\", \"season\", \"season\", \"season\", \"season\", \"season\", \"season\", \"season\", \"season\", \"season\", \"season\", \"season\", \"season\", \"season\", \"season\", \"season\", \"season\", \"season\", \"season\", \"season\", \"season\", \"season\", \"season\", \"season\", \"season\", \"season\", \"season\", \"season\", \"season\", \"season\", \"season\", \"season\", \"season\", \"season\", \"season\", \"season\", \"season\", \"season\", \"season\", \"season\", \"season\", \"season\", \"season\", \"season\", \"season\", \"season\", \"season\", \"season\", \"season\", \"season\", \"season\", \"season\", \"season\", \"season\", \"season\", \"season\", \"season\", \"season\", \"season\", \"season\", \"season\", \"season\", \"season\", \"season\", \"season\", \"season\", \"season\", \"season\", \"season\", \"season\", \"season\", \"season\", \"season\", \"season\", \"season\", \"season\", \"season\", \"season\", \"season\", \"season\", \"season\", \"season\", \"season\", \"season\", \"season\", \"season\", \"season\", \"season\", \"season\", \"season\", \"season\", \"season\", \"season\", \"season\", \"season\", \"season\", \"season\", \"season\", \"season\", \"season\", \"season\", \"season\", \"season\", \"season\", \"season\", \"season\", \"season\", \"season\", \"season\", \"season\", \"season\", \"season\", \"season\", \"season\", \"season\", \"season\", \"season\", \"season\", \"season\", \"season\", \"season\", \"season\", \"season\", \"season\", \"season\", \"season\", \"season\", \"season\", \"season\", \"season\", \"season\", \"season\", \"season\", \"season\", \"season\", \"season\", \"season\", \"season\", \"season\", \"season\", \"season\", \"season\", \"season\", \"season\", \"season\", \"season\", \"season\", \"season\", \"season\", \"season\", \"season\", \"season\", \"season\", \"season\", \"season\", \"season\", \"season\", \"season\", \"season\", \"season\", \"season\", \"season\", \"season\", \"season\", \"season\", \"season\", \"season\", \"season\", \"season\", \"season\", \"season\", \"season\", \"season\", \"season\", \"season\", \"season\", \"season\", \"season\", \"season\", \"season\", \"season\", \"season\", \"season\", \"season\", \"season\", \"season\", \"season\", \"season\", \"season\", \"season\", \"season\", \"season\", \"season\", \"season\", \"season\", \"season\", \"season\", \"season\", \"season\", \"season\", \"season\", \"season\", \"season\", \"season\", \"season\", \"season\", \"season\", \"season\", \"season\", \"season\", \"season\", \"season\", \"season\", \"season\", \"season\", \"season\", \"season\", \"season\", \"season\", \"season\", \"season\", \"season\", \"season\", \"season\", \"season\", \"season\", \"season\", \"season\", \"season\", \"season\", \"season\", \"season\", \"season\", \"season\", \"season\", \"season\", \"season\", \"season\", \"season\", \"season\", \"season\", \"season\", \"season\", \"season\", \"season\", \"season\", \"season\", \"season\", \"season\", \"season\", \"season\", \"season\", \"season\", \"season\", \"season\", \"season\"], \"legendgroup\": \"variable=season\", \"line\": {\"color\": \"#EF553B\", \"dash\": \"solid\"}, \"mode\": \"lines\", \"name\": \"variable=season\", \"showlegend\": true, \"type\": \"scatter\", \"x\": [\"2011-01-29T00:00:00\", \"2011-02-05T00:00:00\", \"2011-02-12T00:00:00\", \"2011-02-19T00:00:00\", \"2011-02-26T00:00:00\", \"2011-03-05T00:00:00\", \"2011-03-12T00:00:00\", \"2011-03-19T00:00:00\", \"2011-03-26T00:00:00\", \"2011-04-02T00:00:00\", \"2011-04-09T00:00:00\", \"2011-04-16T00:00:00\", \"2011-04-23T00:00:00\", \"2011-04-30T00:00:00\", \"2011-05-07T00:00:00\", \"2011-05-14T00:00:00\", \"2011-05-21T00:00:00\", \"2011-05-28T00:00:00\", \"2011-06-04T00:00:00\", \"2011-06-11T00:00:00\", \"2011-06-18T00:00:00\", \"2011-06-25T00:00:00\", \"2011-07-02T00:00:00\", \"2011-07-09T00:00:00\", \"2011-07-16T00:00:00\", \"2011-07-23T00:00:00\", \"2011-07-30T00:00:00\", \"2011-08-06T00:00:00\", \"2011-08-13T00:00:00\", \"2011-08-20T00:00:00\", \"2011-08-27T00:00:00\", \"2011-09-03T00:00:00\", \"2011-09-10T00:00:00\", \"2011-09-17T00:00:00\", \"2011-09-24T00:00:00\", \"2011-10-01T00:00:00\", \"2011-10-08T00:00:00\", \"2011-10-15T00:00:00\", \"2011-10-22T00:00:00\", \"2011-10-29T00:00:00\", \"2011-11-05T00:00:00\", \"2011-11-12T00:00:00\", \"2011-11-19T00:00:00\", \"2011-11-26T00:00:00\", \"2011-12-03T00:00:00\", \"2011-12-10T00:00:00\", \"2011-12-17T00:00:00\", \"2011-12-24T00:00:00\", \"2011-12-31T00:00:00\", \"2012-01-07T00:00:00\", \"2012-01-14T00:00:00\", \"2012-01-21T00:00:00\", \"2012-01-28T00:00:00\", \"2012-02-04T00:00:00\", \"2012-02-11T00:00:00\", \"2012-02-18T00:00:00\", \"2012-02-25T00:00:00\", \"2012-03-03T00:00:00\", \"2012-03-10T00:00:00\", \"2012-03-17T00:00:00\", \"2012-03-24T00:00:00\", \"2012-03-31T00:00:00\", \"2012-04-07T00:00:00\", \"2012-04-14T00:00:00\", \"2012-04-21T00:00:00\", \"2012-04-28T00:00:00\", \"2012-05-05T00:00:00\", \"2012-05-12T00:00:00\", \"2012-05-19T00:00:00\", \"2012-05-26T00:00:00\", \"2012-06-02T00:00:00\", \"2012-06-09T00:00:00\", \"2012-06-16T00:00:00\", \"2012-06-23T00:00:00\", \"2012-06-30T00:00:00\", \"2012-07-07T00:00:00\", \"2012-07-14T00:00:00\", \"2012-07-21T00:00:00\", \"2012-07-28T00:00:00\", \"2012-08-04T00:00:00\", \"2012-08-11T00:00:00\", \"2012-08-18T00:00:00\", \"2012-08-25T00:00:00\", \"2012-09-01T00:00:00\", \"2012-09-08T00:00:00\", \"2012-09-15T00:00:00\", \"2012-09-22T00:00:00\", \"2012-09-29T00:00:00\", \"2012-10-06T00:00:00\", \"2012-10-13T00:00:00\", \"2012-10-20T00:00:00\", \"2012-10-27T00:00:00\", \"2012-11-03T00:00:00\", \"2012-11-10T00:00:00\", \"2012-11-17T00:00:00\", \"2012-11-24T00:00:00\", \"2012-12-01T00:00:00\", \"2012-12-08T00:00:00\", \"2012-12-15T00:00:00\", \"2012-12-22T00:00:00\", \"2012-12-29T00:00:00\", \"2013-01-05T00:00:00\", \"2013-01-12T00:00:00\", \"2013-01-19T00:00:00\", \"2013-01-26T00:00:00\", \"2013-02-02T00:00:00\", \"2013-02-09T00:00:00\", \"2013-02-16T00:00:00\", \"2013-02-23T00:00:00\", \"2013-03-02T00:00:00\", \"2013-03-09T00:00:00\", \"2013-03-16T00:00:00\", \"2013-03-23T00:00:00\", \"2013-03-30T00:00:00\", \"2013-04-06T00:00:00\", \"2013-04-13T00:00:00\", \"2013-04-20T00:00:00\", \"2013-04-27T00:00:00\", \"2013-05-04T00:00:00\", \"2013-05-11T00:00:00\", \"2013-05-18T00:00:00\", \"2013-05-25T00:00:00\", \"2013-06-01T00:00:00\", \"2013-06-08T00:00:00\", \"2013-06-15T00:00:00\", \"2013-06-22T00:00:00\", \"2013-06-29T00:00:00\", \"2013-07-06T00:00:00\", \"2013-07-13T00:00:00\", \"2013-07-20T00:00:00\", \"2013-07-27T00:00:00\", \"2013-08-03T00:00:00\", \"2013-08-10T00:00:00\", \"2013-08-17T00:00:00\", \"2013-08-24T00:00:00\", \"2013-08-31T00:00:00\", \"2013-09-07T00:00:00\", \"2013-09-14T00:00:00\", \"2013-09-21T00:00:00\", \"2013-09-28T00:00:00\", \"2013-10-05T00:00:00\", \"2013-10-12T00:00:00\", \"2013-10-19T00:00:00\", \"2013-10-26T00:00:00\", \"2013-11-02T00:00:00\", \"2013-11-09T00:00:00\", \"2013-11-16T00:00:00\", \"2013-11-23T00:00:00\", \"2013-11-30T00:00:00\", \"2013-12-07T00:00:00\", \"2013-12-14T00:00:00\", \"2013-12-21T00:00:00\", \"2013-12-28T00:00:00\", \"2014-01-04T00:00:00\", \"2014-01-11T00:00:00\", \"2014-01-18T00:00:00\", \"2014-01-25T00:00:00\", \"2014-02-01T00:00:00\", \"2014-02-08T00:00:00\", \"2014-02-15T00:00:00\", \"2014-02-22T00:00:00\", \"2014-03-01T00:00:00\", \"2014-03-08T00:00:00\", \"2014-03-15T00:00:00\", \"2014-03-22T00:00:00\", \"2014-03-29T00:00:00\", \"2014-04-05T00:00:00\", \"2014-04-12T00:00:00\", \"2014-04-19T00:00:00\", \"2014-04-26T00:00:00\", \"2014-05-03T00:00:00\", \"2014-05-10T00:00:00\", \"2014-05-17T00:00:00\", \"2014-05-24T00:00:00\", \"2014-05-31T00:00:00\", \"2014-06-07T00:00:00\", \"2014-06-14T00:00:00\", \"2014-06-21T00:00:00\", \"2014-06-28T00:00:00\", \"2014-07-05T00:00:00\", \"2014-07-12T00:00:00\", \"2014-07-19T00:00:00\", \"2014-07-26T00:00:00\", \"2014-08-02T00:00:00\", \"2014-08-09T00:00:00\", \"2014-08-16T00:00:00\", \"2014-08-23T00:00:00\", \"2014-08-30T00:00:00\", \"2014-09-06T00:00:00\", \"2014-09-13T00:00:00\", \"2014-09-20T00:00:00\", \"2014-09-27T00:00:00\", \"2014-10-04T00:00:00\", \"2014-10-11T00:00:00\", \"2014-10-18T00:00:00\", \"2014-10-25T00:00:00\", \"2014-11-01T00:00:00\", \"2014-11-08T00:00:00\", \"2014-11-15T00:00:00\", \"2014-11-22T00:00:00\", \"2014-11-29T00:00:00\", \"2014-12-06T00:00:00\", \"2014-12-13T00:00:00\", \"2014-12-20T00:00:00\", \"2014-12-27T00:00:00\", \"2015-01-03T00:00:00\", \"2015-01-10T00:00:00\", \"2015-01-17T00:00:00\", \"2015-01-24T00:00:00\", \"2015-01-31T00:00:00\", \"2015-02-07T00:00:00\", \"2015-02-14T00:00:00\", \"2015-02-21T00:00:00\", \"2015-02-28T00:00:00\", \"2015-03-07T00:00:00\", \"2015-03-14T00:00:00\", \"2015-03-21T00:00:00\", \"2015-03-28T00:00:00\", \"2015-04-04T00:00:00\", \"2015-04-11T00:00:00\", \"2015-04-18T00:00:00\", \"2015-04-25T00:00:00\", \"2015-05-02T00:00:00\", \"2015-05-09T00:00:00\", \"2015-05-16T00:00:00\", \"2015-05-23T00:00:00\", \"2015-05-30T00:00:00\", \"2015-06-06T00:00:00\", \"2015-06-13T00:00:00\", \"2015-06-20T00:00:00\", \"2015-06-27T00:00:00\", \"2015-07-04T00:00:00\", \"2015-07-11T00:00:00\", \"2015-07-18T00:00:00\", \"2015-07-25T00:00:00\", \"2015-08-01T00:00:00\", \"2015-08-08T00:00:00\", \"2015-08-15T00:00:00\", \"2015-08-22T00:00:00\", \"2015-08-29T00:00:00\", \"2015-09-05T00:00:00\", \"2015-09-12T00:00:00\", \"2015-09-19T00:00:00\", \"2015-09-26T00:00:00\", \"2015-10-03T00:00:00\", \"2015-10-10T00:00:00\", \"2015-10-17T00:00:00\", \"2015-10-24T00:00:00\", \"2015-10-31T00:00:00\", \"2015-11-07T00:00:00\", \"2015-11-14T00:00:00\", \"2015-11-21T00:00:00\", \"2015-11-28T00:00:00\", \"2015-12-05T00:00:00\", \"2015-12-12T00:00:00\", \"2015-12-19T00:00:00\", \"2015-12-26T00:00:00\", \"2016-01-02T00:00:00\", \"2016-01-09T00:00:00\", \"2016-01-16T00:00:00\", \"2016-01-23T00:00:00\", \"2016-01-30T00:00:00\", \"2016-02-06T00:00:00\", \"2016-02-13T00:00:00\", \"2016-02-20T00:00:00\", \"2016-02-27T00:00:00\", \"2016-03-05T00:00:00\", \"2016-03-12T00:00:00\", \"2016-03-19T00:00:00\", \"2016-03-26T00:00:00\", \"2016-04-02T00:00:00\", \"2016-04-09T00:00:00\", \"2016-04-16T00:00:00\", \"2016-04-23T00:00:00\", \"2016-04-30T00:00:00\", \"2016-05-07T00:00:00\", \"2016-05-14T00:00:00\", \"2016-05-21T00:00:00\"], \"xaxis\": \"x\", \"y\": [276.4145395252765, 974.2447488720798, 1025.5487586365537, -59.30008503518995, 79.64494304148101, 791.5948264888832, 1061.7732721831655, -1387.6843580380646, -1145.6903905062497, -51.92585205529829, 553.4354335281178, -744.1304221063573, -1612.2736110926824, -1241.0284170556818, -334.6420462316032, -664.1144870074594, -480.68085272407063, 568.2401337261964, 735.739860837089, 1523.0220990888429, -900.0146289499136, -611.0195952030299, 54.85295229551775, -40.35163676050759, -1001.6900692463864, -1256.610828416815, 108.85486675198823, 1382.3917651750078, 2500.8854659272943, 1016.427360440399, 439.9725569830874, 269.66355436747324, 413.9632727884915, -1073.1510972631118, -46.47351105911845, 1332.1161381648676, 1172.2943604990573, 1198.5468945630782, -307.8836914942333, -332.70265947413975, 613.2928957786721, 426.653770919203, 3180.2067559631155, -3269.313010507843, 30.518566964461797, 1238.2705055782055, 1709.7539168020965, -1309.1144288033486, -668.1228418901911, -1275.0370698960905, -1100.901405563495, -2501.809819961324, -688.9642254852488, 444.4741524852656, 460.9727372133515, -538.3332169902765, -613.4435387346518, 123.2429719024648, 755.826267414837, -1228.6793034654938, -1158.9231745118013, -166.84662421881117, 299.5002456901292, -430.2441559130756, -1118.9270022181001, -1120.0490448216067, -150.32216935106914, -332.99336517241557, -496.8709557188121, 228.18657421280258, 633.7119040779723, 1299.989089883594, -229.5856653634482, -653.3581890388812, 536.8776428667501, 282.69292677823717, -189.7028656071963, -716.1999551461141, 432.5245420459595, 1613.6871913198197, 2070.7298702755816, 1009.9145431740002, 1261.2410577840906, 1238.9632023919125, 1046.3893574789965, -303.4947999512545, 39.07665735374255, 727.1710866311134, 1138.763885316733, 863.1366834861208, -451.28191078141646, -350.6592768234387, 242.77799008657604, 107.01687997464266, 1751.970399423133, -2139.7469858451404, -172.83757383159332, 591.2948481600013, 1131.0638487145093, -1306.3087941804001, -711.5451185478752, -1198.6480533410552, -921.1594139425516, -2062.532659062589, -1575.6478450827994, -26.032450178541588, -13.444168303565853, -1010.1118229286043, -1298.077397558337, -516.8603437665381, 486.65346537101243, -995.8582309015529, -1169.3189140464615, -216.87635027523848, 143.43682309880785, -83.9218249967139, -561.3098828737985, -899.0270708134415, 105.78642924209333, 27.743338346168954, -544.060152062616, -125.04990024123207, 483.61756979741097, 1084.0271093787007, 415.11994120244697, -691.0873364706538, 918.1890241134122, 621.1415715362969, 666.1635928949357, -133.57769066926895, 716.8089544703087, 1838.0733013406543, 1673.594657380907, 913.9169307705944, 1802.693301266008, 1855.6006171930462, 1413.8296039630939, 300.2865041218277, 47.86336094474958, 114.43143331937826, 1061.5740822054606, 509.234998215845, -585.076080801543, -399.1821814222137, -155.4787147259708, -238.9388888963347, 458.6292915354963, -984.0728518247415, -488.7456208262646, -119.87758120220258, 611.5787043688229, -1258.0766115382326, -879.2809467343212, -1169.3152578293666, -714.7855056269519, -1558.4289082211928, -1844.4355600298547, -182.21168228137392, 433.0805632231404, -863.343551669765, -1490.2227646123622, -890.9880094165547, 43.64069502633891, -370.0679640526354, -1056.6153847171915, -309.02159214570077, 63.44971909719034, 197.3734302234239, -39.26682575806252, -535.6968380361884, 308.98697149997327, 270.7131015730736, -632.1430851546603, -1479.3086877390374, -87.59120052486199, 566.9440703806614, 842.3068156213802, -746.3801642781887, 861.0789772183539, 1158.3697209686402, 1578.093121771446, 642.8111317442495, 865.726285737908, 2158.751625457439, 1549.533269872778, 584.9986657062827, 1260.1252814208565, 933.2256250657867, 1047.4525919186033, 455.61989468488116, 97.09929625906454, -186.58696308188146, 1172.2314984543464, 499.6075347268972, -297.1812024414592, -439.06467892563296, -659.2942667234593, -522.7727063270263, -430.5186144920235, 328.6944307535986, -1264.2133886973688, -976.3215640131791, 223.37641234360652, -1459.434182899288, -1454.4505040501017, -1449.3798610457566, -363.61687905360657, -923.5779571575673, -1718.264060741548, -85.14192646445889, 1419.4259277764102, -39.53963556745527, -1002.7351672852952, -814.437546220799, -81.11096166960054, 675.0675603432196, -645.6022375866461, -127.74943832869334, 354.1607930909708, 432.65946488737706, 341.72350958274484, -6.557143652500533, 656.2123040350808, 766.7935527248445, -289.6903485312555, -4169.583151594229, -763.6365666429338, -3.9061833776277455, 1203.0730885594855, -868.4545632917951, 697.661161493412, 1722.4914506989564, 2506.489724845964, 1397.193612492888, 959.1854725036408, 2422.474888427414, 1403.5756021123318, 179.9252869642413, 442.49967453605507, -362.42378102774256, 453.7766036193301, 428.06916420827116, 59.42674352298226, -462.7067881177188, 1287.149190510209, 487.3454103140251, -6.109267319844198, -507.2850270552273, -1190.960682172317, -825.8400777082818, -1234.1763291629763, 1706.616443811575, -2182.896392811004, -1904.548643090501, -117.52775418134941, -1665.6981713631374, -2169.801661218147, -1750.6834722966178, -3.681546891383066, -220.07414666802737, -1547.1422752633162, 97.24722606026445, 2549.851943212348, 861.0814657291253, -418.6086551770241, -613.0051678058784, -118.40429801397173, 1840.0440620128227, -145.55664486720332, 146.53996587844767, 719.3750701458537, 567.8052647288622, 637.0420585469168, 536.610783160355, 1053.2170652785426, 1347.9604356699056, 138.35240931296534, -6916.8318720156385], \"yaxis\": \"y\"}, {\"hoverlabel\": {\"namelength\": 0}, \"hovertemplate\": \"<b>%{hovertext}</b><br><br>variable=resid<br>date=%{x}<br>value=%{y}\", \"hovertext\": [\"resid\", \"resid\", \"resid\", \"resid\", \"resid\", \"resid\", \"resid\", \"resid\", \"resid\", \"resid\", \"resid\", \"resid\", \"resid\", \"resid\", \"resid\", \"resid\", \"resid\", \"resid\", \"resid\", \"resid\", \"resid\", \"resid\", \"resid\", \"resid\", \"resid\", \"resid\", \"resid\", \"resid\", \"resid\", \"resid\", \"resid\", \"resid\", \"resid\", \"resid\", \"resid\", \"resid\", \"resid\", \"resid\", \"resid\", \"resid\", \"resid\", \"resid\", \"resid\", \"resid\", \"resid\", \"resid\", \"resid\", \"resid\", \"resid\", \"resid\", \"resid\", \"resid\", \"resid\", \"resid\", \"resid\", \"resid\", \"resid\", \"resid\", \"resid\", \"resid\", \"resid\", \"resid\", \"resid\", \"resid\", \"resid\", \"resid\", \"resid\", \"resid\", \"resid\", \"resid\", \"resid\", \"resid\", \"resid\", \"resid\", \"resid\", \"resid\", \"resid\", \"resid\", \"resid\", \"resid\", \"resid\", \"resid\", \"resid\", \"resid\", \"resid\", \"resid\", \"resid\", \"resid\", \"resid\", \"resid\", \"resid\", \"resid\", \"resid\", \"resid\", \"resid\", \"resid\", \"resid\", \"resid\", \"resid\", \"resid\", \"resid\", \"resid\", \"resid\", \"resid\", \"resid\", \"resid\", \"resid\", \"resid\", \"resid\", \"resid\", \"resid\", \"resid\", \"resid\", \"resid\", \"resid\", \"resid\", \"resid\", \"resid\", \"resid\", \"resid\", \"resid\", \"resid\", \"resid\", \"resid\", \"resid\", \"resid\", \"resid\", \"resid\", \"resid\", \"resid\", \"resid\", \"resid\", \"resid\", \"resid\", \"resid\", \"resid\", \"resid\", \"resid\", \"resid\", \"resid\", \"resid\", \"resid\", \"resid\", \"resid\", \"resid\", \"resid\", \"resid\", \"resid\", \"resid\", \"resid\", \"resid\", \"resid\", \"resid\", \"resid\", \"resid\", \"resid\", \"resid\", \"resid\", \"resid\", \"resid\", \"resid\", \"resid\", \"resid\", \"resid\", \"resid\", \"resid\", \"resid\", \"resid\", \"resid\", \"resid\", \"resid\", \"resid\", \"resid\", \"resid\", \"resid\", \"resid\", \"resid\", \"resid\", \"resid\", \"resid\", \"resid\", \"resid\", \"resid\", \"resid\", \"resid\", \"resid\", \"resid\", \"resid\", \"resid\", \"resid\", \"resid\", \"resid\", \"resid\", \"resid\", \"resid\", \"resid\", \"resid\", \"resid\", \"resid\", \"resid\", \"resid\", \"resid\", \"resid\", \"resid\", \"resid\", \"resid\", \"resid\", \"resid\", \"resid\", \"resid\", \"resid\", \"resid\", \"resid\", \"resid\", \"resid\", \"resid\", \"resid\", \"resid\", \"resid\", \"resid\", \"resid\", \"resid\", \"resid\", \"resid\", \"resid\", \"resid\", \"resid\", \"resid\", \"resid\", \"resid\", \"resid\", \"resid\", \"resid\", \"resid\", \"resid\", \"resid\", \"resid\", \"resid\", \"resid\", \"resid\", \"resid\", \"resid\", \"resid\", \"resid\", \"resid\", \"resid\", \"resid\", \"resid\", \"resid\", \"resid\", \"resid\", \"resid\", \"resid\", \"resid\", \"resid\", \"resid\", \"resid\", \"resid\", \"resid\", \"resid\", \"resid\", \"resid\", \"resid\", \"resid\", \"resid\", \"resid\", \"resid\", \"resid\", \"resid\", \"resid\", \"resid\", \"resid\", \"resid\", \"resid\", \"resid\", \"resid\", \"resid\", \"resid\"], \"legendgroup\": \"variable=resid\", \"line\": {\"color\": \"#00cc96\", \"dash\": \"solid\"}, \"mode\": \"lines\", \"name\": \"variable=resid\", \"showlegend\": true, \"type\": \"scatter\", \"x\": [\"2011-01-29T00:00:00\", \"2011-02-05T00:00:00\", \"2011-02-12T00:00:00\", \"2011-02-19T00:00:00\", \"2011-02-26T00:00:00\", \"2011-03-05T00:00:00\", \"2011-03-12T00:00:00\", \"2011-03-19T00:00:00\", \"2011-03-26T00:00:00\", \"2011-04-02T00:00:00\", \"2011-04-09T00:00:00\", \"2011-04-16T00:00:00\", \"2011-04-23T00:00:00\", \"2011-04-30T00:00:00\", \"2011-05-07T00:00:00\", \"2011-05-14T00:00:00\", \"2011-05-21T00:00:00\", \"2011-05-28T00:00:00\", \"2011-06-04T00:00:00\", \"2011-06-11T00:00:00\", \"2011-06-18T00:00:00\", \"2011-06-25T00:00:00\", \"2011-07-02T00:00:00\", \"2011-07-09T00:00:00\", \"2011-07-16T00:00:00\", \"2011-07-23T00:00:00\", \"2011-07-30T00:00:00\", \"2011-08-06T00:00:00\", \"2011-08-13T00:00:00\", \"2011-08-20T00:00:00\", \"2011-08-27T00:00:00\", \"2011-09-03T00:00:00\", \"2011-09-10T00:00:00\", \"2011-09-17T00:00:00\", \"2011-09-24T00:00:00\", \"2011-10-01T00:00:00\", \"2011-10-08T00:00:00\", \"2011-10-15T00:00:00\", \"2011-10-22T00:00:00\", \"2011-10-29T00:00:00\", \"2011-11-05T00:00:00\", \"2011-11-12T00:00:00\", \"2011-11-19T00:00:00\", \"2011-11-26T00:00:00\", \"2011-12-03T00:00:00\", \"2011-12-10T00:00:00\", \"2011-12-17T00:00:00\", \"2011-12-24T00:00:00\", \"2011-12-31T00:00:00\", \"2012-01-07T00:00:00\", \"2012-01-14T00:00:00\", \"2012-01-21T00:00:00\", \"2012-01-28T00:00:00\", \"2012-02-04T00:00:00\", \"2012-02-11T00:00:00\", \"2012-02-18T00:00:00\", \"2012-02-25T00:00:00\", \"2012-03-03T00:00:00\", \"2012-03-10T00:00:00\", \"2012-03-17T00:00:00\", \"2012-03-24T00:00:00\", \"2012-03-31T00:00:00\", \"2012-04-07T00:00:00\", \"2012-04-14T00:00:00\", \"2012-04-21T00:00:00\", \"2012-04-28T00:00:00\", \"2012-05-05T00:00:00\", \"2012-05-12T00:00:00\", \"2012-05-19T00:00:00\", \"2012-05-26T00:00:00\", \"2012-06-02T00:00:00\", \"2012-06-09T00:00:00\", \"2012-06-16T00:00:00\", \"2012-06-23T00:00:00\", \"2012-06-30T00:00:00\", \"2012-07-07T00:00:00\", \"2012-07-14T00:00:00\", \"2012-07-21T00:00:00\", \"2012-07-28T00:00:00\", \"2012-08-04T00:00:00\", \"2012-08-11T00:00:00\", \"2012-08-18T00:00:00\", \"2012-08-25T00:00:00\", \"2012-09-01T00:00:00\", \"2012-09-08T00:00:00\", \"2012-09-15T00:00:00\", \"2012-09-22T00:00:00\", \"2012-09-29T00:00:00\", \"2012-10-06T00:00:00\", \"2012-10-13T00:00:00\", \"2012-10-20T00:00:00\", \"2012-10-27T00:00:00\", \"2012-11-03T00:00:00\", \"2012-11-10T00:00:00\", \"2012-11-17T00:00:00\", \"2012-11-24T00:00:00\", \"2012-12-01T00:00:00\", \"2012-12-08T00:00:00\", \"2012-12-15T00:00:00\", \"2012-12-22T00:00:00\", \"2012-12-29T00:00:00\", \"2013-01-05T00:00:00\", \"2013-01-12T00:00:00\", \"2013-01-19T00:00:00\", \"2013-01-26T00:00:00\", \"2013-02-02T00:00:00\", \"2013-02-09T00:00:00\", \"2013-02-16T00:00:00\", \"2013-02-23T00:00:00\", \"2013-03-02T00:00:00\", \"2013-03-09T00:00:00\", \"2013-03-16T00:00:00\", \"2013-03-23T00:00:00\", \"2013-03-30T00:00:00\", \"2013-04-06T00:00:00\", \"2013-04-13T00:00:00\", \"2013-04-20T00:00:00\", \"2013-04-27T00:00:00\", \"2013-05-04T00:00:00\", \"2013-05-11T00:00:00\", \"2013-05-18T00:00:00\", \"2013-05-25T00:00:00\", \"2013-06-01T00:00:00\", \"2013-06-08T00:00:00\", \"2013-06-15T00:00:00\", \"2013-06-22T00:00:00\", \"2013-06-29T00:00:00\", \"2013-07-06T00:00:00\", \"2013-07-13T00:00:00\", \"2013-07-20T00:00:00\", \"2013-07-27T00:00:00\", \"2013-08-03T00:00:00\", \"2013-08-10T00:00:00\", \"2013-08-17T00:00:00\", \"2013-08-24T00:00:00\", \"2013-08-31T00:00:00\", \"2013-09-07T00:00:00\", \"2013-09-14T00:00:00\", \"2013-09-21T00:00:00\", \"2013-09-28T00:00:00\", \"2013-10-05T00:00:00\", \"2013-10-12T00:00:00\", \"2013-10-19T00:00:00\", \"2013-10-26T00:00:00\", \"2013-11-02T00:00:00\", \"2013-11-09T00:00:00\", \"2013-11-16T00:00:00\", \"2013-11-23T00:00:00\", \"2013-11-30T00:00:00\", \"2013-12-07T00:00:00\", \"2013-12-14T00:00:00\", \"2013-12-21T00:00:00\", \"2013-12-28T00:00:00\", \"2014-01-04T00:00:00\", \"2014-01-11T00:00:00\", \"2014-01-18T00:00:00\", \"2014-01-25T00:00:00\", \"2014-02-01T00:00:00\", \"2014-02-08T00:00:00\", \"2014-02-15T00:00:00\", \"2014-02-22T00:00:00\", \"2014-03-01T00:00:00\", \"2014-03-08T00:00:00\", \"2014-03-15T00:00:00\", \"2014-03-22T00:00:00\", \"2014-03-29T00:00:00\", \"2014-04-05T00:00:00\", \"2014-04-12T00:00:00\", \"2014-04-19T00:00:00\", \"2014-04-26T00:00:00\", \"2014-05-03T00:00:00\", \"2014-05-10T00:00:00\", \"2014-05-17T00:00:00\", \"2014-05-24T00:00:00\", \"2014-05-31T00:00:00\", \"2014-06-07T00:00:00\", \"2014-06-14T00:00:00\", \"2014-06-21T00:00:00\", \"2014-06-28T00:00:00\", \"2014-07-05T00:00:00\", \"2014-07-12T00:00:00\", \"2014-07-19T00:00:00\", \"2014-07-26T00:00:00\", \"2014-08-02T00:00:00\", \"2014-08-09T00:00:00\", \"2014-08-16T00:00:00\", \"2014-08-23T00:00:00\", \"2014-08-30T00:00:00\", \"2014-09-06T00:00:00\", \"2014-09-13T00:00:00\", \"2014-09-20T00:00:00\", \"2014-09-27T00:00:00\", \"2014-10-04T00:00:00\", \"2014-10-11T00:00:00\", \"2014-10-18T00:00:00\", \"2014-10-25T00:00:00\", \"2014-11-01T00:00:00\", \"2014-11-08T00:00:00\", \"2014-11-15T00:00:00\", \"2014-11-22T00:00:00\", \"2014-11-29T00:00:00\", \"2014-12-06T00:00:00\", \"2014-12-13T00:00:00\", \"2014-12-20T00:00:00\", \"2014-12-27T00:00:00\", \"2015-01-03T00:00:00\", \"2015-01-10T00:00:00\", \"2015-01-17T00:00:00\", \"2015-01-24T00:00:00\", \"2015-01-31T00:00:00\", \"2015-02-07T00:00:00\", \"2015-02-14T00:00:00\", \"2015-02-21T00:00:00\", \"2015-02-28T00:00:00\", \"2015-03-07T00:00:00\", \"2015-03-14T00:00:00\", \"2015-03-21T00:00:00\", \"2015-03-28T00:00:00\", \"2015-04-04T00:00:00\", \"2015-04-11T00:00:00\", \"2015-04-18T00:00:00\", \"2015-04-25T00:00:00\", \"2015-05-02T00:00:00\", \"2015-05-09T00:00:00\", \"2015-05-16T00:00:00\", \"2015-05-23T00:00:00\", \"2015-05-30T00:00:00\", \"2015-06-06T00:00:00\", \"2015-06-13T00:00:00\", \"2015-06-20T00:00:00\", \"2015-06-27T00:00:00\", \"2015-07-04T00:00:00\", \"2015-07-11T00:00:00\", \"2015-07-18T00:00:00\", \"2015-07-25T00:00:00\", \"2015-08-01T00:00:00\", \"2015-08-08T00:00:00\", \"2015-08-15T00:00:00\", \"2015-08-22T00:00:00\", \"2015-08-29T00:00:00\", \"2015-09-05T00:00:00\", \"2015-09-12T00:00:00\", \"2015-09-19T00:00:00\", \"2015-09-26T00:00:00\", \"2015-10-03T00:00:00\", \"2015-10-10T00:00:00\", \"2015-10-17T00:00:00\", \"2015-10-24T00:00:00\", \"2015-10-31T00:00:00\", \"2015-11-07T00:00:00\", \"2015-11-14T00:00:00\", \"2015-11-21T00:00:00\", \"2015-11-28T00:00:00\", \"2015-12-05T00:00:00\", \"2015-12-12T00:00:00\", \"2015-12-19T00:00:00\", \"2015-12-26T00:00:00\", \"2016-01-02T00:00:00\", \"2016-01-09T00:00:00\", \"2016-01-16T00:00:00\", \"2016-01-23T00:00:00\", \"2016-01-30T00:00:00\", \"2016-02-06T00:00:00\", \"2016-02-13T00:00:00\", \"2016-02-20T00:00:00\", \"2016-02-27T00:00:00\", \"2016-03-05T00:00:00\", \"2016-03-12T00:00:00\", \"2016-03-19T00:00:00\", \"2016-03-26T00:00:00\", \"2016-04-02T00:00:00\", \"2016-04-09T00:00:00\", \"2016-04-16T00:00:00\", \"2016-04-23T00:00:00\", \"2016-04-30T00:00:00\", \"2016-05-07T00:00:00\", \"2016-05-14T00:00:00\", \"2016-05-21T00:00:00\"], \"xaxis\": \"x\", \"y\": [808.8407962394267, 78.09005400873684, 715.8394500116719, 520.7236838790323, 172.80753564653787, -316.1053944565865, -843.2228756278837, -46.66530692432025, -294.5078901560446, -619.057774862069, -338.1303847394811, 623.8068020186438, 626.4116797709557, 227.72829855410419, -326.98381009507466, -692.7112363949, -618.2064849236212, -799.0410258994816, -482.2994695061916, -499.1824352074309, -163.5886177448956, -273.8722980714829, 24.114201737076655, 678.3155589893722, 95.77581690828993, -77.07050979396627, 122.79077275768032, 16.653237184487807, 90.60433140852001, 346.5189683061235, -349.59977545890615, -969.9462161876854, 308.94819269150867, -53.986738482753935, 391.92388495831074, 944.4105853199089, 1000.6219436351148, 839.8982636319452, 667.8918912940699, 335.40917016420826, 168.9285827676631, 421.8353460745748, -14.348343600802764, 701.9620797871903, -365.3537439982374, 107.42490137856294, 138.76520106206408, -625.9259827334663, -159.54864706782973, 167.95805705954808, 159.94615992212675, 257.8212188365578, -491.9644286010807, 484.8957384850419, -556.0403571144816, -440.975622205513, 110.95345091398121, 919.9241291345861, 1990.6020967268996, 740.7350203760616, 807.7520169598665, 1742.3499434224468, 1552.2997348254885, -60.28403103747587, 51.207901554484124, 722.0343274943771, 1388.6701425650735, 1681.156942131167, 1231.1269549528388, 1584.2703784899168, 978.8824372131439, 1348.5463326618574, 601.8178412423822, 791.0744435046126, -37.80198979582201, -430.27221927359096, 619.5852085874048, 668.8064631741927, 63.21677273431851, 231.74431497439764, 308.0799708037466, -538.9405460293237, -526.2953825290897, 8.683286847241106, -1513.4989069965086, -539.0778970287338, -781.1208386357066, -1106.0527139476544, -1362.2383001061135, -1123.3901932468234, -770.3731667087577, -334.4449599445943, -15.812482458935847, -466.8940379897431, 1060.9621346994245, -456.2412168770916, 191.86137898245215, -258.70715507223576, 472.18081749058547, 1598.7952561190177, -232.58630699525565, -61.27297898821598, 122.08112948745293, 336.82717630957995, -422.11583426641846, -179.0275404651984, 239.15870392241777, 339.05450603498866, 238.13810922896846, 92.46107364203635, -738.5419177627173, -375.0734941319206, 176.1980911372757, -887.1548655605675, -1429.6831400577103, -1245.5003782033455, -1442.9176156696103, -1495.3307123906761, -1153.3241104085537, -603.279492167283, 108.8974751095866, -62.20428363208703, 149.6919902970858, -629.4311826624889, -60.51648972075236, 11.36343182355813, 626.3264414477217, -575.9573744822956, -988.0507536800869, -368.3322568367839, 134.01728604325945, 258.9169219407722, -120.32624062054856, 650.4815945857627, 2795.5048724129574, 3603.9301300832794, 2849.504723803415, 2026.341812942259, 1172.6487270365124, -20.299368290779967, 304.062852117946, 422.9359807487872, 258.9533283005112, 221.09145227304543, 7.932515480406437, 224.66861180916385, -1633.6279772567268, -846.3909046264489, 1322.2666109730635, 774.9415904515026, -979.3508502925015, -1012.8770521410806, 1565.7947354683856, -70.13622348635909, -224.2122781250382, -1143.8885744170711, -494.1732896505182, -957.8429196367852, -1960.9109394512107, -905.7757737059237, -984.9021484390578, -1274.102620263493, -290.9665933957822, -1111.086149420953, -916.2677809675006, -394.8190792150908, 62.17843959297352, 1684.7969158300039, 1510.7197234416672, 564.951415390804, 135.46411905748755, -355.7029202099948, -564.8631391910985, 227.90127882096021, 97.75244157594534, 318.168424082367, 181.49325826968925, -618.1193424890007, 595.3269803799412, 713.2959881940551, 513.3397539649886, -621.9420350417695, 257.41061833660206, -668.3843228937512, -771.875264586828, 499.08144758246635, 215.586792652628, -73.51068083466635, 209.75682296564082, -561.3488119250615, -614.15185079209, 380.8976784323477, 577.2133013506827, -217.2272544344014, -589.7199715999195, 93.58753919614719, 314.8186793004206, 66.70964579900647, -202.91910441517211, 1038.5231215055355, -524.0237419839523, -267.5460933443155, 310.9545769503311, 214.82717045398567, -547.166213614868, 921.7797111219952, -278.80637987609407, 607.6505581221645, 214.23754968230242, 470.4150198241423, 777.4974855300297, -994.5892425450038, -1004.189565503988, -193.06893344837044, -419.7982291638182, 314.76768562833604, -272.71189278918246, 83.3515681596873, 0.4083838090155041, -395.08762837014183, 252.85295308473724, 347.06380707027165, 248.07834924276358, -231.94368790801127, -1134.180565609884, 2724.6743789573757, -163.71861850849746, -83.4196440544456, -131.01393760407336, 387.1354822046342, -604.1991419810493, -270.1208228841115, -59.104701761671095, 520.288779090919, -216.50340338243586, 372.60155057563315, 563.2119073027934, -517.9892864609556, -1023.8744437397891, -1120.0091808289617, -980.5650619371609, -236.34632608774336, 92.6123087950873, -187.27357705471331, -414.6317493186525, 81.05724567031939, 370.67679015682734, -115.78823585489772, -218.6251079601425, -92.18281268053215, 610.7485709560879, -416.45155703627097, -83.37512645892275, -56.21071699047752, 73.21042661437787, 83.73752186882848, -124.89962283366913, -616.8650018954868, 252.17150583226976, -73.5192909473426, 19.338180441885925, -6.393164446755691, 72.52647230331786, 949.6860565043044, 994.6303950054116, 546.1506444646348, 439.55157783215327, 162.99422543131004, 477.3879100474951, 128.99990545149558, 62.80398351241456, -226.04114521082738, -605.7320468856433, -349.7807517479705, -149.88245312313848, 317.8715992120706, 966.9773040757209, -1949.3315897375905], \"yaxis\": \"y\"}],\n",
              "                        {\"legend\": {\"tracegroupgap\": 0}, \"template\": {\"data\": {\"bar\": [{\"error_x\": {\"color\": \"#2a3f5f\"}, \"error_y\": {\"color\": \"#2a3f5f\"}, \"marker\": {\"line\": {\"color\": \"#E5ECF6\", \"width\": 0.5}}, \"type\": \"bar\"}], \"barpolar\": [{\"marker\": {\"line\": {\"color\": \"#E5ECF6\", \"width\": 0.5}}, \"type\": \"barpolar\"}], \"carpet\": [{\"aaxis\": {\"endlinecolor\": \"#2a3f5f\", \"gridcolor\": \"white\", \"linecolor\": \"white\", \"minorgridcolor\": \"white\", \"startlinecolor\": \"#2a3f5f\"}, \"baxis\": {\"endlinecolor\": \"#2a3f5f\", \"gridcolor\": \"white\", \"linecolor\": \"white\", \"minorgridcolor\": \"white\", \"startlinecolor\": \"#2a3f5f\"}, \"type\": \"carpet\"}], \"choropleth\": [{\"colorbar\": {\"outlinewidth\": 0, \"ticks\": \"\"}, \"type\": \"choropleth\"}], \"contour\": [{\"colorbar\": {\"outlinewidth\": 0, \"ticks\": \"\"}, \"colorscale\": [[0.0, \"#0d0887\"], [0.1111111111111111, \"#46039f\"], [0.2222222222222222, \"#7201a8\"], [0.3333333333333333, \"#9c179e\"], [0.4444444444444444, \"#bd3786\"], [0.5555555555555556, \"#d8576b\"], [0.6666666666666666, \"#ed7953\"], [0.7777777777777778, \"#fb9f3a\"], [0.8888888888888888, \"#fdca26\"], [1.0, \"#f0f921\"]], \"type\": \"contour\"}], \"contourcarpet\": [{\"colorbar\": {\"outlinewidth\": 0, \"ticks\": \"\"}, \"type\": \"contourcarpet\"}], \"heatmap\": [{\"colorbar\": {\"outlinewidth\": 0, \"ticks\": \"\"}, \"colorscale\": [[0.0, \"#0d0887\"], [0.1111111111111111, \"#46039f\"], [0.2222222222222222, \"#7201a8\"], [0.3333333333333333, \"#9c179e\"], [0.4444444444444444, \"#bd3786\"], [0.5555555555555556, \"#d8576b\"], [0.6666666666666666, \"#ed7953\"], [0.7777777777777778, \"#fb9f3a\"], [0.8888888888888888, \"#fdca26\"], [1.0, \"#f0f921\"]], \"type\": \"heatmap\"}], \"heatmapgl\": [{\"colorbar\": {\"outlinewidth\": 0, \"ticks\": \"\"}, \"colorscale\": [[0.0, \"#0d0887\"], [0.1111111111111111, \"#46039f\"], [0.2222222222222222, \"#7201a8\"], [0.3333333333333333, \"#9c179e\"], [0.4444444444444444, \"#bd3786\"], [0.5555555555555556, \"#d8576b\"], [0.6666666666666666, \"#ed7953\"], [0.7777777777777778, \"#fb9f3a\"], [0.8888888888888888, \"#fdca26\"], [1.0, \"#f0f921\"]], \"type\": \"heatmapgl\"}], \"histogram\": [{\"marker\": {\"colorbar\": {\"outlinewidth\": 0, \"ticks\": \"\"}}, \"type\": \"histogram\"}], \"histogram2d\": [{\"colorbar\": {\"outlinewidth\": 0, \"ticks\": \"\"}, \"colorscale\": [[0.0, \"#0d0887\"], [0.1111111111111111, \"#46039f\"], [0.2222222222222222, \"#7201a8\"], [0.3333333333333333, \"#9c179e\"], [0.4444444444444444, \"#bd3786\"], [0.5555555555555556, \"#d8576b\"], [0.6666666666666666, \"#ed7953\"], [0.7777777777777778, \"#fb9f3a\"], [0.8888888888888888, \"#fdca26\"], [1.0, \"#f0f921\"]], \"type\": \"histogram2d\"}], \"histogram2dcontour\": [{\"colorbar\": {\"outlinewidth\": 0, \"ticks\": \"\"}, \"colorscale\": [[0.0, \"#0d0887\"], [0.1111111111111111, \"#46039f\"], [0.2222222222222222, \"#7201a8\"], [0.3333333333333333, \"#9c179e\"], [0.4444444444444444, \"#bd3786\"], [0.5555555555555556, \"#d8576b\"], [0.6666666666666666, \"#ed7953\"], [0.7777777777777778, \"#fb9f3a\"], [0.8888888888888888, \"#fdca26\"], [1.0, \"#f0f921\"]], \"type\": \"histogram2dcontour\"}], \"mesh3d\": [{\"colorbar\": {\"outlinewidth\": 0, \"ticks\": \"\"}, \"type\": \"mesh3d\"}], \"parcoords\": [{\"line\": {\"colorbar\": {\"outlinewidth\": 0, \"ticks\": \"\"}}, \"type\": \"parcoords\"}], \"pie\": [{\"automargin\": true, \"type\": \"pie\"}], \"scatter\": [{\"marker\": {\"colorbar\": {\"outlinewidth\": 0, \"ticks\": \"\"}}, \"type\": \"scatter\"}], \"scatter3d\": [{\"line\": {\"colorbar\": {\"outlinewidth\": 0, \"ticks\": \"\"}}, \"marker\": {\"colorbar\": {\"outlinewidth\": 0, \"ticks\": \"\"}}, \"type\": \"scatter3d\"}], \"scattercarpet\": [{\"marker\": {\"colorbar\": {\"outlinewidth\": 0, \"ticks\": \"\"}}, \"type\": \"scattercarpet\"}], \"scattergeo\": [{\"marker\": {\"colorbar\": {\"outlinewidth\": 0, \"ticks\": \"\"}}, \"type\": \"scattergeo\"}], \"scattergl\": [{\"marker\": {\"colorbar\": {\"outlinewidth\": 0, \"ticks\": \"\"}}, \"type\": \"scattergl\"}], \"scattermapbox\": [{\"marker\": {\"colorbar\": {\"outlinewidth\": 0, \"ticks\": \"\"}}, \"type\": \"scattermapbox\"}], \"scatterpolar\": [{\"marker\": {\"colorbar\": {\"outlinewidth\": 0, \"ticks\": \"\"}}, \"type\": \"scatterpolar\"}], \"scatterpolargl\": [{\"marker\": {\"colorbar\": {\"outlinewidth\": 0, \"ticks\": \"\"}}, \"type\": \"scatterpolargl\"}], \"scatterternary\": [{\"marker\": {\"colorbar\": {\"outlinewidth\": 0, \"ticks\": \"\"}}, \"type\": \"scatterternary\"}], \"surface\": [{\"colorbar\": {\"outlinewidth\": 0, \"ticks\": \"\"}, \"colorscale\": [[0.0, \"#0d0887\"], [0.1111111111111111, \"#46039f\"], [0.2222222222222222, \"#7201a8\"], [0.3333333333333333, \"#9c179e\"], [0.4444444444444444, \"#bd3786\"], [0.5555555555555556, \"#d8576b\"], [0.6666666666666666, \"#ed7953\"], [0.7777777777777778, \"#fb9f3a\"], [0.8888888888888888, \"#fdca26\"], [1.0, \"#f0f921\"]], \"type\": \"surface\"}], \"table\": [{\"cells\": {\"fill\": {\"color\": \"#EBF0F8\"}, \"line\": {\"color\": \"white\"}}, \"header\": {\"fill\": {\"color\": \"#C8D4E3\"}, \"line\": {\"color\": \"white\"}}, \"type\": \"table\"}]}, \"layout\": {\"annotationdefaults\": {\"arrowcolor\": \"#2a3f5f\", \"arrowhead\": 0, \"arrowwidth\": 1}, \"coloraxis\": {\"colorbar\": {\"outlinewidth\": 0, \"ticks\": \"\"}}, \"colorscale\": {\"diverging\": [[0, \"#8e0152\"], [0.1, \"#c51b7d\"], [0.2, \"#de77ae\"], [0.3, \"#f1b6da\"], [0.4, \"#fde0ef\"], [0.5, \"#f7f7f7\"], [0.6, \"#e6f5d0\"], [0.7, \"#b8e186\"], [0.8, \"#7fbc41\"], [0.9, \"#4d9221\"], [1, \"#276419\"]], \"sequential\": [[0.0, \"#0d0887\"], [0.1111111111111111, \"#46039f\"], [0.2222222222222222, \"#7201a8\"], [0.3333333333333333, \"#9c179e\"], [0.4444444444444444, \"#bd3786\"], [0.5555555555555556, \"#d8576b\"], [0.6666666666666666, \"#ed7953\"], [0.7777777777777778, \"#fb9f3a\"], [0.8888888888888888, \"#fdca26\"], [1.0, \"#f0f921\"]], \"sequentialminus\": [[0.0, \"#0d0887\"], [0.1111111111111111, \"#46039f\"], [0.2222222222222222, \"#7201a8\"], [0.3333333333333333, \"#9c179e\"], [0.4444444444444444, \"#bd3786\"], [0.5555555555555556, \"#d8576b\"], [0.6666666666666666, \"#ed7953\"], [0.7777777777777778, \"#fb9f3a\"], [0.8888888888888888, \"#fdca26\"], [1.0, \"#f0f921\"]]}, \"colorway\": [\"#636efa\", \"#EF553B\", \"#00cc96\", \"#ab63fa\", \"#FFA15A\", \"#19d3f3\", \"#FF6692\", \"#B6E880\", \"#FF97FF\", \"#FECB52\"], \"font\": {\"color\": \"#2a3f5f\"}, \"geo\": {\"bgcolor\": \"white\", \"lakecolor\": \"white\", \"landcolor\": \"#E5ECF6\", \"showlakes\": true, \"showland\": true, \"subunitcolor\": \"white\"}, \"hoverlabel\": {\"align\": \"left\"}, \"hovermode\": \"closest\", \"mapbox\": {\"style\": \"light\"}, \"paper_bgcolor\": \"white\", \"plot_bgcolor\": \"#E5ECF6\", \"polar\": {\"angularaxis\": {\"gridcolor\": \"white\", \"linecolor\": \"white\", \"ticks\": \"\"}, \"bgcolor\": \"#E5ECF6\", \"radialaxis\": {\"gridcolor\": \"white\", \"linecolor\": \"white\", \"ticks\": \"\"}}, \"scene\": {\"xaxis\": {\"backgroundcolor\": \"#E5ECF6\", \"gridcolor\": \"white\", \"gridwidth\": 2, \"linecolor\": \"white\", \"showbackground\": true, \"ticks\": \"\", \"zerolinecolor\": \"white\"}, \"yaxis\": {\"backgroundcolor\": \"#E5ECF6\", \"gridcolor\": \"white\", \"gridwidth\": 2, \"linecolor\": \"white\", \"showbackground\": true, \"ticks\": \"\", \"zerolinecolor\": \"white\"}, \"zaxis\": {\"backgroundcolor\": \"#E5ECF6\", \"gridcolor\": \"white\", \"gridwidth\": 2, \"linecolor\": \"white\", \"showbackground\": true, \"ticks\": \"\", \"zerolinecolor\": \"white\"}}, \"shapedefaults\": {\"line\": {\"color\": \"#2a3f5f\"}}, \"ternary\": {\"aaxis\": {\"gridcolor\": \"white\", \"linecolor\": \"white\", \"ticks\": \"\"}, \"baxis\": {\"gridcolor\": \"white\", \"linecolor\": \"white\", \"ticks\": \"\"}, \"bgcolor\": \"#E5ECF6\", \"caxis\": {\"gridcolor\": \"white\", \"linecolor\": \"white\", \"ticks\": \"\"}}, \"title\": {\"x\": 0.05}, \"xaxis\": {\"automargin\": true, \"gridcolor\": \"white\", \"linecolor\": \"white\", \"ticks\": \"\", \"title\": {\"standoff\": 15}, \"zerolinecolor\": \"white\", \"zerolinewidth\": 2}, \"yaxis\": {\"automargin\": true, \"gridcolor\": \"white\", \"linecolor\": \"white\", \"ticks\": \"\", \"title\": {\"standoff\": 15}, \"zerolinecolor\": \"white\", \"zerolinewidth\": 2}}}, \"title\": {\"text\": \"Texas Seasonality and trend decomposition\"}, \"xaxis\": {\"anchor\": \"y\", \"domain\": [0.0, 1.0], \"title\": {\"text\": \"date\"}}, \"yaxis\": {\"anchor\": \"x\", \"domain\": [0.0, 1.0], \"title\": {\"text\": \"value\"}}},\n",
              "                        {\"responsive\": true}\n",
              "                    ).then(function(){\n",
              "                            \n",
              "var gd = document.getElementById('f87fdb57-fe29-4583-b9ef-25b4eb7dafa0');\n",
              "var x = new MutationObserver(function (mutations, observer) {{\n",
              "        var display = window.getComputedStyle(gd).display;\n",
              "        if (!display || display === 'none') {{\n",
              "            console.log([gd, 'removed!']);\n",
              "            Plotly.purge(gd);\n",
              "            observer.disconnect();\n",
              "        }}\n",
              "}});\n",
              "\n",
              "// Listen for the removal of the full notebook cells\n",
              "var notebookContainer = gd.closest('#notebook-container');\n",
              "if (notebookContainer) {{\n",
              "    x.observe(notebookContainer, {childList: true});\n",
              "}}\n",
              "\n",
              "// Listen for the clearing of the current output cell\n",
              "var outputEl = gd.closest('.output');\n",
              "if (outputEl) {{\n",
              "    x.observe(outputEl, {childList: true});\n",
              "}}\n",
              "\n",
              "                        })\n",
              "                };\n",
              "                \n",
              "            </script>\n",
              "        </div>\n",
              "</body>\n",
              "</html>"
            ]
          },
          "metadata": {
            "tags": []
          }
        }
      ]
    },
    {
      "cell_type": "markdown",
      "metadata": {
        "id": "WJ7JYigVUEPf"
      },
      "source": [
        "## **Seasonality and trend decomposition for Wisconsin** "
      ]
    },
    {
      "cell_type": "code",
      "metadata": {
        "id": "gYsSXolWUIZf",
        "colab": {
          "base_uri": "https://localhost:8080/",
          "height": 697
        },
        "outputId": "5e30396c-b253-4508-bb81-130353286316"
      },
      "source": [
        "subset_df = state_cat_agg[state_cat_agg['state_id']=='WI']\n",
        "subset_df['date'] = pd.to_datetime(                                                           \n",
        "            subset_df['date'],                                                                        \n",
        "            format = '%Y-%m-%d'                                                                     \n",
        "      )                     \n",
        "subset_df.index = subset_df['date']\n",
        "res = STL(subset_df['volume']).fit()\n",
        "#creating the dataframe for the graph plotting\n",
        "graph_df = res.trend.reset_index()\n",
        "graph_df = pd.merge(graph_df, res.seasonal.reset_index(), on='date', how='left') \n",
        "graph_df = pd.merge(graph_df, res.resid.reset_index(), on='date', how='left')\n",
        "graph_df = pd.melt(graph_df, id_vars='date')\n",
        "\n",
        "#plotting the graph\n",
        "fig = px.line(graph_df, x=\"date\", y=\"value\", color=\"variable\",\n",
        "              line_group=\"variable\", hover_name=\"variable\", title='Wisconsin Seasonality and trend decomposition')\n",
        "fig.show()"
      ],
      "execution_count": null,
      "outputs": [
        {
          "output_type": "stream",
          "text": [
            "/usr/local/lib/python3.6/dist-packages/ipykernel_launcher.py:4: SettingWithCopyWarning:\n",
            "\n",
            "\n",
            "A value is trying to be set on a copy of a slice from a DataFrame.\n",
            "Try using .loc[row_indexer,col_indexer] = value instead\n",
            "\n",
            "See the caveats in the documentation: https://pandas.pydata.org/pandas-docs/stable/user_guide/indexing.html#returning-a-view-versus-a-copy\n",
            "\n"
          ],
          "name": "stderr"
        },
        {
          "output_type": "display_data",
          "data": {
            "text/html": [
              "<html>\n",
              "<head><meta charset=\"utf-8\" /></head>\n",
              "<body>\n",
              "    <div>\n",
              "            <script src=\"https://cdnjs.cloudflare.com/ajax/libs/mathjax/2.7.5/MathJax.js?config=TeX-AMS-MML_SVG\"></script><script type=\"text/javascript\">if (window.MathJax) {MathJax.Hub.Config({SVG: {font: \"STIX-Web\"}});}</script>\n",
              "                <script type=\"text/javascript\">window.PlotlyConfig = {MathJaxConfig: 'local'};</script>\n",
              "        <script src=\"https://cdn.plot.ly/plotly-latest.min.js\"></script>    \n",
              "            <div id=\"236ee575-fc23-45f8-8ca6-a2b30c9eb8e0\" class=\"plotly-graph-div\" style=\"height:525px; width:100%;\"></div>\n",
              "            <script type=\"text/javascript\">\n",
              "                \n",
              "                    window.PLOTLYENV=window.PLOTLYENV || {};\n",
              "                    \n",
              "                if (document.getElementById(\"236ee575-fc23-45f8-8ca6-a2b30c9eb8e0\")) {\n",
              "                    Plotly.newPlot(\n",
              "                        '236ee575-fc23-45f8-8ca6-a2b30c9eb8e0',\n",
              "                        [{\"hoverlabel\": {\"namelength\": 0}, \"hovertemplate\": \"<b>%{hovertext}</b><br><br>variable=trend<br>date=%{x}<br>value=%{y}\", \"hovertext\": [\"trend\", \"trend\", \"trend\", \"trend\", \"trend\", \"trend\", \"trend\", \"trend\", \"trend\", \"trend\", \"trend\", \"trend\", \"trend\", \"trend\", \"trend\", \"trend\", \"trend\", \"trend\", \"trend\", \"trend\", \"trend\", \"trend\", \"trend\", \"trend\", \"trend\", \"trend\", \"trend\", \"trend\", \"trend\", \"trend\", \"trend\", \"trend\", \"trend\", \"trend\", \"trend\", \"trend\", \"trend\", \"trend\", \"trend\", \"trend\", \"trend\", \"trend\", \"trend\", \"trend\", \"trend\", \"trend\", \"trend\", \"trend\", \"trend\", \"trend\", \"trend\", \"trend\", \"trend\", \"trend\", \"trend\", \"trend\", \"trend\", \"trend\", \"trend\", \"trend\", \"trend\", \"trend\", \"trend\", \"trend\", \"trend\", \"trend\", \"trend\", \"trend\", \"trend\", \"trend\", \"trend\", \"trend\", \"trend\", \"trend\", \"trend\", \"trend\", \"trend\", \"trend\", \"trend\", \"trend\", \"trend\", \"trend\", \"trend\", \"trend\", \"trend\", \"trend\", \"trend\", \"trend\", \"trend\", \"trend\", \"trend\", \"trend\", \"trend\", \"trend\", \"trend\", \"trend\", \"trend\", \"trend\", \"trend\", \"trend\", \"trend\", \"trend\", \"trend\", \"trend\", \"trend\", \"trend\", \"trend\", \"trend\", \"trend\", \"trend\", \"trend\", \"trend\", \"trend\", \"trend\", \"trend\", \"trend\", \"trend\", \"trend\", \"trend\", \"trend\", \"trend\", \"trend\", \"trend\", \"trend\", \"trend\", \"trend\", \"trend\", \"trend\", \"trend\", \"trend\", \"trend\", \"trend\", \"trend\", \"trend\", \"trend\", \"trend\", \"trend\", \"trend\", \"trend\", \"trend\", \"trend\", \"trend\", \"trend\", \"trend\", \"trend\", \"trend\", \"trend\", \"trend\", \"trend\", \"trend\", \"trend\", \"trend\", \"trend\", \"trend\", \"trend\", \"trend\", \"trend\", \"trend\", \"trend\", \"trend\", \"trend\", \"trend\", \"trend\", \"trend\", \"trend\", \"trend\", \"trend\", \"trend\", \"trend\", \"trend\", \"trend\", \"trend\", \"trend\", \"trend\", \"trend\", \"trend\", \"trend\", \"trend\", \"trend\", \"trend\", \"trend\", \"trend\", \"trend\", \"trend\", \"trend\", \"trend\", \"trend\", \"trend\", \"trend\", \"trend\", \"trend\", \"trend\", \"trend\", \"trend\", \"trend\", \"trend\", \"trend\", \"trend\", \"trend\", \"trend\", \"trend\", \"trend\", \"trend\", \"trend\", \"trend\", \"trend\", \"trend\", \"trend\", \"trend\", \"trend\", \"trend\", \"trend\", \"trend\", \"trend\", \"trend\", \"trend\", \"trend\", \"trend\", \"trend\", \"trend\", \"trend\", \"trend\", \"trend\", \"trend\", \"trend\", \"trend\", \"trend\", \"trend\", \"trend\", \"trend\", \"trend\", \"trend\", \"trend\", \"trend\", \"trend\", \"trend\", \"trend\", \"trend\", \"trend\", \"trend\", \"trend\", \"trend\", \"trend\", \"trend\", \"trend\", \"trend\", \"trend\", \"trend\", \"trend\", \"trend\", \"trend\", \"trend\", \"trend\", \"trend\", \"trend\", \"trend\", \"trend\", \"trend\", \"trend\", \"trend\", \"trend\", \"trend\", \"trend\", \"trend\", \"trend\", \"trend\", \"trend\", \"trend\", \"trend\", \"trend\", \"trend\", \"trend\", \"trend\", \"trend\", \"trend\", \"trend\", \"trend\", \"trend\"], \"legendgroup\": \"variable=trend\", \"line\": {\"color\": \"#636efa\", \"dash\": \"solid\"}, \"mode\": \"lines\", \"name\": \"variable=trend\", \"showlegend\": true, \"type\": \"scatter\", \"x\": [\"2011-01-29T00:00:00\", \"2011-02-05T00:00:00\", \"2011-02-12T00:00:00\", \"2011-02-19T00:00:00\", \"2011-02-26T00:00:00\", \"2011-03-05T00:00:00\", \"2011-03-12T00:00:00\", \"2011-03-19T00:00:00\", \"2011-03-26T00:00:00\", \"2011-04-02T00:00:00\", \"2011-04-09T00:00:00\", \"2011-04-16T00:00:00\", \"2011-04-23T00:00:00\", \"2011-04-30T00:00:00\", \"2011-05-07T00:00:00\", \"2011-05-14T00:00:00\", \"2011-05-21T00:00:00\", \"2011-05-28T00:00:00\", \"2011-06-04T00:00:00\", \"2011-06-11T00:00:00\", \"2011-06-18T00:00:00\", \"2011-06-25T00:00:00\", \"2011-07-02T00:00:00\", \"2011-07-09T00:00:00\", \"2011-07-16T00:00:00\", \"2011-07-23T00:00:00\", \"2011-07-30T00:00:00\", \"2011-08-06T00:00:00\", \"2011-08-13T00:00:00\", \"2011-08-20T00:00:00\", \"2011-08-27T00:00:00\", \"2011-09-03T00:00:00\", \"2011-09-10T00:00:00\", \"2011-09-17T00:00:00\", \"2011-09-24T00:00:00\", \"2011-10-01T00:00:00\", \"2011-10-08T00:00:00\", \"2011-10-15T00:00:00\", \"2011-10-22T00:00:00\", \"2011-10-29T00:00:00\", \"2011-11-05T00:00:00\", \"2011-11-12T00:00:00\", \"2011-11-19T00:00:00\", \"2011-11-26T00:00:00\", \"2011-12-03T00:00:00\", \"2011-12-10T00:00:00\", \"2011-12-17T00:00:00\", \"2011-12-24T00:00:00\", \"2011-12-31T00:00:00\", \"2012-01-07T00:00:00\", \"2012-01-14T00:00:00\", \"2012-01-21T00:00:00\", \"2012-01-28T00:00:00\", \"2012-02-04T00:00:00\", \"2012-02-11T00:00:00\", \"2012-02-18T00:00:00\", \"2012-02-25T00:00:00\", \"2012-03-03T00:00:00\", \"2012-03-10T00:00:00\", \"2012-03-17T00:00:00\", \"2012-03-24T00:00:00\", \"2012-03-31T00:00:00\", \"2012-04-07T00:00:00\", \"2012-04-14T00:00:00\", \"2012-04-21T00:00:00\", \"2012-04-28T00:00:00\", \"2012-05-05T00:00:00\", \"2012-05-12T00:00:00\", \"2012-05-19T00:00:00\", \"2012-05-26T00:00:00\", \"2012-06-02T00:00:00\", \"2012-06-09T00:00:00\", \"2012-06-16T00:00:00\", \"2012-06-23T00:00:00\", \"2012-06-30T00:00:00\", \"2012-07-07T00:00:00\", \"2012-07-14T00:00:00\", \"2012-07-21T00:00:00\", \"2012-07-28T00:00:00\", \"2012-08-04T00:00:00\", \"2012-08-11T00:00:00\", \"2012-08-18T00:00:00\", \"2012-08-25T00:00:00\", \"2012-09-01T00:00:00\", \"2012-09-08T00:00:00\", \"2012-09-15T00:00:00\", \"2012-09-22T00:00:00\", \"2012-09-29T00:00:00\", \"2012-10-06T00:00:00\", \"2012-10-13T00:00:00\", \"2012-10-20T00:00:00\", \"2012-10-27T00:00:00\", \"2012-11-03T00:00:00\", \"2012-11-10T00:00:00\", \"2012-11-17T00:00:00\", \"2012-11-24T00:00:00\", \"2012-12-01T00:00:00\", \"2012-12-08T00:00:00\", \"2012-12-15T00:00:00\", \"2012-12-22T00:00:00\", \"2012-12-29T00:00:00\", \"2013-01-05T00:00:00\", \"2013-01-12T00:00:00\", \"2013-01-19T00:00:00\", \"2013-01-26T00:00:00\", \"2013-02-02T00:00:00\", \"2013-02-09T00:00:00\", \"2013-02-16T00:00:00\", \"2013-02-23T00:00:00\", \"2013-03-02T00:00:00\", \"2013-03-09T00:00:00\", \"2013-03-16T00:00:00\", \"2013-03-23T00:00:00\", \"2013-03-30T00:00:00\", \"2013-04-06T00:00:00\", \"2013-04-13T00:00:00\", \"2013-04-20T00:00:00\", \"2013-04-27T00:00:00\", \"2013-05-04T00:00:00\", \"2013-05-11T00:00:00\", \"2013-05-18T00:00:00\", \"2013-05-25T00:00:00\", \"2013-06-01T00:00:00\", \"2013-06-08T00:00:00\", \"2013-06-15T00:00:00\", \"2013-06-22T00:00:00\", \"2013-06-29T00:00:00\", \"2013-07-06T00:00:00\", \"2013-07-13T00:00:00\", \"2013-07-20T00:00:00\", \"2013-07-27T00:00:00\", \"2013-08-03T00:00:00\", \"2013-08-10T00:00:00\", \"2013-08-17T00:00:00\", \"2013-08-24T00:00:00\", \"2013-08-31T00:00:00\", \"2013-09-07T00:00:00\", \"2013-09-14T00:00:00\", \"2013-09-21T00:00:00\", \"2013-09-28T00:00:00\", \"2013-10-05T00:00:00\", \"2013-10-12T00:00:00\", \"2013-10-19T00:00:00\", \"2013-10-26T00:00:00\", \"2013-11-02T00:00:00\", \"2013-11-09T00:00:00\", \"2013-11-16T00:00:00\", \"2013-11-23T00:00:00\", \"2013-11-30T00:00:00\", \"2013-12-07T00:00:00\", \"2013-12-14T00:00:00\", \"2013-12-21T00:00:00\", \"2013-12-28T00:00:00\", \"2014-01-04T00:00:00\", \"2014-01-11T00:00:00\", \"2014-01-18T00:00:00\", \"2014-01-25T00:00:00\", \"2014-02-01T00:00:00\", \"2014-02-08T00:00:00\", \"2014-02-15T00:00:00\", \"2014-02-22T00:00:00\", \"2014-03-01T00:00:00\", \"2014-03-08T00:00:00\", \"2014-03-15T00:00:00\", \"2014-03-22T00:00:00\", \"2014-03-29T00:00:00\", \"2014-04-05T00:00:00\", \"2014-04-12T00:00:00\", \"2014-04-19T00:00:00\", \"2014-04-26T00:00:00\", \"2014-05-03T00:00:00\", \"2014-05-10T00:00:00\", \"2014-05-17T00:00:00\", \"2014-05-24T00:00:00\", \"2014-05-31T00:00:00\", \"2014-06-07T00:00:00\", \"2014-06-14T00:00:00\", \"2014-06-21T00:00:00\", \"2014-06-28T00:00:00\", \"2014-07-05T00:00:00\", \"2014-07-12T00:00:00\", \"2014-07-19T00:00:00\", \"2014-07-26T00:00:00\", \"2014-08-02T00:00:00\", \"2014-08-09T00:00:00\", \"2014-08-16T00:00:00\", \"2014-08-23T00:00:00\", \"2014-08-30T00:00:00\", \"2014-09-06T00:00:00\", \"2014-09-13T00:00:00\", \"2014-09-20T00:00:00\", \"2014-09-27T00:00:00\", \"2014-10-04T00:00:00\", \"2014-10-11T00:00:00\", \"2014-10-18T00:00:00\", \"2014-10-25T00:00:00\", \"2014-11-01T00:00:00\", \"2014-11-08T00:00:00\", \"2014-11-15T00:00:00\", \"2014-11-22T00:00:00\", \"2014-11-29T00:00:00\", \"2014-12-06T00:00:00\", \"2014-12-13T00:00:00\", \"2014-12-20T00:00:00\", \"2014-12-27T00:00:00\", \"2015-01-03T00:00:00\", \"2015-01-10T00:00:00\", \"2015-01-17T00:00:00\", \"2015-01-24T00:00:00\", \"2015-01-31T00:00:00\", \"2015-02-07T00:00:00\", \"2015-02-14T00:00:00\", \"2015-02-21T00:00:00\", \"2015-02-28T00:00:00\", \"2015-03-07T00:00:00\", \"2015-03-14T00:00:00\", \"2015-03-21T00:00:00\", \"2015-03-28T00:00:00\", \"2015-04-04T00:00:00\", \"2015-04-11T00:00:00\", \"2015-04-18T00:00:00\", \"2015-04-25T00:00:00\", \"2015-05-02T00:00:00\", \"2015-05-09T00:00:00\", \"2015-05-16T00:00:00\", \"2015-05-23T00:00:00\", \"2015-05-30T00:00:00\", \"2015-06-06T00:00:00\", \"2015-06-13T00:00:00\", \"2015-06-20T00:00:00\", \"2015-06-27T00:00:00\", \"2015-07-04T00:00:00\", \"2015-07-11T00:00:00\", \"2015-07-18T00:00:00\", \"2015-07-25T00:00:00\", \"2015-08-01T00:00:00\", \"2015-08-08T00:00:00\", \"2015-08-15T00:00:00\", \"2015-08-22T00:00:00\", \"2015-08-29T00:00:00\", \"2015-09-05T00:00:00\", \"2015-09-12T00:00:00\", \"2015-09-19T00:00:00\", \"2015-09-26T00:00:00\", \"2015-10-03T00:00:00\", \"2015-10-10T00:00:00\", \"2015-10-17T00:00:00\", \"2015-10-24T00:00:00\", \"2015-10-31T00:00:00\", \"2015-11-07T00:00:00\", \"2015-11-14T00:00:00\", \"2015-11-21T00:00:00\", \"2015-11-28T00:00:00\", \"2015-12-05T00:00:00\", \"2015-12-12T00:00:00\", \"2015-12-19T00:00:00\", \"2015-12-26T00:00:00\", \"2016-01-02T00:00:00\", \"2016-01-09T00:00:00\", \"2016-01-16T00:00:00\", \"2016-01-23T00:00:00\", \"2016-01-30T00:00:00\", \"2016-02-06T00:00:00\", \"2016-02-13T00:00:00\", \"2016-02-20T00:00:00\", \"2016-02-27T00:00:00\", \"2016-03-05T00:00:00\", \"2016-03-12T00:00:00\", \"2016-03-19T00:00:00\", \"2016-03-26T00:00:00\", \"2016-04-02T00:00:00\", \"2016-04-09T00:00:00\", \"2016-04-16T00:00:00\", \"2016-04-23T00:00:00\", \"2016-04-30T00:00:00\", \"2016-05-07T00:00:00\", \"2016-05-14T00:00:00\", \"2016-05-21T00:00:00\"], \"xaxis\": \"x\", \"y\": [7809.387327721084, 7840.364510046207, 7871.635725986089, 7903.196796540627, 7935.040669567034, 7967.158539513359, 7999.541059633779, 8032.18045033741, 8065.069275174832, 8098.199335663243, 8131.560875487913, 8165.143570615659, 8198.935550036605, 8232.921928750195, 8267.084678051382, 8301.404875404989, 8335.864007192855, 8370.444490666487, 8405.128943681737, 8439.900283581446, 8474.744460592077, 8509.652111646092, 8544.617709908769, 8579.639590568238, 8614.72275577142, 8649.878031409637, 8685.121275233807, 8720.472154942863, 8755.95477027309, 8791.601269612056, 8827.453883869965, 8863.565826834267, 8900.008631836552, 8936.888021230496, 8974.364974329357, 9012.683855262334, 9052.207580498987, 9093.454891305842, 9137.079643475972, 9183.638912383853, 9245.506116880717, 9310.281491291547, 9377.74443161325, 9447.632369928271, 9519.606405675622, 9593.259542290265, 9668.161461782722, 9743.878143263497, 9819.958286296518, 9895.915578045488, 9971.242931364653, 10045.45048517223, 10118.101288441005, 10188.82167574105, 10257.3514564629, 10323.574963540494, 10387.499174034481, 10449.215862845089, 10508.843165930244, 10566.529403910556, 10622.453362437951, 10676.842563509168, 10729.9731946038, 10782.09056527808, 10833.41921694527, 10884.18311612744, 10934.578538794281, 10984.745506385229, 11034.793323987706, 11084.837327050343, 11134.974341722535, 11185.263602031151, 11235.702109777421, 11286.151830094614, 11336.339909277898, 11385.949673750156, 11434.632739934143, 11482.021151102233, 11527.726076984622, 11571.3448891077, 11612.485276772839, 11650.767554340076, 11685.819040814236, 11717.310776897171, 11744.99114550221, 11768.66291015649, 11788.184183223962, 11803.473846130486, 11814.515728565566, 11821.34967680087, 11824.100192420148, 11823.002411734911, 11818.388916717646, 11810.619751783035, 11800.061936462616, 11787.10597930664, 11772.172139931537, 11755.763633124094, 11738.464195310324, 11720.915518549717, 11703.779230411688, 11687.655966934115, 11673.077291349638, 11660.47314541683, 11650.11610490799, 11642.107074448342, 11636.404992299964, 11632.840621950849, 11631.122484459174, 11630.841225472057, 11631.535351049119, 11632.76237360089, 11634.098269116004, 11635.085932218575, 11635.247425736383, 11634.200662640134, 11631.654078121917, 11627.357357632114, 11621.077815955998, 11612.613793790642, 11601.822460213878, 11588.604833581716, 11572.91256245382, 11554.746697338354, 11534.204822362799, 11511.532464213577, 11487.084024715881, 11461.247138431037, 11434.438619736218, 11407.092753485222, 11379.62196908658, 11352.371143738677, 11325.610645895407, 11299.567838153573, 11274.46251827092, 11250.488133423149, 11227.740943244293, 11206.214167690185, 11185.819467364288, 11166.430900925536, 11147.913547532666, 11130.121412864475, 11112.88298591711, 11095.988999948357, 11079.19665078068, 11062.199310229686, 11044.663143693873, 11026.30090555112, 11006.864998445342, 10986.127031151598, 10963.910495944087, 10940.038060209856, 10914.308831457533, 10886.576112808772, 10856.79700057561, 10825.023334659645, 10791.403180481751, 10756.14206411652, 10719.511191355772, 10681.896160151136, 10643.75351895726, 10605.557713358054, 10567.779055018882, 10530.868384890011, 10495.263146525756, 10461.386265283241, 10429.631674944309, 10400.320161318747, 10373.712350126332, 10350.034987030771, 10329.427148389019, 10311.927865641168, 10297.500088349658, 10286.01758239975, 10277.202222324619, 10270.682831407066, 10266.058985181327, 10262.942475266025, 10260.979632166507, 10259.82868793899, 10259.15785357, 10258.665608514737, 10258.113018638393, 10257.319558582984, 10256.173651101504, 10254.639017180843, 10252.685477613575, 10250.263631470389, 10247.447208106752, 10244.413931362606, 10241.403871497243, 10238.657586773494, 10236.397628287032, 10234.850671806073, 10234.281067880243, 10234.98477967686, 10237.242382070797, 10241.30303446057, 10247.356061636074, 10255.49460253851, 10265.741277782141, 10278.044252114289, 10292.27689974215, 10308.3024091782, 10325.98558115771, 10345.169803905179, 10365.669483947453, 10387.299945002218, 10409.879486912334, 10433.237290527499, 10457.17758515784, 10481.441341441905, 10505.755502105494, 10529.878887151473, 10553.609986839274, 10576.767234511231, 10599.186496375221, 10620.744957469393, 10641.371362179336, 10661.063752519722, 10679.880566835538, 10697.898505556199, 10715.24006692145, 10732.061567651408, 10748.53150886137, 10764.85426568628, 10781.312708200769, 10798.228806627407, 10815.941552184451, 10834.752589198222, 10854.891286878024, 10876.537707783797, 10899.848551175794, 10924.932758478362, 10951.840738836843, 10980.56363723513, 11011.028827749631, 11043.139246169147, 11076.798636865102, 11114.906588577669, 11153.454393765694, 11191.89438776145, 11229.975732690355, 11267.611604621354, 11304.794116233827, 11341.550164221248, 11377.917826648665, 11413.937592694112, 11449.648511703637, 11485.087376853962, 11520.290929462304, 11555.294049593733, 11590.12800555527, 11624.821990233826, 11659.403416123881, 11693.897734905831, 11728.328144216677, 11762.715983232434, 11797.081667571054, 11831.445604866667, 11865.828123842468, 11900.248596327921, 11934.7257926533, 11969.277993096332, 12003.921453084213, 12038.668178012435, 12073.52616711059, 12108.500637697638, 12143.595046438615, 12178.811203208594, 12214.148331236716, 12249.602793450598, 12285.167825722678, 12320.834346129852, 12356.59189098061, 12392.430121794805, 12428.340160882864, 12464.312554232343], \"yaxis\": \"y\"}, {\"hoverlabel\": {\"namelength\": 0}, \"hovertemplate\": \"<b>%{hovertext}</b><br><br>variable=season<br>date=%{x}<br>value=%{y}\", \"hovertext\": [\"season\", \"season\", \"season\", \"season\", \"season\", \"season\", \"season\", \"season\", \"season\", \"season\", \"season\", \"season\", \"season\", \"season\", \"season\", \"season\", \"season\", \"season\", \"season\", \"season\", \"season\", \"season\", \"season\", \"season\", \"season\", \"season\", \"season\", \"season\", \"season\", \"season\", \"season\", \"season\", \"season\", \"season\", \"season\", \"season\", \"season\", \"season\", \"season\", \"season\", \"season\", \"season\", \"season\", \"season\", \"season\", \"season\", \"season\", \"season\", \"season\", \"season\", \"season\", \"season\", \"season\", \"season\", \"season\", \"season\", \"season\", \"season\", \"season\", \"season\", \"season\", \"season\", \"season\", \"season\", \"season\", \"season\", \"season\", \"season\", \"season\", \"season\", \"season\", \"season\", \"season\", \"season\", \"season\", \"season\", \"season\", \"season\", \"season\", \"season\", \"season\", \"season\", \"season\", \"season\", \"season\", \"season\", \"season\", \"season\", \"season\", \"season\", \"season\", \"season\", \"season\", \"season\", \"season\", \"season\", \"season\", \"season\", \"season\", \"season\", \"season\", \"season\", \"season\", \"season\", \"season\", \"season\", \"season\", \"season\", \"season\", \"season\", \"season\", \"season\", \"season\", \"season\", \"season\", \"season\", \"season\", \"season\", \"season\", \"season\", \"season\", \"season\", \"season\", \"season\", \"season\", \"season\", \"season\", \"season\", \"season\", \"season\", \"season\", \"season\", \"season\", \"season\", \"season\", \"season\", \"season\", \"season\", \"season\", \"season\", \"season\", \"season\", \"season\", \"season\", \"season\", \"season\", \"season\", \"season\", \"season\", \"season\", \"season\", \"season\", \"season\", \"season\", \"season\", \"season\", \"season\", \"season\", \"season\", \"season\", \"season\", \"season\", \"season\", \"season\", \"season\", \"season\", \"season\", \"season\", \"season\", \"season\", \"season\", \"season\", \"season\", \"season\", \"season\", \"season\", \"season\", \"season\", \"season\", \"season\", \"season\", \"season\", \"season\", \"season\", \"season\", \"season\", \"season\", \"season\", \"season\", \"season\", \"season\", \"season\", \"season\", \"season\", \"season\", \"season\", \"season\", \"season\", \"season\", \"season\", \"season\", \"season\", \"season\", \"season\", \"season\", \"season\", \"season\", \"season\", \"season\", \"season\", \"season\", \"season\", \"season\", \"season\", \"season\", \"season\", \"season\", \"season\", \"season\", \"season\", \"season\", \"season\", \"season\", \"season\", \"season\", \"season\", \"season\", \"season\", \"season\", \"season\", \"season\", \"season\", \"season\", \"season\", \"season\", \"season\", \"season\", \"season\", \"season\", \"season\", \"season\", \"season\", \"season\", \"season\", \"season\", \"season\", \"season\", \"season\", \"season\", \"season\", \"season\", \"season\", \"season\", \"season\", \"season\", \"season\", \"season\", \"season\", \"season\", \"season\", \"season\", \"season\", \"season\", \"season\", \"season\", \"season\", \"season\", \"season\", \"season\", \"season\", \"season\", \"season\", \"season\", \"season\", \"season\", \"season\", \"season\", \"season\"], \"legendgroup\": \"variable=season\", \"line\": {\"color\": \"#EF553B\", \"dash\": \"solid\"}, \"mode\": \"lines\", \"name\": \"variable=season\", \"showlegend\": true, \"type\": \"scatter\", \"x\": [\"2011-01-29T00:00:00\", \"2011-02-05T00:00:00\", \"2011-02-12T00:00:00\", \"2011-02-19T00:00:00\", \"2011-02-26T00:00:00\", \"2011-03-05T00:00:00\", \"2011-03-12T00:00:00\", \"2011-03-19T00:00:00\", \"2011-03-26T00:00:00\", \"2011-04-02T00:00:00\", \"2011-04-09T00:00:00\", \"2011-04-16T00:00:00\", \"2011-04-23T00:00:00\", \"2011-04-30T00:00:00\", \"2011-05-07T00:00:00\", \"2011-05-14T00:00:00\", \"2011-05-21T00:00:00\", \"2011-05-28T00:00:00\", \"2011-06-04T00:00:00\", \"2011-06-11T00:00:00\", \"2011-06-18T00:00:00\", \"2011-06-25T00:00:00\", \"2011-07-02T00:00:00\", \"2011-07-09T00:00:00\", \"2011-07-16T00:00:00\", \"2011-07-23T00:00:00\", \"2011-07-30T00:00:00\", \"2011-08-06T00:00:00\", \"2011-08-13T00:00:00\", \"2011-08-20T00:00:00\", \"2011-08-27T00:00:00\", \"2011-09-03T00:00:00\", \"2011-09-10T00:00:00\", \"2011-09-17T00:00:00\", \"2011-09-24T00:00:00\", \"2011-10-01T00:00:00\", \"2011-10-08T00:00:00\", \"2011-10-15T00:00:00\", \"2011-10-22T00:00:00\", \"2011-10-29T00:00:00\", \"2011-11-05T00:00:00\", \"2011-11-12T00:00:00\", \"2011-11-19T00:00:00\", \"2011-11-26T00:00:00\", \"2011-12-03T00:00:00\", \"2011-12-10T00:00:00\", \"2011-12-17T00:00:00\", \"2011-12-24T00:00:00\", \"2011-12-31T00:00:00\", \"2012-01-07T00:00:00\", \"2012-01-14T00:00:00\", \"2012-01-21T00:00:00\", \"2012-01-28T00:00:00\", \"2012-02-04T00:00:00\", \"2012-02-11T00:00:00\", \"2012-02-18T00:00:00\", \"2012-02-25T00:00:00\", \"2012-03-03T00:00:00\", \"2012-03-10T00:00:00\", \"2012-03-17T00:00:00\", \"2012-03-24T00:00:00\", \"2012-03-31T00:00:00\", \"2012-04-07T00:00:00\", \"2012-04-14T00:00:00\", \"2012-04-21T00:00:00\", \"2012-04-28T00:00:00\", \"2012-05-05T00:00:00\", \"2012-05-12T00:00:00\", \"2012-05-19T00:00:00\", \"2012-05-26T00:00:00\", \"2012-06-02T00:00:00\", \"2012-06-09T00:00:00\", \"2012-06-16T00:00:00\", \"2012-06-23T00:00:00\", \"2012-06-30T00:00:00\", \"2012-07-07T00:00:00\", \"2012-07-14T00:00:00\", \"2012-07-21T00:00:00\", \"2012-07-28T00:00:00\", \"2012-08-04T00:00:00\", \"2012-08-11T00:00:00\", \"2012-08-18T00:00:00\", \"2012-08-25T00:00:00\", \"2012-09-01T00:00:00\", \"2012-09-08T00:00:00\", \"2012-09-15T00:00:00\", \"2012-09-22T00:00:00\", \"2012-09-29T00:00:00\", \"2012-10-06T00:00:00\", \"2012-10-13T00:00:00\", \"2012-10-20T00:00:00\", \"2012-10-27T00:00:00\", \"2012-11-03T00:00:00\", \"2012-11-10T00:00:00\", \"2012-11-17T00:00:00\", \"2012-11-24T00:00:00\", \"2012-12-01T00:00:00\", \"2012-12-08T00:00:00\", \"2012-12-15T00:00:00\", \"2012-12-22T00:00:00\", \"2012-12-29T00:00:00\", \"2013-01-05T00:00:00\", \"2013-01-12T00:00:00\", \"2013-01-19T00:00:00\", \"2013-01-26T00:00:00\", \"2013-02-02T00:00:00\", \"2013-02-09T00:00:00\", \"2013-02-16T00:00:00\", \"2013-02-23T00:00:00\", \"2013-03-02T00:00:00\", \"2013-03-09T00:00:00\", \"2013-03-16T00:00:00\", \"2013-03-23T00:00:00\", \"2013-03-30T00:00:00\", \"2013-04-06T00:00:00\", \"2013-04-13T00:00:00\", \"2013-04-20T00:00:00\", \"2013-04-27T00:00:00\", \"2013-05-04T00:00:00\", \"2013-05-11T00:00:00\", \"2013-05-18T00:00:00\", \"2013-05-25T00:00:00\", \"2013-06-01T00:00:00\", \"2013-06-08T00:00:00\", \"2013-06-15T00:00:00\", \"2013-06-22T00:00:00\", \"2013-06-29T00:00:00\", \"2013-07-06T00:00:00\", \"2013-07-13T00:00:00\", \"2013-07-20T00:00:00\", \"2013-07-27T00:00:00\", \"2013-08-03T00:00:00\", \"2013-08-10T00:00:00\", \"2013-08-17T00:00:00\", \"2013-08-24T00:00:00\", \"2013-08-31T00:00:00\", \"2013-09-07T00:00:00\", \"2013-09-14T00:00:00\", \"2013-09-21T00:00:00\", \"2013-09-28T00:00:00\", \"2013-10-05T00:00:00\", \"2013-10-12T00:00:00\", \"2013-10-19T00:00:00\", \"2013-10-26T00:00:00\", \"2013-11-02T00:00:00\", \"2013-11-09T00:00:00\", \"2013-11-16T00:00:00\", \"2013-11-23T00:00:00\", \"2013-11-30T00:00:00\", \"2013-12-07T00:00:00\", \"2013-12-14T00:00:00\", \"2013-12-21T00:00:00\", \"2013-12-28T00:00:00\", \"2014-01-04T00:00:00\", \"2014-01-11T00:00:00\", \"2014-01-18T00:00:00\", \"2014-01-25T00:00:00\", \"2014-02-01T00:00:00\", \"2014-02-08T00:00:00\", \"2014-02-15T00:00:00\", \"2014-02-22T00:00:00\", \"2014-03-01T00:00:00\", \"2014-03-08T00:00:00\", \"2014-03-15T00:00:00\", \"2014-03-22T00:00:00\", \"2014-03-29T00:00:00\", \"2014-04-05T00:00:00\", \"2014-04-12T00:00:00\", \"2014-04-19T00:00:00\", \"2014-04-26T00:00:00\", \"2014-05-03T00:00:00\", \"2014-05-10T00:00:00\", \"2014-05-17T00:00:00\", \"2014-05-24T00:00:00\", \"2014-05-31T00:00:00\", \"2014-06-07T00:00:00\", \"2014-06-14T00:00:00\", \"2014-06-21T00:00:00\", \"2014-06-28T00:00:00\", \"2014-07-05T00:00:00\", \"2014-07-12T00:00:00\", \"2014-07-19T00:00:00\", \"2014-07-26T00:00:00\", \"2014-08-02T00:00:00\", \"2014-08-09T00:00:00\", \"2014-08-16T00:00:00\", \"2014-08-23T00:00:00\", \"2014-08-30T00:00:00\", \"2014-09-06T00:00:00\", \"2014-09-13T00:00:00\", \"2014-09-20T00:00:00\", \"2014-09-27T00:00:00\", \"2014-10-04T00:00:00\", \"2014-10-11T00:00:00\", \"2014-10-18T00:00:00\", \"2014-10-25T00:00:00\", \"2014-11-01T00:00:00\", \"2014-11-08T00:00:00\", \"2014-11-15T00:00:00\", \"2014-11-22T00:00:00\", \"2014-11-29T00:00:00\", \"2014-12-06T00:00:00\", \"2014-12-13T00:00:00\", \"2014-12-20T00:00:00\", \"2014-12-27T00:00:00\", \"2015-01-03T00:00:00\", \"2015-01-10T00:00:00\", \"2015-01-17T00:00:00\", \"2015-01-24T00:00:00\", \"2015-01-31T00:00:00\", \"2015-02-07T00:00:00\", \"2015-02-14T00:00:00\", \"2015-02-21T00:00:00\", \"2015-02-28T00:00:00\", \"2015-03-07T00:00:00\", \"2015-03-14T00:00:00\", \"2015-03-21T00:00:00\", \"2015-03-28T00:00:00\", \"2015-04-04T00:00:00\", \"2015-04-11T00:00:00\", \"2015-04-18T00:00:00\", \"2015-04-25T00:00:00\", \"2015-05-02T00:00:00\", \"2015-05-09T00:00:00\", \"2015-05-16T00:00:00\", \"2015-05-23T00:00:00\", \"2015-05-30T00:00:00\", \"2015-06-06T00:00:00\", \"2015-06-13T00:00:00\", \"2015-06-20T00:00:00\", \"2015-06-27T00:00:00\", \"2015-07-04T00:00:00\", \"2015-07-11T00:00:00\", \"2015-07-18T00:00:00\", \"2015-07-25T00:00:00\", \"2015-08-01T00:00:00\", \"2015-08-08T00:00:00\", \"2015-08-15T00:00:00\", \"2015-08-22T00:00:00\", \"2015-08-29T00:00:00\", \"2015-09-05T00:00:00\", \"2015-09-12T00:00:00\", \"2015-09-19T00:00:00\", \"2015-09-26T00:00:00\", \"2015-10-03T00:00:00\", \"2015-10-10T00:00:00\", \"2015-10-17T00:00:00\", \"2015-10-24T00:00:00\", \"2015-10-31T00:00:00\", \"2015-11-07T00:00:00\", \"2015-11-14T00:00:00\", \"2015-11-21T00:00:00\", \"2015-11-28T00:00:00\", \"2015-12-05T00:00:00\", \"2015-12-12T00:00:00\", \"2015-12-19T00:00:00\", \"2015-12-26T00:00:00\", \"2016-01-02T00:00:00\", \"2016-01-09T00:00:00\", \"2016-01-16T00:00:00\", \"2016-01-23T00:00:00\", \"2016-01-30T00:00:00\", \"2016-02-06T00:00:00\", \"2016-02-13T00:00:00\", \"2016-02-20T00:00:00\", \"2016-02-27T00:00:00\", \"2016-03-05T00:00:00\", \"2016-03-12T00:00:00\", \"2016-03-19T00:00:00\", \"2016-03-26T00:00:00\", \"2016-04-02T00:00:00\", \"2016-04-09T00:00:00\", \"2016-04-16T00:00:00\", \"2016-04-23T00:00:00\", \"2016-04-30T00:00:00\", \"2016-05-07T00:00:00\", \"2016-05-14T00:00:00\", \"2016-05-21T00:00:00\"], \"xaxis\": \"x\", \"y\": [2130.040158722791, 2813.495214721125, 159.16823735686782, -943.4764019529637, 108.99634610534235, 429.9591843238899, 110.45610933995351, -1188.1870547410276, -1439.2880114995057, 237.11083027514934, -470.04016176396146, -1922.0463588639325, -2098.749504539963, -673.7550894613173, -378.98598677626273, -860.3193693729548, -1635.0937740913857, -863.4290507982687, 1620.2731126869987, 756.630573839795, -746.4301995739207, -1078.6468807558563, 1439.439165377701, 1008.3336640182055, 549.4127821902322, -1706.4431176055978, 276.2892213874778, 190.1250124677041, -63.30263193003764, -1692.498080524883, -546.9525895407995, -174.15486043328352, -28.286942876156708, -1161.2858538538383, -910.8119237256731, 1334.964194076779, 1382.505330625457, 319.2027145220075, -1309.6921097870704, 456.17001911272314, 1461.6866433962555, 1089.6058060850257, 809.5061701358145, -1400.7599615796544, 1849.6535791810397, 2229.398024553536, 1221.0454946065724, -689.5588826540209, 942.3266459908627, 887.7855112929738, 38.94335978392408, -1494.9126993063994, 414.11699587525425, 1934.2431854317622, 620.5692855632195, -805.8531918861684, -296.9027237519151, 747.2034962866389, 663.7525576440268, -953.5665972038911, -1589.8856187149365, 198.40607334956272, 29.66467232317691, -1241.9059989083496, -2238.9860575078483, -1007.0156181708956, 54.39771413256034, -330.26124213155697, -1647.0826999249657, -1504.0837512994358, 1056.1900638235043, 850.6470254044655, -503.83228308846657, -1289.3696298186487, 1422.4196851184834, 1279.5875294510856, 788.6494563984406, -1748.337778290965, -488.1320855605486, 443.8147945779066, 231.82140664188657, -1426.1422551118935, -589.6813265315375, 532.7615084703708, 726.5037363978079, -355.27275924344985, -1050.3338385032016, 1009.3119949655149, 1533.060033302095, 737.1363068676018, -1316.4625287815948, -84.80496662678159, 1670.5915342311253, 1059.926830304497, 349.1166048137263, -1078.632513637918, 1404.6833082449732, 1522.003622895737, 586.4441558508981, -965.2172220920532, 268.6124142283466, 1167.8882028971536, 746.3867668594055, -1524.0755190355674, -1159.3462452792405, 1093.9003819742045, 1006.0639151060815, -691.2418380008498, -707.0674527017082, 956.5171115104458, 1180.2504844853188, -664.3832596704117, -1758.3336651004643, 106.48653345126378, 463.042452968393, -564.6978766524804, -2270.6690137919186, -1253.4367137454726, 527.8639199135109, 234.14691256071404, -1622.3832114575391, -2063.85799550873, 529.8512629618983, 960.0837200122813, -227.65717668429767, -1462.1488803055645, 1454.2037428929038, 1570.781522707068, 1042.9425143445696, -1713.5725229113561, -1176.721983002869, 677.1771380063705, 463.5986101233283, -1183.9763428320596, -760.4439858982229, 1088.372493386408, 1338.8250683689157, 346.4970298649774, -1237.5499035874204, 596.9227920948556, 1616.609410715355, 1095.0019227170772, -1320.700216122626, -599.714299703243, 1818.0010531337296, 1008.251782350577, -55.9330601656124, -805.0753671079162, 838.7095694773201, 752.7905306132732, -11.30105238069423, -1215.5119380978053, -442.72705114047005, 1363.7681080952605, 1408.488365725324, -1507.0847013537748, -1680.6013479339174, 950.7771257651431, 1581.7404983800382, -283.8618751190519, -891.6154593802419, 756.9127260217323, 1416.0617277240929, -278.51820448845336, -1724.555673539588, -156.3532201410998, 850.6477118813601, 384.68670271278035, -1703.42710816194, -1222.8293158022148, 980.8952802333862, 706.8019148624121, -1354.2209667755055, -2970.960960564449, -277.8425415600518, 600.7708287243278, -213.85243461947428, -1721.327558176391, 893.9479174125313, 1610.4153777925496, 1398.073096305582, -1292.5173600892342, -1413.61052960019, 814.2331145065942, 567.1894803974158, -694.2060499904862, -1094.9937924909038, 973.6880817249275, 1453.9002961430906, 903.511873316542, -1050.2276014131837, 127.7363905377446, 1820.281220326462, 1505.2004414392186, -824.7362107831856, -860.6516753667454, 1383.5102315624808, 609.5093578596433, -268.4729771851944, -355.7741412413164, -190.74407864971425, -384.52135824775195, -675.1645422800951, -1696.175795684573, -1475.5363728472294, 956.4927543082849, 1446.8670904891803, -1402.9786490034032, -1682.8408493883192, 864.3410014010411, 1957.8389756153936, 572.3262009407331, -640.2770981529765, 366.37795910095775, 1591.4437375746302, 414.58015742241497, -1394.9399631059728, -326.0676862581275, 1417.3794107706403, 1664.9468720302036, -437.78660363783837, -789.557222944813, 1363.8877986494197, 1388.125844446983, -482.0497931597855, -4626.369655066636, -1108.0860905465208, 178.90547661705835, -208.80446967216608, -1974.8326109639856, 310.4931480771501, 1641.0049493929523, 1717.0291563139058, -805.8110884881293, -1585.8891395300607, 894.4301282700895, 583.3847937412892, -204.6265095746278, -1534.225145698308, 690.8833704838039, 1388.8650670077416, 1323.0704582609578, -882.3256935970305, -384.38469765275534, 1978.5043848491987, 1894.3232604570167, -257.3040070141269, -1066.998663533756, 921.504252376567, 200.71129966770678, -424.67483912982635, 109.29730293440534, -1339.1436352189614, -1587.8258135801311, -1309.3206837731955, -2170.84755929376, -2545.913076772633, 467.57548324934106, 1434.13285695791, -1235.0457986334593, -1617.8074453598406, 775.707896669417, 2358.8861088761128, 1446.8431538357152, -359.8839096730632, -20.679369783886322, 1708.3224790118238, 1115.9357865886527, -1079.5673003619145, -524.0815462720844, 1926.2702271426451, 2911.911505876187, 848.0184563145046, -280.0572438167703, 1800.9335789279598, 2112.8069868337616, 456.9805800209554, -6322.377516859656], \"yaxis\": \"y\"}, {\"hoverlabel\": {\"namelength\": 0}, \"hovertemplate\": \"<b>%{hovertext}</b><br><br>variable=resid<br>date=%{x}<br>value=%{y}\", \"hovertext\": [\"resid\", \"resid\", \"resid\", \"resid\", \"resid\", \"resid\", \"resid\", \"resid\", \"resid\", \"resid\", \"resid\", \"resid\", \"resid\", \"resid\", \"resid\", \"resid\", \"resid\", \"resid\", \"resid\", \"resid\", \"resid\", \"resid\", \"resid\", \"resid\", \"resid\", \"resid\", \"resid\", \"resid\", \"resid\", \"resid\", \"resid\", \"resid\", \"resid\", \"resid\", \"resid\", \"resid\", \"resid\", \"resid\", \"resid\", \"resid\", \"resid\", \"resid\", \"resid\", \"resid\", \"resid\", \"resid\", \"resid\", \"resid\", \"resid\", \"resid\", \"resid\", \"resid\", \"resid\", \"resid\", \"resid\", \"resid\", \"resid\", \"resid\", \"resid\", \"resid\", \"resid\", \"resid\", \"resid\", \"resid\", \"resid\", \"resid\", \"resid\", \"resid\", \"resid\", \"resid\", \"resid\", \"resid\", \"resid\", \"resid\", \"resid\", \"resid\", \"resid\", \"resid\", \"resid\", \"resid\", \"resid\", \"resid\", \"resid\", \"resid\", \"resid\", \"resid\", \"resid\", \"resid\", \"resid\", \"resid\", \"resid\", \"resid\", \"resid\", \"resid\", \"resid\", \"resid\", \"resid\", \"resid\", \"resid\", \"resid\", \"resid\", \"resid\", \"resid\", \"resid\", \"resid\", \"resid\", \"resid\", \"resid\", \"resid\", \"resid\", \"resid\", \"resid\", \"resid\", \"resid\", \"resid\", \"resid\", \"resid\", \"resid\", \"resid\", \"resid\", \"resid\", \"resid\", \"resid\", \"resid\", \"resid\", \"resid\", \"resid\", \"resid\", \"resid\", \"resid\", \"resid\", \"resid\", \"resid\", \"resid\", \"resid\", \"resid\", \"resid\", \"resid\", \"resid\", \"resid\", \"resid\", \"resid\", \"resid\", \"resid\", \"resid\", \"resid\", \"resid\", \"resid\", \"resid\", \"resid\", \"resid\", \"resid\", \"resid\", \"resid\", \"resid\", \"resid\", \"resid\", \"resid\", \"resid\", \"resid\", \"resid\", \"resid\", \"resid\", \"resid\", \"resid\", \"resid\", \"resid\", \"resid\", \"resid\", \"resid\", \"resid\", \"resid\", \"resid\", \"resid\", \"resid\", \"resid\", \"resid\", \"resid\", \"resid\", \"resid\", \"resid\", \"resid\", \"resid\", \"resid\", \"resid\", \"resid\", \"resid\", \"resid\", \"resid\", \"resid\", \"resid\", \"resid\", \"resid\", \"resid\", \"resid\", \"resid\", \"resid\", \"resid\", \"resid\", \"resid\", \"resid\", \"resid\", \"resid\", \"resid\", \"resid\", \"resid\", \"resid\", \"resid\", \"resid\", \"resid\", \"resid\", \"resid\", \"resid\", \"resid\", \"resid\", \"resid\", \"resid\", \"resid\", \"resid\", \"resid\", \"resid\", \"resid\", \"resid\", \"resid\", \"resid\", \"resid\", \"resid\", \"resid\", \"resid\", \"resid\", \"resid\", \"resid\", \"resid\", \"resid\", \"resid\", \"resid\", \"resid\", \"resid\", \"resid\", \"resid\", \"resid\", \"resid\", \"resid\", \"resid\", \"resid\", \"resid\", \"resid\", \"resid\", \"resid\", \"resid\", \"resid\", \"resid\", \"resid\", \"resid\", \"resid\", \"resid\", \"resid\", \"resid\", \"resid\", \"resid\", \"resid\", \"resid\", \"resid\", \"resid\", \"resid\", \"resid\", \"resid\", \"resid\", \"resid\", \"resid\", \"resid\", \"resid\", \"resid\", \"resid\", \"resid\", \"resid\", \"resid\", \"resid\"], \"legendgroup\": \"variable=resid\", \"line\": {\"color\": \"#00cc96\", \"dash\": \"solid\"}, \"mode\": \"lines\", \"name\": \"variable=resid\", \"showlegend\": true, \"type\": \"scatter\", \"x\": [\"2011-01-29T00:00:00\", \"2011-02-05T00:00:00\", \"2011-02-12T00:00:00\", \"2011-02-19T00:00:00\", \"2011-02-26T00:00:00\", \"2011-03-05T00:00:00\", \"2011-03-12T00:00:00\", \"2011-03-19T00:00:00\", \"2011-03-26T00:00:00\", \"2011-04-02T00:00:00\", \"2011-04-09T00:00:00\", \"2011-04-16T00:00:00\", \"2011-04-23T00:00:00\", \"2011-04-30T00:00:00\", \"2011-05-07T00:00:00\", \"2011-05-14T00:00:00\", \"2011-05-21T00:00:00\", \"2011-05-28T00:00:00\", \"2011-06-04T00:00:00\", \"2011-06-11T00:00:00\", \"2011-06-18T00:00:00\", \"2011-06-25T00:00:00\", \"2011-07-02T00:00:00\", \"2011-07-09T00:00:00\", \"2011-07-16T00:00:00\", \"2011-07-23T00:00:00\", \"2011-07-30T00:00:00\", \"2011-08-06T00:00:00\", \"2011-08-13T00:00:00\", \"2011-08-20T00:00:00\", \"2011-08-27T00:00:00\", \"2011-09-03T00:00:00\", \"2011-09-10T00:00:00\", \"2011-09-17T00:00:00\", \"2011-09-24T00:00:00\", \"2011-10-01T00:00:00\", \"2011-10-08T00:00:00\", \"2011-10-15T00:00:00\", \"2011-10-22T00:00:00\", \"2011-10-29T00:00:00\", \"2011-11-05T00:00:00\", \"2011-11-12T00:00:00\", \"2011-11-19T00:00:00\", \"2011-11-26T00:00:00\", \"2011-12-03T00:00:00\", \"2011-12-10T00:00:00\", \"2011-12-17T00:00:00\", \"2011-12-24T00:00:00\", \"2011-12-31T00:00:00\", \"2012-01-07T00:00:00\", \"2012-01-14T00:00:00\", \"2012-01-21T00:00:00\", \"2012-01-28T00:00:00\", \"2012-02-04T00:00:00\", \"2012-02-11T00:00:00\", \"2012-02-18T00:00:00\", \"2012-02-25T00:00:00\", \"2012-03-03T00:00:00\", \"2012-03-10T00:00:00\", \"2012-03-17T00:00:00\", \"2012-03-24T00:00:00\", \"2012-03-31T00:00:00\", \"2012-04-07T00:00:00\", \"2012-04-14T00:00:00\", \"2012-04-21T00:00:00\", \"2012-04-28T00:00:00\", \"2012-05-05T00:00:00\", \"2012-05-12T00:00:00\", \"2012-05-19T00:00:00\", \"2012-05-26T00:00:00\", \"2012-06-02T00:00:00\", \"2012-06-09T00:00:00\", \"2012-06-16T00:00:00\", \"2012-06-23T00:00:00\", \"2012-06-30T00:00:00\", \"2012-07-07T00:00:00\", \"2012-07-14T00:00:00\", \"2012-07-21T00:00:00\", \"2012-07-28T00:00:00\", \"2012-08-04T00:00:00\", \"2012-08-11T00:00:00\", \"2012-08-18T00:00:00\", \"2012-08-25T00:00:00\", \"2012-09-01T00:00:00\", \"2012-09-08T00:00:00\", \"2012-09-15T00:00:00\", \"2012-09-22T00:00:00\", \"2012-09-29T00:00:00\", \"2012-10-06T00:00:00\", \"2012-10-13T00:00:00\", \"2012-10-20T00:00:00\", \"2012-10-27T00:00:00\", \"2012-11-03T00:00:00\", \"2012-11-10T00:00:00\", \"2012-11-17T00:00:00\", \"2012-11-24T00:00:00\", \"2012-12-01T00:00:00\", \"2012-12-08T00:00:00\", \"2012-12-15T00:00:00\", \"2012-12-22T00:00:00\", \"2012-12-29T00:00:00\", \"2013-01-05T00:00:00\", \"2013-01-12T00:00:00\", \"2013-01-19T00:00:00\", \"2013-01-26T00:00:00\", \"2013-02-02T00:00:00\", \"2013-02-09T00:00:00\", \"2013-02-16T00:00:00\", \"2013-02-23T00:00:00\", \"2013-03-02T00:00:00\", \"2013-03-09T00:00:00\", \"2013-03-16T00:00:00\", \"2013-03-23T00:00:00\", \"2013-03-30T00:00:00\", \"2013-04-06T00:00:00\", \"2013-04-13T00:00:00\", \"2013-04-20T00:00:00\", \"2013-04-27T00:00:00\", \"2013-05-04T00:00:00\", \"2013-05-11T00:00:00\", \"2013-05-18T00:00:00\", \"2013-05-25T00:00:00\", \"2013-06-01T00:00:00\", \"2013-06-08T00:00:00\", \"2013-06-15T00:00:00\", \"2013-06-22T00:00:00\", \"2013-06-29T00:00:00\", \"2013-07-06T00:00:00\", \"2013-07-13T00:00:00\", \"2013-07-20T00:00:00\", \"2013-07-27T00:00:00\", \"2013-08-03T00:00:00\", \"2013-08-10T00:00:00\", \"2013-08-17T00:00:00\", \"2013-08-24T00:00:00\", \"2013-08-31T00:00:00\", \"2013-09-07T00:00:00\", \"2013-09-14T00:00:00\", \"2013-09-21T00:00:00\", \"2013-09-28T00:00:00\", \"2013-10-05T00:00:00\", \"2013-10-12T00:00:00\", \"2013-10-19T00:00:00\", \"2013-10-26T00:00:00\", \"2013-11-02T00:00:00\", \"2013-11-09T00:00:00\", \"2013-11-16T00:00:00\", \"2013-11-23T00:00:00\", \"2013-11-30T00:00:00\", \"2013-12-07T00:00:00\", \"2013-12-14T00:00:00\", \"2013-12-21T00:00:00\", \"2013-12-28T00:00:00\", \"2014-01-04T00:00:00\", \"2014-01-11T00:00:00\", \"2014-01-18T00:00:00\", \"2014-01-25T00:00:00\", \"2014-02-01T00:00:00\", \"2014-02-08T00:00:00\", \"2014-02-15T00:00:00\", \"2014-02-22T00:00:00\", \"2014-03-01T00:00:00\", \"2014-03-08T00:00:00\", \"2014-03-15T00:00:00\", \"2014-03-22T00:00:00\", \"2014-03-29T00:00:00\", \"2014-04-05T00:00:00\", \"2014-04-12T00:00:00\", \"2014-04-19T00:00:00\", \"2014-04-26T00:00:00\", \"2014-05-03T00:00:00\", \"2014-05-10T00:00:00\", \"2014-05-17T00:00:00\", \"2014-05-24T00:00:00\", \"2014-05-31T00:00:00\", \"2014-06-07T00:00:00\", \"2014-06-14T00:00:00\", \"2014-06-21T00:00:00\", \"2014-06-28T00:00:00\", \"2014-07-05T00:00:00\", \"2014-07-12T00:00:00\", \"2014-07-19T00:00:00\", \"2014-07-26T00:00:00\", \"2014-08-02T00:00:00\", \"2014-08-09T00:00:00\", \"2014-08-16T00:00:00\", \"2014-08-23T00:00:00\", \"2014-08-30T00:00:00\", \"2014-09-06T00:00:00\", \"2014-09-13T00:00:00\", \"2014-09-20T00:00:00\", \"2014-09-27T00:00:00\", \"2014-10-04T00:00:00\", \"2014-10-11T00:00:00\", \"2014-10-18T00:00:00\", \"2014-10-25T00:00:00\", \"2014-11-01T00:00:00\", \"2014-11-08T00:00:00\", \"2014-11-15T00:00:00\", \"2014-11-22T00:00:00\", \"2014-11-29T00:00:00\", \"2014-12-06T00:00:00\", \"2014-12-13T00:00:00\", \"2014-12-20T00:00:00\", \"2014-12-27T00:00:00\", \"2015-01-03T00:00:00\", \"2015-01-10T00:00:00\", \"2015-01-17T00:00:00\", \"2015-01-24T00:00:00\", \"2015-01-31T00:00:00\", \"2015-02-07T00:00:00\", \"2015-02-14T00:00:00\", \"2015-02-21T00:00:00\", \"2015-02-28T00:00:00\", \"2015-03-07T00:00:00\", \"2015-03-14T00:00:00\", \"2015-03-21T00:00:00\", \"2015-03-28T00:00:00\", \"2015-04-04T00:00:00\", \"2015-04-11T00:00:00\", \"2015-04-18T00:00:00\", \"2015-04-25T00:00:00\", \"2015-05-02T00:00:00\", \"2015-05-09T00:00:00\", \"2015-05-16T00:00:00\", \"2015-05-23T00:00:00\", \"2015-05-30T00:00:00\", \"2015-06-06T00:00:00\", \"2015-06-13T00:00:00\", \"2015-06-20T00:00:00\", \"2015-06-27T00:00:00\", \"2015-07-04T00:00:00\", \"2015-07-11T00:00:00\", \"2015-07-18T00:00:00\", \"2015-07-25T00:00:00\", \"2015-08-01T00:00:00\", \"2015-08-08T00:00:00\", \"2015-08-15T00:00:00\", \"2015-08-22T00:00:00\", \"2015-08-29T00:00:00\", \"2015-09-05T00:00:00\", \"2015-09-12T00:00:00\", \"2015-09-19T00:00:00\", \"2015-09-26T00:00:00\", \"2015-10-03T00:00:00\", \"2015-10-10T00:00:00\", \"2015-10-17T00:00:00\", \"2015-10-24T00:00:00\", \"2015-10-31T00:00:00\", \"2015-11-07T00:00:00\", \"2015-11-14T00:00:00\", \"2015-11-21T00:00:00\", \"2015-11-28T00:00:00\", \"2015-12-05T00:00:00\", \"2015-12-12T00:00:00\", \"2015-12-19T00:00:00\", \"2015-12-26T00:00:00\", \"2016-01-02T00:00:00\", \"2016-01-09T00:00:00\", \"2016-01-16T00:00:00\", \"2016-01-23T00:00:00\", \"2016-01-30T00:00:00\", \"2016-02-06T00:00:00\", \"2016-02-13T00:00:00\", \"2016-02-20T00:00:00\", \"2016-02-27T00:00:00\", \"2016-03-05T00:00:00\", \"2016-03-12T00:00:00\", \"2016-03-19T00:00:00\", \"2016-03-26T00:00:00\", \"2016-04-02T00:00:00\", \"2016-04-09T00:00:00\", \"2016-04-16T00:00:00\", \"2016-04-23T00:00:00\", \"2016-04-30T00:00:00\", \"2016-05-07T00:00:00\", \"2016-05-14T00:00:00\", \"2016-05-21T00:00:00\"], \"xaxis\": \"x\", \"y\": [1352.5725135561242, 1323.1402752326667, 359.1960366570438, 308.2796054123364, 122.96298432762433, -610.1177238372484, -74.99716897373219, 50.00660440361753, 391.21873632467396, -119.31016593839195, 249.4792862760487, 609.9027882482733, 717.8139545033573, -79.16683928887687, -290.09869127511956, -473.0855060320346, -165.77023310146888, -58.01543986821707, -935.4020563687354, -1273.5308574212413, -756.3142610181567, -475.0052308902359, -1452.0568752864701, -615.9732545864435, -397.1355379616525, 164.56508619596207, 234.58950337871465, -444.59716741056764, -288.6521383430536, 495.8968109128273, 213.49870567083417, -697.4109664009829, -702.7216889603951, -331.60216737665723, 707.4469493963152, 415.35195066088636, 381.2870888755551, 440.3423941721503, 1103.6124663110986, 404.1910685034236, -351.19276027697197, -352.88729737657377, 25.749398250936792, 784.1275916513823, -373.2599848566624, -435.65756684379994, -306.20695638929465, -581.3192606094763, -382.2849322873808, -590.7010893384613, -763.1862911485769, 100.4622141341697, -1502.218284316259, -1994.064861172812, -1187.9207420261191, -529.7217716543255, -125.59645028256637, 409.5806408682729, 177.4042764257283, 413.0371932933358, -554.5677437230152, 111.7513631412694, -479.63786692697613, -752.1845663697313, -314.43315943742164, 660.832502043455, 670.023747073159, 1090.5157357463286, 616.28937593726, 642.2464242490933, 1801.8355944539617, 2192.0893725643837, 1555.130173311045, 1103.2177997240342, 2820.2404056036194, 1286.462796798758, 656.7178036674159, 258.3166271887312, 112.40600857592653, 618.8403163143921, 109.69331658527517, -825.6252992281825, -976.1377142826987, 372.92771463245845, 288.5051180999817, -156.390150913041, -1379.8503447207604, -953.7858410960016, -918.5757618676616, -862.4859836684718, -1533.637663638554, -289.1974451081296, 651.0195490512288, 757.4534179124676, 448.821458723658, -1293.4734656687215, 46.144551823488655, 522.2327439801702, 910.0916488387775, 1284.3017035423363, 603.6083553599656, 716.4558301687321, 1257.5359417909567, 337.60237361873624, -522.7698596287482, 579.992543577453, 1928.5310925939539, 420.4012160500006, 128.94496824253474, 1308.6416630174972, -60.785835534437865, -879.3791139304776, 146.2353959844604, 260.4275343301615, 315.71012129522387, -169.50278598765362, -1423.9850643299997, -872.9206438866422, -176.9417358695082, -655.7607063513569, -597.4392487563382, -939.7468380729861, -696.7638254157173, -458.8304173506349, -781.5476456785018, -662.3835839080111, -1390.2877676087846, -671.0286611381052, 230.6188659192121, -801.5202305738658, -679.8999860837102, 378.45171825495163, 998.7907439812643, 472.4085046784876, 1684.9814676273018, 1601.1393731904427, 1927.4339883867924, 1786.2888024448384, 1065.7304362231316, 891.6463069796082, 1038.4770417519794, 627.876664418447, -33.18276979448274, -524.2747002451142, -404.19770391440943, -521.4510925802624, -912.7300835282604, 405.7744615567972, 1221.425432077338, 351.0824382351293, -922.6094435633931, -874.5261221120509, -34.58178031706302, 325.65577909596686, -346.2853663009337, -1014.9386333058701, -846.8018325478333, -704.9191898816644, -1470.251689735811, -231.03428503208488, -185.1380595770188, -521.4704393797856, 805.1592172570254, 477.64981959844226, 202.2925270138312, 394.9669548578586, 695.7206131743314, 547.9931359684724, 595.7147580356086, -310.20567122855573, -572.3224286224049, 56.270219496420395, -115.27912157415267, 463.9433781646985, -199.3596807645663, -373.4536601313939, 99.79344943814613, -46.61491708963331, 410.0724504209611, 215.7559342684599, -1126.2309498755822, -274.14824842550297, -440.50248903820284, -741.5526730895781, -870.3631314989198, -307.4329671903579, -489.6916851226706, -413.9517131953162, -1163.347504249843, -1478.9258046791474, -779.1762700840591, 126.6060226887621, -544.6788486134938, 52.94888675470975, 317.4551429029416, 287.66689568988477, 1396.247386366722, 808.1876076797871, 155.11691554912068, 404.27953870280544, -211.99719913242734, 71.47710613346317, 370.8876425379458, 367.8733865063714, 306.5507916895185, 509.33744178653615, 800.4634255633664, 631.6787040011859, 827.9613624759859, 773.4217080714607, 445.98343922676577, -1207.7675423826386, -1039.4784039525184, -576.2568462524305, -773.053724413905, -494.3473919336466, -991.2465332692482, -1068.6772712112652, -1494.7507729499757, -1051.0106245499246, -772.0939631976998, 52.658717388614605, 791.8721344291316, -286.18741209839027, -1032.481715701584, 2295.5153893803563, 220.7733823457529, 239.8657167555357, 54.862917487715094, 143.08002176576338, -36.384434955174584, -47.542657176749344, 622.1222925103011, 392.8783300097675, 476.04840069321654, 308.0062344947819, 223.58637850908053, 60.48726340548092, -201.57349116679325, -306.7899590614725, 108.68053922656327, 398.0351539775929, 220.34996090667664, -375.226906968599, 37.70149891697474, -245.8734246782642, -174.61381963453823, -67.93892916035657, -930.1527640802051, -492.7986765216683, 103.38390966752195, -398.5913525281376, -318.98437033630944, -259.9961766536944, -75.08273235068555, -112.05017561207205, -305.4150674440443, -571.2914664817745, -586.214524528963, -198.39980623320844, -364.0206784826278, -438.9564929973385, -23.611901529413444, 802.878853067954, 690.9624565888498, 424.0111917714512, 194.15135387758528, 153.56357571370972, 518.9722539232989, 511.27034306349015, 695.5814416206376, 457.4857006732145, 319.81371796281746, 28.22289768691917, -435.525469908569, 134.7628913714325, 696.6792590961795, -1778.9350373726884], \"yaxis\": \"y\"}],\n",
              "                        {\"legend\": {\"tracegroupgap\": 0}, \"template\": {\"data\": {\"bar\": [{\"error_x\": {\"color\": \"#2a3f5f\"}, \"error_y\": {\"color\": \"#2a3f5f\"}, \"marker\": {\"line\": {\"color\": \"#E5ECF6\", \"width\": 0.5}}, \"type\": \"bar\"}], \"barpolar\": [{\"marker\": {\"line\": {\"color\": \"#E5ECF6\", \"width\": 0.5}}, \"type\": \"barpolar\"}], \"carpet\": [{\"aaxis\": {\"endlinecolor\": \"#2a3f5f\", \"gridcolor\": \"white\", \"linecolor\": \"white\", \"minorgridcolor\": \"white\", \"startlinecolor\": \"#2a3f5f\"}, \"baxis\": {\"endlinecolor\": \"#2a3f5f\", \"gridcolor\": \"white\", \"linecolor\": \"white\", \"minorgridcolor\": \"white\", \"startlinecolor\": \"#2a3f5f\"}, \"type\": \"carpet\"}], \"choropleth\": [{\"colorbar\": {\"outlinewidth\": 0, \"ticks\": \"\"}, \"type\": \"choropleth\"}], \"contour\": [{\"colorbar\": {\"outlinewidth\": 0, \"ticks\": \"\"}, \"colorscale\": [[0.0, \"#0d0887\"], [0.1111111111111111, \"#46039f\"], [0.2222222222222222, \"#7201a8\"], [0.3333333333333333, \"#9c179e\"], [0.4444444444444444, \"#bd3786\"], [0.5555555555555556, \"#d8576b\"], [0.6666666666666666, \"#ed7953\"], [0.7777777777777778, \"#fb9f3a\"], [0.8888888888888888, \"#fdca26\"], [1.0, \"#f0f921\"]], \"type\": \"contour\"}], \"contourcarpet\": [{\"colorbar\": {\"outlinewidth\": 0, \"ticks\": \"\"}, \"type\": \"contourcarpet\"}], \"heatmap\": [{\"colorbar\": {\"outlinewidth\": 0, \"ticks\": \"\"}, \"colorscale\": [[0.0, \"#0d0887\"], [0.1111111111111111, \"#46039f\"], [0.2222222222222222, \"#7201a8\"], [0.3333333333333333, \"#9c179e\"], [0.4444444444444444, \"#bd3786\"], [0.5555555555555556, \"#d8576b\"], [0.6666666666666666, \"#ed7953\"], [0.7777777777777778, \"#fb9f3a\"], [0.8888888888888888, \"#fdca26\"], [1.0, \"#f0f921\"]], \"type\": \"heatmap\"}], \"heatmapgl\": [{\"colorbar\": {\"outlinewidth\": 0, \"ticks\": \"\"}, \"colorscale\": [[0.0, \"#0d0887\"], [0.1111111111111111, \"#46039f\"], [0.2222222222222222, \"#7201a8\"], [0.3333333333333333, \"#9c179e\"], [0.4444444444444444, \"#bd3786\"], [0.5555555555555556, \"#d8576b\"], [0.6666666666666666, \"#ed7953\"], [0.7777777777777778, \"#fb9f3a\"], [0.8888888888888888, \"#fdca26\"], [1.0, \"#f0f921\"]], \"type\": \"heatmapgl\"}], \"histogram\": [{\"marker\": {\"colorbar\": {\"outlinewidth\": 0, \"ticks\": \"\"}}, \"type\": \"histogram\"}], \"histogram2d\": [{\"colorbar\": {\"outlinewidth\": 0, \"ticks\": \"\"}, \"colorscale\": [[0.0, \"#0d0887\"], [0.1111111111111111, \"#46039f\"], [0.2222222222222222, \"#7201a8\"], [0.3333333333333333, \"#9c179e\"], [0.4444444444444444, \"#bd3786\"], [0.5555555555555556, \"#d8576b\"], [0.6666666666666666, \"#ed7953\"], [0.7777777777777778, \"#fb9f3a\"], [0.8888888888888888, \"#fdca26\"], [1.0, \"#f0f921\"]], \"type\": \"histogram2d\"}], \"histogram2dcontour\": [{\"colorbar\": {\"outlinewidth\": 0, \"ticks\": \"\"}, \"colorscale\": [[0.0, \"#0d0887\"], [0.1111111111111111, \"#46039f\"], [0.2222222222222222, \"#7201a8\"], [0.3333333333333333, \"#9c179e\"], [0.4444444444444444, \"#bd3786\"], [0.5555555555555556, \"#d8576b\"], [0.6666666666666666, \"#ed7953\"], [0.7777777777777778, \"#fb9f3a\"], [0.8888888888888888, \"#fdca26\"], [1.0, \"#f0f921\"]], \"type\": \"histogram2dcontour\"}], \"mesh3d\": [{\"colorbar\": {\"outlinewidth\": 0, \"ticks\": \"\"}, \"type\": \"mesh3d\"}], \"parcoords\": [{\"line\": {\"colorbar\": {\"outlinewidth\": 0, \"ticks\": \"\"}}, \"type\": \"parcoords\"}], \"pie\": [{\"automargin\": true, \"type\": \"pie\"}], \"scatter\": [{\"marker\": {\"colorbar\": {\"outlinewidth\": 0, \"ticks\": \"\"}}, \"type\": \"scatter\"}], \"scatter3d\": [{\"line\": {\"colorbar\": {\"outlinewidth\": 0, \"ticks\": \"\"}}, \"marker\": {\"colorbar\": {\"outlinewidth\": 0, \"ticks\": \"\"}}, \"type\": \"scatter3d\"}], \"scattercarpet\": [{\"marker\": {\"colorbar\": {\"outlinewidth\": 0, \"ticks\": \"\"}}, \"type\": \"scattercarpet\"}], \"scattergeo\": [{\"marker\": {\"colorbar\": {\"outlinewidth\": 0, \"ticks\": \"\"}}, \"type\": \"scattergeo\"}], \"scattergl\": [{\"marker\": {\"colorbar\": {\"outlinewidth\": 0, \"ticks\": \"\"}}, \"type\": \"scattergl\"}], \"scattermapbox\": [{\"marker\": {\"colorbar\": {\"outlinewidth\": 0, \"ticks\": \"\"}}, \"type\": \"scattermapbox\"}], \"scatterpolar\": [{\"marker\": {\"colorbar\": {\"outlinewidth\": 0, \"ticks\": \"\"}}, \"type\": \"scatterpolar\"}], \"scatterpolargl\": [{\"marker\": {\"colorbar\": {\"outlinewidth\": 0, \"ticks\": \"\"}}, \"type\": \"scatterpolargl\"}], \"scatterternary\": [{\"marker\": {\"colorbar\": {\"outlinewidth\": 0, \"ticks\": \"\"}}, \"type\": \"scatterternary\"}], \"surface\": [{\"colorbar\": {\"outlinewidth\": 0, \"ticks\": \"\"}, \"colorscale\": [[0.0, \"#0d0887\"], [0.1111111111111111, \"#46039f\"], [0.2222222222222222, \"#7201a8\"], [0.3333333333333333, \"#9c179e\"], [0.4444444444444444, \"#bd3786\"], [0.5555555555555556, \"#d8576b\"], [0.6666666666666666, \"#ed7953\"], [0.7777777777777778, \"#fb9f3a\"], [0.8888888888888888, \"#fdca26\"], [1.0, \"#f0f921\"]], \"type\": \"surface\"}], \"table\": [{\"cells\": {\"fill\": {\"color\": \"#EBF0F8\"}, \"line\": {\"color\": \"white\"}}, \"header\": {\"fill\": {\"color\": \"#C8D4E3\"}, \"line\": {\"color\": \"white\"}}, \"type\": \"table\"}]}, \"layout\": {\"annotationdefaults\": {\"arrowcolor\": \"#2a3f5f\", \"arrowhead\": 0, \"arrowwidth\": 1}, \"coloraxis\": {\"colorbar\": {\"outlinewidth\": 0, \"ticks\": \"\"}}, \"colorscale\": {\"diverging\": [[0, \"#8e0152\"], [0.1, \"#c51b7d\"], [0.2, \"#de77ae\"], [0.3, \"#f1b6da\"], [0.4, \"#fde0ef\"], [0.5, \"#f7f7f7\"], [0.6, \"#e6f5d0\"], [0.7, \"#b8e186\"], [0.8, \"#7fbc41\"], [0.9, \"#4d9221\"], [1, \"#276419\"]], \"sequential\": [[0.0, \"#0d0887\"], [0.1111111111111111, \"#46039f\"], [0.2222222222222222, \"#7201a8\"], [0.3333333333333333, \"#9c179e\"], [0.4444444444444444, \"#bd3786\"], [0.5555555555555556, \"#d8576b\"], [0.6666666666666666, \"#ed7953\"], [0.7777777777777778, \"#fb9f3a\"], [0.8888888888888888, \"#fdca26\"], [1.0, \"#f0f921\"]], \"sequentialminus\": [[0.0, \"#0d0887\"], [0.1111111111111111, \"#46039f\"], [0.2222222222222222, \"#7201a8\"], [0.3333333333333333, \"#9c179e\"], [0.4444444444444444, \"#bd3786\"], [0.5555555555555556, \"#d8576b\"], [0.6666666666666666, \"#ed7953\"], [0.7777777777777778, \"#fb9f3a\"], [0.8888888888888888, \"#fdca26\"], [1.0, \"#f0f921\"]]}, \"colorway\": [\"#636efa\", \"#EF553B\", \"#00cc96\", \"#ab63fa\", \"#FFA15A\", \"#19d3f3\", \"#FF6692\", \"#B6E880\", \"#FF97FF\", \"#FECB52\"], \"font\": {\"color\": \"#2a3f5f\"}, \"geo\": {\"bgcolor\": \"white\", \"lakecolor\": \"white\", \"landcolor\": \"#E5ECF6\", \"showlakes\": true, \"showland\": true, \"subunitcolor\": \"white\"}, \"hoverlabel\": {\"align\": \"left\"}, \"hovermode\": \"closest\", \"mapbox\": {\"style\": \"light\"}, \"paper_bgcolor\": \"white\", \"plot_bgcolor\": \"#E5ECF6\", \"polar\": {\"angularaxis\": {\"gridcolor\": \"white\", \"linecolor\": \"white\", \"ticks\": \"\"}, \"bgcolor\": \"#E5ECF6\", \"radialaxis\": {\"gridcolor\": \"white\", \"linecolor\": \"white\", \"ticks\": \"\"}}, \"scene\": {\"xaxis\": {\"backgroundcolor\": \"#E5ECF6\", \"gridcolor\": \"white\", \"gridwidth\": 2, \"linecolor\": \"white\", \"showbackground\": true, \"ticks\": \"\", \"zerolinecolor\": \"white\"}, \"yaxis\": {\"backgroundcolor\": \"#E5ECF6\", \"gridcolor\": \"white\", \"gridwidth\": 2, \"linecolor\": \"white\", \"showbackground\": true, \"ticks\": \"\", \"zerolinecolor\": \"white\"}, \"zaxis\": {\"backgroundcolor\": \"#E5ECF6\", \"gridcolor\": \"white\", \"gridwidth\": 2, \"linecolor\": \"white\", \"showbackground\": true, \"ticks\": \"\", \"zerolinecolor\": \"white\"}}, \"shapedefaults\": {\"line\": {\"color\": \"#2a3f5f\"}}, \"ternary\": {\"aaxis\": {\"gridcolor\": \"white\", \"linecolor\": \"white\", \"ticks\": \"\"}, \"baxis\": {\"gridcolor\": \"white\", \"linecolor\": \"white\", \"ticks\": \"\"}, \"bgcolor\": \"#E5ECF6\", \"caxis\": {\"gridcolor\": \"white\", \"linecolor\": \"white\", \"ticks\": \"\"}}, \"title\": {\"x\": 0.05}, \"xaxis\": {\"automargin\": true, \"gridcolor\": \"white\", \"linecolor\": \"white\", \"ticks\": \"\", \"title\": {\"standoff\": 15}, \"zerolinecolor\": \"white\", \"zerolinewidth\": 2}, \"yaxis\": {\"automargin\": true, \"gridcolor\": \"white\", \"linecolor\": \"white\", \"ticks\": \"\", \"title\": {\"standoff\": 15}, \"zerolinecolor\": \"white\", \"zerolinewidth\": 2}}}, \"title\": {\"text\": \"Wisconsin Seasonality and trend decomposition\"}, \"xaxis\": {\"anchor\": \"y\", \"domain\": [0.0, 1.0], \"title\": {\"text\": \"date\"}}, \"yaxis\": {\"anchor\": \"x\", \"domain\": [0.0, 1.0], \"title\": {\"text\": \"value\"}}},\n",
              "                        {\"responsive\": true}\n",
              "                    ).then(function(){\n",
              "                            \n",
              "var gd = document.getElementById('236ee575-fc23-45f8-8ca6-a2b30c9eb8e0');\n",
              "var x = new MutationObserver(function (mutations, observer) {{\n",
              "        var display = window.getComputedStyle(gd).display;\n",
              "        if (!display || display === 'none') {{\n",
              "            console.log([gd, 'removed!']);\n",
              "            Plotly.purge(gd);\n",
              "            observer.disconnect();\n",
              "        }}\n",
              "}});\n",
              "\n",
              "// Listen for the removal of the full notebook cells\n",
              "var notebookContainer = gd.closest('#notebook-container');\n",
              "if (notebookContainer) {{\n",
              "    x.observe(notebookContainer, {childList: true});\n",
              "}}\n",
              "\n",
              "// Listen for the clearing of the current output cell\n",
              "var outputEl = gd.closest('.output');\n",
              "if (outputEl) {{\n",
              "    x.observe(outputEl, {childList: true});\n",
              "}}\n",
              "\n",
              "                        })\n",
              "                };\n",
              "                \n",
              "            </script>\n",
              "        </div>\n",
              "</body>\n",
              "</html>"
            ]
          },
          "metadata": {
            "tags": []
          }
        }
      ]
    },
    {
      "cell_type": "markdown",
      "metadata": {
        "id": "oEptU9aCUneN"
      },
      "source": [
        "## **Creating the distribution of the given time series for each state**"
      ]
    },
    {
      "cell_type": "markdown",
      "metadata": {
        "id": "853LbeItX8k1"
      },
      "source": [
        "### Distribution for Wisconsin"
      ]
    },
    {
      "cell_type": "code",
      "metadata": {
        "id": "vBSL36zrVfTX",
        "colab": {
          "base_uri": "https://localhost:8080/",
          "height": 542
        },
        "outputId": "4db8d23c-5683-47de-d8e7-58835c414c27"
      },
      "source": [
        "counts, bins = np.histogram(state_cat_agg[state_cat_agg['state_id']=='WI']['volume'], bins = 10)\n",
        "bins = 0.5 * (bins[:-1] + bins[1:])\n",
        "fig = px.bar(x=bins, y=counts)\n",
        "fig.show()"
      ],
      "execution_count": null,
      "outputs": [
        {
          "output_type": "display_data",
          "data": {
            "text/html": [
              "<html>\n",
              "<head><meta charset=\"utf-8\" /></head>\n",
              "<body>\n",
              "    <div>\n",
              "            <script src=\"https://cdnjs.cloudflare.com/ajax/libs/mathjax/2.7.5/MathJax.js?config=TeX-AMS-MML_SVG\"></script><script type=\"text/javascript\">if (window.MathJax) {MathJax.Hub.Config({SVG: {font: \"STIX-Web\"}});}</script>\n",
              "                <script type=\"text/javascript\">window.PlotlyConfig = {MathJaxConfig: 'local'};</script>\n",
              "        <script src=\"https://cdn.plot.ly/plotly-latest.min.js\"></script>    \n",
              "            <div id=\"67d06913-f7ef-4ef9-9b7b-25ab4390b5de\" class=\"plotly-graph-div\" style=\"height:525px; width:100%;\"></div>\n",
              "            <script type=\"text/javascript\">\n",
              "                \n",
              "                    window.PLOTLYENV=window.PLOTLYENV || {};\n",
              "                    \n",
              "                if (document.getElementById(\"67d06913-f7ef-4ef9-9b7b-25ab4390b5de\")) {\n",
              "                    Plotly.newPlot(\n",
              "                        '67d06913-f7ef-4ef9-9b7b-25ab4390b5de',\n",
              "                        [{\"alignmentgroup\": \"True\", \"hoverlabel\": {\"namelength\": 0}, \"hovertemplate\": \"x=%{x}<br>y=%{y}\", \"legendgroup\": \"\", \"marker\": {\"color\": \"#636efa\"}, \"name\": \"\", \"offsetgroup\": \"\", \"orientation\": \"v\", \"showlegend\": false, \"textposition\": \"auto\", \"type\": \"bar\", \"x\": [4925.8, 6051.4, 7177.0, 8302.599999999999, 9428.2, 10553.8, 11679.399999999998, 12805.0, 13930.599999999999, 15056.2], \"xaxis\": \"x\", \"y\": [1, 1, 14, 37, 52, 61, 51, 37, 18, 6], \"yaxis\": \"y\"}],\n",
              "                        {\"barmode\": \"relative\", \"legend\": {\"tracegroupgap\": 0}, \"margin\": {\"t\": 60}, \"template\": {\"data\": {\"bar\": [{\"error_x\": {\"color\": \"#2a3f5f\"}, \"error_y\": {\"color\": \"#2a3f5f\"}, \"marker\": {\"line\": {\"color\": \"#E5ECF6\", \"width\": 0.5}}, \"type\": \"bar\"}], \"barpolar\": [{\"marker\": {\"line\": {\"color\": \"#E5ECF6\", \"width\": 0.5}}, \"type\": \"barpolar\"}], \"carpet\": [{\"aaxis\": {\"endlinecolor\": \"#2a3f5f\", \"gridcolor\": \"white\", \"linecolor\": \"white\", \"minorgridcolor\": \"white\", \"startlinecolor\": \"#2a3f5f\"}, \"baxis\": {\"endlinecolor\": \"#2a3f5f\", \"gridcolor\": \"white\", \"linecolor\": \"white\", \"minorgridcolor\": \"white\", \"startlinecolor\": \"#2a3f5f\"}, \"type\": \"carpet\"}], \"choropleth\": [{\"colorbar\": {\"outlinewidth\": 0, \"ticks\": \"\"}, \"type\": \"choropleth\"}], \"contour\": [{\"colorbar\": {\"outlinewidth\": 0, \"ticks\": \"\"}, \"colorscale\": [[0.0, \"#0d0887\"], [0.1111111111111111, \"#46039f\"], [0.2222222222222222, \"#7201a8\"], [0.3333333333333333, \"#9c179e\"], [0.4444444444444444, \"#bd3786\"], [0.5555555555555556, \"#d8576b\"], [0.6666666666666666, \"#ed7953\"], [0.7777777777777778, \"#fb9f3a\"], [0.8888888888888888, \"#fdca26\"], [1.0, \"#f0f921\"]], \"type\": \"contour\"}], \"contourcarpet\": [{\"colorbar\": {\"outlinewidth\": 0, \"ticks\": \"\"}, \"type\": \"contourcarpet\"}], \"heatmap\": [{\"colorbar\": {\"outlinewidth\": 0, \"ticks\": \"\"}, \"colorscale\": [[0.0, \"#0d0887\"], [0.1111111111111111, \"#46039f\"], [0.2222222222222222, \"#7201a8\"], [0.3333333333333333, \"#9c179e\"], [0.4444444444444444, \"#bd3786\"], [0.5555555555555556, \"#d8576b\"], [0.6666666666666666, \"#ed7953\"], [0.7777777777777778, \"#fb9f3a\"], [0.8888888888888888, \"#fdca26\"], [1.0, \"#f0f921\"]], \"type\": \"heatmap\"}], \"heatmapgl\": [{\"colorbar\": {\"outlinewidth\": 0, \"ticks\": \"\"}, \"colorscale\": [[0.0, \"#0d0887\"], [0.1111111111111111, \"#46039f\"], [0.2222222222222222, \"#7201a8\"], [0.3333333333333333, \"#9c179e\"], [0.4444444444444444, \"#bd3786\"], [0.5555555555555556, \"#d8576b\"], [0.6666666666666666, \"#ed7953\"], [0.7777777777777778, \"#fb9f3a\"], [0.8888888888888888, \"#fdca26\"], [1.0, \"#f0f921\"]], \"type\": \"heatmapgl\"}], \"histogram\": [{\"marker\": {\"colorbar\": {\"outlinewidth\": 0, \"ticks\": \"\"}}, \"type\": \"histogram\"}], \"histogram2d\": [{\"colorbar\": {\"outlinewidth\": 0, \"ticks\": \"\"}, \"colorscale\": [[0.0, \"#0d0887\"], [0.1111111111111111, \"#46039f\"], [0.2222222222222222, \"#7201a8\"], [0.3333333333333333, \"#9c179e\"], [0.4444444444444444, \"#bd3786\"], [0.5555555555555556, \"#d8576b\"], [0.6666666666666666, \"#ed7953\"], [0.7777777777777778, \"#fb9f3a\"], [0.8888888888888888, \"#fdca26\"], [1.0, \"#f0f921\"]], \"type\": \"histogram2d\"}], \"histogram2dcontour\": [{\"colorbar\": {\"outlinewidth\": 0, \"ticks\": \"\"}, \"colorscale\": [[0.0, \"#0d0887\"], [0.1111111111111111, \"#46039f\"], [0.2222222222222222, \"#7201a8\"], [0.3333333333333333, \"#9c179e\"], [0.4444444444444444, \"#bd3786\"], [0.5555555555555556, \"#d8576b\"], [0.6666666666666666, \"#ed7953\"], [0.7777777777777778, \"#fb9f3a\"], [0.8888888888888888, \"#fdca26\"], [1.0, \"#f0f921\"]], \"type\": \"histogram2dcontour\"}], \"mesh3d\": [{\"colorbar\": {\"outlinewidth\": 0, \"ticks\": \"\"}, \"type\": \"mesh3d\"}], \"parcoords\": [{\"line\": {\"colorbar\": {\"outlinewidth\": 0, \"ticks\": \"\"}}, \"type\": \"parcoords\"}], \"pie\": [{\"automargin\": true, \"type\": \"pie\"}], \"scatter\": [{\"marker\": {\"colorbar\": {\"outlinewidth\": 0, \"ticks\": \"\"}}, \"type\": \"scatter\"}], \"scatter3d\": [{\"line\": {\"colorbar\": {\"outlinewidth\": 0, \"ticks\": \"\"}}, \"marker\": {\"colorbar\": {\"outlinewidth\": 0, \"ticks\": \"\"}}, \"type\": \"scatter3d\"}], \"scattercarpet\": [{\"marker\": {\"colorbar\": {\"outlinewidth\": 0, \"ticks\": \"\"}}, \"type\": \"scattercarpet\"}], \"scattergeo\": [{\"marker\": {\"colorbar\": {\"outlinewidth\": 0, \"ticks\": \"\"}}, \"type\": \"scattergeo\"}], \"scattergl\": [{\"marker\": {\"colorbar\": {\"outlinewidth\": 0, \"ticks\": \"\"}}, \"type\": \"scattergl\"}], \"scattermapbox\": [{\"marker\": {\"colorbar\": {\"outlinewidth\": 0, \"ticks\": \"\"}}, \"type\": \"scattermapbox\"}], \"scatterpolar\": [{\"marker\": {\"colorbar\": {\"outlinewidth\": 0, \"ticks\": \"\"}}, \"type\": \"scatterpolar\"}], \"scatterpolargl\": [{\"marker\": {\"colorbar\": {\"outlinewidth\": 0, \"ticks\": \"\"}}, \"type\": \"scatterpolargl\"}], \"scatterternary\": [{\"marker\": {\"colorbar\": {\"outlinewidth\": 0, \"ticks\": \"\"}}, \"type\": \"scatterternary\"}], \"surface\": [{\"colorbar\": {\"outlinewidth\": 0, \"ticks\": \"\"}, \"colorscale\": [[0.0, \"#0d0887\"], [0.1111111111111111, \"#46039f\"], [0.2222222222222222, \"#7201a8\"], [0.3333333333333333, \"#9c179e\"], [0.4444444444444444, \"#bd3786\"], [0.5555555555555556, \"#d8576b\"], [0.6666666666666666, \"#ed7953\"], [0.7777777777777778, \"#fb9f3a\"], [0.8888888888888888, \"#fdca26\"], [1.0, \"#f0f921\"]], \"type\": \"surface\"}], \"table\": [{\"cells\": {\"fill\": {\"color\": \"#EBF0F8\"}, \"line\": {\"color\": \"white\"}}, \"header\": {\"fill\": {\"color\": \"#C8D4E3\"}, \"line\": {\"color\": \"white\"}}, \"type\": \"table\"}]}, \"layout\": {\"annotationdefaults\": {\"arrowcolor\": \"#2a3f5f\", \"arrowhead\": 0, \"arrowwidth\": 1}, \"coloraxis\": {\"colorbar\": {\"outlinewidth\": 0, \"ticks\": \"\"}}, \"colorscale\": {\"diverging\": [[0, \"#8e0152\"], [0.1, \"#c51b7d\"], [0.2, \"#de77ae\"], [0.3, \"#f1b6da\"], [0.4, \"#fde0ef\"], [0.5, \"#f7f7f7\"], [0.6, \"#e6f5d0\"], [0.7, \"#b8e186\"], [0.8, \"#7fbc41\"], [0.9, \"#4d9221\"], [1, \"#276419\"]], \"sequential\": [[0.0, \"#0d0887\"], [0.1111111111111111, \"#46039f\"], [0.2222222222222222, \"#7201a8\"], [0.3333333333333333, \"#9c179e\"], [0.4444444444444444, \"#bd3786\"], [0.5555555555555556, \"#d8576b\"], [0.6666666666666666, \"#ed7953\"], [0.7777777777777778, \"#fb9f3a\"], [0.8888888888888888, \"#fdca26\"], [1.0, \"#f0f921\"]], \"sequentialminus\": [[0.0, \"#0d0887\"], [0.1111111111111111, \"#46039f\"], [0.2222222222222222, \"#7201a8\"], [0.3333333333333333, \"#9c179e\"], [0.4444444444444444, \"#bd3786\"], [0.5555555555555556, \"#d8576b\"], [0.6666666666666666, \"#ed7953\"], [0.7777777777777778, \"#fb9f3a\"], [0.8888888888888888, \"#fdca26\"], [1.0, \"#f0f921\"]]}, \"colorway\": [\"#636efa\", \"#EF553B\", \"#00cc96\", \"#ab63fa\", \"#FFA15A\", \"#19d3f3\", \"#FF6692\", \"#B6E880\", \"#FF97FF\", \"#FECB52\"], \"font\": {\"color\": \"#2a3f5f\"}, \"geo\": {\"bgcolor\": \"white\", \"lakecolor\": \"white\", \"landcolor\": \"#E5ECF6\", \"showlakes\": true, \"showland\": true, \"subunitcolor\": \"white\"}, \"hoverlabel\": {\"align\": \"left\"}, \"hovermode\": \"closest\", \"mapbox\": {\"style\": \"light\"}, \"paper_bgcolor\": \"white\", \"plot_bgcolor\": \"#E5ECF6\", \"polar\": {\"angularaxis\": {\"gridcolor\": \"white\", \"linecolor\": \"white\", \"ticks\": \"\"}, \"bgcolor\": \"#E5ECF6\", \"radialaxis\": {\"gridcolor\": \"white\", \"linecolor\": \"white\", \"ticks\": \"\"}}, \"scene\": {\"xaxis\": {\"backgroundcolor\": \"#E5ECF6\", \"gridcolor\": \"white\", \"gridwidth\": 2, \"linecolor\": \"white\", \"showbackground\": true, \"ticks\": \"\", \"zerolinecolor\": \"white\"}, \"yaxis\": {\"backgroundcolor\": \"#E5ECF6\", \"gridcolor\": \"white\", \"gridwidth\": 2, \"linecolor\": \"white\", \"showbackground\": true, \"ticks\": \"\", \"zerolinecolor\": \"white\"}, \"zaxis\": {\"backgroundcolor\": \"#E5ECF6\", \"gridcolor\": \"white\", \"gridwidth\": 2, \"linecolor\": \"white\", \"showbackground\": true, \"ticks\": \"\", \"zerolinecolor\": \"white\"}}, \"shapedefaults\": {\"line\": {\"color\": \"#2a3f5f\"}}, \"ternary\": {\"aaxis\": {\"gridcolor\": \"white\", \"linecolor\": \"white\", \"ticks\": \"\"}, \"baxis\": {\"gridcolor\": \"white\", \"linecolor\": \"white\", \"ticks\": \"\"}, \"bgcolor\": \"#E5ECF6\", \"caxis\": {\"gridcolor\": \"white\", \"linecolor\": \"white\", \"ticks\": \"\"}}, \"title\": {\"x\": 0.05}, \"xaxis\": {\"automargin\": true, \"gridcolor\": \"white\", \"linecolor\": \"white\", \"ticks\": \"\", \"title\": {\"standoff\": 15}, \"zerolinecolor\": \"white\", \"zerolinewidth\": 2}, \"yaxis\": {\"automargin\": true, \"gridcolor\": \"white\", \"linecolor\": \"white\", \"ticks\": \"\", \"title\": {\"standoff\": 15}, \"zerolinecolor\": \"white\", \"zerolinewidth\": 2}}}, \"xaxis\": {\"anchor\": \"y\", \"domain\": [0.0, 1.0], \"title\": {\"text\": \"x\"}}, \"yaxis\": {\"anchor\": \"x\", \"domain\": [0.0, 1.0], \"title\": {\"text\": \"y\"}}},\n",
              "                        {\"responsive\": true}\n",
              "                    ).then(function(){\n",
              "                            \n",
              "var gd = document.getElementById('67d06913-f7ef-4ef9-9b7b-25ab4390b5de');\n",
              "var x = new MutationObserver(function (mutations, observer) {{\n",
              "        var display = window.getComputedStyle(gd).display;\n",
              "        if (!display || display === 'none') {{\n",
              "            console.log([gd, 'removed!']);\n",
              "            Plotly.purge(gd);\n",
              "            observer.disconnect();\n",
              "        }}\n",
              "}});\n",
              "\n",
              "// Listen for the removal of the full notebook cells\n",
              "var notebookContainer = gd.closest('#notebook-container');\n",
              "if (notebookContainer) {{\n",
              "    x.observe(notebookContainer, {childList: true});\n",
              "}}\n",
              "\n",
              "// Listen for the clearing of the current output cell\n",
              "var outputEl = gd.closest('.output');\n",
              "if (outputEl) {{\n",
              "    x.observe(outputEl, {childList: true});\n",
              "}}\n",
              "\n",
              "                        })\n",
              "                };\n",
              "                \n",
              "            </script>\n",
              "        </div>\n",
              "</body>\n",
              "</html>"
            ]
          },
          "metadata": {
            "tags": []
          }
        }
      ]
    },
    {
      "cell_type": "markdown",
      "metadata": {
        "id": "7MOuOVg7YF45"
      },
      "source": [
        "### Distribution for Texas"
      ]
    },
    {
      "cell_type": "code",
      "metadata": {
        "id": "xj0DskS8YEAG",
        "colab": {
          "base_uri": "https://localhost:8080/",
          "height": 542
        },
        "outputId": "de4e5032-aab6-4982-ad05-4573fba781c2"
      },
      "source": [
        "counts, bins = np.histogram(state_cat_agg[state_cat_agg['state_id']=='TX']['volume'], bins = 10)\n",
        "bins = 0.5 * (bins[:-1] + bins[1:])\n",
        "fig = px.bar(x=bins, y=counts)\n",
        "fig.show()"
      ],
      "execution_count": null,
      "outputs": [
        {
          "output_type": "display_data",
          "data": {
            "text/html": [
              "<html>\n",
              "<head><meta charset=\"utf-8\" /></head>\n",
              "<body>\n",
              "    <div>\n",
              "            <script src=\"https://cdnjs.cloudflare.com/ajax/libs/mathjax/2.7.5/MathJax.js?config=TeX-AMS-MML_SVG\"></script><script type=\"text/javascript\">if (window.MathJax) {MathJax.Hub.Config({SVG: {font: \"STIX-Web\"}});}</script>\n",
              "                <script type=\"text/javascript\">window.PlotlyConfig = {MathJaxConfig: 'local'};</script>\n",
              "        <script src=\"https://cdn.plot.ly/plotly-latest.min.js\"></script>    \n",
              "            <div id=\"41b717d3-fb48-4d84-bb4c-0b4ca430687e\" class=\"plotly-graph-div\" style=\"height:525px; width:100%;\"></div>\n",
              "            <script type=\"text/javascript\">\n",
              "                \n",
              "                    window.PLOTLYENV=window.PLOTLYENV || {};\n",
              "                    \n",
              "                if (document.getElementById(\"41b717d3-fb48-4d84-bb4c-0b4ca430687e\")) {\n",
              "                    Plotly.newPlot(\n",
              "                        '41b717d3-fb48-4d84-bb4c-0b4ca430687e',\n",
              "                        [{\"alignmentgroup\": \"True\", \"hoverlabel\": {\"namelength\": 0}, \"hovertemplate\": \"x=%{x}<br>y=%{y}\", \"legendgroup\": \"\", \"marker\": {\"color\": \"#636efa\"}, \"name\": \"\", \"offsetgroup\": \"\", \"orientation\": \"v\", \"showlegend\": false, \"textposition\": \"auto\", \"type\": \"bar\", \"x\": [6064.65, 7529.950000000001, 8995.25, 10460.55, 11925.85, 13391.15, 14856.45, 16321.75, 17787.05, 19252.35], \"xaxis\": \"x\", \"y\": [1, 0, 2, 13, 40, 72, 97, 40, 10, 3], \"yaxis\": \"y\"}],\n",
              "                        {\"barmode\": \"relative\", \"legend\": {\"tracegroupgap\": 0}, \"margin\": {\"t\": 60}, \"template\": {\"data\": {\"bar\": [{\"error_x\": {\"color\": \"#2a3f5f\"}, \"error_y\": {\"color\": \"#2a3f5f\"}, \"marker\": {\"line\": {\"color\": \"#E5ECF6\", \"width\": 0.5}}, \"type\": \"bar\"}], \"barpolar\": [{\"marker\": {\"line\": {\"color\": \"#E5ECF6\", \"width\": 0.5}}, \"type\": \"barpolar\"}], \"carpet\": [{\"aaxis\": {\"endlinecolor\": \"#2a3f5f\", \"gridcolor\": \"white\", \"linecolor\": \"white\", \"minorgridcolor\": \"white\", \"startlinecolor\": \"#2a3f5f\"}, \"baxis\": {\"endlinecolor\": \"#2a3f5f\", \"gridcolor\": \"white\", \"linecolor\": \"white\", \"minorgridcolor\": \"white\", \"startlinecolor\": \"#2a3f5f\"}, \"type\": \"carpet\"}], \"choropleth\": [{\"colorbar\": {\"outlinewidth\": 0, \"ticks\": \"\"}, \"type\": \"choropleth\"}], \"contour\": [{\"colorbar\": {\"outlinewidth\": 0, \"ticks\": \"\"}, \"colorscale\": [[0.0, \"#0d0887\"], [0.1111111111111111, \"#46039f\"], [0.2222222222222222, \"#7201a8\"], [0.3333333333333333, \"#9c179e\"], [0.4444444444444444, \"#bd3786\"], [0.5555555555555556, \"#d8576b\"], [0.6666666666666666, \"#ed7953\"], [0.7777777777777778, \"#fb9f3a\"], [0.8888888888888888, \"#fdca26\"], [1.0, \"#f0f921\"]], \"type\": \"contour\"}], \"contourcarpet\": [{\"colorbar\": {\"outlinewidth\": 0, \"ticks\": \"\"}, \"type\": \"contourcarpet\"}], \"heatmap\": [{\"colorbar\": {\"outlinewidth\": 0, \"ticks\": \"\"}, \"colorscale\": [[0.0, \"#0d0887\"], [0.1111111111111111, \"#46039f\"], [0.2222222222222222, \"#7201a8\"], [0.3333333333333333, \"#9c179e\"], [0.4444444444444444, \"#bd3786\"], [0.5555555555555556, \"#d8576b\"], [0.6666666666666666, \"#ed7953\"], [0.7777777777777778, \"#fb9f3a\"], [0.8888888888888888, \"#fdca26\"], [1.0, \"#f0f921\"]], \"type\": \"heatmap\"}], \"heatmapgl\": [{\"colorbar\": {\"outlinewidth\": 0, \"ticks\": \"\"}, \"colorscale\": [[0.0, \"#0d0887\"], [0.1111111111111111, \"#46039f\"], [0.2222222222222222, \"#7201a8\"], [0.3333333333333333, \"#9c179e\"], [0.4444444444444444, \"#bd3786\"], [0.5555555555555556, \"#d8576b\"], [0.6666666666666666, \"#ed7953\"], [0.7777777777777778, \"#fb9f3a\"], [0.8888888888888888, \"#fdca26\"], [1.0, \"#f0f921\"]], \"type\": \"heatmapgl\"}], \"histogram\": [{\"marker\": {\"colorbar\": {\"outlinewidth\": 0, \"ticks\": \"\"}}, \"type\": \"histogram\"}], \"histogram2d\": [{\"colorbar\": {\"outlinewidth\": 0, \"ticks\": \"\"}, \"colorscale\": [[0.0, \"#0d0887\"], [0.1111111111111111, \"#46039f\"], [0.2222222222222222, \"#7201a8\"], [0.3333333333333333, \"#9c179e\"], [0.4444444444444444, \"#bd3786\"], [0.5555555555555556, \"#d8576b\"], [0.6666666666666666, \"#ed7953\"], [0.7777777777777778, \"#fb9f3a\"], [0.8888888888888888, \"#fdca26\"], [1.0, \"#f0f921\"]], \"type\": \"histogram2d\"}], \"histogram2dcontour\": [{\"colorbar\": {\"outlinewidth\": 0, \"ticks\": \"\"}, \"colorscale\": [[0.0, \"#0d0887\"], [0.1111111111111111, \"#46039f\"], [0.2222222222222222, \"#7201a8\"], [0.3333333333333333, \"#9c179e\"], [0.4444444444444444, \"#bd3786\"], [0.5555555555555556, \"#d8576b\"], [0.6666666666666666, \"#ed7953\"], [0.7777777777777778, \"#fb9f3a\"], [0.8888888888888888, \"#fdca26\"], [1.0, \"#f0f921\"]], \"type\": \"histogram2dcontour\"}], \"mesh3d\": [{\"colorbar\": {\"outlinewidth\": 0, \"ticks\": \"\"}, \"type\": \"mesh3d\"}], \"parcoords\": [{\"line\": {\"colorbar\": {\"outlinewidth\": 0, \"ticks\": \"\"}}, \"type\": \"parcoords\"}], \"pie\": [{\"automargin\": true, \"type\": \"pie\"}], \"scatter\": [{\"marker\": {\"colorbar\": {\"outlinewidth\": 0, \"ticks\": \"\"}}, \"type\": \"scatter\"}], \"scatter3d\": [{\"line\": {\"colorbar\": {\"outlinewidth\": 0, \"ticks\": \"\"}}, \"marker\": {\"colorbar\": {\"outlinewidth\": 0, \"ticks\": \"\"}}, \"type\": \"scatter3d\"}], \"scattercarpet\": [{\"marker\": {\"colorbar\": {\"outlinewidth\": 0, \"ticks\": \"\"}}, \"type\": \"scattercarpet\"}], \"scattergeo\": [{\"marker\": {\"colorbar\": {\"outlinewidth\": 0, \"ticks\": \"\"}}, \"type\": \"scattergeo\"}], \"scattergl\": [{\"marker\": {\"colorbar\": {\"outlinewidth\": 0, \"ticks\": \"\"}}, \"type\": \"scattergl\"}], \"scattermapbox\": [{\"marker\": {\"colorbar\": {\"outlinewidth\": 0, \"ticks\": \"\"}}, \"type\": \"scattermapbox\"}], \"scatterpolar\": [{\"marker\": {\"colorbar\": {\"outlinewidth\": 0, \"ticks\": \"\"}}, \"type\": \"scatterpolar\"}], \"scatterpolargl\": [{\"marker\": {\"colorbar\": {\"outlinewidth\": 0, \"ticks\": \"\"}}, \"type\": \"scatterpolargl\"}], \"scatterternary\": [{\"marker\": {\"colorbar\": {\"outlinewidth\": 0, \"ticks\": \"\"}}, \"type\": \"scatterternary\"}], \"surface\": [{\"colorbar\": {\"outlinewidth\": 0, \"ticks\": \"\"}, \"colorscale\": [[0.0, \"#0d0887\"], [0.1111111111111111, \"#46039f\"], [0.2222222222222222, \"#7201a8\"], [0.3333333333333333, \"#9c179e\"], [0.4444444444444444, \"#bd3786\"], [0.5555555555555556, \"#d8576b\"], [0.6666666666666666, \"#ed7953\"], [0.7777777777777778, \"#fb9f3a\"], [0.8888888888888888, \"#fdca26\"], [1.0, \"#f0f921\"]], \"type\": \"surface\"}], \"table\": [{\"cells\": {\"fill\": {\"color\": \"#EBF0F8\"}, \"line\": {\"color\": \"white\"}}, \"header\": {\"fill\": {\"color\": \"#C8D4E3\"}, \"line\": {\"color\": \"white\"}}, \"type\": \"table\"}]}, \"layout\": {\"annotationdefaults\": {\"arrowcolor\": \"#2a3f5f\", \"arrowhead\": 0, \"arrowwidth\": 1}, \"coloraxis\": {\"colorbar\": {\"outlinewidth\": 0, \"ticks\": \"\"}}, \"colorscale\": {\"diverging\": [[0, \"#8e0152\"], [0.1, \"#c51b7d\"], [0.2, \"#de77ae\"], [0.3, \"#f1b6da\"], [0.4, \"#fde0ef\"], [0.5, \"#f7f7f7\"], [0.6, \"#e6f5d0\"], [0.7, \"#b8e186\"], [0.8, \"#7fbc41\"], [0.9, \"#4d9221\"], [1, \"#276419\"]], \"sequential\": [[0.0, \"#0d0887\"], [0.1111111111111111, \"#46039f\"], [0.2222222222222222, \"#7201a8\"], [0.3333333333333333, \"#9c179e\"], [0.4444444444444444, \"#bd3786\"], [0.5555555555555556, \"#d8576b\"], [0.6666666666666666, \"#ed7953\"], [0.7777777777777778, \"#fb9f3a\"], [0.8888888888888888, \"#fdca26\"], [1.0, \"#f0f921\"]], \"sequentialminus\": [[0.0, \"#0d0887\"], [0.1111111111111111, \"#46039f\"], [0.2222222222222222, \"#7201a8\"], [0.3333333333333333, \"#9c179e\"], [0.4444444444444444, \"#bd3786\"], [0.5555555555555556, \"#d8576b\"], [0.6666666666666666, \"#ed7953\"], [0.7777777777777778, \"#fb9f3a\"], [0.8888888888888888, \"#fdca26\"], [1.0, \"#f0f921\"]]}, \"colorway\": [\"#636efa\", \"#EF553B\", \"#00cc96\", \"#ab63fa\", \"#FFA15A\", \"#19d3f3\", \"#FF6692\", \"#B6E880\", \"#FF97FF\", \"#FECB52\"], \"font\": {\"color\": \"#2a3f5f\"}, \"geo\": {\"bgcolor\": \"white\", \"lakecolor\": \"white\", \"landcolor\": \"#E5ECF6\", \"showlakes\": true, \"showland\": true, \"subunitcolor\": \"white\"}, \"hoverlabel\": {\"align\": \"left\"}, \"hovermode\": \"closest\", \"mapbox\": {\"style\": \"light\"}, \"paper_bgcolor\": \"white\", \"plot_bgcolor\": \"#E5ECF6\", \"polar\": {\"angularaxis\": {\"gridcolor\": \"white\", \"linecolor\": \"white\", \"ticks\": \"\"}, \"bgcolor\": \"#E5ECF6\", \"radialaxis\": {\"gridcolor\": \"white\", \"linecolor\": \"white\", \"ticks\": \"\"}}, \"scene\": {\"xaxis\": {\"backgroundcolor\": \"#E5ECF6\", \"gridcolor\": \"white\", \"gridwidth\": 2, \"linecolor\": \"white\", \"showbackground\": true, \"ticks\": \"\", \"zerolinecolor\": \"white\"}, \"yaxis\": {\"backgroundcolor\": \"#E5ECF6\", \"gridcolor\": \"white\", \"gridwidth\": 2, \"linecolor\": \"white\", \"showbackground\": true, \"ticks\": \"\", \"zerolinecolor\": \"white\"}, \"zaxis\": {\"backgroundcolor\": \"#E5ECF6\", \"gridcolor\": \"white\", \"gridwidth\": 2, \"linecolor\": \"white\", \"showbackground\": true, \"ticks\": \"\", \"zerolinecolor\": \"white\"}}, \"shapedefaults\": {\"line\": {\"color\": \"#2a3f5f\"}}, \"ternary\": {\"aaxis\": {\"gridcolor\": \"white\", \"linecolor\": \"white\", \"ticks\": \"\"}, \"baxis\": {\"gridcolor\": \"white\", \"linecolor\": \"white\", \"ticks\": \"\"}, \"bgcolor\": \"#E5ECF6\", \"caxis\": {\"gridcolor\": \"white\", \"linecolor\": \"white\", \"ticks\": \"\"}}, \"title\": {\"x\": 0.05}, \"xaxis\": {\"automargin\": true, \"gridcolor\": \"white\", \"linecolor\": \"white\", \"ticks\": \"\", \"title\": {\"standoff\": 15}, \"zerolinecolor\": \"white\", \"zerolinewidth\": 2}, \"yaxis\": {\"automargin\": true, \"gridcolor\": \"white\", \"linecolor\": \"white\", \"ticks\": \"\", \"title\": {\"standoff\": 15}, \"zerolinecolor\": \"white\", \"zerolinewidth\": 2}}}, \"xaxis\": {\"anchor\": \"y\", \"domain\": [0.0, 1.0], \"title\": {\"text\": \"x\"}}, \"yaxis\": {\"anchor\": \"x\", \"domain\": [0.0, 1.0], \"title\": {\"text\": \"y\"}}},\n",
              "                        {\"responsive\": true}\n",
              "                    ).then(function(){\n",
              "                            \n",
              "var gd = document.getElementById('41b717d3-fb48-4d84-bb4c-0b4ca430687e');\n",
              "var x = new MutationObserver(function (mutations, observer) {{\n",
              "        var display = window.getComputedStyle(gd).display;\n",
              "        if (!display || display === 'none') {{\n",
              "            console.log([gd, 'removed!']);\n",
              "            Plotly.purge(gd);\n",
              "            observer.disconnect();\n",
              "        }}\n",
              "}});\n",
              "\n",
              "// Listen for the removal of the full notebook cells\n",
              "var notebookContainer = gd.closest('#notebook-container');\n",
              "if (notebookContainer) {{\n",
              "    x.observe(notebookContainer, {childList: true});\n",
              "}}\n",
              "\n",
              "// Listen for the clearing of the current output cell\n",
              "var outputEl = gd.closest('.output');\n",
              "if (outputEl) {{\n",
              "    x.observe(outputEl, {childList: true});\n",
              "}}\n",
              "\n",
              "                        })\n",
              "                };\n",
              "                \n",
              "            </script>\n",
              "        </div>\n",
              "</body>\n",
              "</html>"
            ]
          },
          "metadata": {
            "tags": []
          }
        }
      ]
    },
    {
      "cell_type": "markdown",
      "metadata": {
        "id": "Caegbow8YTr6"
      },
      "source": [
        "### Distribution for California"
      ]
    },
    {
      "cell_type": "code",
      "metadata": {
        "id": "ZOv8InTuYKlj",
        "colab": {
          "base_uri": "https://localhost:8080/",
          "height": 542
        },
        "outputId": "12f1ff00-dc0c-40b2-832a-8da7811306c8"
      },
      "source": [
        "counts, bins = np.histogram(state_cat_agg[state_cat_agg['state_id']=='CA']['volume'], bins = 10)\n",
        "bins = 0.5 * (bins[:-1] + bins[1:])\n",
        "fig = px.bar(x=bins, y=counts)\n",
        "fig.show()"
      ],
      "execution_count": null,
      "outputs": [
        {
          "output_type": "display_data",
          "data": {
            "text/html": [
              "<html>\n",
              "<head><meta charset=\"utf-8\" /></head>\n",
              "<body>\n",
              "    <div>\n",
              "            <script src=\"https://cdnjs.cloudflare.com/ajax/libs/mathjax/2.7.5/MathJax.js?config=TeX-AMS-MML_SVG\"></script><script type=\"text/javascript\">if (window.MathJax) {MathJax.Hub.Config({SVG: {font: \"STIX-Web\"}});}</script>\n",
              "                <script type=\"text/javascript\">window.PlotlyConfig = {MathJaxConfig: 'local'};</script>\n",
              "        <script src=\"https://cdn.plot.ly/plotly-latest.min.js\"></script>    \n",
              "            <div id=\"c1eb2197-c98c-4c8d-84ee-9ebbbb61843a\" class=\"plotly-graph-div\" style=\"height:525px; width:100%;\"></div>\n",
              "            <script type=\"text/javascript\">\n",
              "                \n",
              "                    window.PLOTLYENV=window.PLOTLYENV || {};\n",
              "                    \n",
              "                if (document.getElementById(\"c1eb2197-c98c-4c8d-84ee-9ebbbb61843a\")) {\n",
              "                    Plotly.newPlot(\n",
              "                        'c1eb2197-c98c-4c8d-84ee-9ebbbb61843a',\n",
              "                        [{\"alignmentgroup\": \"True\", \"hoverlabel\": {\"namelength\": 0}, \"hovertemplate\": \"x=%{x}<br>y=%{y}\", \"legendgroup\": \"\", \"marker\": {\"color\": \"#636efa\"}, \"name\": \"\", \"offsetgroup\": \"\", \"orientation\": \"v\", \"showlegend\": false, \"textposition\": \"auto\", \"type\": \"bar\", \"x\": [8393.0, 10809.0, 13225.0, 15641.0, 18057.0, 20473.0, 22889.0, 25305.0, 27721.0, 30137.0], \"xaxis\": \"x\", \"y\": [1, 0, 15, 24, 51, 99, 49, 28, 8, 3], \"yaxis\": \"y\"}],\n",
              "                        {\"barmode\": \"relative\", \"legend\": {\"tracegroupgap\": 0}, \"margin\": {\"t\": 60}, \"template\": {\"data\": {\"bar\": [{\"error_x\": {\"color\": \"#2a3f5f\"}, \"error_y\": {\"color\": \"#2a3f5f\"}, \"marker\": {\"line\": {\"color\": \"#E5ECF6\", \"width\": 0.5}}, \"type\": \"bar\"}], \"barpolar\": [{\"marker\": {\"line\": {\"color\": \"#E5ECF6\", \"width\": 0.5}}, \"type\": \"barpolar\"}], \"carpet\": [{\"aaxis\": {\"endlinecolor\": \"#2a3f5f\", \"gridcolor\": \"white\", \"linecolor\": \"white\", \"minorgridcolor\": \"white\", \"startlinecolor\": \"#2a3f5f\"}, \"baxis\": {\"endlinecolor\": \"#2a3f5f\", \"gridcolor\": \"white\", \"linecolor\": \"white\", \"minorgridcolor\": \"white\", \"startlinecolor\": \"#2a3f5f\"}, \"type\": \"carpet\"}], \"choropleth\": [{\"colorbar\": {\"outlinewidth\": 0, \"ticks\": \"\"}, \"type\": \"choropleth\"}], \"contour\": [{\"colorbar\": {\"outlinewidth\": 0, \"ticks\": \"\"}, \"colorscale\": [[0.0, \"#0d0887\"], [0.1111111111111111, \"#46039f\"], [0.2222222222222222, \"#7201a8\"], [0.3333333333333333, \"#9c179e\"], [0.4444444444444444, \"#bd3786\"], [0.5555555555555556, \"#d8576b\"], [0.6666666666666666, \"#ed7953\"], [0.7777777777777778, \"#fb9f3a\"], [0.8888888888888888, \"#fdca26\"], [1.0, \"#f0f921\"]], \"type\": \"contour\"}], \"contourcarpet\": [{\"colorbar\": {\"outlinewidth\": 0, \"ticks\": \"\"}, \"type\": \"contourcarpet\"}], \"heatmap\": [{\"colorbar\": {\"outlinewidth\": 0, \"ticks\": \"\"}, \"colorscale\": [[0.0, \"#0d0887\"], [0.1111111111111111, \"#46039f\"], [0.2222222222222222, \"#7201a8\"], [0.3333333333333333, \"#9c179e\"], [0.4444444444444444, \"#bd3786\"], [0.5555555555555556, \"#d8576b\"], [0.6666666666666666, \"#ed7953\"], [0.7777777777777778, \"#fb9f3a\"], [0.8888888888888888, \"#fdca26\"], [1.0, \"#f0f921\"]], \"type\": \"heatmap\"}], \"heatmapgl\": [{\"colorbar\": {\"outlinewidth\": 0, \"ticks\": \"\"}, \"colorscale\": [[0.0, \"#0d0887\"], [0.1111111111111111, \"#46039f\"], [0.2222222222222222, \"#7201a8\"], [0.3333333333333333, \"#9c179e\"], [0.4444444444444444, \"#bd3786\"], [0.5555555555555556, \"#d8576b\"], [0.6666666666666666, \"#ed7953\"], [0.7777777777777778, \"#fb9f3a\"], [0.8888888888888888, \"#fdca26\"], [1.0, \"#f0f921\"]], \"type\": \"heatmapgl\"}], \"histogram\": [{\"marker\": {\"colorbar\": {\"outlinewidth\": 0, \"ticks\": \"\"}}, \"type\": \"histogram\"}], \"histogram2d\": [{\"colorbar\": {\"outlinewidth\": 0, \"ticks\": \"\"}, \"colorscale\": [[0.0, \"#0d0887\"], [0.1111111111111111, \"#46039f\"], [0.2222222222222222, \"#7201a8\"], [0.3333333333333333, \"#9c179e\"], [0.4444444444444444, \"#bd3786\"], [0.5555555555555556, \"#d8576b\"], [0.6666666666666666, \"#ed7953\"], [0.7777777777777778, \"#fb9f3a\"], [0.8888888888888888, \"#fdca26\"], [1.0, \"#f0f921\"]], \"type\": \"histogram2d\"}], \"histogram2dcontour\": [{\"colorbar\": {\"outlinewidth\": 0, \"ticks\": \"\"}, \"colorscale\": [[0.0, \"#0d0887\"], [0.1111111111111111, \"#46039f\"], [0.2222222222222222, \"#7201a8\"], [0.3333333333333333, \"#9c179e\"], [0.4444444444444444, \"#bd3786\"], [0.5555555555555556, \"#d8576b\"], [0.6666666666666666, \"#ed7953\"], [0.7777777777777778, \"#fb9f3a\"], [0.8888888888888888, \"#fdca26\"], [1.0, \"#f0f921\"]], \"type\": \"histogram2dcontour\"}], \"mesh3d\": [{\"colorbar\": {\"outlinewidth\": 0, \"ticks\": \"\"}, \"type\": \"mesh3d\"}], \"parcoords\": [{\"line\": {\"colorbar\": {\"outlinewidth\": 0, \"ticks\": \"\"}}, \"type\": \"parcoords\"}], \"pie\": [{\"automargin\": true, \"type\": \"pie\"}], \"scatter\": [{\"marker\": {\"colorbar\": {\"outlinewidth\": 0, \"ticks\": \"\"}}, \"type\": \"scatter\"}], \"scatter3d\": [{\"line\": {\"colorbar\": {\"outlinewidth\": 0, \"ticks\": \"\"}}, \"marker\": {\"colorbar\": {\"outlinewidth\": 0, \"ticks\": \"\"}}, \"type\": \"scatter3d\"}], \"scattercarpet\": [{\"marker\": {\"colorbar\": {\"outlinewidth\": 0, \"ticks\": \"\"}}, \"type\": \"scattercarpet\"}], \"scattergeo\": [{\"marker\": {\"colorbar\": {\"outlinewidth\": 0, \"ticks\": \"\"}}, \"type\": \"scattergeo\"}], \"scattergl\": [{\"marker\": {\"colorbar\": {\"outlinewidth\": 0, \"ticks\": \"\"}}, \"type\": \"scattergl\"}], \"scattermapbox\": [{\"marker\": {\"colorbar\": {\"outlinewidth\": 0, \"ticks\": \"\"}}, \"type\": \"scattermapbox\"}], \"scatterpolar\": [{\"marker\": {\"colorbar\": {\"outlinewidth\": 0, \"ticks\": \"\"}}, \"type\": \"scatterpolar\"}], \"scatterpolargl\": [{\"marker\": {\"colorbar\": {\"outlinewidth\": 0, \"ticks\": \"\"}}, \"type\": \"scatterpolargl\"}], \"scatterternary\": [{\"marker\": {\"colorbar\": {\"outlinewidth\": 0, \"ticks\": \"\"}}, \"type\": \"scatterternary\"}], \"surface\": [{\"colorbar\": {\"outlinewidth\": 0, \"ticks\": \"\"}, \"colorscale\": [[0.0, \"#0d0887\"], [0.1111111111111111, \"#46039f\"], [0.2222222222222222, \"#7201a8\"], [0.3333333333333333, \"#9c179e\"], [0.4444444444444444, \"#bd3786\"], [0.5555555555555556, \"#d8576b\"], [0.6666666666666666, \"#ed7953\"], [0.7777777777777778, \"#fb9f3a\"], [0.8888888888888888, \"#fdca26\"], [1.0, \"#f0f921\"]], \"type\": \"surface\"}], \"table\": [{\"cells\": {\"fill\": {\"color\": \"#EBF0F8\"}, \"line\": {\"color\": \"white\"}}, \"header\": {\"fill\": {\"color\": \"#C8D4E3\"}, \"line\": {\"color\": \"white\"}}, \"type\": \"table\"}]}, \"layout\": {\"annotationdefaults\": {\"arrowcolor\": \"#2a3f5f\", \"arrowhead\": 0, \"arrowwidth\": 1}, \"coloraxis\": {\"colorbar\": {\"outlinewidth\": 0, \"ticks\": \"\"}}, \"colorscale\": {\"diverging\": [[0, \"#8e0152\"], [0.1, \"#c51b7d\"], [0.2, \"#de77ae\"], [0.3, \"#f1b6da\"], [0.4, \"#fde0ef\"], [0.5, \"#f7f7f7\"], [0.6, \"#e6f5d0\"], [0.7, \"#b8e186\"], [0.8, \"#7fbc41\"], [0.9, \"#4d9221\"], [1, \"#276419\"]], \"sequential\": [[0.0, \"#0d0887\"], [0.1111111111111111, \"#46039f\"], [0.2222222222222222, \"#7201a8\"], [0.3333333333333333, \"#9c179e\"], [0.4444444444444444, \"#bd3786\"], [0.5555555555555556, \"#d8576b\"], [0.6666666666666666, \"#ed7953\"], [0.7777777777777778, \"#fb9f3a\"], [0.8888888888888888, \"#fdca26\"], [1.0, \"#f0f921\"]], \"sequentialminus\": [[0.0, \"#0d0887\"], [0.1111111111111111, \"#46039f\"], [0.2222222222222222, \"#7201a8\"], [0.3333333333333333, \"#9c179e\"], [0.4444444444444444, \"#bd3786\"], [0.5555555555555556, \"#d8576b\"], [0.6666666666666666, \"#ed7953\"], [0.7777777777777778, \"#fb9f3a\"], [0.8888888888888888, \"#fdca26\"], [1.0, \"#f0f921\"]]}, \"colorway\": [\"#636efa\", \"#EF553B\", \"#00cc96\", \"#ab63fa\", \"#FFA15A\", \"#19d3f3\", \"#FF6692\", \"#B6E880\", \"#FF97FF\", \"#FECB52\"], \"font\": {\"color\": \"#2a3f5f\"}, \"geo\": {\"bgcolor\": \"white\", \"lakecolor\": \"white\", \"landcolor\": \"#E5ECF6\", \"showlakes\": true, \"showland\": true, \"subunitcolor\": \"white\"}, \"hoverlabel\": {\"align\": \"left\"}, \"hovermode\": \"closest\", \"mapbox\": {\"style\": \"light\"}, \"paper_bgcolor\": \"white\", \"plot_bgcolor\": \"#E5ECF6\", \"polar\": {\"angularaxis\": {\"gridcolor\": \"white\", \"linecolor\": \"white\", \"ticks\": \"\"}, \"bgcolor\": \"#E5ECF6\", \"radialaxis\": {\"gridcolor\": \"white\", \"linecolor\": \"white\", \"ticks\": \"\"}}, \"scene\": {\"xaxis\": {\"backgroundcolor\": \"#E5ECF6\", \"gridcolor\": \"white\", \"gridwidth\": 2, \"linecolor\": \"white\", \"showbackground\": true, \"ticks\": \"\", \"zerolinecolor\": \"white\"}, \"yaxis\": {\"backgroundcolor\": \"#E5ECF6\", \"gridcolor\": \"white\", \"gridwidth\": 2, \"linecolor\": \"white\", \"showbackground\": true, \"ticks\": \"\", \"zerolinecolor\": \"white\"}, \"zaxis\": {\"backgroundcolor\": \"#E5ECF6\", \"gridcolor\": \"white\", \"gridwidth\": 2, \"linecolor\": \"white\", \"showbackground\": true, \"ticks\": \"\", \"zerolinecolor\": \"white\"}}, \"shapedefaults\": {\"line\": {\"color\": \"#2a3f5f\"}}, \"ternary\": {\"aaxis\": {\"gridcolor\": \"white\", \"linecolor\": \"white\", \"ticks\": \"\"}, \"baxis\": {\"gridcolor\": \"white\", \"linecolor\": \"white\", \"ticks\": \"\"}, \"bgcolor\": \"#E5ECF6\", \"caxis\": {\"gridcolor\": \"white\", \"linecolor\": \"white\", \"ticks\": \"\"}}, \"title\": {\"x\": 0.05}, \"xaxis\": {\"automargin\": true, \"gridcolor\": \"white\", \"linecolor\": \"white\", \"ticks\": \"\", \"title\": {\"standoff\": 15}, \"zerolinecolor\": \"white\", \"zerolinewidth\": 2}, \"yaxis\": {\"automargin\": true, \"gridcolor\": \"white\", \"linecolor\": \"white\", \"ticks\": \"\", \"title\": {\"standoff\": 15}, \"zerolinecolor\": \"white\", \"zerolinewidth\": 2}}}, \"xaxis\": {\"anchor\": \"y\", \"domain\": [0.0, 1.0], \"title\": {\"text\": \"x\"}}, \"yaxis\": {\"anchor\": \"x\", \"domain\": [0.0, 1.0], \"title\": {\"text\": \"y\"}}},\n",
              "                        {\"responsive\": true}\n",
              "                    ).then(function(){\n",
              "                            \n",
              "var gd = document.getElementById('c1eb2197-c98c-4c8d-84ee-9ebbbb61843a');\n",
              "var x = new MutationObserver(function (mutations, observer) {{\n",
              "        var display = window.getComputedStyle(gd).display;\n",
              "        if (!display || display === 'none') {{\n",
              "            console.log([gd, 'removed!']);\n",
              "            Plotly.purge(gd);\n",
              "            observer.disconnect();\n",
              "        }}\n",
              "}});\n",
              "\n",
              "// Listen for the removal of the full notebook cells\n",
              "var notebookContainer = gd.closest('#notebook-container');\n",
              "if (notebookContainer) {{\n",
              "    x.observe(notebookContainer, {childList: true});\n",
              "}}\n",
              "\n",
              "// Listen for the clearing of the current output cell\n",
              "var outputEl = gd.closest('.output');\n",
              "if (outputEl) {{\n",
              "    x.observe(outputEl, {childList: true});\n",
              "}}\n",
              "\n",
              "                        })\n",
              "                };\n",
              "                \n",
              "            </script>\n",
              "        </div>\n",
              "</body>\n",
              "</html>"
            ]
          },
          "metadata": {
            "tags": []
          }
        }
      ]
    },
    {
      "cell_type": "markdown",
      "metadata": {
        "id": "Ty19Mne-Y1PL"
      },
      "source": [
        "## **Total Sales During the Events**"
      ]
    },
    {
      "cell_type": "markdown",
      "metadata": {
        "id": "OEwrOmzDbeJA"
      },
      "source": [
        "#### Sales during the Event 1"
      ]
    },
    {
      "cell_type": "code",
      "metadata": {
        "id": "wJilsuA2b0hJ",
        "colab": {
          "base_uri": "https://localhost:8080/",
          "height": 101
        },
        "outputId": "f8fe3981-af74-4fe3-bc03-e2abcc1e013a"
      },
      "source": [
        "df_final_master.columns"
      ],
      "execution_count": null,
      "outputs": [
        {
          "output_type": "execute_result",
          "data": {
            "text/plain": [
              "Index(['id', 'item_id', 'cat_id', 'store_id', 'dept_id', 'state_id', 'week_no',\n",
              "       'sell_price', 'volume', 'd', 'date', 'month', 'year', 'snap_CA',\n",
              "       'snap_TX', 'snap_WI', 'event_name_1', 'event_type_1', 'event_name_2',\n",
              "       'event_type_2'],\n",
              "      dtype='object')"
            ]
          },
          "metadata": {
            "tags": []
          },
          "execution_count": 98
        }
      ]
    },
    {
      "cell_type": "code",
      "metadata": {
        "id": "u__zGqygYW3n",
        "colab": {
          "base_uri": "https://localhost:8080/",
          "height": 617
        },
        "outputId": "d730e152-d4f0-4ab4-cb00-027473bd3db0"
      },
      "source": [
        "event1_agg = df_final_master.groupby(['event_name_1','state_id']).agg({'volume':'sum'}).reset_index()\n",
        "fig = px.bar(\n",
        "    event1_agg, x=\"volume\", y=\"event_name_1\", color='state_id', orientation='h',\n",
        "    height=600,\n",
        "    title='Sales on the event type 1'\n",
        "             )\n",
        "fig.show()"
      ],
      "execution_count": null,
      "outputs": [
        {
          "output_type": "display_data",
          "data": {
            "text/html": [
              "<html>\n",
              "<head><meta charset=\"utf-8\" /></head>\n",
              "<body>\n",
              "    <div>\n",
              "            <script src=\"https://cdnjs.cloudflare.com/ajax/libs/mathjax/2.7.5/MathJax.js?config=TeX-AMS-MML_SVG\"></script><script type=\"text/javascript\">if (window.MathJax) {MathJax.Hub.Config({SVG: {font: \"STIX-Web\"}});}</script>\n",
              "                <script type=\"text/javascript\">window.PlotlyConfig = {MathJaxConfig: 'local'};</script>\n",
              "        <script src=\"https://cdn.plot.ly/plotly-latest.min.js\"></script>    \n",
              "            <div id=\"9c1c108c-52b0-4323-b7c8-423522c3d91d\" class=\"plotly-graph-div\" style=\"height:600px; width:100%;\"></div>\n",
              "            <script type=\"text/javascript\">\n",
              "                \n",
              "                    window.PLOTLYENV=window.PLOTLYENV || {};\n",
              "                    \n",
              "                if (document.getElementById(\"9c1c108c-52b0-4323-b7c8-423522c3d91d\")) {\n",
              "                    Plotly.newPlot(\n",
              "                        '9c1c108c-52b0-4323-b7c8-423522c3d91d',\n",
              "                        [{\"alignmentgroup\": \"True\", \"hoverlabel\": {\"namelength\": 0}, \"hovertemplate\": \"state_id=CA<br>volume=%{x}<br>event_name_1=%{y}\", \"legendgroup\": \"state_id=CA\", \"marker\": {\"color\": \"#636efa\"}, \"name\": \"state_id=CA\", \"offsetgroup\": \"state_id=CA\", \"orientation\": \"h\", \"showlegend\": true, \"textposition\": \"auto\", \"type\": \"bar\", \"x\": [58916, 17209, 53045, 17503, 83951, 84937, 23289, 62365, 43189, 110314, 64189, 19919, 36888, 46565, 100647, 98077, 117893, 34378, 19301, 59376, 13797, 95151, 78124, 12811, 123060, 38539, 21017, 92220, 95058, 99298, 21233, 12797, 38931, 20976, 31121, 21343, 18696, 93779, 20957, 64143, 26637, 77005, 101322, 20460, 104928, 54777, 17099, 19660, 81627], \"xaxis\": \"x\", \"y\": [\"Chanukah End\", \"Chanukah End-Christmas\", \"Christmas\", \"Christmas-Chanukah End\", \"Cinco De Mayo\", \"ColumbusDay\", \"ColumbusDay-EidAlAdha\", \"Easter\", \"Easter-Pesach End\", \"Eid al-Fitr\", \"EidAlAdha\", \"EidAlAdha-VeteransDay\", \"Father's day\", \"Father's day-NBAFinalsEnd\", \"Halloween\", \"IndependenceDay\", \"LaborDay\", \"LentStart\", \"LentStart-ValentinesDay\", \"LentWeek2\", \"LentWeek2-StPatricksDay\", \"MartinLutherKingDay\", \"MemorialDay\", \"MemorialDay-NBAFinalsStart\", \"Mother's day\", \"NBAFinalsEnd\", \"NBAFinalsEnd-Ramadan starts\", \"NBAFinalsStart\", \"NewYear\", \"OrthodoxChristmas\", \"OrthodoxEaster\", \"OrthodoxEaster-Pesach End\", \"Pesach End-OrthodoxEaster\", \"Pesach End-OrthodoxEaster-Cinco De Mayo\", \"PresidentsDay\", \"PresidentsDay-LentStart\", \"PresidentsDay-LentWeek2\", \"Purim End\", \"Purim End-StPatricksDay\", \"Ramadan starts\", \"Ramadan starts-IndependenceDay\", \"StPatricksDay\", \"SuperBowl\", \"SuperBowl-LentStart\", \"Thanksgiving\", \"ValentinesDay\", \"ValentinesDay-PresidentsDay-LentStart\", \"ValentinesDay-PresidentsDay-LentWeek2\", \"VeteransDay\"], \"yaxis\": \"y\"}, {\"alignmentgroup\": \"True\", \"hoverlabel\": {\"namelength\": 0}, \"hovertemplate\": \"state_id=TX<br>volume=%{x}<br>event_name_1=%{y}\", \"legendgroup\": \"state_id=TX\", \"marker\": {\"color\": \"#EF553B\"}, \"name\": \"state_id=TX\", \"offsetgroup\": \"state_id=TX\", \"orientation\": \"h\", \"showlegend\": true, \"textposition\": \"auto\", \"type\": \"bar\", \"x\": [45490, 12767, 39467, 12988, 56575, 59758, 15422, 46162, 28905, 76771, 43657, 15069, 24568, 30885, 69012, 60020, 77474, 23099, 14698, 40822, 10944, 66048, 57012, 11655, 86080, 28119, 14987, 60428, 66615, 65528, 13523, 10374, 29093, 15079, 23319, 14432, 13801, 66774, 12639, 43613, 15438, 59262, 69278, 16712, 78563, 40032, 12955, 15907, 55585], \"xaxis\": \"x\", \"y\": [\"Chanukah End\", \"Chanukah End-Christmas\", \"Christmas\", \"Christmas-Chanukah End\", \"Cinco De Mayo\", \"ColumbusDay\", \"ColumbusDay-EidAlAdha\", \"Easter\", \"Easter-Pesach End\", \"Eid al-Fitr\", \"EidAlAdha\", \"EidAlAdha-VeteransDay\", \"Father's day\", \"Father's day-NBAFinalsEnd\", \"Halloween\", \"IndependenceDay\", \"LaborDay\", \"LentStart\", \"LentStart-ValentinesDay\", \"LentWeek2\", \"LentWeek2-StPatricksDay\", \"MartinLutherKingDay\", \"MemorialDay\", \"MemorialDay-NBAFinalsStart\", \"Mother's day\", \"NBAFinalsEnd\", \"NBAFinalsEnd-Ramadan starts\", \"NBAFinalsStart\", \"NewYear\", \"OrthodoxChristmas\", \"OrthodoxEaster\", \"OrthodoxEaster-Pesach End\", \"Pesach End-OrthodoxEaster\", \"Pesach End-OrthodoxEaster-Cinco De Mayo\", \"PresidentsDay\", \"PresidentsDay-LentStart\", \"PresidentsDay-LentWeek2\", \"Purim End\", \"Purim End-StPatricksDay\", \"Ramadan starts\", \"Ramadan starts-IndependenceDay\", \"StPatricksDay\", \"SuperBowl\", \"SuperBowl-LentStart\", \"Thanksgiving\", \"ValentinesDay\", \"ValentinesDay-PresidentsDay-LentStart\", \"ValentinesDay-PresidentsDay-LentWeek2\", \"VeteransDay\"], \"yaxis\": \"y\"}, {\"alignmentgroup\": \"True\", \"hoverlabel\": {\"namelength\": 0}, \"hovertemplate\": \"state_id=WI<br>volume=%{x}<br>event_name_1=%{y}\", \"legendgroup\": \"state_id=WI\", \"marker\": {\"color\": \"#00cc96\"}, \"name\": \"state_id=WI\", \"offsetgroup\": \"state_id=WI\", \"orientation\": \"h\", \"showlegend\": true, \"textposition\": \"auto\", \"type\": \"bar\", \"x\": [36577, 8980, 30301, 8473, 42748, 48028, 12853, 33010, 21268, 49217, 31054, 10356, 15975, 22812, 52568, 48132, 58016, 18628, 14571, 31580, 8035, 48038, 35021, 7449, 68083, 18075, 10662, 45328, 51427, 59811, 11972, 6818, 20063, 13722, 17435, 8988, 11362, 51456, 10730, 34437, 11565, 43990, 58495, 14270, 55008, 28911, 9846, 14219, 48029], \"xaxis\": \"x\", \"y\": [\"Chanukah End\", \"Chanukah End-Christmas\", \"Christmas\", \"Christmas-Chanukah End\", \"Cinco De Mayo\", \"ColumbusDay\", \"ColumbusDay-EidAlAdha\", \"Easter\", \"Easter-Pesach End\", \"Eid al-Fitr\", \"EidAlAdha\", \"EidAlAdha-VeteransDay\", \"Father's day\", \"Father's day-NBAFinalsEnd\", \"Halloween\", \"IndependenceDay\", \"LaborDay\", \"LentStart\", \"LentStart-ValentinesDay\", \"LentWeek2\", \"LentWeek2-StPatricksDay\", \"MartinLutherKingDay\", \"MemorialDay\", \"MemorialDay-NBAFinalsStart\", \"Mother's day\", \"NBAFinalsEnd\", \"NBAFinalsEnd-Ramadan starts\", \"NBAFinalsStart\", \"NewYear\", \"OrthodoxChristmas\", \"OrthodoxEaster\", \"OrthodoxEaster-Pesach End\", \"Pesach End-OrthodoxEaster\", \"Pesach End-OrthodoxEaster-Cinco De Mayo\", \"PresidentsDay\", \"PresidentsDay-LentStart\", \"PresidentsDay-LentWeek2\", \"Purim End\", \"Purim End-StPatricksDay\", \"Ramadan starts\", \"Ramadan starts-IndependenceDay\", \"StPatricksDay\", \"SuperBowl\", \"SuperBowl-LentStart\", \"Thanksgiving\", \"ValentinesDay\", \"ValentinesDay-PresidentsDay-LentStart\", \"ValentinesDay-PresidentsDay-LentWeek2\", \"VeteransDay\"], \"yaxis\": \"y\"}],\n",
              "                        {\"barmode\": \"relative\", \"height\": 600, \"legend\": {\"tracegroupgap\": 0}, \"template\": {\"data\": {\"bar\": [{\"error_x\": {\"color\": \"#2a3f5f\"}, \"error_y\": {\"color\": \"#2a3f5f\"}, \"marker\": {\"line\": {\"color\": \"#E5ECF6\", \"width\": 0.5}}, \"type\": \"bar\"}], \"barpolar\": [{\"marker\": {\"line\": {\"color\": \"#E5ECF6\", \"width\": 0.5}}, \"type\": \"barpolar\"}], \"carpet\": [{\"aaxis\": {\"endlinecolor\": \"#2a3f5f\", \"gridcolor\": \"white\", \"linecolor\": \"white\", \"minorgridcolor\": \"white\", \"startlinecolor\": \"#2a3f5f\"}, \"baxis\": {\"endlinecolor\": \"#2a3f5f\", \"gridcolor\": \"white\", \"linecolor\": \"white\", \"minorgridcolor\": \"white\", \"startlinecolor\": \"#2a3f5f\"}, \"type\": \"carpet\"}], \"choropleth\": [{\"colorbar\": {\"outlinewidth\": 0, \"ticks\": \"\"}, \"type\": \"choropleth\"}], \"contour\": [{\"colorbar\": {\"outlinewidth\": 0, \"ticks\": \"\"}, \"colorscale\": [[0.0, \"#0d0887\"], [0.1111111111111111, \"#46039f\"], [0.2222222222222222, \"#7201a8\"], [0.3333333333333333, \"#9c179e\"], [0.4444444444444444, \"#bd3786\"], [0.5555555555555556, \"#d8576b\"], [0.6666666666666666, \"#ed7953\"], [0.7777777777777778, \"#fb9f3a\"], [0.8888888888888888, \"#fdca26\"], [1.0, \"#f0f921\"]], \"type\": \"contour\"}], \"contourcarpet\": [{\"colorbar\": {\"outlinewidth\": 0, \"ticks\": \"\"}, \"type\": \"contourcarpet\"}], \"heatmap\": [{\"colorbar\": {\"outlinewidth\": 0, \"ticks\": \"\"}, \"colorscale\": [[0.0, \"#0d0887\"], [0.1111111111111111, \"#46039f\"], [0.2222222222222222, \"#7201a8\"], [0.3333333333333333, \"#9c179e\"], [0.4444444444444444, \"#bd3786\"], [0.5555555555555556, \"#d8576b\"], [0.6666666666666666, \"#ed7953\"], [0.7777777777777778, \"#fb9f3a\"], [0.8888888888888888, \"#fdca26\"], [1.0, \"#f0f921\"]], \"type\": \"heatmap\"}], \"heatmapgl\": [{\"colorbar\": {\"outlinewidth\": 0, \"ticks\": \"\"}, \"colorscale\": [[0.0, \"#0d0887\"], [0.1111111111111111, \"#46039f\"], [0.2222222222222222, \"#7201a8\"], [0.3333333333333333, \"#9c179e\"], [0.4444444444444444, \"#bd3786\"], [0.5555555555555556, \"#d8576b\"], [0.6666666666666666, \"#ed7953\"], [0.7777777777777778, \"#fb9f3a\"], [0.8888888888888888, \"#fdca26\"], [1.0, \"#f0f921\"]], \"type\": \"heatmapgl\"}], \"histogram\": [{\"marker\": {\"colorbar\": {\"outlinewidth\": 0, \"ticks\": \"\"}}, \"type\": \"histogram\"}], \"histogram2d\": [{\"colorbar\": {\"outlinewidth\": 0, \"ticks\": \"\"}, \"colorscale\": [[0.0, \"#0d0887\"], [0.1111111111111111, \"#46039f\"], [0.2222222222222222, \"#7201a8\"], [0.3333333333333333, \"#9c179e\"], [0.4444444444444444, \"#bd3786\"], [0.5555555555555556, \"#d8576b\"], [0.6666666666666666, \"#ed7953\"], [0.7777777777777778, \"#fb9f3a\"], [0.8888888888888888, \"#fdca26\"], [1.0, \"#f0f921\"]], \"type\": \"histogram2d\"}], \"histogram2dcontour\": [{\"colorbar\": {\"outlinewidth\": 0, \"ticks\": \"\"}, \"colorscale\": [[0.0, \"#0d0887\"], [0.1111111111111111, \"#46039f\"], [0.2222222222222222, \"#7201a8\"], [0.3333333333333333, \"#9c179e\"], [0.4444444444444444, \"#bd3786\"], [0.5555555555555556, \"#d8576b\"], [0.6666666666666666, \"#ed7953\"], [0.7777777777777778, \"#fb9f3a\"], [0.8888888888888888, \"#fdca26\"], [1.0, \"#f0f921\"]], \"type\": \"histogram2dcontour\"}], \"mesh3d\": [{\"colorbar\": {\"outlinewidth\": 0, \"ticks\": \"\"}, \"type\": \"mesh3d\"}], \"parcoords\": [{\"line\": {\"colorbar\": {\"outlinewidth\": 0, \"ticks\": \"\"}}, \"type\": \"parcoords\"}], \"pie\": [{\"automargin\": true, \"type\": \"pie\"}], \"scatter\": [{\"marker\": {\"colorbar\": {\"outlinewidth\": 0, \"ticks\": \"\"}}, \"type\": \"scatter\"}], \"scatter3d\": [{\"line\": {\"colorbar\": {\"outlinewidth\": 0, \"ticks\": \"\"}}, \"marker\": {\"colorbar\": {\"outlinewidth\": 0, \"ticks\": \"\"}}, \"type\": \"scatter3d\"}], \"scattercarpet\": [{\"marker\": {\"colorbar\": {\"outlinewidth\": 0, \"ticks\": \"\"}}, \"type\": \"scattercarpet\"}], \"scattergeo\": [{\"marker\": {\"colorbar\": {\"outlinewidth\": 0, \"ticks\": \"\"}}, \"type\": \"scattergeo\"}], \"scattergl\": [{\"marker\": {\"colorbar\": {\"outlinewidth\": 0, \"ticks\": \"\"}}, \"type\": \"scattergl\"}], \"scattermapbox\": [{\"marker\": {\"colorbar\": {\"outlinewidth\": 0, \"ticks\": \"\"}}, \"type\": \"scattermapbox\"}], \"scatterpolar\": [{\"marker\": {\"colorbar\": {\"outlinewidth\": 0, \"ticks\": \"\"}}, \"type\": \"scatterpolar\"}], \"scatterpolargl\": [{\"marker\": {\"colorbar\": {\"outlinewidth\": 0, \"ticks\": \"\"}}, \"type\": \"scatterpolargl\"}], \"scatterternary\": [{\"marker\": {\"colorbar\": {\"outlinewidth\": 0, \"ticks\": \"\"}}, \"type\": \"scatterternary\"}], \"surface\": [{\"colorbar\": {\"outlinewidth\": 0, \"ticks\": \"\"}, \"colorscale\": [[0.0, \"#0d0887\"], [0.1111111111111111, \"#46039f\"], [0.2222222222222222, \"#7201a8\"], [0.3333333333333333, \"#9c179e\"], [0.4444444444444444, \"#bd3786\"], [0.5555555555555556, \"#d8576b\"], [0.6666666666666666, \"#ed7953\"], [0.7777777777777778, \"#fb9f3a\"], [0.8888888888888888, \"#fdca26\"], [1.0, \"#f0f921\"]], \"type\": \"surface\"}], \"table\": [{\"cells\": {\"fill\": {\"color\": \"#EBF0F8\"}, \"line\": {\"color\": \"white\"}}, \"header\": {\"fill\": {\"color\": \"#C8D4E3\"}, \"line\": {\"color\": \"white\"}}, \"type\": \"table\"}]}, \"layout\": {\"annotationdefaults\": {\"arrowcolor\": \"#2a3f5f\", \"arrowhead\": 0, \"arrowwidth\": 1}, \"coloraxis\": {\"colorbar\": {\"outlinewidth\": 0, \"ticks\": \"\"}}, \"colorscale\": {\"diverging\": [[0, \"#8e0152\"], [0.1, \"#c51b7d\"], [0.2, \"#de77ae\"], [0.3, \"#f1b6da\"], [0.4, \"#fde0ef\"], [0.5, \"#f7f7f7\"], [0.6, \"#e6f5d0\"], [0.7, \"#b8e186\"], [0.8, \"#7fbc41\"], [0.9, \"#4d9221\"], [1, \"#276419\"]], \"sequential\": [[0.0, \"#0d0887\"], [0.1111111111111111, \"#46039f\"], [0.2222222222222222, \"#7201a8\"], [0.3333333333333333, \"#9c179e\"], [0.4444444444444444, \"#bd3786\"], [0.5555555555555556, \"#d8576b\"], [0.6666666666666666, \"#ed7953\"], [0.7777777777777778, \"#fb9f3a\"], [0.8888888888888888, \"#fdca26\"], [1.0, \"#f0f921\"]], \"sequentialminus\": [[0.0, \"#0d0887\"], [0.1111111111111111, \"#46039f\"], [0.2222222222222222, \"#7201a8\"], [0.3333333333333333, \"#9c179e\"], [0.4444444444444444, \"#bd3786\"], [0.5555555555555556, \"#d8576b\"], [0.6666666666666666, \"#ed7953\"], [0.7777777777777778, \"#fb9f3a\"], [0.8888888888888888, \"#fdca26\"], [1.0, \"#f0f921\"]]}, \"colorway\": [\"#636efa\", \"#EF553B\", \"#00cc96\", \"#ab63fa\", \"#FFA15A\", \"#19d3f3\", \"#FF6692\", \"#B6E880\", \"#FF97FF\", \"#FECB52\"], \"font\": {\"color\": \"#2a3f5f\"}, \"geo\": {\"bgcolor\": \"white\", \"lakecolor\": \"white\", \"landcolor\": \"#E5ECF6\", \"showlakes\": true, \"showland\": true, \"subunitcolor\": \"white\"}, \"hoverlabel\": {\"align\": \"left\"}, \"hovermode\": \"closest\", \"mapbox\": {\"style\": \"light\"}, \"paper_bgcolor\": \"white\", \"plot_bgcolor\": \"#E5ECF6\", \"polar\": {\"angularaxis\": {\"gridcolor\": \"white\", \"linecolor\": \"white\", \"ticks\": \"\"}, \"bgcolor\": \"#E5ECF6\", \"radialaxis\": {\"gridcolor\": \"white\", \"linecolor\": \"white\", \"ticks\": \"\"}}, \"scene\": {\"xaxis\": {\"backgroundcolor\": \"#E5ECF6\", \"gridcolor\": \"white\", \"gridwidth\": 2, \"linecolor\": \"white\", \"showbackground\": true, \"ticks\": \"\", \"zerolinecolor\": \"white\"}, \"yaxis\": {\"backgroundcolor\": \"#E5ECF6\", \"gridcolor\": \"white\", \"gridwidth\": 2, \"linecolor\": \"white\", \"showbackground\": true, \"ticks\": \"\", \"zerolinecolor\": \"white\"}, \"zaxis\": {\"backgroundcolor\": \"#E5ECF6\", \"gridcolor\": \"white\", \"gridwidth\": 2, \"linecolor\": \"white\", \"showbackground\": true, \"ticks\": \"\", \"zerolinecolor\": \"white\"}}, \"shapedefaults\": {\"line\": {\"color\": \"#2a3f5f\"}}, \"ternary\": {\"aaxis\": {\"gridcolor\": \"white\", \"linecolor\": \"white\", \"ticks\": \"\"}, \"baxis\": {\"gridcolor\": \"white\", \"linecolor\": \"white\", \"ticks\": \"\"}, \"bgcolor\": \"#E5ECF6\", \"caxis\": {\"gridcolor\": \"white\", \"linecolor\": \"white\", \"ticks\": \"\"}}, \"title\": {\"x\": 0.05}, \"xaxis\": {\"automargin\": true, \"gridcolor\": \"white\", \"linecolor\": \"white\", \"ticks\": \"\", \"title\": {\"standoff\": 15}, \"zerolinecolor\": \"white\", \"zerolinewidth\": 2}, \"yaxis\": {\"automargin\": true, \"gridcolor\": \"white\", \"linecolor\": \"white\", \"ticks\": \"\", \"title\": {\"standoff\": 15}, \"zerolinecolor\": \"white\", \"zerolinewidth\": 2}}}, \"title\": {\"text\": \"Sales on the event type 1\"}, \"xaxis\": {\"anchor\": \"y\", \"domain\": [0.0, 1.0], \"title\": {\"text\": \"volume\"}}, \"yaxis\": {\"anchor\": \"x\", \"domain\": [0.0, 1.0], \"title\": {\"text\": \"event_name_1\"}}},\n",
              "                        {\"responsive\": true}\n",
              "                    ).then(function(){\n",
              "                            \n",
              "var gd = document.getElementById('9c1c108c-52b0-4323-b7c8-423522c3d91d');\n",
              "var x = new MutationObserver(function (mutations, observer) {{\n",
              "        var display = window.getComputedStyle(gd).display;\n",
              "        if (!display || display === 'none') {{\n",
              "            console.log([gd, 'removed!']);\n",
              "            Plotly.purge(gd);\n",
              "            observer.disconnect();\n",
              "        }}\n",
              "}});\n",
              "\n",
              "// Listen for the removal of the full notebook cells\n",
              "var notebookContainer = gd.closest('#notebook-container');\n",
              "if (notebookContainer) {{\n",
              "    x.observe(notebookContainer, {childList: true});\n",
              "}}\n",
              "\n",
              "// Listen for the clearing of the current output cell\n",
              "var outputEl = gd.closest('.output');\n",
              "if (outputEl) {{\n",
              "    x.observe(outputEl, {childList: true});\n",
              "}}\n",
              "\n",
              "                        })\n",
              "                };\n",
              "                \n",
              "            </script>\n",
              "        </div>\n",
              "</body>\n",
              "</html>"
            ]
          },
          "metadata": {
            "tags": []
          }
        }
      ]
    },
    {
      "cell_type": "markdown",
      "metadata": {
        "id": "p5rQ_8Qrbmz-"
      },
      "source": [
        "#### Sales during the Event 2"
      ]
    },
    {
      "cell_type": "code",
      "metadata": {
        "id": "7iOgEnhKaI3K",
        "colab": {
          "base_uri": "https://localhost:8080/",
          "height": 417
        },
        "outputId": "1ec1ee19-9f8e-442c-f2cc-7a7d93ce2e16"
      },
      "source": [
        "event2_agg = df_final_master.groupby(['event_name_2','state_id']).agg({'volume':'sum'}).reset_index()\n",
        "\n",
        "fig = px.bar(\n",
        "    event2_agg, x=\"volume\", y=\"event_name_2\", color='state_id', orientation='h',\n",
        "    height=400,\n",
        "    title='Sales on the event type 2'\n",
        "             )\n",
        "fig.show()\n"
      ],
      "execution_count": null,
      "outputs": [
        {
          "output_type": "display_data",
          "data": {
            "text/html": [
              "<html>\n",
              "<head><meta charset=\"utf-8\" /></head>\n",
              "<body>\n",
              "    <div>\n",
              "            <script src=\"https://cdnjs.cloudflare.com/ajax/libs/mathjax/2.7.5/MathJax.js?config=TeX-AMS-MML_SVG\"></script><script type=\"text/javascript\">if (window.MathJax) {MathJax.Hub.Config({SVG: {font: \"STIX-Web\"}});}</script>\n",
              "                <script type=\"text/javascript\">window.PlotlyConfig = {MathJaxConfig: 'local'};</script>\n",
              "        <script src=\"https://cdn.plot.ly/plotly-latest.min.js\"></script>    \n",
              "            <div id=\"32b1be99-f0f4-49f5-b213-78a6347b3b2f\" class=\"plotly-graph-div\" style=\"height:400px; width:100%;\"></div>\n",
              "            <script type=\"text/javascript\">\n",
              "                \n",
              "                    window.PLOTLYENV=window.PLOTLYENV || {};\n",
              "                    \n",
              "                if (document.getElementById(\"32b1be99-f0f4-49f5-b213-78a6347b3b2f\")) {\n",
              "                    Plotly.newPlot(\n",
              "                        '32b1be99-f0f4-49f5-b213-78a6347b3b2f',\n",
              "                        [{\"alignmentgroup\": \"True\", \"hoverlabel\": {\"namelength\": 0}, \"hovertemplate\": \"state_id=CA<br>volume=%{x}<br>event_name_2=%{y}\", \"legendgroup\": \"state_id=CA\", \"marker\": {\"color\": \"#636efa\"}, \"name\": \"state_id=CA\", \"offsetgroup\": \"state_id=CA\", \"orientation\": \"h\", \"showlegend\": true, \"textposition\": \"auto\", \"type\": \"bar\", \"x\": [21233, 12797, 23270, 22791], \"xaxis\": \"x\", \"y\": [\"Cinco De Mayo\", \"Easter\", \"Father's day\", \"OrthodoxEaster\"], \"yaxis\": \"y\"}, {\"alignmentgroup\": \"True\", \"hoverlabel\": {\"namelength\": 0}, \"hovertemplate\": \"state_id=TX<br>volume=%{x}<br>event_name_2=%{y}\", \"legendgroup\": \"state_id=TX\", \"marker\": {\"color\": \"#EF553B\"}, \"name\": \"state_id=TX\", \"offsetgroup\": \"state_id=TX\", \"orientation\": \"h\", \"showlegend\": true, \"textposition\": \"auto\", \"type\": \"bar\", \"x\": [13523, 10374, 15000, 15491], \"xaxis\": \"x\", \"y\": [\"Cinco De Mayo\", \"Easter\", \"Father's day\", \"OrthodoxEaster\"], \"yaxis\": \"y\"}, {\"alignmentgroup\": \"True\", \"hoverlabel\": {\"namelength\": 0}, \"hovertemplate\": \"state_id=WI<br>volume=%{x}<br>event_name_2=%{y}\", \"legendgroup\": \"state_id=WI\", \"marker\": {\"color\": \"#00cc96\"}, \"name\": \"state_id=WI\", \"offsetgroup\": \"state_id=WI\", \"orientation\": \"h\", \"showlegend\": true, \"textposition\": \"auto\", \"type\": \"bar\", \"x\": [11972, 6818, 10152, 9266], \"xaxis\": \"x\", \"y\": [\"Cinco De Mayo\", \"Easter\", \"Father's day\", \"OrthodoxEaster\"], \"yaxis\": \"y\"}],\n",
              "                        {\"barmode\": \"relative\", \"height\": 400, \"legend\": {\"tracegroupgap\": 0}, \"template\": {\"data\": {\"bar\": [{\"error_x\": {\"color\": \"#2a3f5f\"}, \"error_y\": {\"color\": \"#2a3f5f\"}, \"marker\": {\"line\": {\"color\": \"#E5ECF6\", \"width\": 0.5}}, \"type\": \"bar\"}], \"barpolar\": [{\"marker\": {\"line\": {\"color\": \"#E5ECF6\", \"width\": 0.5}}, \"type\": \"barpolar\"}], \"carpet\": [{\"aaxis\": {\"endlinecolor\": \"#2a3f5f\", \"gridcolor\": \"white\", \"linecolor\": \"white\", \"minorgridcolor\": \"white\", \"startlinecolor\": \"#2a3f5f\"}, \"baxis\": {\"endlinecolor\": \"#2a3f5f\", \"gridcolor\": \"white\", \"linecolor\": \"white\", \"minorgridcolor\": \"white\", \"startlinecolor\": \"#2a3f5f\"}, \"type\": \"carpet\"}], \"choropleth\": [{\"colorbar\": {\"outlinewidth\": 0, \"ticks\": \"\"}, \"type\": \"choropleth\"}], \"contour\": [{\"colorbar\": {\"outlinewidth\": 0, \"ticks\": \"\"}, \"colorscale\": [[0.0, \"#0d0887\"], [0.1111111111111111, \"#46039f\"], [0.2222222222222222, \"#7201a8\"], [0.3333333333333333, \"#9c179e\"], [0.4444444444444444, \"#bd3786\"], [0.5555555555555556, \"#d8576b\"], [0.6666666666666666, \"#ed7953\"], [0.7777777777777778, \"#fb9f3a\"], [0.8888888888888888, \"#fdca26\"], [1.0, \"#f0f921\"]], \"type\": \"contour\"}], \"contourcarpet\": [{\"colorbar\": {\"outlinewidth\": 0, \"ticks\": \"\"}, \"type\": \"contourcarpet\"}], \"heatmap\": [{\"colorbar\": {\"outlinewidth\": 0, \"ticks\": \"\"}, \"colorscale\": [[0.0, \"#0d0887\"], [0.1111111111111111, \"#46039f\"], [0.2222222222222222, \"#7201a8\"], [0.3333333333333333, \"#9c179e\"], [0.4444444444444444, \"#bd3786\"], [0.5555555555555556, \"#d8576b\"], [0.6666666666666666, \"#ed7953\"], [0.7777777777777778, \"#fb9f3a\"], [0.8888888888888888, \"#fdca26\"], [1.0, \"#f0f921\"]], \"type\": \"heatmap\"}], \"heatmapgl\": [{\"colorbar\": {\"outlinewidth\": 0, \"ticks\": \"\"}, \"colorscale\": [[0.0, \"#0d0887\"], [0.1111111111111111, \"#46039f\"], [0.2222222222222222, \"#7201a8\"], [0.3333333333333333, \"#9c179e\"], [0.4444444444444444, \"#bd3786\"], [0.5555555555555556, \"#d8576b\"], [0.6666666666666666, \"#ed7953\"], [0.7777777777777778, \"#fb9f3a\"], [0.8888888888888888, \"#fdca26\"], [1.0, \"#f0f921\"]], \"type\": \"heatmapgl\"}], \"histogram\": [{\"marker\": {\"colorbar\": {\"outlinewidth\": 0, \"ticks\": \"\"}}, \"type\": \"histogram\"}], \"histogram2d\": [{\"colorbar\": {\"outlinewidth\": 0, \"ticks\": \"\"}, \"colorscale\": [[0.0, \"#0d0887\"], [0.1111111111111111, \"#46039f\"], [0.2222222222222222, \"#7201a8\"], [0.3333333333333333, \"#9c179e\"], [0.4444444444444444, \"#bd3786\"], [0.5555555555555556, \"#d8576b\"], [0.6666666666666666, \"#ed7953\"], [0.7777777777777778, \"#fb9f3a\"], [0.8888888888888888, \"#fdca26\"], [1.0, \"#f0f921\"]], \"type\": \"histogram2d\"}], \"histogram2dcontour\": [{\"colorbar\": {\"outlinewidth\": 0, \"ticks\": \"\"}, \"colorscale\": [[0.0, \"#0d0887\"], [0.1111111111111111, \"#46039f\"], [0.2222222222222222, \"#7201a8\"], [0.3333333333333333, \"#9c179e\"], [0.4444444444444444, \"#bd3786\"], [0.5555555555555556, \"#d8576b\"], [0.6666666666666666, \"#ed7953\"], [0.7777777777777778, \"#fb9f3a\"], [0.8888888888888888, \"#fdca26\"], [1.0, \"#f0f921\"]], \"type\": \"histogram2dcontour\"}], \"mesh3d\": [{\"colorbar\": {\"outlinewidth\": 0, \"ticks\": \"\"}, \"type\": \"mesh3d\"}], \"parcoords\": [{\"line\": {\"colorbar\": {\"outlinewidth\": 0, \"ticks\": \"\"}}, \"type\": \"parcoords\"}], \"pie\": [{\"automargin\": true, \"type\": \"pie\"}], \"scatter\": [{\"marker\": {\"colorbar\": {\"outlinewidth\": 0, \"ticks\": \"\"}}, \"type\": \"scatter\"}], \"scatter3d\": [{\"line\": {\"colorbar\": {\"outlinewidth\": 0, \"ticks\": \"\"}}, \"marker\": {\"colorbar\": {\"outlinewidth\": 0, \"ticks\": \"\"}}, \"type\": \"scatter3d\"}], \"scattercarpet\": [{\"marker\": {\"colorbar\": {\"outlinewidth\": 0, \"ticks\": \"\"}}, \"type\": \"scattercarpet\"}], \"scattergeo\": [{\"marker\": {\"colorbar\": {\"outlinewidth\": 0, \"ticks\": \"\"}}, \"type\": \"scattergeo\"}], \"scattergl\": [{\"marker\": {\"colorbar\": {\"outlinewidth\": 0, \"ticks\": \"\"}}, \"type\": \"scattergl\"}], \"scattermapbox\": [{\"marker\": {\"colorbar\": {\"outlinewidth\": 0, \"ticks\": \"\"}}, \"type\": \"scattermapbox\"}], \"scatterpolar\": [{\"marker\": {\"colorbar\": {\"outlinewidth\": 0, \"ticks\": \"\"}}, \"type\": \"scatterpolar\"}], \"scatterpolargl\": [{\"marker\": {\"colorbar\": {\"outlinewidth\": 0, \"ticks\": \"\"}}, \"type\": \"scatterpolargl\"}], \"scatterternary\": [{\"marker\": {\"colorbar\": {\"outlinewidth\": 0, \"ticks\": \"\"}}, \"type\": \"scatterternary\"}], \"surface\": [{\"colorbar\": {\"outlinewidth\": 0, \"ticks\": \"\"}, \"colorscale\": [[0.0, \"#0d0887\"], [0.1111111111111111, \"#46039f\"], [0.2222222222222222, \"#7201a8\"], [0.3333333333333333, \"#9c179e\"], [0.4444444444444444, \"#bd3786\"], [0.5555555555555556, \"#d8576b\"], [0.6666666666666666, \"#ed7953\"], [0.7777777777777778, \"#fb9f3a\"], [0.8888888888888888, \"#fdca26\"], [1.0, \"#f0f921\"]], \"type\": \"surface\"}], \"table\": [{\"cells\": {\"fill\": {\"color\": \"#EBF0F8\"}, \"line\": {\"color\": \"white\"}}, \"header\": {\"fill\": {\"color\": \"#C8D4E3\"}, \"line\": {\"color\": \"white\"}}, \"type\": \"table\"}]}, \"layout\": {\"annotationdefaults\": {\"arrowcolor\": \"#2a3f5f\", \"arrowhead\": 0, \"arrowwidth\": 1}, \"coloraxis\": {\"colorbar\": {\"outlinewidth\": 0, \"ticks\": \"\"}}, \"colorscale\": {\"diverging\": [[0, \"#8e0152\"], [0.1, \"#c51b7d\"], [0.2, \"#de77ae\"], [0.3, \"#f1b6da\"], [0.4, \"#fde0ef\"], [0.5, \"#f7f7f7\"], [0.6, \"#e6f5d0\"], [0.7, \"#b8e186\"], [0.8, \"#7fbc41\"], [0.9, \"#4d9221\"], [1, \"#276419\"]], \"sequential\": [[0.0, \"#0d0887\"], [0.1111111111111111, \"#46039f\"], [0.2222222222222222, \"#7201a8\"], [0.3333333333333333, \"#9c179e\"], [0.4444444444444444, \"#bd3786\"], [0.5555555555555556, \"#d8576b\"], [0.6666666666666666, \"#ed7953\"], [0.7777777777777778, \"#fb9f3a\"], [0.8888888888888888, \"#fdca26\"], [1.0, \"#f0f921\"]], \"sequentialminus\": [[0.0, \"#0d0887\"], [0.1111111111111111, \"#46039f\"], [0.2222222222222222, \"#7201a8\"], [0.3333333333333333, \"#9c179e\"], [0.4444444444444444, \"#bd3786\"], [0.5555555555555556, \"#d8576b\"], [0.6666666666666666, \"#ed7953\"], [0.7777777777777778, \"#fb9f3a\"], [0.8888888888888888, \"#fdca26\"], [1.0, \"#f0f921\"]]}, \"colorway\": [\"#636efa\", \"#EF553B\", \"#00cc96\", \"#ab63fa\", \"#FFA15A\", \"#19d3f3\", \"#FF6692\", \"#B6E880\", \"#FF97FF\", \"#FECB52\"], \"font\": {\"color\": \"#2a3f5f\"}, \"geo\": {\"bgcolor\": \"white\", \"lakecolor\": \"white\", \"landcolor\": \"#E5ECF6\", \"showlakes\": true, \"showland\": true, \"subunitcolor\": \"white\"}, \"hoverlabel\": {\"align\": \"left\"}, \"hovermode\": \"closest\", \"mapbox\": {\"style\": \"light\"}, \"paper_bgcolor\": \"white\", \"plot_bgcolor\": \"#E5ECF6\", \"polar\": {\"angularaxis\": {\"gridcolor\": \"white\", \"linecolor\": \"white\", \"ticks\": \"\"}, \"bgcolor\": \"#E5ECF6\", \"radialaxis\": {\"gridcolor\": \"white\", \"linecolor\": \"white\", \"ticks\": \"\"}}, \"scene\": {\"xaxis\": {\"backgroundcolor\": \"#E5ECF6\", \"gridcolor\": \"white\", \"gridwidth\": 2, \"linecolor\": \"white\", \"showbackground\": true, \"ticks\": \"\", \"zerolinecolor\": \"white\"}, \"yaxis\": {\"backgroundcolor\": \"#E5ECF6\", \"gridcolor\": \"white\", \"gridwidth\": 2, \"linecolor\": \"white\", \"showbackground\": true, \"ticks\": \"\", \"zerolinecolor\": \"white\"}, \"zaxis\": {\"backgroundcolor\": \"#E5ECF6\", \"gridcolor\": \"white\", \"gridwidth\": 2, \"linecolor\": \"white\", \"showbackground\": true, \"ticks\": \"\", \"zerolinecolor\": \"white\"}}, \"shapedefaults\": {\"line\": {\"color\": \"#2a3f5f\"}}, \"ternary\": {\"aaxis\": {\"gridcolor\": \"white\", \"linecolor\": \"white\", \"ticks\": \"\"}, \"baxis\": {\"gridcolor\": \"white\", \"linecolor\": \"white\", \"ticks\": \"\"}, \"bgcolor\": \"#E5ECF6\", \"caxis\": {\"gridcolor\": \"white\", \"linecolor\": \"white\", \"ticks\": \"\"}}, \"title\": {\"x\": 0.05}, \"xaxis\": {\"automargin\": true, \"gridcolor\": \"white\", \"linecolor\": \"white\", \"ticks\": \"\", \"title\": {\"standoff\": 15}, \"zerolinecolor\": \"white\", \"zerolinewidth\": 2}, \"yaxis\": {\"automargin\": true, \"gridcolor\": \"white\", \"linecolor\": \"white\", \"ticks\": \"\", \"title\": {\"standoff\": 15}, \"zerolinecolor\": \"white\", \"zerolinewidth\": 2}}}, \"title\": {\"text\": \"Sales on the event type 2\"}, \"xaxis\": {\"anchor\": \"y\", \"domain\": [0.0, 1.0], \"title\": {\"text\": \"volume\"}}, \"yaxis\": {\"anchor\": \"x\", \"domain\": [0.0, 1.0], \"title\": {\"text\": \"event_name_2\"}}},\n",
              "                        {\"responsive\": true}\n",
              "                    ).then(function(){\n",
              "                            \n",
              "var gd = document.getElementById('32b1be99-f0f4-49f5-b213-78a6347b3b2f');\n",
              "var x = new MutationObserver(function (mutations, observer) {{\n",
              "        var display = window.getComputedStyle(gd).display;\n",
              "        if (!display || display === 'none') {{\n",
              "            console.log([gd, 'removed!']);\n",
              "            Plotly.purge(gd);\n",
              "            observer.disconnect();\n",
              "        }}\n",
              "}});\n",
              "\n",
              "// Listen for the removal of the full notebook cells\n",
              "var notebookContainer = gd.closest('#notebook-container');\n",
              "if (notebookContainer) {{\n",
              "    x.observe(notebookContainer, {childList: true});\n",
              "}}\n",
              "\n",
              "// Listen for the clearing of the current output cell\n",
              "var outputEl = gd.closest('.output');\n",
              "if (outputEl) {{\n",
              "    x.observe(outputEl, {childList: true});\n",
              "}}\n",
              "\n",
              "                        })\n",
              "                };\n",
              "                \n",
              "            </script>\n",
              "        </div>\n",
              "</body>\n",
              "</html>"
            ]
          },
          "metadata": {
            "tags": []
          }
        }
      ]
    },
    {
      "cell_type": "markdown",
      "metadata": {
        "id": "YhEoFgcKcuqH"
      },
      "source": [
        "## **Sales on snap week compared to other weeks**"
      ]
    },
    {
      "cell_type": "markdown",
      "metadata": {
        "id": "q9fJ9XXndr03"
      },
      "source": [
        "### Sales on california snap"
      ]
    },
    {
      "cell_type": "code",
      "metadata": {
        "id": "8n1PKHWybu1U",
        "colab": {
          "base_uri": "https://localhost:8080/",
          "height": 417
        },
        "outputId": "3eea433c-28f3-494b-e2be-9d12128807e4"
      },
      "source": [
        "df_final_master.columns\n",
        "ca_snap_agg = df_final_master.groupby(['state_id','snap_CA']).agg({'volume':'mean'}).reset_index()\n",
        "ca_snap_agg = ca_snap_agg[ca_snap_agg['state_id'] == 'CA']\n",
        "fig = px.bar(\n",
        "    ca_snap_agg, x=\"volume\", y=\"snap_CA\", orientation='h',\n",
        "    height=400,\n",
        "    title='Average sales on california snap weeks'\n",
        "             )\n",
        "fig.show()\n"
      ],
      "execution_count": null,
      "outputs": [
        {
          "output_type": "display_data",
          "data": {
            "text/html": [
              "<html>\n",
              "<head><meta charset=\"utf-8\" /></head>\n",
              "<body>\n",
              "    <div>\n",
              "            <script src=\"https://cdnjs.cloudflare.com/ajax/libs/mathjax/2.7.5/MathJax.js?config=TeX-AMS-MML_SVG\"></script><script type=\"text/javascript\">if (window.MathJax) {MathJax.Hub.Config({SVG: {font: \"STIX-Web\"}});}</script>\n",
              "                <script type=\"text/javascript\">window.PlotlyConfig = {MathJaxConfig: 'local'};</script>\n",
              "        <script src=\"https://cdn.plot.ly/plotly-latest.min.js\"></script>    \n",
              "            <div id=\"37dcb658-e1ca-40c1-8087-cabf2032a077\" class=\"plotly-graph-div\" style=\"height:400px; width:100%;\"></div>\n",
              "            <script type=\"text/javascript\">\n",
              "                \n",
              "                    window.PLOTLYENV=window.PLOTLYENV || {};\n",
              "                    \n",
              "                if (document.getElementById(\"37dcb658-e1ca-40c1-8087-cabf2032a077\")) {\n",
              "                    Plotly.newPlot(\n",
              "                        '37dcb658-e1ca-40c1-8087-cabf2032a077',\n",
              "                        [{\"alignmentgroup\": \"True\", \"hoverlabel\": {\"namelength\": 0}, \"hovertemplate\": \"volume=%{x}<br>snap_CA=%{y}\", \"legendgroup\": \"\", \"marker\": {\"color\": \"#636efa\"}, \"name\": \"\", \"offsetgroup\": \"\", \"orientation\": \"h\", \"showlegend\": false, \"textposition\": \"auto\", \"type\": \"bar\", \"x\": [75.02875344352617, 75.44928451178451, 74.73695286195286, 80.73106060606061, 79.02737603305785, 80.88423295454545, 81.43130165289256, 81.5625], \"xaxis\": \"x\", \"y\": [0, 1, 2, 3, 4, 5, 6, 7], \"yaxis\": \"y\"}],\n",
              "                        {\"barmode\": \"relative\", \"height\": 400, \"legend\": {\"tracegroupgap\": 0}, \"template\": {\"data\": {\"bar\": [{\"error_x\": {\"color\": \"#2a3f5f\"}, \"error_y\": {\"color\": \"#2a3f5f\"}, \"marker\": {\"line\": {\"color\": \"#E5ECF6\", \"width\": 0.5}}, \"type\": \"bar\"}], \"barpolar\": [{\"marker\": {\"line\": {\"color\": \"#E5ECF6\", \"width\": 0.5}}, \"type\": \"barpolar\"}], \"carpet\": [{\"aaxis\": {\"endlinecolor\": \"#2a3f5f\", \"gridcolor\": \"white\", \"linecolor\": \"white\", \"minorgridcolor\": \"white\", \"startlinecolor\": \"#2a3f5f\"}, \"baxis\": {\"endlinecolor\": \"#2a3f5f\", \"gridcolor\": \"white\", \"linecolor\": \"white\", \"minorgridcolor\": \"white\", \"startlinecolor\": \"#2a3f5f\"}, \"type\": \"carpet\"}], \"choropleth\": [{\"colorbar\": {\"outlinewidth\": 0, \"ticks\": \"\"}, \"type\": \"choropleth\"}], \"contour\": [{\"colorbar\": {\"outlinewidth\": 0, \"ticks\": \"\"}, \"colorscale\": [[0.0, \"#0d0887\"], [0.1111111111111111, \"#46039f\"], [0.2222222222222222, \"#7201a8\"], [0.3333333333333333, \"#9c179e\"], [0.4444444444444444, \"#bd3786\"], [0.5555555555555556, \"#d8576b\"], [0.6666666666666666, \"#ed7953\"], [0.7777777777777778, \"#fb9f3a\"], [0.8888888888888888, \"#fdca26\"], [1.0, \"#f0f921\"]], \"type\": \"contour\"}], \"contourcarpet\": [{\"colorbar\": {\"outlinewidth\": 0, \"ticks\": \"\"}, \"type\": \"contourcarpet\"}], \"heatmap\": [{\"colorbar\": {\"outlinewidth\": 0, \"ticks\": \"\"}, \"colorscale\": [[0.0, \"#0d0887\"], [0.1111111111111111, \"#46039f\"], [0.2222222222222222, \"#7201a8\"], [0.3333333333333333, \"#9c179e\"], [0.4444444444444444, \"#bd3786\"], [0.5555555555555556, \"#d8576b\"], [0.6666666666666666, \"#ed7953\"], [0.7777777777777778, \"#fb9f3a\"], [0.8888888888888888, \"#fdca26\"], [1.0, \"#f0f921\"]], \"type\": \"heatmap\"}], \"heatmapgl\": [{\"colorbar\": {\"outlinewidth\": 0, \"ticks\": \"\"}, \"colorscale\": [[0.0, \"#0d0887\"], [0.1111111111111111, \"#46039f\"], [0.2222222222222222, \"#7201a8\"], [0.3333333333333333, \"#9c179e\"], [0.4444444444444444, \"#bd3786\"], [0.5555555555555556, \"#d8576b\"], [0.6666666666666666, \"#ed7953\"], [0.7777777777777778, \"#fb9f3a\"], [0.8888888888888888, \"#fdca26\"], [1.0, \"#f0f921\"]], \"type\": \"heatmapgl\"}], \"histogram\": [{\"marker\": {\"colorbar\": {\"outlinewidth\": 0, \"ticks\": \"\"}}, \"type\": \"histogram\"}], \"histogram2d\": [{\"colorbar\": {\"outlinewidth\": 0, \"ticks\": \"\"}, \"colorscale\": [[0.0, \"#0d0887\"], [0.1111111111111111, \"#46039f\"], [0.2222222222222222, \"#7201a8\"], [0.3333333333333333, \"#9c179e\"], [0.4444444444444444, \"#bd3786\"], [0.5555555555555556, \"#d8576b\"], [0.6666666666666666, \"#ed7953\"], [0.7777777777777778, \"#fb9f3a\"], [0.8888888888888888, \"#fdca26\"], [1.0, \"#f0f921\"]], \"type\": \"histogram2d\"}], \"histogram2dcontour\": [{\"colorbar\": {\"outlinewidth\": 0, \"ticks\": \"\"}, \"colorscale\": [[0.0, \"#0d0887\"], [0.1111111111111111, \"#46039f\"], [0.2222222222222222, \"#7201a8\"], [0.3333333333333333, \"#9c179e\"], [0.4444444444444444, \"#bd3786\"], [0.5555555555555556, \"#d8576b\"], [0.6666666666666666, \"#ed7953\"], [0.7777777777777778, \"#fb9f3a\"], [0.8888888888888888, \"#fdca26\"], [1.0, \"#f0f921\"]], \"type\": \"histogram2dcontour\"}], \"mesh3d\": [{\"colorbar\": {\"outlinewidth\": 0, \"ticks\": \"\"}, \"type\": \"mesh3d\"}], \"parcoords\": [{\"line\": {\"colorbar\": {\"outlinewidth\": 0, \"ticks\": \"\"}}, \"type\": \"parcoords\"}], \"pie\": [{\"automargin\": true, \"type\": \"pie\"}], \"scatter\": [{\"marker\": {\"colorbar\": {\"outlinewidth\": 0, \"ticks\": \"\"}}, \"type\": \"scatter\"}], \"scatter3d\": [{\"line\": {\"colorbar\": {\"outlinewidth\": 0, \"ticks\": \"\"}}, \"marker\": {\"colorbar\": {\"outlinewidth\": 0, \"ticks\": \"\"}}, \"type\": \"scatter3d\"}], \"scattercarpet\": [{\"marker\": {\"colorbar\": {\"outlinewidth\": 0, \"ticks\": \"\"}}, \"type\": \"scattercarpet\"}], \"scattergeo\": [{\"marker\": {\"colorbar\": {\"outlinewidth\": 0, \"ticks\": \"\"}}, \"type\": \"scattergeo\"}], \"scattergl\": [{\"marker\": {\"colorbar\": {\"outlinewidth\": 0, \"ticks\": \"\"}}, \"type\": \"scattergl\"}], \"scattermapbox\": [{\"marker\": {\"colorbar\": {\"outlinewidth\": 0, \"ticks\": \"\"}}, \"type\": \"scattermapbox\"}], \"scatterpolar\": [{\"marker\": {\"colorbar\": {\"outlinewidth\": 0, \"ticks\": \"\"}}, \"type\": \"scatterpolar\"}], \"scatterpolargl\": [{\"marker\": {\"colorbar\": {\"outlinewidth\": 0, \"ticks\": \"\"}}, \"type\": \"scatterpolargl\"}], \"scatterternary\": [{\"marker\": {\"colorbar\": {\"outlinewidth\": 0, \"ticks\": \"\"}}, \"type\": \"scatterternary\"}], \"surface\": [{\"colorbar\": {\"outlinewidth\": 0, \"ticks\": \"\"}, \"colorscale\": [[0.0, \"#0d0887\"], [0.1111111111111111, \"#46039f\"], [0.2222222222222222, \"#7201a8\"], [0.3333333333333333, \"#9c179e\"], [0.4444444444444444, \"#bd3786\"], [0.5555555555555556, \"#d8576b\"], [0.6666666666666666, \"#ed7953\"], [0.7777777777777778, \"#fb9f3a\"], [0.8888888888888888, \"#fdca26\"], [1.0, \"#f0f921\"]], \"type\": \"surface\"}], \"table\": [{\"cells\": {\"fill\": {\"color\": \"#EBF0F8\"}, \"line\": {\"color\": \"white\"}}, \"header\": {\"fill\": {\"color\": \"#C8D4E3\"}, \"line\": {\"color\": \"white\"}}, \"type\": \"table\"}]}, \"layout\": {\"annotationdefaults\": {\"arrowcolor\": \"#2a3f5f\", \"arrowhead\": 0, \"arrowwidth\": 1}, \"coloraxis\": {\"colorbar\": {\"outlinewidth\": 0, \"ticks\": \"\"}}, \"colorscale\": {\"diverging\": [[0, \"#8e0152\"], [0.1, \"#c51b7d\"], [0.2, \"#de77ae\"], [0.3, \"#f1b6da\"], [0.4, \"#fde0ef\"], [0.5, \"#f7f7f7\"], [0.6, \"#e6f5d0\"], [0.7, \"#b8e186\"], [0.8, \"#7fbc41\"], [0.9, \"#4d9221\"], [1, \"#276419\"]], \"sequential\": [[0.0, \"#0d0887\"], [0.1111111111111111, \"#46039f\"], [0.2222222222222222, \"#7201a8\"], [0.3333333333333333, \"#9c179e\"], [0.4444444444444444, \"#bd3786\"], [0.5555555555555556, \"#d8576b\"], [0.6666666666666666, \"#ed7953\"], [0.7777777777777778, \"#fb9f3a\"], [0.8888888888888888, \"#fdca26\"], [1.0, \"#f0f921\"]], \"sequentialminus\": [[0.0, \"#0d0887\"], [0.1111111111111111, \"#46039f\"], [0.2222222222222222, \"#7201a8\"], [0.3333333333333333, \"#9c179e\"], [0.4444444444444444, \"#bd3786\"], [0.5555555555555556, \"#d8576b\"], [0.6666666666666666, \"#ed7953\"], [0.7777777777777778, \"#fb9f3a\"], [0.8888888888888888, \"#fdca26\"], [1.0, \"#f0f921\"]]}, \"colorway\": [\"#636efa\", \"#EF553B\", \"#00cc96\", \"#ab63fa\", \"#FFA15A\", \"#19d3f3\", \"#FF6692\", \"#B6E880\", \"#FF97FF\", \"#FECB52\"], \"font\": {\"color\": \"#2a3f5f\"}, \"geo\": {\"bgcolor\": \"white\", \"lakecolor\": \"white\", \"landcolor\": \"#E5ECF6\", \"showlakes\": true, \"showland\": true, \"subunitcolor\": \"white\"}, \"hoverlabel\": {\"align\": \"left\"}, \"hovermode\": \"closest\", \"mapbox\": {\"style\": \"light\"}, \"paper_bgcolor\": \"white\", \"plot_bgcolor\": \"#E5ECF6\", \"polar\": {\"angularaxis\": {\"gridcolor\": \"white\", \"linecolor\": \"white\", \"ticks\": \"\"}, \"bgcolor\": \"#E5ECF6\", \"radialaxis\": {\"gridcolor\": \"white\", \"linecolor\": \"white\", \"ticks\": \"\"}}, \"scene\": {\"xaxis\": {\"backgroundcolor\": \"#E5ECF6\", \"gridcolor\": \"white\", \"gridwidth\": 2, \"linecolor\": \"white\", \"showbackground\": true, \"ticks\": \"\", \"zerolinecolor\": \"white\"}, \"yaxis\": {\"backgroundcolor\": \"#E5ECF6\", \"gridcolor\": \"white\", \"gridwidth\": 2, \"linecolor\": \"white\", \"showbackground\": true, \"ticks\": \"\", \"zerolinecolor\": \"white\"}, \"zaxis\": {\"backgroundcolor\": \"#E5ECF6\", \"gridcolor\": \"white\", \"gridwidth\": 2, \"linecolor\": \"white\", \"showbackground\": true, \"ticks\": \"\", \"zerolinecolor\": \"white\"}}, \"shapedefaults\": {\"line\": {\"color\": \"#2a3f5f\"}}, \"ternary\": {\"aaxis\": {\"gridcolor\": \"white\", \"linecolor\": \"white\", \"ticks\": \"\"}, \"baxis\": {\"gridcolor\": \"white\", \"linecolor\": \"white\", \"ticks\": \"\"}, \"bgcolor\": \"#E5ECF6\", \"caxis\": {\"gridcolor\": \"white\", \"linecolor\": \"white\", \"ticks\": \"\"}}, \"title\": {\"x\": 0.05}, \"xaxis\": {\"automargin\": true, \"gridcolor\": \"white\", \"linecolor\": \"white\", \"ticks\": \"\", \"title\": {\"standoff\": 15}, \"zerolinecolor\": \"white\", \"zerolinewidth\": 2}, \"yaxis\": {\"automargin\": true, \"gridcolor\": \"white\", \"linecolor\": \"white\", \"ticks\": \"\", \"title\": {\"standoff\": 15}, \"zerolinecolor\": \"white\", \"zerolinewidth\": 2}}}, \"title\": {\"text\": \"Average sales on california snap weeks\"}, \"xaxis\": {\"anchor\": \"y\", \"domain\": [0.0, 1.0], \"title\": {\"text\": \"volume\"}}, \"yaxis\": {\"anchor\": \"x\", \"domain\": [0.0, 1.0], \"title\": {\"text\": \"snap_CA\"}}},\n",
              "                        {\"responsive\": true}\n",
              "                    ).then(function(){\n",
              "                            \n",
              "var gd = document.getElementById('37dcb658-e1ca-40c1-8087-cabf2032a077');\n",
              "var x = new MutationObserver(function (mutations, observer) {{\n",
              "        var display = window.getComputedStyle(gd).display;\n",
              "        if (!display || display === 'none') {{\n",
              "            console.log([gd, 'removed!']);\n",
              "            Plotly.purge(gd);\n",
              "            observer.disconnect();\n",
              "        }}\n",
              "}});\n",
              "\n",
              "// Listen for the removal of the full notebook cells\n",
              "var notebookContainer = gd.closest('#notebook-container');\n",
              "if (notebookContainer) {{\n",
              "    x.observe(notebookContainer, {childList: true});\n",
              "}}\n",
              "\n",
              "// Listen for the clearing of the current output cell\n",
              "var outputEl = gd.closest('.output');\n",
              "if (outputEl) {{\n",
              "    x.observe(outputEl, {childList: true});\n",
              "}}\n",
              "\n",
              "                        })\n",
              "                };\n",
              "                \n",
              "            </script>\n",
              "        </div>\n",
              "</body>\n",
              "</html>"
            ]
          },
          "metadata": {
            "tags": []
          }
        }
      ]
    },
    {
      "cell_type": "markdown",
      "metadata": {
        "id": "Dw0MOgR7e9RT"
      },
      "source": [
        "### Sales on Texas snap"
      ]
    },
    {
      "cell_type": "code",
      "metadata": {
        "id": "Byy1g4xIc5ey",
        "colab": {
          "base_uri": "https://localhost:8080/",
          "height": 417
        },
        "outputId": "dfc192ea-f8af-48f5-ae7e-f7cf03f977eb"
      },
      "source": [
        "df_final_master.columns\n",
        "ca_snap_agg = df_final_master.groupby(['state_id','snap_TX']).agg({'volume':'mean'}).reset_index()\n",
        "ca_snap_agg = ca_snap_agg[ca_snap_agg['state_id'] == 'TX']\n",
        "fig = px.bar(\n",
        "    ca_snap_agg, x=\"volume\", y=\"snap_TX\", orientation='h',\n",
        "    height=400,\n",
        "    title='Average sales on texas snap weeks'\n",
        "             )\n",
        "fig.show()"
      ],
      "execution_count": null,
      "outputs": [
        {
          "output_type": "display_data",
          "data": {
            "text/html": [
              "<html>\n",
              "<head><meta charset=\"utf-8\" /></head>\n",
              "<body>\n",
              "    <div>\n",
              "            <script src=\"https://cdnjs.cloudflare.com/ajax/libs/mathjax/2.7.5/MathJax.js?config=TeX-AMS-MML_SVG\"></script><script type=\"text/javascript\">if (window.MathJax) {MathJax.Hub.Config({SVG: {font: \"STIX-Web\"}});}</script>\n",
              "                <script type=\"text/javascript\">window.PlotlyConfig = {MathJaxConfig: 'local'};</script>\n",
              "        <script src=\"https://cdn.plot.ly/plotly-latest.min.js\"></script>    \n",
              "            <div id=\"ce3b8d48-adfd-44f7-b383-ac0428e2aafc\" class=\"plotly-graph-div\" style=\"height:400px; width:100%;\"></div>\n",
              "            <script type=\"text/javascript\">\n",
              "                \n",
              "                    window.PLOTLYENV=window.PLOTLYENV || {};\n",
              "                    \n",
              "                if (document.getElementById(\"ce3b8d48-adfd-44f7-b383-ac0428e2aafc\")) {\n",
              "                    Plotly.newPlot(\n",
              "                        'ce3b8d48-adfd-44f7-b383-ac0428e2aafc',\n",
              "                        [{\"alignmentgroup\": \"True\", \"hoverlabel\": {\"namelength\": 0}, \"hovertemplate\": \"volume=%{x}<br>snap_TX=%{y}\", \"legendgroup\": \"\", \"marker\": {\"color\": \"#636efa\"}, \"name\": \"\", \"offsetgroup\": \"\", \"orientation\": \"h\", \"showlegend\": false, \"textposition\": \"auto\", \"type\": \"bar\", \"x\": [76.40567753670261, 77.76974180884795, 77.57210842127043, 80.03704792708027, 81.76346579529883, 81.23373902633679], \"xaxis\": \"x\", \"y\": [0, 1, 2, 3, 4, 5], \"yaxis\": \"y\"}],\n",
              "                        {\"barmode\": \"relative\", \"height\": 400, \"legend\": {\"tracegroupgap\": 0}, \"template\": {\"data\": {\"bar\": [{\"error_x\": {\"color\": \"#2a3f5f\"}, \"error_y\": {\"color\": \"#2a3f5f\"}, \"marker\": {\"line\": {\"color\": \"#E5ECF6\", \"width\": 0.5}}, \"type\": \"bar\"}], \"barpolar\": [{\"marker\": {\"line\": {\"color\": \"#E5ECF6\", \"width\": 0.5}}, \"type\": \"barpolar\"}], \"carpet\": [{\"aaxis\": {\"endlinecolor\": \"#2a3f5f\", \"gridcolor\": \"white\", \"linecolor\": \"white\", \"minorgridcolor\": \"white\", \"startlinecolor\": \"#2a3f5f\"}, \"baxis\": {\"endlinecolor\": \"#2a3f5f\", \"gridcolor\": \"white\", \"linecolor\": \"white\", \"minorgridcolor\": \"white\", \"startlinecolor\": \"#2a3f5f\"}, \"type\": \"carpet\"}], \"choropleth\": [{\"colorbar\": {\"outlinewidth\": 0, \"ticks\": \"\"}, \"type\": \"choropleth\"}], \"contour\": [{\"colorbar\": {\"outlinewidth\": 0, \"ticks\": \"\"}, \"colorscale\": [[0.0, \"#0d0887\"], [0.1111111111111111, \"#46039f\"], [0.2222222222222222, \"#7201a8\"], [0.3333333333333333, \"#9c179e\"], [0.4444444444444444, \"#bd3786\"], [0.5555555555555556, \"#d8576b\"], [0.6666666666666666, \"#ed7953\"], [0.7777777777777778, \"#fb9f3a\"], [0.8888888888888888, \"#fdca26\"], [1.0, \"#f0f921\"]], \"type\": \"contour\"}], \"contourcarpet\": [{\"colorbar\": {\"outlinewidth\": 0, \"ticks\": \"\"}, \"type\": \"contourcarpet\"}], \"heatmap\": [{\"colorbar\": {\"outlinewidth\": 0, \"ticks\": \"\"}, \"colorscale\": [[0.0, \"#0d0887\"], [0.1111111111111111, \"#46039f\"], [0.2222222222222222, \"#7201a8\"], [0.3333333333333333, \"#9c179e\"], [0.4444444444444444, \"#bd3786\"], [0.5555555555555556, \"#d8576b\"], [0.6666666666666666, \"#ed7953\"], [0.7777777777777778, \"#fb9f3a\"], [0.8888888888888888, \"#fdca26\"], [1.0, \"#f0f921\"]], \"type\": \"heatmap\"}], \"heatmapgl\": [{\"colorbar\": {\"outlinewidth\": 0, \"ticks\": \"\"}, \"colorscale\": [[0.0, \"#0d0887\"], [0.1111111111111111, \"#46039f\"], [0.2222222222222222, \"#7201a8\"], [0.3333333333333333, \"#9c179e\"], [0.4444444444444444, \"#bd3786\"], [0.5555555555555556, \"#d8576b\"], [0.6666666666666666, \"#ed7953\"], [0.7777777777777778, \"#fb9f3a\"], [0.8888888888888888, \"#fdca26\"], [1.0, \"#f0f921\"]], \"type\": \"heatmapgl\"}], \"histogram\": [{\"marker\": {\"colorbar\": {\"outlinewidth\": 0, \"ticks\": \"\"}}, \"type\": \"histogram\"}], \"histogram2d\": [{\"colorbar\": {\"outlinewidth\": 0, \"ticks\": \"\"}, \"colorscale\": [[0.0, \"#0d0887\"], [0.1111111111111111, \"#46039f\"], [0.2222222222222222, \"#7201a8\"], [0.3333333333333333, \"#9c179e\"], [0.4444444444444444, \"#bd3786\"], [0.5555555555555556, \"#d8576b\"], [0.6666666666666666, \"#ed7953\"], [0.7777777777777778, \"#fb9f3a\"], [0.8888888888888888, \"#fdca26\"], [1.0, \"#f0f921\"]], \"type\": \"histogram2d\"}], \"histogram2dcontour\": [{\"colorbar\": {\"outlinewidth\": 0, \"ticks\": \"\"}, \"colorscale\": [[0.0, \"#0d0887\"], [0.1111111111111111, \"#46039f\"], [0.2222222222222222, \"#7201a8\"], [0.3333333333333333, \"#9c179e\"], [0.4444444444444444, \"#bd3786\"], [0.5555555555555556, \"#d8576b\"], [0.6666666666666666, \"#ed7953\"], [0.7777777777777778, \"#fb9f3a\"], [0.8888888888888888, \"#fdca26\"], [1.0, \"#f0f921\"]], \"type\": \"histogram2dcontour\"}], \"mesh3d\": [{\"colorbar\": {\"outlinewidth\": 0, \"ticks\": \"\"}, \"type\": \"mesh3d\"}], \"parcoords\": [{\"line\": {\"colorbar\": {\"outlinewidth\": 0, \"ticks\": \"\"}}, \"type\": \"parcoords\"}], \"pie\": [{\"automargin\": true, \"type\": \"pie\"}], \"scatter\": [{\"marker\": {\"colorbar\": {\"outlinewidth\": 0, \"ticks\": \"\"}}, \"type\": \"scatter\"}], \"scatter3d\": [{\"line\": {\"colorbar\": {\"outlinewidth\": 0, \"ticks\": \"\"}}, \"marker\": {\"colorbar\": {\"outlinewidth\": 0, \"ticks\": \"\"}}, \"type\": \"scatter3d\"}], \"scattercarpet\": [{\"marker\": {\"colorbar\": {\"outlinewidth\": 0, \"ticks\": \"\"}}, \"type\": \"scattercarpet\"}], \"scattergeo\": [{\"marker\": {\"colorbar\": {\"outlinewidth\": 0, \"ticks\": \"\"}}, \"type\": \"scattergeo\"}], \"scattergl\": [{\"marker\": {\"colorbar\": {\"outlinewidth\": 0, \"ticks\": \"\"}}, \"type\": \"scattergl\"}], \"scattermapbox\": [{\"marker\": {\"colorbar\": {\"outlinewidth\": 0, \"ticks\": \"\"}}, \"type\": \"scattermapbox\"}], \"scatterpolar\": [{\"marker\": {\"colorbar\": {\"outlinewidth\": 0, \"ticks\": \"\"}}, \"type\": \"scatterpolar\"}], \"scatterpolargl\": [{\"marker\": {\"colorbar\": {\"outlinewidth\": 0, \"ticks\": \"\"}}, \"type\": \"scatterpolargl\"}], \"scatterternary\": [{\"marker\": {\"colorbar\": {\"outlinewidth\": 0, \"ticks\": \"\"}}, \"type\": \"scatterternary\"}], \"surface\": [{\"colorbar\": {\"outlinewidth\": 0, \"ticks\": \"\"}, \"colorscale\": [[0.0, \"#0d0887\"], [0.1111111111111111, \"#46039f\"], [0.2222222222222222, \"#7201a8\"], [0.3333333333333333, \"#9c179e\"], [0.4444444444444444, \"#bd3786\"], [0.5555555555555556, \"#d8576b\"], [0.6666666666666666, \"#ed7953\"], [0.7777777777777778, \"#fb9f3a\"], [0.8888888888888888, \"#fdca26\"], [1.0, \"#f0f921\"]], \"type\": \"surface\"}], \"table\": [{\"cells\": {\"fill\": {\"color\": \"#EBF0F8\"}, \"line\": {\"color\": \"white\"}}, \"header\": {\"fill\": {\"color\": \"#C8D4E3\"}, \"line\": {\"color\": \"white\"}}, \"type\": \"table\"}]}, \"layout\": {\"annotationdefaults\": {\"arrowcolor\": \"#2a3f5f\", \"arrowhead\": 0, \"arrowwidth\": 1}, \"coloraxis\": {\"colorbar\": {\"outlinewidth\": 0, \"ticks\": \"\"}}, \"colorscale\": {\"diverging\": [[0, \"#8e0152\"], [0.1, \"#c51b7d\"], [0.2, \"#de77ae\"], [0.3, \"#f1b6da\"], [0.4, \"#fde0ef\"], [0.5, \"#f7f7f7\"], [0.6, \"#e6f5d0\"], [0.7, \"#b8e186\"], [0.8, \"#7fbc41\"], [0.9, \"#4d9221\"], [1, \"#276419\"]], \"sequential\": [[0.0, \"#0d0887\"], [0.1111111111111111, \"#46039f\"], [0.2222222222222222, \"#7201a8\"], [0.3333333333333333, \"#9c179e\"], [0.4444444444444444, \"#bd3786\"], [0.5555555555555556, \"#d8576b\"], [0.6666666666666666, \"#ed7953\"], [0.7777777777777778, \"#fb9f3a\"], [0.8888888888888888, \"#fdca26\"], [1.0, \"#f0f921\"]], \"sequentialminus\": [[0.0, \"#0d0887\"], [0.1111111111111111, \"#46039f\"], [0.2222222222222222, \"#7201a8\"], [0.3333333333333333, \"#9c179e\"], [0.4444444444444444, \"#bd3786\"], [0.5555555555555556, \"#d8576b\"], [0.6666666666666666, \"#ed7953\"], [0.7777777777777778, \"#fb9f3a\"], [0.8888888888888888, \"#fdca26\"], [1.0, \"#f0f921\"]]}, \"colorway\": [\"#636efa\", \"#EF553B\", \"#00cc96\", \"#ab63fa\", \"#FFA15A\", \"#19d3f3\", \"#FF6692\", \"#B6E880\", \"#FF97FF\", \"#FECB52\"], \"font\": {\"color\": \"#2a3f5f\"}, \"geo\": {\"bgcolor\": \"white\", \"lakecolor\": \"white\", \"landcolor\": \"#E5ECF6\", \"showlakes\": true, \"showland\": true, \"subunitcolor\": \"white\"}, \"hoverlabel\": {\"align\": \"left\"}, \"hovermode\": \"closest\", \"mapbox\": {\"style\": \"light\"}, \"paper_bgcolor\": \"white\", \"plot_bgcolor\": \"#E5ECF6\", \"polar\": {\"angularaxis\": {\"gridcolor\": \"white\", \"linecolor\": \"white\", \"ticks\": \"\"}, \"bgcolor\": \"#E5ECF6\", \"radialaxis\": {\"gridcolor\": \"white\", \"linecolor\": \"white\", \"ticks\": \"\"}}, \"scene\": {\"xaxis\": {\"backgroundcolor\": \"#E5ECF6\", \"gridcolor\": \"white\", \"gridwidth\": 2, \"linecolor\": \"white\", \"showbackground\": true, \"ticks\": \"\", \"zerolinecolor\": \"white\"}, \"yaxis\": {\"backgroundcolor\": \"#E5ECF6\", \"gridcolor\": \"white\", \"gridwidth\": 2, \"linecolor\": \"white\", \"showbackground\": true, \"ticks\": \"\", \"zerolinecolor\": \"white\"}, \"zaxis\": {\"backgroundcolor\": \"#E5ECF6\", \"gridcolor\": \"white\", \"gridwidth\": 2, \"linecolor\": \"white\", \"showbackground\": true, \"ticks\": \"\", \"zerolinecolor\": \"white\"}}, \"shapedefaults\": {\"line\": {\"color\": \"#2a3f5f\"}}, \"ternary\": {\"aaxis\": {\"gridcolor\": \"white\", \"linecolor\": \"white\", \"ticks\": \"\"}, \"baxis\": {\"gridcolor\": \"white\", \"linecolor\": \"white\", \"ticks\": \"\"}, \"bgcolor\": \"#E5ECF6\", \"caxis\": {\"gridcolor\": \"white\", \"linecolor\": \"white\", \"ticks\": \"\"}}, \"title\": {\"x\": 0.05}, \"xaxis\": {\"automargin\": true, \"gridcolor\": \"white\", \"linecolor\": \"white\", \"ticks\": \"\", \"title\": {\"standoff\": 15}, \"zerolinecolor\": \"white\", \"zerolinewidth\": 2}, \"yaxis\": {\"automargin\": true, \"gridcolor\": \"white\", \"linecolor\": \"white\", \"ticks\": \"\", \"title\": {\"standoff\": 15}, \"zerolinecolor\": \"white\", \"zerolinewidth\": 2}}}, \"title\": {\"text\": \"Average sales on texas snap weeks\"}, \"xaxis\": {\"anchor\": \"y\", \"domain\": [0.0, 1.0], \"title\": {\"text\": \"volume\"}}, \"yaxis\": {\"anchor\": \"x\", \"domain\": [0.0, 1.0], \"title\": {\"text\": \"snap_TX\"}}},\n",
              "                        {\"responsive\": true}\n",
              "                    ).then(function(){\n",
              "                            \n",
              "var gd = document.getElementById('ce3b8d48-adfd-44f7-b383-ac0428e2aafc');\n",
              "var x = new MutationObserver(function (mutations, observer) {{\n",
              "        var display = window.getComputedStyle(gd).display;\n",
              "        if (!display || display === 'none') {{\n",
              "            console.log([gd, 'removed!']);\n",
              "            Plotly.purge(gd);\n",
              "            observer.disconnect();\n",
              "        }}\n",
              "}});\n",
              "\n",
              "// Listen for the removal of the full notebook cells\n",
              "var notebookContainer = gd.closest('#notebook-container');\n",
              "if (notebookContainer) {{\n",
              "    x.observe(notebookContainer, {childList: true});\n",
              "}}\n",
              "\n",
              "// Listen for the clearing of the current output cell\n",
              "var outputEl = gd.closest('.output');\n",
              "if (outputEl) {{\n",
              "    x.observe(outputEl, {childList: true});\n",
              "}}\n",
              "\n",
              "                        })\n",
              "                };\n",
              "                \n",
              "            </script>\n",
              "        </div>\n",
              "</body>\n",
              "</html>"
            ]
          },
          "metadata": {
            "tags": []
          }
        }
      ]
    },
    {
      "cell_type": "markdown",
      "metadata": {
        "id": "BsABUCdAfRL0"
      },
      "source": [
        "### Sales on Wisconsin snap"
      ]
    },
    {
      "cell_type": "code",
      "metadata": {
        "id": "7QRrAoH6fJyK",
        "colab": {
          "base_uri": "https://localhost:8080/",
          "height": 417
        },
        "outputId": "76d0c959-2668-4f54-8f82-539d539d0222"
      },
      "source": [
        "df_final_master.columns\n",
        "ca_snap_agg = df_final_master.groupby(['state_id','snap_WI']).agg({'volume':'mean'}).reset_index()\n",
        "ca_snap_agg = ca_snap_agg[ca_snap_agg['state_id'] == 'WI']\n",
        "fig = px.bar(\n",
        "    ca_snap_agg, x=\"volume\", y=\"snap_WI\", orientation='h',\n",
        "    height=400,\n",
        "    title='Average sales on wisconsin snap weeks'\n",
        "             )\n",
        "fig.show()"
      ],
      "execution_count": null,
      "outputs": [
        {
          "output_type": "display_data",
          "data": {
            "text/html": [
              "<html>\n",
              "<head><meta charset=\"utf-8\" /></head>\n",
              "<body>\n",
              "    <div>\n",
              "            <script src=\"https://cdnjs.cloudflare.com/ajax/libs/mathjax/2.7.5/MathJax.js?config=TeX-AMS-MML_SVG\"></script><script type=\"text/javascript\">if (window.MathJax) {MathJax.Hub.Config({SVG: {font: \"STIX-Web\"}});}</script>\n",
              "                <script type=\"text/javascript\">window.PlotlyConfig = {MathJaxConfig: 'local'};</script>\n",
              "        <script src=\"https://cdn.plot.ly/plotly-latest.min.js\"></script>    \n",
              "            <div id=\"0cd7b334-13ba-4854-beb9-84e4257833ab\" class=\"plotly-graph-div\" style=\"height:400px; width:100%;\"></div>\n",
              "            <script type=\"text/javascript\">\n",
              "                \n",
              "                    window.PLOTLYENV=window.PLOTLYENV || {};\n",
              "                    \n",
              "                if (document.getElementById(\"0cd7b334-13ba-4854-beb9-84e4257833ab\")) {\n",
              "                    Plotly.newPlot(\n",
              "                        '0cd7b334-13ba-4854-beb9-84e4257833ab',\n",
              "                        [{\"alignmentgroup\": \"True\", \"hoverlabel\": {\"namelength\": 0}, \"hovertemplate\": \"volume=%{x}<br>snap_WI=%{y}\", \"legendgroup\": \"\", \"marker\": {\"color\": \"#636efa\"}, \"name\": \"\", \"offsetgroup\": \"\", \"orientation\": \"h\", \"showlegend\": false, \"textposition\": \"auto\", \"type\": \"bar\", \"x\": [66.35482687793427, 71.98239436619718, 74.98165307635286, 78.05374351371387, 81.7614762649974, 83.35416133162612], \"xaxis\": \"x\", \"y\": [0, 1, 2, 3, 4, 5], \"yaxis\": \"y\"}],\n",
              "                        {\"barmode\": \"relative\", \"height\": 400, \"legend\": {\"tracegroupgap\": 0}, \"template\": {\"data\": {\"bar\": [{\"error_x\": {\"color\": \"#2a3f5f\"}, \"error_y\": {\"color\": \"#2a3f5f\"}, \"marker\": {\"line\": {\"color\": \"#E5ECF6\", \"width\": 0.5}}, \"type\": \"bar\"}], \"barpolar\": [{\"marker\": {\"line\": {\"color\": \"#E5ECF6\", \"width\": 0.5}}, \"type\": \"barpolar\"}], \"carpet\": [{\"aaxis\": {\"endlinecolor\": \"#2a3f5f\", \"gridcolor\": \"white\", \"linecolor\": \"white\", \"minorgridcolor\": \"white\", \"startlinecolor\": \"#2a3f5f\"}, \"baxis\": {\"endlinecolor\": \"#2a3f5f\", \"gridcolor\": \"white\", \"linecolor\": \"white\", \"minorgridcolor\": \"white\", \"startlinecolor\": \"#2a3f5f\"}, \"type\": \"carpet\"}], \"choropleth\": [{\"colorbar\": {\"outlinewidth\": 0, \"ticks\": \"\"}, \"type\": \"choropleth\"}], \"contour\": [{\"colorbar\": {\"outlinewidth\": 0, \"ticks\": \"\"}, \"colorscale\": [[0.0, \"#0d0887\"], [0.1111111111111111, \"#46039f\"], [0.2222222222222222, \"#7201a8\"], [0.3333333333333333, \"#9c179e\"], [0.4444444444444444, \"#bd3786\"], [0.5555555555555556, \"#d8576b\"], [0.6666666666666666, \"#ed7953\"], [0.7777777777777778, \"#fb9f3a\"], [0.8888888888888888, \"#fdca26\"], [1.0, \"#f0f921\"]], \"type\": \"contour\"}], \"contourcarpet\": [{\"colorbar\": {\"outlinewidth\": 0, \"ticks\": \"\"}, \"type\": \"contourcarpet\"}], \"heatmap\": [{\"colorbar\": {\"outlinewidth\": 0, \"ticks\": \"\"}, \"colorscale\": [[0.0, \"#0d0887\"], [0.1111111111111111, \"#46039f\"], [0.2222222222222222, \"#7201a8\"], [0.3333333333333333, \"#9c179e\"], [0.4444444444444444, \"#bd3786\"], [0.5555555555555556, \"#d8576b\"], [0.6666666666666666, \"#ed7953\"], [0.7777777777777778, \"#fb9f3a\"], [0.8888888888888888, \"#fdca26\"], [1.0, \"#f0f921\"]], \"type\": \"heatmap\"}], \"heatmapgl\": [{\"colorbar\": {\"outlinewidth\": 0, \"ticks\": \"\"}, \"colorscale\": [[0.0, \"#0d0887\"], [0.1111111111111111, \"#46039f\"], [0.2222222222222222, \"#7201a8\"], [0.3333333333333333, \"#9c179e\"], [0.4444444444444444, \"#bd3786\"], [0.5555555555555556, \"#d8576b\"], [0.6666666666666666, \"#ed7953\"], [0.7777777777777778, \"#fb9f3a\"], [0.8888888888888888, \"#fdca26\"], [1.0, \"#f0f921\"]], \"type\": \"heatmapgl\"}], \"histogram\": [{\"marker\": {\"colorbar\": {\"outlinewidth\": 0, \"ticks\": \"\"}}, \"type\": \"histogram\"}], \"histogram2d\": [{\"colorbar\": {\"outlinewidth\": 0, \"ticks\": \"\"}, \"colorscale\": [[0.0, \"#0d0887\"], [0.1111111111111111, \"#46039f\"], [0.2222222222222222, \"#7201a8\"], [0.3333333333333333, \"#9c179e\"], [0.4444444444444444, \"#bd3786\"], [0.5555555555555556, \"#d8576b\"], [0.6666666666666666, \"#ed7953\"], [0.7777777777777778, \"#fb9f3a\"], [0.8888888888888888, \"#fdca26\"], [1.0, \"#f0f921\"]], \"type\": \"histogram2d\"}], \"histogram2dcontour\": [{\"colorbar\": {\"outlinewidth\": 0, \"ticks\": \"\"}, \"colorscale\": [[0.0, \"#0d0887\"], [0.1111111111111111, \"#46039f\"], [0.2222222222222222, \"#7201a8\"], [0.3333333333333333, \"#9c179e\"], [0.4444444444444444, \"#bd3786\"], [0.5555555555555556, \"#d8576b\"], [0.6666666666666666, \"#ed7953\"], [0.7777777777777778, \"#fb9f3a\"], [0.8888888888888888, \"#fdca26\"], [1.0, \"#f0f921\"]], \"type\": \"histogram2dcontour\"}], \"mesh3d\": [{\"colorbar\": {\"outlinewidth\": 0, \"ticks\": \"\"}, \"type\": \"mesh3d\"}], \"parcoords\": [{\"line\": {\"colorbar\": {\"outlinewidth\": 0, \"ticks\": \"\"}}, \"type\": \"parcoords\"}], \"pie\": [{\"automargin\": true, \"type\": \"pie\"}], \"scatter\": [{\"marker\": {\"colorbar\": {\"outlinewidth\": 0, \"ticks\": \"\"}}, \"type\": \"scatter\"}], \"scatter3d\": [{\"line\": {\"colorbar\": {\"outlinewidth\": 0, \"ticks\": \"\"}}, \"marker\": {\"colorbar\": {\"outlinewidth\": 0, \"ticks\": \"\"}}, \"type\": \"scatter3d\"}], \"scattercarpet\": [{\"marker\": {\"colorbar\": {\"outlinewidth\": 0, \"ticks\": \"\"}}, \"type\": \"scattercarpet\"}], \"scattergeo\": [{\"marker\": {\"colorbar\": {\"outlinewidth\": 0, \"ticks\": \"\"}}, \"type\": \"scattergeo\"}], \"scattergl\": [{\"marker\": {\"colorbar\": {\"outlinewidth\": 0, \"ticks\": \"\"}}, \"type\": \"scattergl\"}], \"scattermapbox\": [{\"marker\": {\"colorbar\": {\"outlinewidth\": 0, \"ticks\": \"\"}}, \"type\": \"scattermapbox\"}], \"scatterpolar\": [{\"marker\": {\"colorbar\": {\"outlinewidth\": 0, \"ticks\": \"\"}}, \"type\": \"scatterpolar\"}], \"scatterpolargl\": [{\"marker\": {\"colorbar\": {\"outlinewidth\": 0, \"ticks\": \"\"}}, \"type\": \"scatterpolargl\"}], \"scatterternary\": [{\"marker\": {\"colorbar\": {\"outlinewidth\": 0, \"ticks\": \"\"}}, \"type\": \"scatterternary\"}], \"surface\": [{\"colorbar\": {\"outlinewidth\": 0, \"ticks\": \"\"}, \"colorscale\": [[0.0, \"#0d0887\"], [0.1111111111111111, \"#46039f\"], [0.2222222222222222, \"#7201a8\"], [0.3333333333333333, \"#9c179e\"], [0.4444444444444444, \"#bd3786\"], [0.5555555555555556, \"#d8576b\"], [0.6666666666666666, \"#ed7953\"], [0.7777777777777778, \"#fb9f3a\"], [0.8888888888888888, \"#fdca26\"], [1.0, \"#f0f921\"]], \"type\": \"surface\"}], \"table\": [{\"cells\": {\"fill\": {\"color\": \"#EBF0F8\"}, \"line\": {\"color\": \"white\"}}, \"header\": {\"fill\": {\"color\": \"#C8D4E3\"}, \"line\": {\"color\": \"white\"}}, \"type\": \"table\"}]}, \"layout\": {\"annotationdefaults\": {\"arrowcolor\": \"#2a3f5f\", \"arrowhead\": 0, \"arrowwidth\": 1}, \"coloraxis\": {\"colorbar\": {\"outlinewidth\": 0, \"ticks\": \"\"}}, \"colorscale\": {\"diverging\": [[0, \"#8e0152\"], [0.1, \"#c51b7d\"], [0.2, \"#de77ae\"], [0.3, \"#f1b6da\"], [0.4, \"#fde0ef\"], [0.5, \"#f7f7f7\"], [0.6, \"#e6f5d0\"], [0.7, \"#b8e186\"], [0.8, \"#7fbc41\"], [0.9, \"#4d9221\"], [1, \"#276419\"]], \"sequential\": [[0.0, \"#0d0887\"], [0.1111111111111111, \"#46039f\"], [0.2222222222222222, \"#7201a8\"], [0.3333333333333333, \"#9c179e\"], [0.4444444444444444, \"#bd3786\"], [0.5555555555555556, \"#d8576b\"], [0.6666666666666666, \"#ed7953\"], [0.7777777777777778, \"#fb9f3a\"], [0.8888888888888888, \"#fdca26\"], [1.0, \"#f0f921\"]], \"sequentialminus\": [[0.0, \"#0d0887\"], [0.1111111111111111, \"#46039f\"], [0.2222222222222222, \"#7201a8\"], [0.3333333333333333, \"#9c179e\"], [0.4444444444444444, \"#bd3786\"], [0.5555555555555556, \"#d8576b\"], [0.6666666666666666, \"#ed7953\"], [0.7777777777777778, \"#fb9f3a\"], [0.8888888888888888, \"#fdca26\"], [1.0, \"#f0f921\"]]}, \"colorway\": [\"#636efa\", \"#EF553B\", \"#00cc96\", \"#ab63fa\", \"#FFA15A\", \"#19d3f3\", \"#FF6692\", \"#B6E880\", \"#FF97FF\", \"#FECB52\"], \"font\": {\"color\": \"#2a3f5f\"}, \"geo\": {\"bgcolor\": \"white\", \"lakecolor\": \"white\", \"landcolor\": \"#E5ECF6\", \"showlakes\": true, \"showland\": true, \"subunitcolor\": \"white\"}, \"hoverlabel\": {\"align\": \"left\"}, \"hovermode\": \"closest\", \"mapbox\": {\"style\": \"light\"}, \"paper_bgcolor\": \"white\", \"plot_bgcolor\": \"#E5ECF6\", \"polar\": {\"angularaxis\": {\"gridcolor\": \"white\", \"linecolor\": \"white\", \"ticks\": \"\"}, \"bgcolor\": \"#E5ECF6\", \"radialaxis\": {\"gridcolor\": \"white\", \"linecolor\": \"white\", \"ticks\": \"\"}}, \"scene\": {\"xaxis\": {\"backgroundcolor\": \"#E5ECF6\", \"gridcolor\": \"white\", \"gridwidth\": 2, \"linecolor\": \"white\", \"showbackground\": true, \"ticks\": \"\", \"zerolinecolor\": \"white\"}, \"yaxis\": {\"backgroundcolor\": \"#E5ECF6\", \"gridcolor\": \"white\", \"gridwidth\": 2, \"linecolor\": \"white\", \"showbackground\": true, \"ticks\": \"\", \"zerolinecolor\": \"white\"}, \"zaxis\": {\"backgroundcolor\": \"#E5ECF6\", \"gridcolor\": \"white\", \"gridwidth\": 2, \"linecolor\": \"white\", \"showbackground\": true, \"ticks\": \"\", \"zerolinecolor\": \"white\"}}, \"shapedefaults\": {\"line\": {\"color\": \"#2a3f5f\"}}, \"ternary\": {\"aaxis\": {\"gridcolor\": \"white\", \"linecolor\": \"white\", \"ticks\": \"\"}, \"baxis\": {\"gridcolor\": \"white\", \"linecolor\": \"white\", \"ticks\": \"\"}, \"bgcolor\": \"#E5ECF6\", \"caxis\": {\"gridcolor\": \"white\", \"linecolor\": \"white\", \"ticks\": \"\"}}, \"title\": {\"x\": 0.05}, \"xaxis\": {\"automargin\": true, \"gridcolor\": \"white\", \"linecolor\": \"white\", \"ticks\": \"\", \"title\": {\"standoff\": 15}, \"zerolinecolor\": \"white\", \"zerolinewidth\": 2}, \"yaxis\": {\"automargin\": true, \"gridcolor\": \"white\", \"linecolor\": \"white\", \"ticks\": \"\", \"title\": {\"standoff\": 15}, \"zerolinecolor\": \"white\", \"zerolinewidth\": 2}}}, \"title\": {\"text\": \"Average sales on wisconsin snap weeks\"}, \"xaxis\": {\"anchor\": \"y\", \"domain\": [0.0, 1.0], \"title\": {\"text\": \"volume\"}}, \"yaxis\": {\"anchor\": \"x\", \"domain\": [0.0, 1.0], \"title\": {\"text\": \"snap_WI\"}}},\n",
              "                        {\"responsive\": true}\n",
              "                    ).then(function(){\n",
              "                            \n",
              "var gd = document.getElementById('0cd7b334-13ba-4854-beb9-84e4257833ab');\n",
              "var x = new MutationObserver(function (mutations, observer) {{\n",
              "        var display = window.getComputedStyle(gd).display;\n",
              "        if (!display || display === 'none') {{\n",
              "            console.log([gd, 'removed!']);\n",
              "            Plotly.purge(gd);\n",
              "            observer.disconnect();\n",
              "        }}\n",
              "}});\n",
              "\n",
              "// Listen for the removal of the full notebook cells\n",
              "var notebookContainer = gd.closest('#notebook-container');\n",
              "if (notebookContainer) {{\n",
              "    x.observe(notebookContainer, {childList: true});\n",
              "}}\n",
              "\n",
              "// Listen for the clearing of the current output cell\n",
              "var outputEl = gd.closest('.output');\n",
              "if (outputEl) {{\n",
              "    x.observe(outputEl, {childList: true});\n",
              "}}\n",
              "\n",
              "                        })\n",
              "                };\n",
              "                \n",
              "            </script>\n",
              "        </div>\n",
              "</body>\n",
              "</html>"
            ]
          },
          "metadata": {
            "tags": []
          }
        }
      ]
    },
    {
      "cell_type": "markdown",
      "metadata": {
        "id": "H2LQV0cp8BvS"
      },
      "source": [
        "# **Data Prepration for modelling**"
      ]
    },
    {
      "cell_type": "markdown",
      "metadata": {
        "id": "R1Q4cBvX89O1"
      },
      "source": [
        "## **Date features extraction**\n",
        "### Features to be extracted\n",
        "\n",
        "* **Year Number**\n",
        "* **Week Number**\n",
        "* **Week of Month**\n",
        "* **Week of Year**\n",
        "\n"
      ]
    },
    {
      "cell_type": "code",
      "metadata": {
        "id": "_wp2l5HY81Hi",
        "colab": {
          "base_uri": "https://localhost:8080/",
          "height": 154
        },
        "outputId": "34ee623f-6e4c-4445-aa14-e2ee18557815"
      },
      "source": [
        "\n",
        "#creating the week of month feature\n",
        "week_of_month = df_final_master[['week_no','month','year']].groupby(['year', 'month', 'week_no']).count().reset_index()\n",
        "week_of_month['week_of_month'] = 0\n",
        "for grp in week_of_month.groupby(['year', 'month']):\n",
        "    \n",
        "    tot_week = week_of_month[(week_of_month['year']==grp[0][0]) & (week_of_month['month']==grp[0][1])].shape[0]\n",
        "    ind_week = week_of_month[(week_of_month['year']==grp[0][0]) & (week_of_month['month']==grp[0][1])].index\n",
        "    if len(ind_week) == 1:\n",
        "        week_of_month['week_of_month'].loc[ind_week] = 1\n",
        "    else:\n",
        "        #pdb.set_trace()\n",
        "        week_of_month['week_of_month'].loc[ind_week] = [i+1 for i in range (tot_week)] \n",
        "\n",
        "df_final_master = pd.merge(df_final_master, week_of_month, on=['year', 'month', 'week_no'], how='left')\n",
        "\n"
      ],
      "execution_count": null,
      "outputs": [
        {
          "output_type": "stream",
          "text": [
            "/usr/local/lib/python3.6/dist-packages/pandas/core/indexing.py:671: SettingWithCopyWarning:\n",
            "\n",
            "\n",
            "A value is trying to be set on a copy of a slice from a DataFrame\n",
            "\n",
            "See the caveats in the documentation: https://pandas.pydata.org/pandas-docs/stable/user_guide/indexing.html#returning-a-view-versus-a-copy\n",
            "\n"
          ],
          "name": "stderr"
        }
      ]
    },
    {
      "cell_type": "code",
      "metadata": {
        "id": "hSJDbPcjLQFH",
        "colab": {
          "base_uri": "https://localhost:8080/",
          "height": 154
        },
        "outputId": "9d37f92f-899b-431e-b306-d62ddafc7811"
      },
      "source": [
        "\n",
        "#Creating the week of the year\n",
        "week_of_year = df_final_master[['week_no','month','year']].groupby(['year', 'month', 'week_no']).count().reset_index()\n",
        "week_of_year['week_of_year'] = 0\n",
        "for grp in week_of_year.groupby(['year']):\n",
        "    tot_week = week_of_year[(week_of_year['year']==grp[0])].shape[0]\n",
        "    ind_week = week_of_year[(week_of_year['year']==grp[0])].index\n",
        "    if len(ind_week) == 1:\n",
        "        week_of_year['week_of_year'].loc[ind_week] = 1\n",
        "    else:\n",
        "        #pdb.set_trace()\n",
        "        week_of_year['week_of_year'].loc[ind_week] = [i+1 for i in range (tot_week)] \n",
        "\n",
        "df_final_master = pd.merge(df_final_master, week_of_year, on=['year', 'month', 'week_no'], how='left')"
      ],
      "execution_count": null,
      "outputs": [
        {
          "output_type": "stream",
          "text": [
            "/usr/local/lib/python3.6/dist-packages/pandas/core/indexing.py:671: SettingWithCopyWarning:\n",
            "\n",
            "\n",
            "A value is trying to be set on a copy of a slice from a DataFrame\n",
            "\n",
            "See the caveats in the documentation: https://pandas.pydata.org/pandas-docs/stable/user_guide/indexing.html#returning-a-view-versus-a-copy\n",
            "\n"
          ],
          "name": "stderr"
        }
      ]
    },
    {
      "cell_type": "code",
      "metadata": {
        "id": "cfqdX1XfNGLq",
        "colab": {
          "base_uri": "https://localhost:8080/",
          "height": 606
        },
        "outputId": "423fcc92-f8b2-4466-d021-6d490e333a5a"
      },
      "source": [
        "df_final_master"
      ],
      "execution_count": null,
      "outputs": [
        {
          "output_type": "execute_result",
          "data": {
            "text/html": [
              "<div>\n",
              "<style scoped>\n",
              "    .dataframe tbody tr th:only-of-type {\n",
              "        vertical-align: middle;\n",
              "    }\n",
              "\n",
              "    .dataframe tbody tr th {\n",
              "        vertical-align: top;\n",
              "    }\n",
              "\n",
              "    .dataframe thead th {\n",
              "        text-align: right;\n",
              "    }\n",
              "</style>\n",
              "<table border=\"1\" class=\"dataframe\">\n",
              "  <thead>\n",
              "    <tr style=\"text-align: right;\">\n",
              "      <th></th>\n",
              "      <th>id</th>\n",
              "      <th>item_id</th>\n",
              "      <th>cat_id</th>\n",
              "      <th>store_id</th>\n",
              "      <th>dept_id</th>\n",
              "      <th>state_id</th>\n",
              "      <th>week_no</th>\n",
              "      <th>sell_price</th>\n",
              "      <th>volume</th>\n",
              "      <th>d</th>\n",
              "      <th>date</th>\n",
              "      <th>month</th>\n",
              "      <th>year</th>\n",
              "      <th>snap_CA</th>\n",
              "      <th>snap_TX</th>\n",
              "      <th>snap_WI</th>\n",
              "      <th>event_name_1</th>\n",
              "      <th>event_type_1</th>\n",
              "      <th>event_name_2</th>\n",
              "      <th>event_type_2</th>\n",
              "      <th>week_of_month</th>\n",
              "      <th>week_of_year</th>\n",
              "    </tr>\n",
              "  </thead>\n",
              "  <tbody>\n",
              "    <tr>\n",
              "      <th>0</th>\n",
              "      <td>FOODS_1_012_CA_2_evaluation</td>\n",
              "      <td>FOODS_1_012</td>\n",
              "      <td>FOODS</td>\n",
              "      <td>CA_2</td>\n",
              "      <td>FOODS_1</td>\n",
              "      <td>CA</td>\n",
              "      <td>1.0</td>\n",
              "      <td>NaN</td>\n",
              "      <td>0</td>\n",
              "      <td>d_1</td>\n",
              "      <td>2011-01-29</td>\n",
              "      <td>1</td>\n",
              "      <td>2011</td>\n",
              "      <td>4</td>\n",
              "      <td>2</td>\n",
              "      <td>2</td>\n",
              "      <td>NaN</td>\n",
              "      <td>NaN</td>\n",
              "      <td>NaN</td>\n",
              "      <td>NaN</td>\n",
              "      <td>1</td>\n",
              "      <td>1</td>\n",
              "    </tr>\n",
              "    <tr>\n",
              "      <th>1</th>\n",
              "      <td>FOODS_1_012_CA_2_evaluation</td>\n",
              "      <td>FOODS_1_012</td>\n",
              "      <td>FOODS</td>\n",
              "      <td>CA_2</td>\n",
              "      <td>FOODS_1</td>\n",
              "      <td>CA</td>\n",
              "      <td>2.0</td>\n",
              "      <td>NaN</td>\n",
              "      <td>0</td>\n",
              "      <td>d_8</td>\n",
              "      <td>2011-02-05</td>\n",
              "      <td>2</td>\n",
              "      <td>2011</td>\n",
              "      <td>6</td>\n",
              "      <td>5</td>\n",
              "      <td>5</td>\n",
              "      <td>SuperBowl</td>\n",
              "      <td>Sporting</td>\n",
              "      <td>NaN</td>\n",
              "      <td>NaN</td>\n",
              "      <td>1</td>\n",
              "      <td>2</td>\n",
              "    </tr>\n",
              "    <tr>\n",
              "      <th>2</th>\n",
              "      <td>FOODS_1_012_CA_2_evaluation</td>\n",
              "      <td>FOODS_1_012</td>\n",
              "      <td>FOODS</td>\n",
              "      <td>CA_2</td>\n",
              "      <td>FOODS_1</td>\n",
              "      <td>CA</td>\n",
              "      <td>3.0</td>\n",
              "      <td>NaN</td>\n",
              "      <td>0</td>\n",
              "      <td>d_15</td>\n",
              "      <td>2011-02-12</td>\n",
              "      <td>2</td>\n",
              "      <td>2011</td>\n",
              "      <td>0</td>\n",
              "      <td>3</td>\n",
              "      <td>3</td>\n",
              "      <td>ValentinesDay</td>\n",
              "      <td>Cultural</td>\n",
              "      <td>NaN</td>\n",
              "      <td>NaN</td>\n",
              "      <td>2</td>\n",
              "      <td>3</td>\n",
              "    </tr>\n",
              "    <tr>\n",
              "      <th>3</th>\n",
              "      <td>FOODS_1_012_CA_2_evaluation</td>\n",
              "      <td>FOODS_1_012</td>\n",
              "      <td>FOODS</td>\n",
              "      <td>CA_2</td>\n",
              "      <td>FOODS_1</td>\n",
              "      <td>CA</td>\n",
              "      <td>4.0</td>\n",
              "      <td>NaN</td>\n",
              "      <td>0</td>\n",
              "      <td>d_22</td>\n",
              "      <td>2011-02-19</td>\n",
              "      <td>2</td>\n",
              "      <td>2011</td>\n",
              "      <td>0</td>\n",
              "      <td>0</td>\n",
              "      <td>0</td>\n",
              "      <td>PresidentsDay</td>\n",
              "      <td>National</td>\n",
              "      <td>NaN</td>\n",
              "      <td>NaN</td>\n",
              "      <td>3</td>\n",
              "      <td>4</td>\n",
              "    </tr>\n",
              "    <tr>\n",
              "      <th>4</th>\n",
              "      <td>FOODS_1_012_CA_2_evaluation</td>\n",
              "      <td>FOODS_1_012</td>\n",
              "      <td>FOODS</td>\n",
              "      <td>CA_2</td>\n",
              "      <td>FOODS_1</td>\n",
              "      <td>CA</td>\n",
              "      <td>5.0</td>\n",
              "      <td>NaN</td>\n",
              "      <td>0</td>\n",
              "      <td>d_29</td>\n",
              "      <td>2011-02-26</td>\n",
              "      <td>2</td>\n",
              "      <td>2011</td>\n",
              "      <td>4</td>\n",
              "      <td>2</td>\n",
              "      <td>2</td>\n",
              "      <td>NaN</td>\n",
              "      <td>NaN</td>\n",
              "      <td>NaN</td>\n",
              "      <td>NaN</td>\n",
              "      <td>4</td>\n",
              "      <td>5</td>\n",
              "    </tr>\n",
              "    <tr>\n",
              "      <th>...</th>\n",
              "      <td>...</td>\n",
              "      <td>...</td>\n",
              "      <td>...</td>\n",
              "      <td>...</td>\n",
              "      <td>...</td>\n",
              "      <td>...</td>\n",
              "      <td>...</td>\n",
              "      <td>...</td>\n",
              "      <td>...</td>\n",
              "      <td>...</td>\n",
              "      <td>...</td>\n",
              "      <td>...</td>\n",
              "      <td>...</td>\n",
              "      <td>...</td>\n",
              "      <td>...</td>\n",
              "      <td>...</td>\n",
              "      <td>...</td>\n",
              "      <td>...</td>\n",
              "      <td>...</td>\n",
              "      <td>...</td>\n",
              "      <td>...</td>\n",
              "      <td>...</td>\n",
              "    </tr>\n",
              "    <tr>\n",
              "      <th>162625</th>\n",
              "      <td>HOUSEHOLD_2_348_CA_3_evaluation</td>\n",
              "      <td>HOUSEHOLD_2_348</td>\n",
              "      <td>HOUSEHOLD</td>\n",
              "      <td>CA_3</td>\n",
              "      <td>HOUSEHOLD_2</td>\n",
              "      <td>CA</td>\n",
              "      <td>274.0</td>\n",
              "      <td>7.44</td>\n",
              "      <td>28</td>\n",
              "      <td>d_1912</td>\n",
              "      <td>2016-04-23</td>\n",
              "      <td>4</td>\n",
              "      <td>2016</td>\n",
              "      <td>0</td>\n",
              "      <td>0</td>\n",
              "      <td>0</td>\n",
              "      <td>NaN</td>\n",
              "      <td>NaN</td>\n",
              "      <td>NaN</td>\n",
              "      <td>NaN</td>\n",
              "      <td>4</td>\n",
              "      <td>17</td>\n",
              "    </tr>\n",
              "    <tr>\n",
              "      <th>162626</th>\n",
              "      <td>HOUSEHOLD_2_348_CA_3_evaluation</td>\n",
              "      <td>HOUSEHOLD_2_348</td>\n",
              "      <td>HOUSEHOLD</td>\n",
              "      <td>CA_3</td>\n",
              "      <td>HOUSEHOLD_2</td>\n",
              "      <td>CA</td>\n",
              "      <td>275.0</td>\n",
              "      <td>7.44</td>\n",
              "      <td>22</td>\n",
              "      <td>d_1919</td>\n",
              "      <td>2016-04-30</td>\n",
              "      <td>4</td>\n",
              "      <td>2016</td>\n",
              "      <td>6</td>\n",
              "      <td>4</td>\n",
              "      <td>4</td>\n",
              "      <td>Pesach End-OrthodoxEaster-Cinco De Mayo</td>\n",
              "      <td>Religious-Cultural</td>\n",
              "      <td>NaN</td>\n",
              "      <td>NaN</td>\n",
              "      <td>5</td>\n",
              "      <td>18</td>\n",
              "    </tr>\n",
              "    <tr>\n",
              "      <th>162627</th>\n",
              "      <td>HOUSEHOLD_2_348_CA_3_evaluation</td>\n",
              "      <td>HOUSEHOLD_2_348</td>\n",
              "      <td>HOUSEHOLD</td>\n",
              "      <td>CA_3</td>\n",
              "      <td>HOUSEHOLD_2</td>\n",
              "      <td>CA</td>\n",
              "      <td>276.0</td>\n",
              "      <td>7.44</td>\n",
              "      <td>27</td>\n",
              "      <td>d_1926</td>\n",
              "      <td>2016-05-07</td>\n",
              "      <td>5</td>\n",
              "      <td>2016</td>\n",
              "      <td>4</td>\n",
              "      <td>5</td>\n",
              "      <td>4</td>\n",
              "      <td>Mother's day</td>\n",
              "      <td>Cultural</td>\n",
              "      <td>NaN</td>\n",
              "      <td>NaN</td>\n",
              "      <td>1</td>\n",
              "      <td>19</td>\n",
              "    </tr>\n",
              "    <tr>\n",
              "      <th>162628</th>\n",
              "      <td>HOUSEHOLD_2_348_CA_3_evaluation</td>\n",
              "      <td>HOUSEHOLD_2_348</td>\n",
              "      <td>HOUSEHOLD</td>\n",
              "      <td>CA_3</td>\n",
              "      <td>HOUSEHOLD_2</td>\n",
              "      <td>CA</td>\n",
              "      <td>277.0</td>\n",
              "      <td>7.44</td>\n",
              "      <td>12</td>\n",
              "      <td>d_1933</td>\n",
              "      <td>2016-05-14</td>\n",
              "      <td>5</td>\n",
              "      <td>2016</td>\n",
              "      <td>0</td>\n",
              "      <td>1</td>\n",
              "      <td>2</td>\n",
              "      <td>NaN</td>\n",
              "      <td>NaN</td>\n",
              "      <td>NaN</td>\n",
              "      <td>NaN</td>\n",
              "      <td>2</td>\n",
              "      <td>20</td>\n",
              "    </tr>\n",
              "    <tr>\n",
              "      <th>162629</th>\n",
              "      <td>HOUSEHOLD_2_348_CA_3_evaluation</td>\n",
              "      <td>HOUSEHOLD_2_348</td>\n",
              "      <td>HOUSEHOLD</td>\n",
              "      <td>CA_3</td>\n",
              "      <td>HOUSEHOLD_2</td>\n",
              "      <td>CA</td>\n",
              "      <td>278.0</td>\n",
              "      <td>7.44</td>\n",
              "      <td>0</td>\n",
              "      <td>d_1940</td>\n",
              "      <td>2016-05-21</td>\n",
              "      <td>5</td>\n",
              "      <td>2016</td>\n",
              "      <td>0</td>\n",
              "      <td>0</td>\n",
              "      <td>0</td>\n",
              "      <td>NaN</td>\n",
              "      <td>NaN</td>\n",
              "      <td>NaN</td>\n",
              "      <td>NaN</td>\n",
              "      <td>3</td>\n",
              "      <td>21</td>\n",
              "    </tr>\n",
              "  </tbody>\n",
              "</table>\n",
              "<p>162630 rows × 22 columns</p>\n",
              "</div>"
            ],
            "text/plain": [
              "                                     id  ... week_of_year\n",
              "0           FOODS_1_012_CA_2_evaluation  ...            1\n",
              "1           FOODS_1_012_CA_2_evaluation  ...            2\n",
              "2           FOODS_1_012_CA_2_evaluation  ...            3\n",
              "3           FOODS_1_012_CA_2_evaluation  ...            4\n",
              "4           FOODS_1_012_CA_2_evaluation  ...            5\n",
              "...                                 ...  ...          ...\n",
              "162625  HOUSEHOLD_2_348_CA_3_evaluation  ...           17\n",
              "162626  HOUSEHOLD_2_348_CA_3_evaluation  ...           18\n",
              "162627  HOUSEHOLD_2_348_CA_3_evaluation  ...           19\n",
              "162628  HOUSEHOLD_2_348_CA_3_evaluation  ...           20\n",
              "162629  HOUSEHOLD_2_348_CA_3_evaluation  ...           21\n",
              "\n",
              "[162630 rows x 22 columns]"
            ]
          },
          "metadata": {
            "tags": []
          },
          "execution_count": 106
        }
      ]
    },
    {
      "cell_type": "markdown",
      "metadata": {
        "id": "nX4zz5L2JENZ"
      },
      "source": [
        "### **EDA for average sales per week of month**"
      ]
    },
    {
      "cell_type": "code",
      "metadata": {
        "id": "KKVI2CGyJIUy",
        "colab": {
          "base_uri": "https://localhost:8080/",
          "height": 417
        },
        "outputId": "6d7d534a-6a9a-4b82-b153-cb30da3dca23"
      },
      "source": [
        "wom_avg_sales = df_final_master.groupby(['week_of_month', 'state_id']).agg({'volume':'mean'}).reset_index()\n",
        "fig = px.bar(\n",
        "    wom_avg_sales, x=\"volume\", y=\"week_of_month\", orientation='h',\n",
        "    color = 'state_id',\n",
        "    height=400,\n",
        "    title='Sales per week of month'\n",
        "             )\n",
        "fig.show()"
      ],
      "execution_count": null,
      "outputs": [
        {
          "output_type": "display_data",
          "data": {
            "text/html": [
              "<html>\n",
              "<head><meta charset=\"utf-8\" /></head>\n",
              "<body>\n",
              "    <div>\n",
              "            <script src=\"https://cdnjs.cloudflare.com/ajax/libs/mathjax/2.7.5/MathJax.js?config=TeX-AMS-MML_SVG\"></script><script type=\"text/javascript\">if (window.MathJax) {MathJax.Hub.Config({SVG: {font: \"STIX-Web\"}});}</script>\n",
              "                <script type=\"text/javascript\">window.PlotlyConfig = {MathJaxConfig: 'local'};</script>\n",
              "        <script src=\"https://cdn.plot.ly/plotly-latest.min.js\"></script>    \n",
              "            <div id=\"f12b48d6-db7c-4825-8d83-dc4ead13f190\" class=\"plotly-graph-div\" style=\"height:400px; width:100%;\"></div>\n",
              "            <script type=\"text/javascript\">\n",
              "                \n",
              "                    window.PLOTLYENV=window.PLOTLYENV || {};\n",
              "                    \n",
              "                if (document.getElementById(\"f12b48d6-db7c-4825-8d83-dc4ead13f190\")) {\n",
              "                    Plotly.newPlot(\n",
              "                        'f12b48d6-db7c-4825-8d83-dc4ead13f190',\n",
              "                        [{\"alignmentgroup\": \"True\", \"hoverlabel\": {\"namelength\": 0}, \"hovertemplate\": \"state_id=CA<br>volume=%{x}<br>week_of_month=%{y}\", \"legendgroup\": \"state_id=CA\", \"marker\": {\"color\": \"#636efa\"}, \"name\": \"state_id=CA\", \"offsetgroup\": \"state_id=CA\", \"orientation\": \"h\", \"showlegend\": true, \"textposition\": \"auto\", \"type\": \"bar\", \"x\": [81.28886946386946, 77.43821022727273, 74.57806581439394, 74.50481000481001, 81.34486914600551], \"xaxis\": \"x\", \"y\": [1, 2, 3, 4, 5], \"yaxis\": \"y\"}, {\"alignmentgroup\": \"True\", \"hoverlabel\": {\"namelength\": 0}, \"hovertemplate\": \"state_id=TX<br>volume=%{x}<br>week_of_month=%{y}\", \"legendgroup\": \"state_id=TX\", \"marker\": {\"color\": \"#EF553B\"}, \"name\": \"state_id=TX\", \"offsetgroup\": \"state_id=TX\", \"orientation\": \"h\", \"showlegend\": true, \"textposition\": \"auto\", \"type\": \"bar\", \"x\": [80.68775247099269, 81.71386173184358, 76.66593924581005, 76.3308504034761, 79.82808532249874], \"xaxis\": \"x\", \"y\": [1, 2, 3, 4, 5], \"yaxis\": \"y\"}, {\"alignmentgroup\": \"True\", \"hoverlabel\": {\"namelength\": 0}, \"hovertemplate\": \"state_id=WI<br>volume=%{x}<br>week_of_month=%{y}\", \"legendgroup\": \"state_id=WI\", \"marker\": {\"color\": \"#00cc96\"}, \"name\": \"state_id=WI\", \"offsetgroup\": \"state_id=WI\", \"orientation\": \"h\", \"showlegend\": true, \"textposition\": \"auto\", \"type\": \"bar\", \"x\": [82.43791982665222, 80.0502860915493, 67.4184639084507, 68.12318354571876, 80.24903969270166], \"xaxis\": \"x\", \"y\": [1, 2, 3, 4, 5], \"yaxis\": \"y\"}],\n",
              "                        {\"barmode\": \"relative\", \"height\": 400, \"legend\": {\"tracegroupgap\": 0}, \"template\": {\"data\": {\"bar\": [{\"error_x\": {\"color\": \"#2a3f5f\"}, \"error_y\": {\"color\": \"#2a3f5f\"}, \"marker\": {\"line\": {\"color\": \"#E5ECF6\", \"width\": 0.5}}, \"type\": \"bar\"}], \"barpolar\": [{\"marker\": {\"line\": {\"color\": \"#E5ECF6\", \"width\": 0.5}}, \"type\": \"barpolar\"}], \"carpet\": [{\"aaxis\": {\"endlinecolor\": \"#2a3f5f\", \"gridcolor\": \"white\", \"linecolor\": \"white\", \"minorgridcolor\": \"white\", \"startlinecolor\": \"#2a3f5f\"}, \"baxis\": {\"endlinecolor\": \"#2a3f5f\", \"gridcolor\": \"white\", \"linecolor\": \"white\", \"minorgridcolor\": \"white\", \"startlinecolor\": \"#2a3f5f\"}, \"type\": \"carpet\"}], \"choropleth\": [{\"colorbar\": {\"outlinewidth\": 0, \"ticks\": \"\"}, \"type\": \"choropleth\"}], \"contour\": [{\"colorbar\": {\"outlinewidth\": 0, \"ticks\": \"\"}, \"colorscale\": [[0.0, \"#0d0887\"], [0.1111111111111111, \"#46039f\"], [0.2222222222222222, \"#7201a8\"], [0.3333333333333333, \"#9c179e\"], [0.4444444444444444, \"#bd3786\"], [0.5555555555555556, \"#d8576b\"], [0.6666666666666666, \"#ed7953\"], [0.7777777777777778, \"#fb9f3a\"], [0.8888888888888888, \"#fdca26\"], [1.0, \"#f0f921\"]], \"type\": \"contour\"}], \"contourcarpet\": [{\"colorbar\": {\"outlinewidth\": 0, \"ticks\": \"\"}, \"type\": \"contourcarpet\"}], \"heatmap\": [{\"colorbar\": {\"outlinewidth\": 0, \"ticks\": \"\"}, \"colorscale\": [[0.0, \"#0d0887\"], [0.1111111111111111, \"#46039f\"], [0.2222222222222222, \"#7201a8\"], [0.3333333333333333, \"#9c179e\"], [0.4444444444444444, \"#bd3786\"], [0.5555555555555556, \"#d8576b\"], [0.6666666666666666, \"#ed7953\"], [0.7777777777777778, \"#fb9f3a\"], [0.8888888888888888, \"#fdca26\"], [1.0, \"#f0f921\"]], \"type\": \"heatmap\"}], \"heatmapgl\": [{\"colorbar\": {\"outlinewidth\": 0, \"ticks\": \"\"}, \"colorscale\": [[0.0, \"#0d0887\"], [0.1111111111111111, \"#46039f\"], [0.2222222222222222, \"#7201a8\"], [0.3333333333333333, \"#9c179e\"], [0.4444444444444444, \"#bd3786\"], [0.5555555555555556, \"#d8576b\"], [0.6666666666666666, \"#ed7953\"], [0.7777777777777778, \"#fb9f3a\"], [0.8888888888888888, \"#fdca26\"], [1.0, \"#f0f921\"]], \"type\": \"heatmapgl\"}], \"histogram\": [{\"marker\": {\"colorbar\": {\"outlinewidth\": 0, \"ticks\": \"\"}}, \"type\": \"histogram\"}], \"histogram2d\": [{\"colorbar\": {\"outlinewidth\": 0, \"ticks\": \"\"}, \"colorscale\": [[0.0, \"#0d0887\"], [0.1111111111111111, \"#46039f\"], [0.2222222222222222, \"#7201a8\"], [0.3333333333333333, \"#9c179e\"], [0.4444444444444444, \"#bd3786\"], [0.5555555555555556, \"#d8576b\"], [0.6666666666666666, \"#ed7953\"], [0.7777777777777778, \"#fb9f3a\"], [0.8888888888888888, \"#fdca26\"], [1.0, \"#f0f921\"]], \"type\": \"histogram2d\"}], \"histogram2dcontour\": [{\"colorbar\": {\"outlinewidth\": 0, \"ticks\": \"\"}, \"colorscale\": [[0.0, \"#0d0887\"], [0.1111111111111111, \"#46039f\"], [0.2222222222222222, \"#7201a8\"], [0.3333333333333333, \"#9c179e\"], [0.4444444444444444, \"#bd3786\"], [0.5555555555555556, \"#d8576b\"], [0.6666666666666666, \"#ed7953\"], [0.7777777777777778, \"#fb9f3a\"], [0.8888888888888888, \"#fdca26\"], [1.0, \"#f0f921\"]], \"type\": \"histogram2dcontour\"}], \"mesh3d\": [{\"colorbar\": {\"outlinewidth\": 0, \"ticks\": \"\"}, \"type\": \"mesh3d\"}], \"parcoords\": [{\"line\": {\"colorbar\": {\"outlinewidth\": 0, \"ticks\": \"\"}}, \"type\": \"parcoords\"}], \"pie\": [{\"automargin\": true, \"type\": \"pie\"}], \"scatter\": [{\"marker\": {\"colorbar\": {\"outlinewidth\": 0, \"ticks\": \"\"}}, \"type\": \"scatter\"}], \"scatter3d\": [{\"line\": {\"colorbar\": {\"outlinewidth\": 0, \"ticks\": \"\"}}, \"marker\": {\"colorbar\": {\"outlinewidth\": 0, \"ticks\": \"\"}}, \"type\": \"scatter3d\"}], \"scattercarpet\": [{\"marker\": {\"colorbar\": {\"outlinewidth\": 0, \"ticks\": \"\"}}, \"type\": \"scattercarpet\"}], \"scattergeo\": [{\"marker\": {\"colorbar\": {\"outlinewidth\": 0, \"ticks\": \"\"}}, \"type\": \"scattergeo\"}], \"scattergl\": [{\"marker\": {\"colorbar\": {\"outlinewidth\": 0, \"ticks\": \"\"}}, \"type\": \"scattergl\"}], \"scattermapbox\": [{\"marker\": {\"colorbar\": {\"outlinewidth\": 0, \"ticks\": \"\"}}, \"type\": \"scattermapbox\"}], \"scatterpolar\": [{\"marker\": {\"colorbar\": {\"outlinewidth\": 0, \"ticks\": \"\"}}, \"type\": \"scatterpolar\"}], \"scatterpolargl\": [{\"marker\": {\"colorbar\": {\"outlinewidth\": 0, \"ticks\": \"\"}}, \"type\": \"scatterpolargl\"}], \"scatterternary\": [{\"marker\": {\"colorbar\": {\"outlinewidth\": 0, \"ticks\": \"\"}}, \"type\": \"scatterternary\"}], \"surface\": [{\"colorbar\": {\"outlinewidth\": 0, \"ticks\": \"\"}, \"colorscale\": [[0.0, \"#0d0887\"], [0.1111111111111111, \"#46039f\"], [0.2222222222222222, \"#7201a8\"], [0.3333333333333333, \"#9c179e\"], [0.4444444444444444, \"#bd3786\"], [0.5555555555555556, \"#d8576b\"], [0.6666666666666666, \"#ed7953\"], [0.7777777777777778, \"#fb9f3a\"], [0.8888888888888888, \"#fdca26\"], [1.0, \"#f0f921\"]], \"type\": \"surface\"}], \"table\": [{\"cells\": {\"fill\": {\"color\": \"#EBF0F8\"}, \"line\": {\"color\": \"white\"}}, \"header\": {\"fill\": {\"color\": \"#C8D4E3\"}, \"line\": {\"color\": \"white\"}}, \"type\": \"table\"}]}, \"layout\": {\"annotationdefaults\": {\"arrowcolor\": \"#2a3f5f\", \"arrowhead\": 0, \"arrowwidth\": 1}, \"coloraxis\": {\"colorbar\": {\"outlinewidth\": 0, \"ticks\": \"\"}}, \"colorscale\": {\"diverging\": [[0, \"#8e0152\"], [0.1, \"#c51b7d\"], [0.2, \"#de77ae\"], [0.3, \"#f1b6da\"], [0.4, \"#fde0ef\"], [0.5, \"#f7f7f7\"], [0.6, \"#e6f5d0\"], [0.7, \"#b8e186\"], [0.8, \"#7fbc41\"], [0.9, \"#4d9221\"], [1, \"#276419\"]], \"sequential\": [[0.0, \"#0d0887\"], [0.1111111111111111, \"#46039f\"], [0.2222222222222222, \"#7201a8\"], [0.3333333333333333, \"#9c179e\"], [0.4444444444444444, \"#bd3786\"], [0.5555555555555556, \"#d8576b\"], [0.6666666666666666, \"#ed7953\"], [0.7777777777777778, \"#fb9f3a\"], [0.8888888888888888, \"#fdca26\"], [1.0, \"#f0f921\"]], \"sequentialminus\": [[0.0, \"#0d0887\"], [0.1111111111111111, \"#46039f\"], [0.2222222222222222, \"#7201a8\"], [0.3333333333333333, \"#9c179e\"], [0.4444444444444444, \"#bd3786\"], [0.5555555555555556, \"#d8576b\"], [0.6666666666666666, \"#ed7953\"], [0.7777777777777778, \"#fb9f3a\"], [0.8888888888888888, \"#fdca26\"], [1.0, \"#f0f921\"]]}, \"colorway\": [\"#636efa\", \"#EF553B\", \"#00cc96\", \"#ab63fa\", \"#FFA15A\", \"#19d3f3\", \"#FF6692\", \"#B6E880\", \"#FF97FF\", \"#FECB52\"], \"font\": {\"color\": \"#2a3f5f\"}, \"geo\": {\"bgcolor\": \"white\", \"lakecolor\": \"white\", \"landcolor\": \"#E5ECF6\", \"showlakes\": true, \"showland\": true, \"subunitcolor\": \"white\"}, \"hoverlabel\": {\"align\": \"left\"}, \"hovermode\": \"closest\", \"mapbox\": {\"style\": \"light\"}, \"paper_bgcolor\": \"white\", \"plot_bgcolor\": \"#E5ECF6\", \"polar\": {\"angularaxis\": {\"gridcolor\": \"white\", \"linecolor\": \"white\", \"ticks\": \"\"}, \"bgcolor\": \"#E5ECF6\", \"radialaxis\": {\"gridcolor\": \"white\", \"linecolor\": \"white\", \"ticks\": \"\"}}, \"scene\": {\"xaxis\": {\"backgroundcolor\": \"#E5ECF6\", \"gridcolor\": \"white\", \"gridwidth\": 2, \"linecolor\": \"white\", \"showbackground\": true, \"ticks\": \"\", \"zerolinecolor\": \"white\"}, \"yaxis\": {\"backgroundcolor\": \"#E5ECF6\", \"gridcolor\": \"white\", \"gridwidth\": 2, \"linecolor\": \"white\", \"showbackground\": true, \"ticks\": \"\", \"zerolinecolor\": \"white\"}, \"zaxis\": {\"backgroundcolor\": \"#E5ECF6\", \"gridcolor\": \"white\", \"gridwidth\": 2, \"linecolor\": \"white\", \"showbackground\": true, \"ticks\": \"\", \"zerolinecolor\": \"white\"}}, \"shapedefaults\": {\"line\": {\"color\": \"#2a3f5f\"}}, \"ternary\": {\"aaxis\": {\"gridcolor\": \"white\", \"linecolor\": \"white\", \"ticks\": \"\"}, \"baxis\": {\"gridcolor\": \"white\", \"linecolor\": \"white\", \"ticks\": \"\"}, \"bgcolor\": \"#E5ECF6\", \"caxis\": {\"gridcolor\": \"white\", \"linecolor\": \"white\", \"ticks\": \"\"}}, \"title\": {\"x\": 0.05}, \"xaxis\": {\"automargin\": true, \"gridcolor\": \"white\", \"linecolor\": \"white\", \"ticks\": \"\", \"title\": {\"standoff\": 15}, \"zerolinecolor\": \"white\", \"zerolinewidth\": 2}, \"yaxis\": {\"automargin\": true, \"gridcolor\": \"white\", \"linecolor\": \"white\", \"ticks\": \"\", \"title\": {\"standoff\": 15}, \"zerolinecolor\": \"white\", \"zerolinewidth\": 2}}}, \"title\": {\"text\": \"Sales per week of month\"}, \"xaxis\": {\"anchor\": \"y\", \"domain\": [0.0, 1.0], \"title\": {\"text\": \"volume\"}}, \"yaxis\": {\"anchor\": \"x\", \"domain\": [0.0, 1.0], \"title\": {\"text\": \"week_of_month\"}}},\n",
              "                        {\"responsive\": true}\n",
              "                    ).then(function(){\n",
              "                            \n",
              "var gd = document.getElementById('f12b48d6-db7c-4825-8d83-dc4ead13f190');\n",
              "var x = new MutationObserver(function (mutations, observer) {{\n",
              "        var display = window.getComputedStyle(gd).display;\n",
              "        if (!display || display === 'none') {{\n",
              "            console.log([gd, 'removed!']);\n",
              "            Plotly.purge(gd);\n",
              "            observer.disconnect();\n",
              "        }}\n",
              "}});\n",
              "\n",
              "// Listen for the removal of the full notebook cells\n",
              "var notebookContainer = gd.closest('#notebook-container');\n",
              "if (notebookContainer) {{\n",
              "    x.observe(notebookContainer, {childList: true});\n",
              "}}\n",
              "\n",
              "// Listen for the clearing of the current output cell\n",
              "var outputEl = gd.closest('.output');\n",
              "if (outputEl) {{\n",
              "    x.observe(outputEl, {childList: true});\n",
              "}}\n",
              "\n",
              "                        })\n",
              "                };\n",
              "                \n",
              "            </script>\n",
              "        </div>\n",
              "</body>\n",
              "</html>"
            ]
          },
          "metadata": {
            "tags": []
          }
        }
      ]
    },
    {
      "cell_type": "markdown",
      "metadata": {
        "id": "RquVWmk9-DKn"
      },
      "source": [
        "## **Snap and Event Features**\n",
        "\n",
        "*   **Creation of SNAP Features**\n",
        "\n"
      ]
    },
    {
      "cell_type": "code",
      "metadata": {
        "id": "0c0lSI3F-lkA",
        "colab": {
          "base_uri": "https://localhost:8080/",
          "height": 154
        },
        "outputId": "6548a7df-8f9b-4aa1-de48-2069689cbb7d"
      },
      "source": [
        "df_final_master['snap'] = 0\n",
        "df_final_master['snap'].loc[\n",
        "        df_final_master[df_final_master['state_id'] == 'CA']['snap_CA'].index\n",
        "        ] = df_final_master['snap_CA']\n",
        "\n",
        "df_final_master['snap'].loc[\n",
        "        df_final_master[df_final_master['state_id'] == 'TX']['snap_TX'].index\n",
        "        ] = df_final_master['snap_TX']\n",
        "\n",
        "df_final_master['snap'].loc[\n",
        "        df_final_master[df_final_master['state_id'] == 'WI']['snap_WI'].index\n",
        "        ] = df_final_master['snap_WI']\n",
        "\n",
        "df_final_master = df_final_master.drop(columns = ['snap_CA', 'snap_TX', 'snap_WI'])"
      ],
      "execution_count": null,
      "outputs": [
        {
          "output_type": "stream",
          "text": [
            "/usr/local/lib/python3.6/dist-packages/pandas/core/indexing.py:671: SettingWithCopyWarning:\n",
            "\n",
            "\n",
            "A value is trying to be set on a copy of a slice from a DataFrame\n",
            "\n",
            "See the caveats in the documentation: https://pandas.pydata.org/pandas-docs/stable/user_guide/indexing.html#returning-a-view-versus-a-copy\n",
            "\n"
          ],
          "name": "stderr"
        }
      ]
    },
    {
      "cell_type": "markdown",
      "metadata": {
        "id": "3QZrL375jkq5"
      },
      "source": [
        "* **Creation of the event features**"
      ]
    },
    {
      "cell_type": "code",
      "metadata": {
        "id": "ANdDwnLsjbPl",
        "colab": {
          "base_uri": "https://localhost:8080/",
          "height": 590
        },
        "outputId": "4487386e-7676-4fa4-c4c8-75bfd578751c"
      },
      "source": [
        "df_final_master['event'] = 0\n",
        "df_final_master.at[df_final_master[df_final_master['event_name_1'].notnull()].index, 'event'] = 1\n",
        "df_final_master.at[df_final_master[df_final_master['event_name_2'].notnull()].index, 'event'] = 1\n",
        "df_final_master = df_final_master.drop(columns = ['event_name_1', 'event_name_2', 'event_type_1', 'event_type_2'])\n",
        "df_final_master"
      ],
      "execution_count": null,
      "outputs": [
        {
          "output_type": "execute_result",
          "data": {
            "text/html": [
              "<div>\n",
              "<style scoped>\n",
              "    .dataframe tbody tr th:only-of-type {\n",
              "        vertical-align: middle;\n",
              "    }\n",
              "\n",
              "    .dataframe tbody tr th {\n",
              "        vertical-align: top;\n",
              "    }\n",
              "\n",
              "    .dataframe thead th {\n",
              "        text-align: right;\n",
              "    }\n",
              "</style>\n",
              "<table border=\"1\" class=\"dataframe\">\n",
              "  <thead>\n",
              "    <tr style=\"text-align: right;\">\n",
              "      <th></th>\n",
              "      <th>id</th>\n",
              "      <th>item_id</th>\n",
              "      <th>cat_id</th>\n",
              "      <th>store_id</th>\n",
              "      <th>dept_id</th>\n",
              "      <th>state_id</th>\n",
              "      <th>week_no</th>\n",
              "      <th>sell_price</th>\n",
              "      <th>volume</th>\n",
              "      <th>d</th>\n",
              "      <th>date</th>\n",
              "      <th>month</th>\n",
              "      <th>year</th>\n",
              "      <th>week_of_month</th>\n",
              "      <th>week_of_year</th>\n",
              "      <th>snap</th>\n",
              "      <th>event</th>\n",
              "    </tr>\n",
              "  </thead>\n",
              "  <tbody>\n",
              "    <tr>\n",
              "      <th>0</th>\n",
              "      <td>FOODS_1_012_CA_2_evaluation</td>\n",
              "      <td>FOODS_1_012</td>\n",
              "      <td>FOODS</td>\n",
              "      <td>CA_2</td>\n",
              "      <td>FOODS_1</td>\n",
              "      <td>CA</td>\n",
              "      <td>1.0</td>\n",
              "      <td>NaN</td>\n",
              "      <td>0</td>\n",
              "      <td>d_1</td>\n",
              "      <td>2011-01-29</td>\n",
              "      <td>1</td>\n",
              "      <td>2011</td>\n",
              "      <td>1</td>\n",
              "      <td>1</td>\n",
              "      <td>4</td>\n",
              "      <td>0</td>\n",
              "    </tr>\n",
              "    <tr>\n",
              "      <th>1</th>\n",
              "      <td>FOODS_1_012_CA_2_evaluation</td>\n",
              "      <td>FOODS_1_012</td>\n",
              "      <td>FOODS</td>\n",
              "      <td>CA_2</td>\n",
              "      <td>FOODS_1</td>\n",
              "      <td>CA</td>\n",
              "      <td>2.0</td>\n",
              "      <td>NaN</td>\n",
              "      <td>0</td>\n",
              "      <td>d_8</td>\n",
              "      <td>2011-02-05</td>\n",
              "      <td>2</td>\n",
              "      <td>2011</td>\n",
              "      <td>1</td>\n",
              "      <td>2</td>\n",
              "      <td>6</td>\n",
              "      <td>1</td>\n",
              "    </tr>\n",
              "    <tr>\n",
              "      <th>2</th>\n",
              "      <td>FOODS_1_012_CA_2_evaluation</td>\n",
              "      <td>FOODS_1_012</td>\n",
              "      <td>FOODS</td>\n",
              "      <td>CA_2</td>\n",
              "      <td>FOODS_1</td>\n",
              "      <td>CA</td>\n",
              "      <td>3.0</td>\n",
              "      <td>NaN</td>\n",
              "      <td>0</td>\n",
              "      <td>d_15</td>\n",
              "      <td>2011-02-12</td>\n",
              "      <td>2</td>\n",
              "      <td>2011</td>\n",
              "      <td>2</td>\n",
              "      <td>3</td>\n",
              "      <td>0</td>\n",
              "      <td>1</td>\n",
              "    </tr>\n",
              "    <tr>\n",
              "      <th>3</th>\n",
              "      <td>FOODS_1_012_CA_2_evaluation</td>\n",
              "      <td>FOODS_1_012</td>\n",
              "      <td>FOODS</td>\n",
              "      <td>CA_2</td>\n",
              "      <td>FOODS_1</td>\n",
              "      <td>CA</td>\n",
              "      <td>4.0</td>\n",
              "      <td>NaN</td>\n",
              "      <td>0</td>\n",
              "      <td>d_22</td>\n",
              "      <td>2011-02-19</td>\n",
              "      <td>2</td>\n",
              "      <td>2011</td>\n",
              "      <td>3</td>\n",
              "      <td>4</td>\n",
              "      <td>0</td>\n",
              "      <td>1</td>\n",
              "    </tr>\n",
              "    <tr>\n",
              "      <th>4</th>\n",
              "      <td>FOODS_1_012_CA_2_evaluation</td>\n",
              "      <td>FOODS_1_012</td>\n",
              "      <td>FOODS</td>\n",
              "      <td>CA_2</td>\n",
              "      <td>FOODS_1</td>\n",
              "      <td>CA</td>\n",
              "      <td>5.0</td>\n",
              "      <td>NaN</td>\n",
              "      <td>0</td>\n",
              "      <td>d_29</td>\n",
              "      <td>2011-02-26</td>\n",
              "      <td>2</td>\n",
              "      <td>2011</td>\n",
              "      <td>4</td>\n",
              "      <td>5</td>\n",
              "      <td>4</td>\n",
              "      <td>0</td>\n",
              "    </tr>\n",
              "    <tr>\n",
              "      <th>...</th>\n",
              "      <td>...</td>\n",
              "      <td>...</td>\n",
              "      <td>...</td>\n",
              "      <td>...</td>\n",
              "      <td>...</td>\n",
              "      <td>...</td>\n",
              "      <td>...</td>\n",
              "      <td>...</td>\n",
              "      <td>...</td>\n",
              "      <td>...</td>\n",
              "      <td>...</td>\n",
              "      <td>...</td>\n",
              "      <td>...</td>\n",
              "      <td>...</td>\n",
              "      <td>...</td>\n",
              "      <td>...</td>\n",
              "      <td>...</td>\n",
              "    </tr>\n",
              "    <tr>\n",
              "      <th>162625</th>\n",
              "      <td>HOUSEHOLD_2_348_CA_3_evaluation</td>\n",
              "      <td>HOUSEHOLD_2_348</td>\n",
              "      <td>HOUSEHOLD</td>\n",
              "      <td>CA_3</td>\n",
              "      <td>HOUSEHOLD_2</td>\n",
              "      <td>CA</td>\n",
              "      <td>274.0</td>\n",
              "      <td>7.44</td>\n",
              "      <td>28</td>\n",
              "      <td>d_1912</td>\n",
              "      <td>2016-04-23</td>\n",
              "      <td>4</td>\n",
              "      <td>2016</td>\n",
              "      <td>4</td>\n",
              "      <td>17</td>\n",
              "      <td>0</td>\n",
              "      <td>0</td>\n",
              "    </tr>\n",
              "    <tr>\n",
              "      <th>162626</th>\n",
              "      <td>HOUSEHOLD_2_348_CA_3_evaluation</td>\n",
              "      <td>HOUSEHOLD_2_348</td>\n",
              "      <td>HOUSEHOLD</td>\n",
              "      <td>CA_3</td>\n",
              "      <td>HOUSEHOLD_2</td>\n",
              "      <td>CA</td>\n",
              "      <td>275.0</td>\n",
              "      <td>7.44</td>\n",
              "      <td>22</td>\n",
              "      <td>d_1919</td>\n",
              "      <td>2016-04-30</td>\n",
              "      <td>4</td>\n",
              "      <td>2016</td>\n",
              "      <td>5</td>\n",
              "      <td>18</td>\n",
              "      <td>6</td>\n",
              "      <td>1</td>\n",
              "    </tr>\n",
              "    <tr>\n",
              "      <th>162627</th>\n",
              "      <td>HOUSEHOLD_2_348_CA_3_evaluation</td>\n",
              "      <td>HOUSEHOLD_2_348</td>\n",
              "      <td>HOUSEHOLD</td>\n",
              "      <td>CA_3</td>\n",
              "      <td>HOUSEHOLD_2</td>\n",
              "      <td>CA</td>\n",
              "      <td>276.0</td>\n",
              "      <td>7.44</td>\n",
              "      <td>27</td>\n",
              "      <td>d_1926</td>\n",
              "      <td>2016-05-07</td>\n",
              "      <td>5</td>\n",
              "      <td>2016</td>\n",
              "      <td>1</td>\n",
              "      <td>19</td>\n",
              "      <td>4</td>\n",
              "      <td>1</td>\n",
              "    </tr>\n",
              "    <tr>\n",
              "      <th>162628</th>\n",
              "      <td>HOUSEHOLD_2_348_CA_3_evaluation</td>\n",
              "      <td>HOUSEHOLD_2_348</td>\n",
              "      <td>HOUSEHOLD</td>\n",
              "      <td>CA_3</td>\n",
              "      <td>HOUSEHOLD_2</td>\n",
              "      <td>CA</td>\n",
              "      <td>277.0</td>\n",
              "      <td>7.44</td>\n",
              "      <td>12</td>\n",
              "      <td>d_1933</td>\n",
              "      <td>2016-05-14</td>\n",
              "      <td>5</td>\n",
              "      <td>2016</td>\n",
              "      <td>2</td>\n",
              "      <td>20</td>\n",
              "      <td>0</td>\n",
              "      <td>0</td>\n",
              "    </tr>\n",
              "    <tr>\n",
              "      <th>162629</th>\n",
              "      <td>HOUSEHOLD_2_348_CA_3_evaluation</td>\n",
              "      <td>HOUSEHOLD_2_348</td>\n",
              "      <td>HOUSEHOLD</td>\n",
              "      <td>CA_3</td>\n",
              "      <td>HOUSEHOLD_2</td>\n",
              "      <td>CA</td>\n",
              "      <td>278.0</td>\n",
              "      <td>7.44</td>\n",
              "      <td>0</td>\n",
              "      <td>d_1940</td>\n",
              "      <td>2016-05-21</td>\n",
              "      <td>5</td>\n",
              "      <td>2016</td>\n",
              "      <td>3</td>\n",
              "      <td>21</td>\n",
              "      <td>0</td>\n",
              "      <td>0</td>\n",
              "    </tr>\n",
              "  </tbody>\n",
              "</table>\n",
              "<p>162630 rows × 17 columns</p>\n",
              "</div>"
            ],
            "text/plain": [
              "                                     id          item_id  ... snap event\n",
              "0           FOODS_1_012_CA_2_evaluation      FOODS_1_012  ...    4     0\n",
              "1           FOODS_1_012_CA_2_evaluation      FOODS_1_012  ...    6     1\n",
              "2           FOODS_1_012_CA_2_evaluation      FOODS_1_012  ...    0     1\n",
              "3           FOODS_1_012_CA_2_evaluation      FOODS_1_012  ...    0     1\n",
              "4           FOODS_1_012_CA_2_evaluation      FOODS_1_012  ...    4     0\n",
              "...                                 ...              ...  ...  ...   ...\n",
              "162625  HOUSEHOLD_2_348_CA_3_evaluation  HOUSEHOLD_2_348  ...    0     0\n",
              "162626  HOUSEHOLD_2_348_CA_3_evaluation  HOUSEHOLD_2_348  ...    6     1\n",
              "162627  HOUSEHOLD_2_348_CA_3_evaluation  HOUSEHOLD_2_348  ...    4     1\n",
              "162628  HOUSEHOLD_2_348_CA_3_evaluation  HOUSEHOLD_2_348  ...    0     0\n",
              "162629  HOUSEHOLD_2_348_CA_3_evaluation  HOUSEHOLD_2_348  ...    0     0\n",
              "\n",
              "[162630 rows x 17 columns]"
            ]
          },
          "metadata": {
            "tags": []
          },
          "execution_count": 109
        }
      ]
    },
    {
      "cell_type": "markdown",
      "metadata": {
        "id": "5wMiJ-Xe42kR"
      },
      "source": [
        "## **Imputing the NaN Values in the price**"
      ]
    },
    {
      "cell_type": "code",
      "metadata": {
        "id": "xBS2pz9m0BEc"
      },
      "source": [
        "df_final_master['sell_price'] = df_final_master['sell_price'].ffill()\n",
        "df_final_master['sell_price'] = df_final_master['sell_price'].bfill()"
      ],
      "execution_count": null,
      "outputs": []
    },
    {
      "cell_type": "markdown",
      "metadata": {
        "id": "RJxNn7ke_RUe"
      },
      "source": [
        "## **Calculation of lag features**\n"
      ]
    },
    {
      "cell_type": "code",
      "metadata": {
        "id": "cSn0LFBm_f6a"
      },
      "source": [
        "def lag_func(df):                                                                                                              \n",
        "    df['vol_lag1'] = df['volume'].shift(1)                                                                                       \n",
        "    df['vol_lag2'] = df['volume'].shift(2)                                                                                       \n",
        "    df['vol_lag3'] = df['volume'].shift(3)                                                                                       \n",
        "    df['vol_lag4'] = df['volume'].shift(4)     \n",
        "    return df\n",
        "\n",
        "lag_df = df_final_master.groupby('id').apply(lag_func)\n",
        "lag_df = lag_df.dropna()\n",
        "\n"
      ],
      "execution_count": null,
      "outputs": []
    },
    {
      "cell_type": "markdown",
      "metadata": {
        "id": "5SU-HW5O-qNB"
      },
      "source": [
        "## **Creation of categorical features**\n",
        "\n"
      ]
    },
    {
      "cell_type": "code",
      "metadata": {
        "id": "abNnDeO--wwW",
        "colab": {
          "base_uri": "https://localhost:8080/",
          "height": 422
        },
        "outputId": "cc0adc1d-5f82-45f8-889c-41c8958c66b5"
      },
      "source": [
        "dummies = pd.get_dummies(lag_df, columns= ['id'])\n",
        "\n",
        "#removing the columns to remove perfect multicollinearity and the other category variables\n",
        "#and creating the modelling dataframe\n",
        "modelling_df = dummies.drop(columns = ['id_FOODS_1_012_CA_2_evaluation',\n",
        "                                      'store_id', 'cat_id', 'dept_id', 'state_id', \n",
        "                                      'd', 'date', 'item_id'])\n",
        "\n",
        "modelling_df"
      ],
      "execution_count": null,
      "outputs": [
        {
          "output_type": "execute_result",
          "data": {
            "text/html": [
              "<div>\n",
              "<style scoped>\n",
              "    .dataframe tbody tr th:only-of-type {\n",
              "        vertical-align: middle;\n",
              "    }\n",
              "\n",
              "    .dataframe tbody tr th {\n",
              "        vertical-align: top;\n",
              "    }\n",
              "\n",
              "    .dataframe thead th {\n",
              "        text-align: right;\n",
              "    }\n",
              "</style>\n",
              "<table border=\"1\" class=\"dataframe\">\n",
              "  <thead>\n",
              "    <tr style=\"text-align: right;\">\n",
              "      <th></th>\n",
              "      <th>week_no</th>\n",
              "      <th>sell_price</th>\n",
              "      <th>volume</th>\n",
              "      <th>month</th>\n",
              "      <th>year</th>\n",
              "      <th>week_of_month</th>\n",
              "      <th>week_of_year</th>\n",
              "      <th>snap</th>\n",
              "      <th>event</th>\n",
              "      <th>vol_lag1</th>\n",
              "      <th>vol_lag2</th>\n",
              "      <th>vol_lag3</th>\n",
              "      <th>vol_lag4</th>\n",
              "      <th>id_FOODS_1_012_CA_3_evaluation</th>\n",
              "      <th>id_FOODS_1_012_CA_4_evaluation</th>\n",
              "      <th>id_FOODS_1_012_TX_1_evaluation</th>\n",
              "      <th>id_FOODS_1_012_TX_2_evaluation</th>\n",
              "      <th>id_FOODS_1_012_TX_3_evaluation</th>\n",
              "      <th>id_FOODS_1_043_CA_3_evaluation</th>\n",
              "      <th>id_FOODS_1_055_CA_2_evaluation</th>\n",
              "      <th>id_FOODS_1_055_CA_3_evaluation</th>\n",
              "      <th>id_FOODS_1_087_TX_2_evaluation</th>\n",
              "      <th>id_FOODS_1_087_TX_3_evaluation</th>\n",
              "      <th>id_FOODS_1_096_TX_2_evaluation</th>\n",
              "      <th>id_FOODS_1_096_TX_3_evaluation</th>\n",
              "      <th>id_FOODS_1_096_WI_1_evaluation</th>\n",
              "      <th>id_FOODS_1_096_WI_2_evaluation</th>\n",
              "      <th>id_FOODS_1_096_WI_3_evaluation</th>\n",
              "      <th>id_FOODS_1_129_TX_2_evaluation</th>\n",
              "      <th>id_FOODS_1_129_TX_3_evaluation</th>\n",
              "      <th>id_FOODS_1_129_WI_2_evaluation</th>\n",
              "      <th>id_FOODS_1_150_CA_2_evaluation</th>\n",
              "      <th>id_FOODS_1_170_CA_2_evaluation</th>\n",
              "      <th>id_FOODS_1_170_CA_3_evaluation</th>\n",
              "      <th>id_FOODS_1_170_CA_4_evaluation</th>\n",
              "      <th>id_FOODS_1_170_TX_2_evaluation</th>\n",
              "      <th>id_FOODS_1_170_TX_3_evaluation</th>\n",
              "      <th>id_FOODS_1_180_CA_3_evaluation</th>\n",
              "      <th>id_FOODS_1_187_CA_2_evaluation</th>\n",
              "      <th>id_FOODS_1_187_CA_3_evaluation</th>\n",
              "      <th>...</th>\n",
              "      <th>id_HOUSEHOLD_1_409_CA_3_evaluation</th>\n",
              "      <th>id_HOUSEHOLD_1_409_WI_2_evaluation</th>\n",
              "      <th>id_HOUSEHOLD_1_413_CA_1_evaluation</th>\n",
              "      <th>id_HOUSEHOLD_1_413_CA_2_evaluation</th>\n",
              "      <th>id_HOUSEHOLD_1_413_CA_3_evaluation</th>\n",
              "      <th>id_HOUSEHOLD_1_416_CA_3_evaluation</th>\n",
              "      <th>id_HOUSEHOLD_1_427_WI_2_evaluation</th>\n",
              "      <th>id_HOUSEHOLD_1_427_WI_3_evaluation</th>\n",
              "      <th>id_HOUSEHOLD_1_434_CA_3_evaluation</th>\n",
              "      <th>id_HOUSEHOLD_1_440_CA_1_evaluation</th>\n",
              "      <th>id_HOUSEHOLD_1_440_CA_2_evaluation</th>\n",
              "      <th>id_HOUSEHOLD_1_440_CA_3_evaluation</th>\n",
              "      <th>id_HOUSEHOLD_1_440_TX_2_evaluation</th>\n",
              "      <th>id_HOUSEHOLD_1_440_WI_3_evaluation</th>\n",
              "      <th>id_HOUSEHOLD_1_441_WI_3_evaluation</th>\n",
              "      <th>id_HOUSEHOLD_1_449_TX_3_evaluation</th>\n",
              "      <th>id_HOUSEHOLD_1_459_CA_3_evaluation</th>\n",
              "      <th>id_HOUSEHOLD_1_469_CA_2_evaluation</th>\n",
              "      <th>id_HOUSEHOLD_1_469_CA_3_evaluation</th>\n",
              "      <th>id_HOUSEHOLD_1_469_TX_1_evaluation</th>\n",
              "      <th>id_HOUSEHOLD_1_469_TX_2_evaluation</th>\n",
              "      <th>id_HOUSEHOLD_1_494_CA_1_evaluation</th>\n",
              "      <th>id_HOUSEHOLD_1_494_CA_3_evaluation</th>\n",
              "      <th>id_HOUSEHOLD_1_494_TX_1_evaluation</th>\n",
              "      <th>id_HOUSEHOLD_1_497_CA_3_evaluation</th>\n",
              "      <th>id_HOUSEHOLD_1_497_TX_2_evaluation</th>\n",
              "      <th>id_HOUSEHOLD_1_497_TX_3_evaluation</th>\n",
              "      <th>id_HOUSEHOLD_1_506_CA_3_evaluation</th>\n",
              "      <th>id_HOUSEHOLD_1_514_CA_3_evaluation</th>\n",
              "      <th>id_HOUSEHOLD_1_514_WI_2_evaluation</th>\n",
              "      <th>id_HOUSEHOLD_1_535_CA_1_evaluation</th>\n",
              "      <th>id_HOUSEHOLD_1_535_CA_2_evaluation</th>\n",
              "      <th>id_HOUSEHOLD_1_535_CA_3_evaluation</th>\n",
              "      <th>id_HOUSEHOLD_1_535_TX_2_evaluation</th>\n",
              "      <th>id_HOUSEHOLD_1_535_TX_3_evaluation</th>\n",
              "      <th>id_HOUSEHOLD_1_535_WI_3_evaluation</th>\n",
              "      <th>id_HOUSEHOLD_1_537_CA_2_evaluation</th>\n",
              "      <th>id_HOUSEHOLD_1_537_CA_3_evaluation</th>\n",
              "      <th>id_HOUSEHOLD_1_541_CA_3_evaluation</th>\n",
              "      <th>id_HOUSEHOLD_2_348_CA_3_evaluation</th>\n",
              "    </tr>\n",
              "  </thead>\n",
              "  <tbody>\n",
              "    <tr>\n",
              "      <th>4</th>\n",
              "      <td>5.0</td>\n",
              "      <td>6.08</td>\n",
              "      <td>0</td>\n",
              "      <td>2</td>\n",
              "      <td>2011</td>\n",
              "      <td>4</td>\n",
              "      <td>5</td>\n",
              "      <td>4</td>\n",
              "      <td>0</td>\n",
              "      <td>0.0</td>\n",
              "      <td>0.0</td>\n",
              "      <td>0.0</td>\n",
              "      <td>0.0</td>\n",
              "      <td>0</td>\n",
              "      <td>0</td>\n",
              "      <td>0</td>\n",
              "      <td>0</td>\n",
              "      <td>0</td>\n",
              "      <td>0</td>\n",
              "      <td>0</td>\n",
              "      <td>0</td>\n",
              "      <td>0</td>\n",
              "      <td>0</td>\n",
              "      <td>0</td>\n",
              "      <td>0</td>\n",
              "      <td>0</td>\n",
              "      <td>0</td>\n",
              "      <td>0</td>\n",
              "      <td>0</td>\n",
              "      <td>0</td>\n",
              "      <td>0</td>\n",
              "      <td>0</td>\n",
              "      <td>0</td>\n",
              "      <td>0</td>\n",
              "      <td>0</td>\n",
              "      <td>0</td>\n",
              "      <td>0</td>\n",
              "      <td>0</td>\n",
              "      <td>0</td>\n",
              "      <td>0</td>\n",
              "      <td>...</td>\n",
              "      <td>0</td>\n",
              "      <td>0</td>\n",
              "      <td>0</td>\n",
              "      <td>0</td>\n",
              "      <td>0</td>\n",
              "      <td>0</td>\n",
              "      <td>0</td>\n",
              "      <td>0</td>\n",
              "      <td>0</td>\n",
              "      <td>0</td>\n",
              "      <td>0</td>\n",
              "      <td>0</td>\n",
              "      <td>0</td>\n",
              "      <td>0</td>\n",
              "      <td>0</td>\n",
              "      <td>0</td>\n",
              "      <td>0</td>\n",
              "      <td>0</td>\n",
              "      <td>0</td>\n",
              "      <td>0</td>\n",
              "      <td>0</td>\n",
              "      <td>0</td>\n",
              "      <td>0</td>\n",
              "      <td>0</td>\n",
              "      <td>0</td>\n",
              "      <td>0</td>\n",
              "      <td>0</td>\n",
              "      <td>0</td>\n",
              "      <td>0</td>\n",
              "      <td>0</td>\n",
              "      <td>0</td>\n",
              "      <td>0</td>\n",
              "      <td>0</td>\n",
              "      <td>0</td>\n",
              "      <td>0</td>\n",
              "      <td>0</td>\n",
              "      <td>0</td>\n",
              "      <td>0</td>\n",
              "      <td>0</td>\n",
              "      <td>0</td>\n",
              "    </tr>\n",
              "    <tr>\n",
              "      <th>5</th>\n",
              "      <td>6.0</td>\n",
              "      <td>6.08</td>\n",
              "      <td>0</td>\n",
              "      <td>3</td>\n",
              "      <td>2011</td>\n",
              "      <td>1</td>\n",
              "      <td>6</td>\n",
              "      <td>6</td>\n",
              "      <td>1</td>\n",
              "      <td>0.0</td>\n",
              "      <td>0.0</td>\n",
              "      <td>0.0</td>\n",
              "      <td>0.0</td>\n",
              "      <td>0</td>\n",
              "      <td>0</td>\n",
              "      <td>0</td>\n",
              "      <td>0</td>\n",
              "      <td>0</td>\n",
              "      <td>0</td>\n",
              "      <td>0</td>\n",
              "      <td>0</td>\n",
              "      <td>0</td>\n",
              "      <td>0</td>\n",
              "      <td>0</td>\n",
              "      <td>0</td>\n",
              "      <td>0</td>\n",
              "      <td>0</td>\n",
              "      <td>0</td>\n",
              "      <td>0</td>\n",
              "      <td>0</td>\n",
              "      <td>0</td>\n",
              "      <td>0</td>\n",
              "      <td>0</td>\n",
              "      <td>0</td>\n",
              "      <td>0</td>\n",
              "      <td>0</td>\n",
              "      <td>0</td>\n",
              "      <td>0</td>\n",
              "      <td>0</td>\n",
              "      <td>0</td>\n",
              "      <td>...</td>\n",
              "      <td>0</td>\n",
              "      <td>0</td>\n",
              "      <td>0</td>\n",
              "      <td>0</td>\n",
              "      <td>0</td>\n",
              "      <td>0</td>\n",
              "      <td>0</td>\n",
              "      <td>0</td>\n",
              "      <td>0</td>\n",
              "      <td>0</td>\n",
              "      <td>0</td>\n",
              "      <td>0</td>\n",
              "      <td>0</td>\n",
              "      <td>0</td>\n",
              "      <td>0</td>\n",
              "      <td>0</td>\n",
              "      <td>0</td>\n",
              "      <td>0</td>\n",
              "      <td>0</td>\n",
              "      <td>0</td>\n",
              "      <td>0</td>\n",
              "      <td>0</td>\n",
              "      <td>0</td>\n",
              "      <td>0</td>\n",
              "      <td>0</td>\n",
              "      <td>0</td>\n",
              "      <td>0</td>\n",
              "      <td>0</td>\n",
              "      <td>0</td>\n",
              "      <td>0</td>\n",
              "      <td>0</td>\n",
              "      <td>0</td>\n",
              "      <td>0</td>\n",
              "      <td>0</td>\n",
              "      <td>0</td>\n",
              "      <td>0</td>\n",
              "      <td>0</td>\n",
              "      <td>0</td>\n",
              "      <td>0</td>\n",
              "      <td>0</td>\n",
              "    </tr>\n",
              "    <tr>\n",
              "      <th>6</th>\n",
              "      <td>7.0</td>\n",
              "      <td>6.08</td>\n",
              "      <td>0</td>\n",
              "      <td>3</td>\n",
              "      <td>2011</td>\n",
              "      <td>2</td>\n",
              "      <td>7</td>\n",
              "      <td>0</td>\n",
              "      <td>1</td>\n",
              "      <td>0.0</td>\n",
              "      <td>0.0</td>\n",
              "      <td>0.0</td>\n",
              "      <td>0.0</td>\n",
              "      <td>0</td>\n",
              "      <td>0</td>\n",
              "      <td>0</td>\n",
              "      <td>0</td>\n",
              "      <td>0</td>\n",
              "      <td>0</td>\n",
              "      <td>0</td>\n",
              "      <td>0</td>\n",
              "      <td>0</td>\n",
              "      <td>0</td>\n",
              "      <td>0</td>\n",
              "      <td>0</td>\n",
              "      <td>0</td>\n",
              "      <td>0</td>\n",
              "      <td>0</td>\n",
              "      <td>0</td>\n",
              "      <td>0</td>\n",
              "      <td>0</td>\n",
              "      <td>0</td>\n",
              "      <td>0</td>\n",
              "      <td>0</td>\n",
              "      <td>0</td>\n",
              "      <td>0</td>\n",
              "      <td>0</td>\n",
              "      <td>0</td>\n",
              "      <td>0</td>\n",
              "      <td>0</td>\n",
              "      <td>...</td>\n",
              "      <td>0</td>\n",
              "      <td>0</td>\n",
              "      <td>0</td>\n",
              "      <td>0</td>\n",
              "      <td>0</td>\n",
              "      <td>0</td>\n",
              "      <td>0</td>\n",
              "      <td>0</td>\n",
              "      <td>0</td>\n",
              "      <td>0</td>\n",
              "      <td>0</td>\n",
              "      <td>0</td>\n",
              "      <td>0</td>\n",
              "      <td>0</td>\n",
              "      <td>0</td>\n",
              "      <td>0</td>\n",
              "      <td>0</td>\n",
              "      <td>0</td>\n",
              "      <td>0</td>\n",
              "      <td>0</td>\n",
              "      <td>0</td>\n",
              "      <td>0</td>\n",
              "      <td>0</td>\n",
              "      <td>0</td>\n",
              "      <td>0</td>\n",
              "      <td>0</td>\n",
              "      <td>0</td>\n",
              "      <td>0</td>\n",
              "      <td>0</td>\n",
              "      <td>0</td>\n",
              "      <td>0</td>\n",
              "      <td>0</td>\n",
              "      <td>0</td>\n",
              "      <td>0</td>\n",
              "      <td>0</td>\n",
              "      <td>0</td>\n",
              "      <td>0</td>\n",
              "      <td>0</td>\n",
              "      <td>0</td>\n",
              "      <td>0</td>\n",
              "    </tr>\n",
              "    <tr>\n",
              "      <th>7</th>\n",
              "      <td>8.0</td>\n",
              "      <td>6.08</td>\n",
              "      <td>0</td>\n",
              "      <td>3</td>\n",
              "      <td>2011</td>\n",
              "      <td>3</td>\n",
              "      <td>8</td>\n",
              "      <td>0</td>\n",
              "      <td>1</td>\n",
              "      <td>0.0</td>\n",
              "      <td>0.0</td>\n",
              "      <td>0.0</td>\n",
              "      <td>0.0</td>\n",
              "      <td>0</td>\n",
              "      <td>0</td>\n",
              "      <td>0</td>\n",
              "      <td>0</td>\n",
              "      <td>0</td>\n",
              "      <td>0</td>\n",
              "      <td>0</td>\n",
              "      <td>0</td>\n",
              "      <td>0</td>\n",
              "      <td>0</td>\n",
              "      <td>0</td>\n",
              "      <td>0</td>\n",
              "      <td>0</td>\n",
              "      <td>0</td>\n",
              "      <td>0</td>\n",
              "      <td>0</td>\n",
              "      <td>0</td>\n",
              "      <td>0</td>\n",
              "      <td>0</td>\n",
              "      <td>0</td>\n",
              "      <td>0</td>\n",
              "      <td>0</td>\n",
              "      <td>0</td>\n",
              "      <td>0</td>\n",
              "      <td>0</td>\n",
              "      <td>0</td>\n",
              "      <td>0</td>\n",
              "      <td>...</td>\n",
              "      <td>0</td>\n",
              "      <td>0</td>\n",
              "      <td>0</td>\n",
              "      <td>0</td>\n",
              "      <td>0</td>\n",
              "      <td>0</td>\n",
              "      <td>0</td>\n",
              "      <td>0</td>\n",
              "      <td>0</td>\n",
              "      <td>0</td>\n",
              "      <td>0</td>\n",
              "      <td>0</td>\n",
              "      <td>0</td>\n",
              "      <td>0</td>\n",
              "      <td>0</td>\n",
              "      <td>0</td>\n",
              "      <td>0</td>\n",
              "      <td>0</td>\n",
              "      <td>0</td>\n",
              "      <td>0</td>\n",
              "      <td>0</td>\n",
              "      <td>0</td>\n",
              "      <td>0</td>\n",
              "      <td>0</td>\n",
              "      <td>0</td>\n",
              "      <td>0</td>\n",
              "      <td>0</td>\n",
              "      <td>0</td>\n",
              "      <td>0</td>\n",
              "      <td>0</td>\n",
              "      <td>0</td>\n",
              "      <td>0</td>\n",
              "      <td>0</td>\n",
              "      <td>0</td>\n",
              "      <td>0</td>\n",
              "      <td>0</td>\n",
              "      <td>0</td>\n",
              "      <td>0</td>\n",
              "      <td>0</td>\n",
              "      <td>0</td>\n",
              "    </tr>\n",
              "    <tr>\n",
              "      <th>8</th>\n",
              "      <td>9.0</td>\n",
              "      <td>6.08</td>\n",
              "      <td>0</td>\n",
              "      <td>3</td>\n",
              "      <td>2011</td>\n",
              "      <td>4</td>\n",
              "      <td>9</td>\n",
              "      <td>1</td>\n",
              "      <td>0</td>\n",
              "      <td>0.0</td>\n",
              "      <td>0.0</td>\n",
              "      <td>0.0</td>\n",
              "      <td>0.0</td>\n",
              "      <td>0</td>\n",
              "      <td>0</td>\n",
              "      <td>0</td>\n",
              "      <td>0</td>\n",
              "      <td>0</td>\n",
              "      <td>0</td>\n",
              "      <td>0</td>\n",
              "      <td>0</td>\n",
              "      <td>0</td>\n",
              "      <td>0</td>\n",
              "      <td>0</td>\n",
              "      <td>0</td>\n",
              "      <td>0</td>\n",
              "      <td>0</td>\n",
              "      <td>0</td>\n",
              "      <td>0</td>\n",
              "      <td>0</td>\n",
              "      <td>0</td>\n",
              "      <td>0</td>\n",
              "      <td>0</td>\n",
              "      <td>0</td>\n",
              "      <td>0</td>\n",
              "      <td>0</td>\n",
              "      <td>0</td>\n",
              "      <td>0</td>\n",
              "      <td>0</td>\n",
              "      <td>0</td>\n",
              "      <td>...</td>\n",
              "      <td>0</td>\n",
              "      <td>0</td>\n",
              "      <td>0</td>\n",
              "      <td>0</td>\n",
              "      <td>0</td>\n",
              "      <td>0</td>\n",
              "      <td>0</td>\n",
              "      <td>0</td>\n",
              "      <td>0</td>\n",
              "      <td>0</td>\n",
              "      <td>0</td>\n",
              "      <td>0</td>\n",
              "      <td>0</td>\n",
              "      <td>0</td>\n",
              "      <td>0</td>\n",
              "      <td>0</td>\n",
              "      <td>0</td>\n",
              "      <td>0</td>\n",
              "      <td>0</td>\n",
              "      <td>0</td>\n",
              "      <td>0</td>\n",
              "      <td>0</td>\n",
              "      <td>0</td>\n",
              "      <td>0</td>\n",
              "      <td>0</td>\n",
              "      <td>0</td>\n",
              "      <td>0</td>\n",
              "      <td>0</td>\n",
              "      <td>0</td>\n",
              "      <td>0</td>\n",
              "      <td>0</td>\n",
              "      <td>0</td>\n",
              "      <td>0</td>\n",
              "      <td>0</td>\n",
              "      <td>0</td>\n",
              "      <td>0</td>\n",
              "      <td>0</td>\n",
              "      <td>0</td>\n",
              "      <td>0</td>\n",
              "      <td>0</td>\n",
              "    </tr>\n",
              "    <tr>\n",
              "      <th>...</th>\n",
              "      <td>...</td>\n",
              "      <td>...</td>\n",
              "      <td>...</td>\n",
              "      <td>...</td>\n",
              "      <td>...</td>\n",
              "      <td>...</td>\n",
              "      <td>...</td>\n",
              "      <td>...</td>\n",
              "      <td>...</td>\n",
              "      <td>...</td>\n",
              "      <td>...</td>\n",
              "      <td>...</td>\n",
              "      <td>...</td>\n",
              "      <td>...</td>\n",
              "      <td>...</td>\n",
              "      <td>...</td>\n",
              "      <td>...</td>\n",
              "      <td>...</td>\n",
              "      <td>...</td>\n",
              "      <td>...</td>\n",
              "      <td>...</td>\n",
              "      <td>...</td>\n",
              "      <td>...</td>\n",
              "      <td>...</td>\n",
              "      <td>...</td>\n",
              "      <td>...</td>\n",
              "      <td>...</td>\n",
              "      <td>...</td>\n",
              "      <td>...</td>\n",
              "      <td>...</td>\n",
              "      <td>...</td>\n",
              "      <td>...</td>\n",
              "      <td>...</td>\n",
              "      <td>...</td>\n",
              "      <td>...</td>\n",
              "      <td>...</td>\n",
              "      <td>...</td>\n",
              "      <td>...</td>\n",
              "      <td>...</td>\n",
              "      <td>...</td>\n",
              "      <td>...</td>\n",
              "      <td>...</td>\n",
              "      <td>...</td>\n",
              "      <td>...</td>\n",
              "      <td>...</td>\n",
              "      <td>...</td>\n",
              "      <td>...</td>\n",
              "      <td>...</td>\n",
              "      <td>...</td>\n",
              "      <td>...</td>\n",
              "      <td>...</td>\n",
              "      <td>...</td>\n",
              "      <td>...</td>\n",
              "      <td>...</td>\n",
              "      <td>...</td>\n",
              "      <td>...</td>\n",
              "      <td>...</td>\n",
              "      <td>...</td>\n",
              "      <td>...</td>\n",
              "      <td>...</td>\n",
              "      <td>...</td>\n",
              "      <td>...</td>\n",
              "      <td>...</td>\n",
              "      <td>...</td>\n",
              "      <td>...</td>\n",
              "      <td>...</td>\n",
              "      <td>...</td>\n",
              "      <td>...</td>\n",
              "      <td>...</td>\n",
              "      <td>...</td>\n",
              "      <td>...</td>\n",
              "      <td>...</td>\n",
              "      <td>...</td>\n",
              "      <td>...</td>\n",
              "      <td>...</td>\n",
              "      <td>...</td>\n",
              "      <td>...</td>\n",
              "      <td>...</td>\n",
              "      <td>...</td>\n",
              "      <td>...</td>\n",
              "      <td>...</td>\n",
              "    </tr>\n",
              "    <tr>\n",
              "      <th>162625</th>\n",
              "      <td>274.0</td>\n",
              "      <td>7.44</td>\n",
              "      <td>28</td>\n",
              "      <td>4</td>\n",
              "      <td>2016</td>\n",
              "      <td>4</td>\n",
              "      <td>17</td>\n",
              "      <td>0</td>\n",
              "      <td>0</td>\n",
              "      <td>23.0</td>\n",
              "      <td>37.0</td>\n",
              "      <td>6.0</td>\n",
              "      <td>33.0</td>\n",
              "      <td>0</td>\n",
              "      <td>0</td>\n",
              "      <td>0</td>\n",
              "      <td>0</td>\n",
              "      <td>0</td>\n",
              "      <td>0</td>\n",
              "      <td>0</td>\n",
              "      <td>0</td>\n",
              "      <td>0</td>\n",
              "      <td>0</td>\n",
              "      <td>0</td>\n",
              "      <td>0</td>\n",
              "      <td>0</td>\n",
              "      <td>0</td>\n",
              "      <td>0</td>\n",
              "      <td>0</td>\n",
              "      <td>0</td>\n",
              "      <td>0</td>\n",
              "      <td>0</td>\n",
              "      <td>0</td>\n",
              "      <td>0</td>\n",
              "      <td>0</td>\n",
              "      <td>0</td>\n",
              "      <td>0</td>\n",
              "      <td>0</td>\n",
              "      <td>0</td>\n",
              "      <td>0</td>\n",
              "      <td>...</td>\n",
              "      <td>0</td>\n",
              "      <td>0</td>\n",
              "      <td>0</td>\n",
              "      <td>0</td>\n",
              "      <td>0</td>\n",
              "      <td>0</td>\n",
              "      <td>0</td>\n",
              "      <td>0</td>\n",
              "      <td>0</td>\n",
              "      <td>0</td>\n",
              "      <td>0</td>\n",
              "      <td>0</td>\n",
              "      <td>0</td>\n",
              "      <td>0</td>\n",
              "      <td>0</td>\n",
              "      <td>0</td>\n",
              "      <td>0</td>\n",
              "      <td>0</td>\n",
              "      <td>0</td>\n",
              "      <td>0</td>\n",
              "      <td>0</td>\n",
              "      <td>0</td>\n",
              "      <td>0</td>\n",
              "      <td>0</td>\n",
              "      <td>0</td>\n",
              "      <td>0</td>\n",
              "      <td>0</td>\n",
              "      <td>0</td>\n",
              "      <td>0</td>\n",
              "      <td>0</td>\n",
              "      <td>0</td>\n",
              "      <td>0</td>\n",
              "      <td>0</td>\n",
              "      <td>0</td>\n",
              "      <td>0</td>\n",
              "      <td>0</td>\n",
              "      <td>0</td>\n",
              "      <td>0</td>\n",
              "      <td>0</td>\n",
              "      <td>1</td>\n",
              "    </tr>\n",
              "    <tr>\n",
              "      <th>162626</th>\n",
              "      <td>275.0</td>\n",
              "      <td>7.44</td>\n",
              "      <td>22</td>\n",
              "      <td>4</td>\n",
              "      <td>2016</td>\n",
              "      <td>5</td>\n",
              "      <td>18</td>\n",
              "      <td>6</td>\n",
              "      <td>1</td>\n",
              "      <td>28.0</td>\n",
              "      <td>23.0</td>\n",
              "      <td>37.0</td>\n",
              "      <td>6.0</td>\n",
              "      <td>0</td>\n",
              "      <td>0</td>\n",
              "      <td>0</td>\n",
              "      <td>0</td>\n",
              "      <td>0</td>\n",
              "      <td>0</td>\n",
              "      <td>0</td>\n",
              "      <td>0</td>\n",
              "      <td>0</td>\n",
              "      <td>0</td>\n",
              "      <td>0</td>\n",
              "      <td>0</td>\n",
              "      <td>0</td>\n",
              "      <td>0</td>\n",
              "      <td>0</td>\n",
              "      <td>0</td>\n",
              "      <td>0</td>\n",
              "      <td>0</td>\n",
              "      <td>0</td>\n",
              "      <td>0</td>\n",
              "      <td>0</td>\n",
              "      <td>0</td>\n",
              "      <td>0</td>\n",
              "      <td>0</td>\n",
              "      <td>0</td>\n",
              "      <td>0</td>\n",
              "      <td>0</td>\n",
              "      <td>...</td>\n",
              "      <td>0</td>\n",
              "      <td>0</td>\n",
              "      <td>0</td>\n",
              "      <td>0</td>\n",
              "      <td>0</td>\n",
              "      <td>0</td>\n",
              "      <td>0</td>\n",
              "      <td>0</td>\n",
              "      <td>0</td>\n",
              "      <td>0</td>\n",
              "      <td>0</td>\n",
              "      <td>0</td>\n",
              "      <td>0</td>\n",
              "      <td>0</td>\n",
              "      <td>0</td>\n",
              "      <td>0</td>\n",
              "      <td>0</td>\n",
              "      <td>0</td>\n",
              "      <td>0</td>\n",
              "      <td>0</td>\n",
              "      <td>0</td>\n",
              "      <td>0</td>\n",
              "      <td>0</td>\n",
              "      <td>0</td>\n",
              "      <td>0</td>\n",
              "      <td>0</td>\n",
              "      <td>0</td>\n",
              "      <td>0</td>\n",
              "      <td>0</td>\n",
              "      <td>0</td>\n",
              "      <td>0</td>\n",
              "      <td>0</td>\n",
              "      <td>0</td>\n",
              "      <td>0</td>\n",
              "      <td>0</td>\n",
              "      <td>0</td>\n",
              "      <td>0</td>\n",
              "      <td>0</td>\n",
              "      <td>0</td>\n",
              "      <td>1</td>\n",
              "    </tr>\n",
              "    <tr>\n",
              "      <th>162627</th>\n",
              "      <td>276.0</td>\n",
              "      <td>7.44</td>\n",
              "      <td>27</td>\n",
              "      <td>5</td>\n",
              "      <td>2016</td>\n",
              "      <td>1</td>\n",
              "      <td>19</td>\n",
              "      <td>4</td>\n",
              "      <td>1</td>\n",
              "      <td>22.0</td>\n",
              "      <td>28.0</td>\n",
              "      <td>23.0</td>\n",
              "      <td>37.0</td>\n",
              "      <td>0</td>\n",
              "      <td>0</td>\n",
              "      <td>0</td>\n",
              "      <td>0</td>\n",
              "      <td>0</td>\n",
              "      <td>0</td>\n",
              "      <td>0</td>\n",
              "      <td>0</td>\n",
              "      <td>0</td>\n",
              "      <td>0</td>\n",
              "      <td>0</td>\n",
              "      <td>0</td>\n",
              "      <td>0</td>\n",
              "      <td>0</td>\n",
              "      <td>0</td>\n",
              "      <td>0</td>\n",
              "      <td>0</td>\n",
              "      <td>0</td>\n",
              "      <td>0</td>\n",
              "      <td>0</td>\n",
              "      <td>0</td>\n",
              "      <td>0</td>\n",
              "      <td>0</td>\n",
              "      <td>0</td>\n",
              "      <td>0</td>\n",
              "      <td>0</td>\n",
              "      <td>0</td>\n",
              "      <td>...</td>\n",
              "      <td>0</td>\n",
              "      <td>0</td>\n",
              "      <td>0</td>\n",
              "      <td>0</td>\n",
              "      <td>0</td>\n",
              "      <td>0</td>\n",
              "      <td>0</td>\n",
              "      <td>0</td>\n",
              "      <td>0</td>\n",
              "      <td>0</td>\n",
              "      <td>0</td>\n",
              "      <td>0</td>\n",
              "      <td>0</td>\n",
              "      <td>0</td>\n",
              "      <td>0</td>\n",
              "      <td>0</td>\n",
              "      <td>0</td>\n",
              "      <td>0</td>\n",
              "      <td>0</td>\n",
              "      <td>0</td>\n",
              "      <td>0</td>\n",
              "      <td>0</td>\n",
              "      <td>0</td>\n",
              "      <td>0</td>\n",
              "      <td>0</td>\n",
              "      <td>0</td>\n",
              "      <td>0</td>\n",
              "      <td>0</td>\n",
              "      <td>0</td>\n",
              "      <td>0</td>\n",
              "      <td>0</td>\n",
              "      <td>0</td>\n",
              "      <td>0</td>\n",
              "      <td>0</td>\n",
              "      <td>0</td>\n",
              "      <td>0</td>\n",
              "      <td>0</td>\n",
              "      <td>0</td>\n",
              "      <td>0</td>\n",
              "      <td>1</td>\n",
              "    </tr>\n",
              "    <tr>\n",
              "      <th>162628</th>\n",
              "      <td>277.0</td>\n",
              "      <td>7.44</td>\n",
              "      <td>12</td>\n",
              "      <td>5</td>\n",
              "      <td>2016</td>\n",
              "      <td>2</td>\n",
              "      <td>20</td>\n",
              "      <td>0</td>\n",
              "      <td>0</td>\n",
              "      <td>27.0</td>\n",
              "      <td>22.0</td>\n",
              "      <td>28.0</td>\n",
              "      <td>23.0</td>\n",
              "      <td>0</td>\n",
              "      <td>0</td>\n",
              "      <td>0</td>\n",
              "      <td>0</td>\n",
              "      <td>0</td>\n",
              "      <td>0</td>\n",
              "      <td>0</td>\n",
              "      <td>0</td>\n",
              "      <td>0</td>\n",
              "      <td>0</td>\n",
              "      <td>0</td>\n",
              "      <td>0</td>\n",
              "      <td>0</td>\n",
              "      <td>0</td>\n",
              "      <td>0</td>\n",
              "      <td>0</td>\n",
              "      <td>0</td>\n",
              "      <td>0</td>\n",
              "      <td>0</td>\n",
              "      <td>0</td>\n",
              "      <td>0</td>\n",
              "      <td>0</td>\n",
              "      <td>0</td>\n",
              "      <td>0</td>\n",
              "      <td>0</td>\n",
              "      <td>0</td>\n",
              "      <td>0</td>\n",
              "      <td>...</td>\n",
              "      <td>0</td>\n",
              "      <td>0</td>\n",
              "      <td>0</td>\n",
              "      <td>0</td>\n",
              "      <td>0</td>\n",
              "      <td>0</td>\n",
              "      <td>0</td>\n",
              "      <td>0</td>\n",
              "      <td>0</td>\n",
              "      <td>0</td>\n",
              "      <td>0</td>\n",
              "      <td>0</td>\n",
              "      <td>0</td>\n",
              "      <td>0</td>\n",
              "      <td>0</td>\n",
              "      <td>0</td>\n",
              "      <td>0</td>\n",
              "      <td>0</td>\n",
              "      <td>0</td>\n",
              "      <td>0</td>\n",
              "      <td>0</td>\n",
              "      <td>0</td>\n",
              "      <td>0</td>\n",
              "      <td>0</td>\n",
              "      <td>0</td>\n",
              "      <td>0</td>\n",
              "      <td>0</td>\n",
              "      <td>0</td>\n",
              "      <td>0</td>\n",
              "      <td>0</td>\n",
              "      <td>0</td>\n",
              "      <td>0</td>\n",
              "      <td>0</td>\n",
              "      <td>0</td>\n",
              "      <td>0</td>\n",
              "      <td>0</td>\n",
              "      <td>0</td>\n",
              "      <td>0</td>\n",
              "      <td>0</td>\n",
              "      <td>1</td>\n",
              "    </tr>\n",
              "    <tr>\n",
              "      <th>162629</th>\n",
              "      <td>278.0</td>\n",
              "      <td>7.44</td>\n",
              "      <td>0</td>\n",
              "      <td>5</td>\n",
              "      <td>2016</td>\n",
              "      <td>3</td>\n",
              "      <td>21</td>\n",
              "      <td>0</td>\n",
              "      <td>0</td>\n",
              "      <td>12.0</td>\n",
              "      <td>27.0</td>\n",
              "      <td>22.0</td>\n",
              "      <td>28.0</td>\n",
              "      <td>0</td>\n",
              "      <td>0</td>\n",
              "      <td>0</td>\n",
              "      <td>0</td>\n",
              "      <td>0</td>\n",
              "      <td>0</td>\n",
              "      <td>0</td>\n",
              "      <td>0</td>\n",
              "      <td>0</td>\n",
              "      <td>0</td>\n",
              "      <td>0</td>\n",
              "      <td>0</td>\n",
              "      <td>0</td>\n",
              "      <td>0</td>\n",
              "      <td>0</td>\n",
              "      <td>0</td>\n",
              "      <td>0</td>\n",
              "      <td>0</td>\n",
              "      <td>0</td>\n",
              "      <td>0</td>\n",
              "      <td>0</td>\n",
              "      <td>0</td>\n",
              "      <td>0</td>\n",
              "      <td>0</td>\n",
              "      <td>0</td>\n",
              "      <td>0</td>\n",
              "      <td>0</td>\n",
              "      <td>...</td>\n",
              "      <td>0</td>\n",
              "      <td>0</td>\n",
              "      <td>0</td>\n",
              "      <td>0</td>\n",
              "      <td>0</td>\n",
              "      <td>0</td>\n",
              "      <td>0</td>\n",
              "      <td>0</td>\n",
              "      <td>0</td>\n",
              "      <td>0</td>\n",
              "      <td>0</td>\n",
              "      <td>0</td>\n",
              "      <td>0</td>\n",
              "      <td>0</td>\n",
              "      <td>0</td>\n",
              "      <td>0</td>\n",
              "      <td>0</td>\n",
              "      <td>0</td>\n",
              "      <td>0</td>\n",
              "      <td>0</td>\n",
              "      <td>0</td>\n",
              "      <td>0</td>\n",
              "      <td>0</td>\n",
              "      <td>0</td>\n",
              "      <td>0</td>\n",
              "      <td>0</td>\n",
              "      <td>0</td>\n",
              "      <td>0</td>\n",
              "      <td>0</td>\n",
              "      <td>0</td>\n",
              "      <td>0</td>\n",
              "      <td>0</td>\n",
              "      <td>0</td>\n",
              "      <td>0</td>\n",
              "      <td>0</td>\n",
              "      <td>0</td>\n",
              "      <td>0</td>\n",
              "      <td>0</td>\n",
              "      <td>0</td>\n",
              "      <td>1</td>\n",
              "    </tr>\n",
              "  </tbody>\n",
              "</table>\n",
              "<p>160290 rows × 597 columns</p>\n",
              "</div>"
            ],
            "text/plain": [
              "        week_no  ...  id_HOUSEHOLD_2_348_CA_3_evaluation\n",
              "4           5.0  ...                                   0\n",
              "5           6.0  ...                                   0\n",
              "6           7.0  ...                                   0\n",
              "7           8.0  ...                                   0\n",
              "8           9.0  ...                                   0\n",
              "...         ...  ...                                 ...\n",
              "162625    274.0  ...                                   1\n",
              "162626    275.0  ...                                   1\n",
              "162627    276.0  ...                                   1\n",
              "162628    277.0  ...                                   1\n",
              "162629    278.0  ...                                   1\n",
              "\n",
              "[160290 rows x 597 columns]"
            ]
          },
          "metadata": {
            "tags": []
          },
          "execution_count": 112
        }
      ]
    },
    {
      "cell_type": "markdown",
      "metadata": {
        "id": "jK8DuFNp8wLU"
      },
      "source": [
        "# **Creation of training and testing dataframes**"
      ]
    },
    {
      "cell_type": "code",
      "metadata": {
        "id": "qfTDAjRmONcZ"
      },
      "source": [
        "div= 265\n",
        "#div= 274\n",
        "test_df_x = modelling_df[modelling_df['week_no'] > div].drop(columns ='volume')                                                                                                      \n",
        "test_df_y = modelling_df[modelling_df['week_no'] > div]['volume']                                                                                                                    \n",
        "                                                                                                                               \n",
        "train_df_x = modelling_df[modelling_df['week_no'] <= div].drop(columns ='volume')\n",
        "train_df_y = modelling_df[modelling_df['week_no'] <= div]['volume']                                                                                                            \n",
        "\n",
        "test_df = modelling_df[modelling_df['week_no'] > div]     "
      ],
      "execution_count": null,
      "outputs": []
    },
    {
      "cell_type": "markdown",
      "metadata": {
        "id": "qLZM_Ljq_SMl"
      },
      "source": [
        "# **Running the Machine learning models and checking the results on the test dataset**\n",
        "## We will run the following models\n",
        "\n",
        "*   Multillinear Regression \n",
        "*   Random Forest\n",
        "*   K-nearest neighbours(KNN)\n",
        "\n",
        "\n",
        "\n",
        "\n",
        "\n",
        "\n"
      ]
    },
    {
      "cell_type": "markdown",
      "metadata": {
        "id": "n1jd8CPns28e"
      },
      "source": [
        "### Mape Function"
      ]
    },
    {
      "cell_type": "code",
      "metadata": {
        "id": "rnXtlxgqs13j"
      },
      "source": [
        "import math\n",
        "def calc_mape(act, forc):                                                                                                                                                                                                                             \n",
        "    num = abs((np.array(act)-np.array(forc)))                                                                                  \n",
        "    den = abs(np.array(act))                                                                                                   \n",
        "                                                                                                                             \n",
        "    #replacing the infinity values as 0                                                                                        \n",
        "    res = num/den          \n",
        "    res = [i for i in res if math.isnan(i) == False]  \n",
        "    res = [i for i in res if i != float('inf')] \n",
        "    return np.mean(res) * 100   "
      ],
      "execution_count": null,
      "outputs": []
    },
    {
      "cell_type": "markdown",
      "metadata": {
        "id": "ecT0UByLs6cy"
      },
      "source": [
        "## **Linear Regression**"
      ]
    },
    {
      "cell_type": "code",
      "metadata": {
        "id": "Hfml0lA_6ZYG",
        "colab": {
          "base_uri": "https://localhost:8080/",
          "height": 151
        },
        "outputId": "92061108-309e-4661-fab1-a9da3537564d"
      },
      "source": [
        "#multilinear regression model\n",
        "from sklearn.linear_model import LinearRegression\n",
        "from sklearn.linear_model import Ridge\n",
        "from sklearn.linear_model import ElasticNet\n",
        "from sklearn.metrics import mean_squared_error\n",
        "\n",
        "#training the model\n",
        "model_lin_reg = LinearRegression().fit(train_df_x, train_df_y)\n",
        "\n",
        "#calculating the results on the train set and test set \n",
        "#the calculated metrics are MAPE and MSE\n",
        "train_reg_mape = calc_mape(train_df_y.values, model_lin_reg.predict(train_df_x))\n",
        "test_reg_mape = calc_mape(test_df_y.values, model_lin_reg.predict(test_df_x))\n",
        "\n",
        "train_reg_mse = mean_squared_error(train_df_y.values, model_lin_reg.predict(train_df_x))\n",
        "test_reg_mse = mean_squared_error(test_df_y.values, model_lin_reg.predict(test_df_x))\n"
      ],
      "execution_count": null,
      "outputs": [
        {
          "output_type": "stream",
          "text": [
            "/usr/local/lib/python3.6/dist-packages/ipykernel_launcher.py:7: RuntimeWarning:\n",
            "\n",
            "divide by zero encountered in true_divide\n",
            "\n",
            "/usr/local/lib/python3.6/dist-packages/ipykernel_launcher.py:7: RuntimeWarning:\n",
            "\n",
            "divide by zero encountered in true_divide\n",
            "\n"
          ],
          "name": "stderr"
        }
      ]
    },
    {
      "cell_type": "markdown",
      "metadata": {
        "id": "_pNV8FpQsVJR"
      },
      "source": [
        "## **Random Forest Regression**"
      ]
    },
    {
      "cell_type": "code",
      "metadata": {
        "id": "XkB1YW4DZ2tG",
        "colab": {
          "base_uri": "https://localhost:8080/",
          "height": 1000
        },
        "outputId": "195ecced-8a15-40d7-dfd5-ecaeb3c67e48"
      },
      "source": [
        "from sklearn.ensemble import RandomForestRegressor\n",
        "\n",
        "#training the random forest model based on the best tuned hyperparameters using grid search\n",
        "rf_model = RandomForestRegressor(verbose = 2, n_jobs = -1, \n",
        "                                 n_estimators = 40, max_depth = None\n",
        "                                 ).fit(train_df_x, train_df_y)\n",
        "\n",
        "#calculating the results on the train set and test set \n",
        "#the calculated metrics are MAPE and MSE\n",
        "train_rf_mape = calc_mape(train_df_y.values, rf_model.predict(train_df_x))\n",
        "test_rf_mape = calc_mape(test_df_y.values, rf_model.predict(test_df_x))\n",
        "\n",
        "train_rf_mse = mean_squared_error(train_df_y.values, rf_model.predict(train_df_x))\n",
        "test_rf_mse = mean_squared_error(test_df_y.values, rf_model.predict(test_df_x))\n"
      ],
      "execution_count": null,
      "outputs": [
        {
          "output_type": "stream",
          "text": [
            "[Parallel(n_jobs=-1)]: Using backend ThreadingBackend with 2 concurrent workers.\n"
          ],
          "name": "stderr"
        },
        {
          "output_type": "stream",
          "text": [
            "building tree 1 of 40\n",
            "building tree 2 of 40\n",
            "building tree 3 of 40\n",
            "building tree 4 of 40\n",
            "building tree 5 of 40\n",
            "building tree 6 of 40\n",
            "building tree 7 of 40\n",
            "building tree 8 of 40\n",
            "building tree 9 of 40\n",
            "building tree 10 of 40\n",
            "building tree 11 of 40\n",
            "building tree 12 of 40\n",
            "building tree 13 of 40\n",
            "building tree 14 of 40\n",
            "building tree 15 of 40\n",
            "building tree 16 of 40\n",
            "building tree 17 of 40\n",
            "building tree 18 of 40\n",
            "building tree 19 of 40\n",
            "building tree 20 of 40\n",
            "building tree 21 of 40\n",
            "building tree 22 of 40\n",
            "building tree 23 of 40\n",
            "building tree 24 of 40\n",
            "building tree 25 of 40\n",
            "building tree 26 of 40\n",
            "building tree 27 of 40\n",
            "building tree 28 of 40\n",
            "building tree 29 of 40\n",
            "building tree 30 of 40\n",
            "building tree 31 of 40\n",
            "building tree 32 of 40\n",
            "building tree 33 of 40\n",
            "building tree 34 of 40\n",
            "building tree 35 of 40\n",
            "building tree 36 of 40\n",
            "building tree 37 of 40\n",
            "building tree 38 of 40\n"
          ],
          "name": "stdout"
        },
        {
          "output_type": "stream",
          "text": [
            "[Parallel(n_jobs=-1)]: Done  37 tasks      | elapsed:  3.7min\n"
          ],
          "name": "stderr"
        },
        {
          "output_type": "stream",
          "text": [
            "building tree 39 of 40\n",
            "building tree 40 of 40\n"
          ],
          "name": "stdout"
        },
        {
          "output_type": "stream",
          "text": [
            "[Parallel(n_jobs=-1)]: Done  40 out of  40 | elapsed:  3.9min finished\n",
            "[Parallel(n_jobs=2)]: Using backend ThreadingBackend with 2 concurrent workers.\n",
            "[Parallel(n_jobs=2)]: Done  37 tasks      | elapsed:    2.0s\n",
            "[Parallel(n_jobs=2)]: Done  40 out of  40 | elapsed:    2.1s finished\n",
            "/usr/local/lib/python3.6/dist-packages/ipykernel_launcher.py:7: RuntimeWarning:\n",
            "\n",
            "divide by zero encountered in true_divide\n",
            "\n",
            "/usr/local/lib/python3.6/dist-packages/ipykernel_launcher.py:7: RuntimeWarning:\n",
            "\n",
            "invalid value encountered in true_divide\n",
            "\n",
            "[Parallel(n_jobs=2)]: Using backend ThreadingBackend with 2 concurrent workers.\n",
            "[Parallel(n_jobs=2)]: Done  37 tasks      | elapsed:    0.1s\n",
            "[Parallel(n_jobs=2)]: Done  40 out of  40 | elapsed:    0.1s finished\n",
            "/usr/local/lib/python3.6/dist-packages/ipykernel_launcher.py:7: RuntimeWarning:\n",
            "\n",
            "divide by zero encountered in true_divide\n",
            "\n",
            "/usr/local/lib/python3.6/dist-packages/ipykernel_launcher.py:7: RuntimeWarning:\n",
            "\n",
            "invalid value encountered in true_divide\n",
            "\n",
            "[Parallel(n_jobs=2)]: Using backend ThreadingBackend with 2 concurrent workers.\n",
            "[Parallel(n_jobs=2)]: Done  37 tasks      | elapsed:    2.0s\n",
            "[Parallel(n_jobs=2)]: Done  40 out of  40 | elapsed:    2.1s finished\n",
            "[Parallel(n_jobs=2)]: Using backend ThreadingBackend with 2 concurrent workers.\n",
            "[Parallel(n_jobs=2)]: Done  37 tasks      | elapsed:    0.1s\n",
            "[Parallel(n_jobs=2)]: Done  40 out of  40 | elapsed:    0.1s finished\n"
          ],
          "name": "stderr"
        }
      ]
    },
    {
      "cell_type": "code",
      "metadata": {
        "id": "0uZ-Qdy8Aw3e"
      },
      "source": [
        "smooth_comb.index\n",
        "import pdb\n",
        "test_smooth = pd.DataFrame()\n",
        "for col in smooth_comb.index:\n",
        "    wdf = test_df[test_df['id_'+col] == 1]\n",
        "    test_smooth = pd.concat([test_smooth, wdf])"
      ],
      "execution_count": null,
      "outputs": []
    },
    {
      "cell_type": "code",
      "metadata": {
        "id": "he-jeqV5CB3u",
        "colab": {
          "base_uri": "https://localhost:8080/",
          "height": 218
        },
        "outputId": "ad089243-7a00-4be4-ee09-1518e86ebed7"
      },
      "source": [
        "calc_mape(test_smooth['volume'], rf_model.predict(test_smooth.drop(columns = 'volume')))"
      ],
      "execution_count": null,
      "outputs": [
        {
          "output_type": "stream",
          "text": [
            "[Parallel(n_jobs=2)]: Using backend ThreadingBackend with 2 concurrent workers.\n",
            "[Parallel(n_jobs=2)]: Done  37 tasks      | elapsed:    0.1s\n",
            "[Parallel(n_jobs=2)]: Done  40 out of  40 | elapsed:    0.1s finished\n",
            "/usr/local/lib/python3.6/dist-packages/ipykernel_launcher.py:7: RuntimeWarning:\n",
            "\n",
            "divide by zero encountered in true_divide\n",
            "\n",
            "/usr/local/lib/python3.6/dist-packages/ipykernel_launcher.py:7: RuntimeWarning:\n",
            "\n",
            "invalid value encountered in true_divide\n",
            "\n"
          ],
          "name": "stderr"
        },
        {
          "output_type": "execute_result",
          "data": {
            "text/plain": [
              "34.25322554636123"
            ]
          },
          "metadata": {
            "tags": []
          },
          "execution_count": 125
        }
      ]
    },
    {
      "cell_type": "code",
      "metadata": {
        "id": "hbd5wknjCWNd",
        "colab": {
          "base_uri": "https://localhost:8080/",
          "height": 101
        },
        "outputId": "a3c71a54-47f5-4edd-b941-0efe68340d04"
      },
      "source": [
        "calc_mape(test_smooth['volume'], model_lin_reg.predict(test_smooth.drop(columns = 'volume')))"
      ],
      "execution_count": null,
      "outputs": [
        {
          "output_type": "stream",
          "text": [
            "/usr/local/lib/python3.6/dist-packages/ipykernel_launcher.py:7: RuntimeWarning:\n",
            "\n",
            "divide by zero encountered in true_divide\n",
            "\n"
          ],
          "name": "stderr"
        },
        {
          "output_type": "execute_result",
          "data": {
            "text/plain": [
              "32.982413302024995"
            ]
          },
          "metadata": {
            "tags": []
          },
          "execution_count": 126
        }
      ]
    },
    {
      "cell_type": "markdown",
      "metadata": {
        "id": "nQP7OrijRtN-"
      },
      "source": [
        "## **K Nearest Neighbors Regression**"
      ]
    },
    {
      "cell_type": "markdown",
      "metadata": {
        "id": "cP-pGTdwgeuP"
      },
      "source": [
        "# **Graphs for the MAPE and MSE accuracy**"
      ]
    },
    {
      "cell_type": "code",
      "metadata": {
        "id": "SJ_-TNqYgnUD",
        "colab": {
          "base_uri": "https://localhost:8080/",
          "height": 1000
        },
        "outputId": "44da1d54-354b-4957-fd1c-fbf3db68c623"
      },
      "source": [
        "dic = {'Algorithm': ['Regression', 'Regression', 'Random Forest', 'Random Forest', 'KNN', 'KNN'],\n",
        "       'Type': ['Train', 'Test', 'Train', 'Test', 'Train', 'Test'],\n",
        "       'MAPE': [train_reg_mape, test_reg_mape, train_rf_mape, test_rf_mape, 40.81977133542074, 54.022266633198676],\n",
        "       'MSE': [train_reg_mse, test_reg_mse, train_rf_mse, test_rf_mse, 1184.3638599731473, 1433.2444181459564]\n",
        "       }\n",
        "results = pd.DataFrame(dic)\n",
        "fig = px.bar(results, x=\"Algorithm\", color=\"Type\",\n",
        "             y='MAPE',\n",
        "             title=\"MAPE Results for each model\",\n",
        "             barmode='group',\n",
        "             height=600\n",
        "            )\n",
        "fig.show()\n",
        "fig2 = px.bar(results, x=\"Algorithm\", color=\"Type\",\n",
        "             y='MSE',\n",
        "             title=\"MSE Results for each model\",\n",
        "             barmode='group',\n",
        "             height=600\n",
        "            )\n",
        "fig2.show()"
      ],
      "execution_count": null,
      "outputs": [
        {
          "output_type": "display_data",
          "data": {
            "text/html": [
              "<html>\n",
              "<head><meta charset=\"utf-8\" /></head>\n",
              "<body>\n",
              "    <div>\n",
              "            <script src=\"https://cdnjs.cloudflare.com/ajax/libs/mathjax/2.7.5/MathJax.js?config=TeX-AMS-MML_SVG\"></script><script type=\"text/javascript\">if (window.MathJax) {MathJax.Hub.Config({SVG: {font: \"STIX-Web\"}});}</script>\n",
              "                <script type=\"text/javascript\">window.PlotlyConfig = {MathJaxConfig: 'local'};</script>\n",
              "        <script src=\"https://cdn.plot.ly/plotly-latest.min.js\"></script>    \n",
              "            <div id=\"8d199986-31bb-4462-b8ff-fa5d9b0dec5f\" class=\"plotly-graph-div\" style=\"height:600px; width:100%;\"></div>\n",
              "            <script type=\"text/javascript\">\n",
              "                \n",
              "                    window.PLOTLYENV=window.PLOTLYENV || {};\n",
              "                    \n",
              "                if (document.getElementById(\"8d199986-31bb-4462-b8ff-fa5d9b0dec5f\")) {\n",
              "                    Plotly.newPlot(\n",
              "                        '8d199986-31bb-4462-b8ff-fa5d9b0dec5f',\n",
              "                        [{\"alignmentgroup\": \"True\", \"hoverlabel\": {\"namelength\": 0}, \"hovertemplate\": \"Type=Train<br>Algorithm=%{x}<br>MAPE=%{y}\", \"legendgroup\": \"Type=Train\", \"marker\": {\"color\": \"#636efa\"}, \"name\": \"Type=Train\", \"offsetgroup\": \"Type=Train\", \"orientation\": \"v\", \"showlegend\": true, \"textposition\": \"auto\", \"type\": \"bar\", \"x\": [\"Regression\", \"Random Forest\", \"KNN\"], \"xaxis\": \"x\", \"y\": [51.315440154716065, 17.383742599904128, 40.81977133542074], \"yaxis\": \"y\"}, {\"alignmentgroup\": \"True\", \"hoverlabel\": {\"namelength\": 0}, \"hovertemplate\": \"Type=Test<br>Algorithm=%{x}<br>MAPE=%{y}\", \"legendgroup\": \"Type=Test\", \"marker\": {\"color\": \"#EF553B\"}, \"name\": \"Type=Test\", \"offsetgroup\": \"Type=Test\", \"orientation\": \"v\", \"showlegend\": true, \"textposition\": \"auto\", \"type\": \"bar\", \"x\": [\"Regression\", \"Random Forest\", \"KNN\"], \"xaxis\": \"x\", \"y\": [50.66546280456112, 50.381351064367905, 54.022266633198676], \"yaxis\": \"y\"}],\n",
              "                        {\"barmode\": \"group\", \"height\": 600, \"legend\": {\"tracegroupgap\": 0}, \"template\": {\"data\": {\"bar\": [{\"error_x\": {\"color\": \"#2a3f5f\"}, \"error_y\": {\"color\": \"#2a3f5f\"}, \"marker\": {\"line\": {\"color\": \"#E5ECF6\", \"width\": 0.5}}, \"type\": \"bar\"}], \"barpolar\": [{\"marker\": {\"line\": {\"color\": \"#E5ECF6\", \"width\": 0.5}}, \"type\": \"barpolar\"}], \"carpet\": [{\"aaxis\": {\"endlinecolor\": \"#2a3f5f\", \"gridcolor\": \"white\", \"linecolor\": \"white\", \"minorgridcolor\": \"white\", \"startlinecolor\": \"#2a3f5f\"}, \"baxis\": {\"endlinecolor\": \"#2a3f5f\", \"gridcolor\": \"white\", \"linecolor\": \"white\", \"minorgridcolor\": \"white\", \"startlinecolor\": \"#2a3f5f\"}, \"type\": \"carpet\"}], \"choropleth\": [{\"colorbar\": {\"outlinewidth\": 0, \"ticks\": \"\"}, \"type\": \"choropleth\"}], \"contour\": [{\"colorbar\": {\"outlinewidth\": 0, \"ticks\": \"\"}, \"colorscale\": [[0.0, \"#0d0887\"], [0.1111111111111111, \"#46039f\"], [0.2222222222222222, \"#7201a8\"], [0.3333333333333333, \"#9c179e\"], [0.4444444444444444, \"#bd3786\"], [0.5555555555555556, \"#d8576b\"], [0.6666666666666666, \"#ed7953\"], [0.7777777777777778, \"#fb9f3a\"], [0.8888888888888888, \"#fdca26\"], [1.0, \"#f0f921\"]], \"type\": \"contour\"}], \"contourcarpet\": [{\"colorbar\": {\"outlinewidth\": 0, \"ticks\": \"\"}, \"type\": \"contourcarpet\"}], \"heatmap\": [{\"colorbar\": {\"outlinewidth\": 0, \"ticks\": \"\"}, \"colorscale\": [[0.0, \"#0d0887\"], [0.1111111111111111, \"#46039f\"], [0.2222222222222222, \"#7201a8\"], [0.3333333333333333, \"#9c179e\"], [0.4444444444444444, \"#bd3786\"], [0.5555555555555556, \"#d8576b\"], [0.6666666666666666, \"#ed7953\"], [0.7777777777777778, \"#fb9f3a\"], [0.8888888888888888, \"#fdca26\"], [1.0, \"#f0f921\"]], \"type\": \"heatmap\"}], \"heatmapgl\": [{\"colorbar\": {\"outlinewidth\": 0, \"ticks\": \"\"}, \"colorscale\": [[0.0, \"#0d0887\"], [0.1111111111111111, \"#46039f\"], [0.2222222222222222, \"#7201a8\"], [0.3333333333333333, \"#9c179e\"], [0.4444444444444444, \"#bd3786\"], [0.5555555555555556, \"#d8576b\"], [0.6666666666666666, \"#ed7953\"], [0.7777777777777778, \"#fb9f3a\"], [0.8888888888888888, \"#fdca26\"], [1.0, \"#f0f921\"]], \"type\": \"heatmapgl\"}], \"histogram\": [{\"marker\": {\"colorbar\": {\"outlinewidth\": 0, \"ticks\": \"\"}}, \"type\": \"histogram\"}], \"histogram2d\": [{\"colorbar\": {\"outlinewidth\": 0, \"ticks\": \"\"}, \"colorscale\": [[0.0, \"#0d0887\"], [0.1111111111111111, \"#46039f\"], [0.2222222222222222, \"#7201a8\"], [0.3333333333333333, \"#9c179e\"], [0.4444444444444444, \"#bd3786\"], [0.5555555555555556, \"#d8576b\"], [0.6666666666666666, \"#ed7953\"], [0.7777777777777778, \"#fb9f3a\"], [0.8888888888888888, \"#fdca26\"], [1.0, \"#f0f921\"]], \"type\": \"histogram2d\"}], \"histogram2dcontour\": [{\"colorbar\": {\"outlinewidth\": 0, \"ticks\": \"\"}, \"colorscale\": [[0.0, \"#0d0887\"], [0.1111111111111111, \"#46039f\"], [0.2222222222222222, \"#7201a8\"], [0.3333333333333333, \"#9c179e\"], [0.4444444444444444, \"#bd3786\"], [0.5555555555555556, \"#d8576b\"], [0.6666666666666666, \"#ed7953\"], [0.7777777777777778, \"#fb9f3a\"], [0.8888888888888888, \"#fdca26\"], [1.0, \"#f0f921\"]], \"type\": \"histogram2dcontour\"}], \"mesh3d\": [{\"colorbar\": {\"outlinewidth\": 0, \"ticks\": \"\"}, \"type\": \"mesh3d\"}], \"parcoords\": [{\"line\": {\"colorbar\": {\"outlinewidth\": 0, \"ticks\": \"\"}}, \"type\": \"parcoords\"}], \"pie\": [{\"automargin\": true, \"type\": \"pie\"}], \"scatter\": [{\"marker\": {\"colorbar\": {\"outlinewidth\": 0, \"ticks\": \"\"}}, \"type\": \"scatter\"}], \"scatter3d\": [{\"line\": {\"colorbar\": {\"outlinewidth\": 0, \"ticks\": \"\"}}, \"marker\": {\"colorbar\": {\"outlinewidth\": 0, \"ticks\": \"\"}}, \"type\": \"scatter3d\"}], \"scattercarpet\": [{\"marker\": {\"colorbar\": {\"outlinewidth\": 0, \"ticks\": \"\"}}, \"type\": \"scattercarpet\"}], \"scattergeo\": [{\"marker\": {\"colorbar\": {\"outlinewidth\": 0, \"ticks\": \"\"}}, \"type\": \"scattergeo\"}], \"scattergl\": [{\"marker\": {\"colorbar\": {\"outlinewidth\": 0, \"ticks\": \"\"}}, \"type\": \"scattergl\"}], \"scattermapbox\": [{\"marker\": {\"colorbar\": {\"outlinewidth\": 0, \"ticks\": \"\"}}, \"type\": \"scattermapbox\"}], \"scatterpolar\": [{\"marker\": {\"colorbar\": {\"outlinewidth\": 0, \"ticks\": \"\"}}, \"type\": \"scatterpolar\"}], \"scatterpolargl\": [{\"marker\": {\"colorbar\": {\"outlinewidth\": 0, \"ticks\": \"\"}}, \"type\": \"scatterpolargl\"}], \"scatterternary\": [{\"marker\": {\"colorbar\": {\"outlinewidth\": 0, \"ticks\": \"\"}}, \"type\": \"scatterternary\"}], \"surface\": [{\"colorbar\": {\"outlinewidth\": 0, \"ticks\": \"\"}, \"colorscale\": [[0.0, \"#0d0887\"], [0.1111111111111111, \"#46039f\"], [0.2222222222222222, \"#7201a8\"], [0.3333333333333333, \"#9c179e\"], [0.4444444444444444, \"#bd3786\"], [0.5555555555555556, \"#d8576b\"], [0.6666666666666666, \"#ed7953\"], [0.7777777777777778, \"#fb9f3a\"], [0.8888888888888888, \"#fdca26\"], [1.0, \"#f0f921\"]], \"type\": \"surface\"}], \"table\": [{\"cells\": {\"fill\": {\"color\": \"#EBF0F8\"}, \"line\": {\"color\": \"white\"}}, \"header\": {\"fill\": {\"color\": \"#C8D4E3\"}, \"line\": {\"color\": \"white\"}}, \"type\": \"table\"}]}, \"layout\": {\"annotationdefaults\": {\"arrowcolor\": \"#2a3f5f\", \"arrowhead\": 0, \"arrowwidth\": 1}, \"coloraxis\": {\"colorbar\": {\"outlinewidth\": 0, \"ticks\": \"\"}}, \"colorscale\": {\"diverging\": [[0, \"#8e0152\"], [0.1, \"#c51b7d\"], [0.2, \"#de77ae\"], [0.3, \"#f1b6da\"], [0.4, \"#fde0ef\"], [0.5, \"#f7f7f7\"], [0.6, \"#e6f5d0\"], [0.7, \"#b8e186\"], [0.8, \"#7fbc41\"], [0.9, \"#4d9221\"], [1, \"#276419\"]], \"sequential\": [[0.0, \"#0d0887\"], [0.1111111111111111, \"#46039f\"], [0.2222222222222222, \"#7201a8\"], [0.3333333333333333, \"#9c179e\"], [0.4444444444444444, \"#bd3786\"], [0.5555555555555556, \"#d8576b\"], [0.6666666666666666, \"#ed7953\"], [0.7777777777777778, \"#fb9f3a\"], [0.8888888888888888, \"#fdca26\"], [1.0, \"#f0f921\"]], \"sequentialminus\": [[0.0, \"#0d0887\"], [0.1111111111111111, \"#46039f\"], [0.2222222222222222, \"#7201a8\"], [0.3333333333333333, \"#9c179e\"], [0.4444444444444444, \"#bd3786\"], [0.5555555555555556, \"#d8576b\"], [0.6666666666666666, \"#ed7953\"], [0.7777777777777778, \"#fb9f3a\"], [0.8888888888888888, \"#fdca26\"], [1.0, \"#f0f921\"]]}, \"colorway\": [\"#636efa\", \"#EF553B\", \"#00cc96\", \"#ab63fa\", \"#FFA15A\", \"#19d3f3\", \"#FF6692\", \"#B6E880\", \"#FF97FF\", \"#FECB52\"], \"font\": {\"color\": \"#2a3f5f\"}, \"geo\": {\"bgcolor\": \"white\", \"lakecolor\": \"white\", \"landcolor\": \"#E5ECF6\", \"showlakes\": true, \"showland\": true, \"subunitcolor\": \"white\"}, \"hoverlabel\": {\"align\": \"left\"}, \"hovermode\": \"closest\", \"mapbox\": {\"style\": \"light\"}, \"paper_bgcolor\": \"white\", \"plot_bgcolor\": \"#E5ECF6\", \"polar\": {\"angularaxis\": {\"gridcolor\": \"white\", \"linecolor\": \"white\", \"ticks\": \"\"}, \"bgcolor\": \"#E5ECF6\", \"radialaxis\": {\"gridcolor\": \"white\", \"linecolor\": \"white\", \"ticks\": \"\"}}, \"scene\": {\"xaxis\": {\"backgroundcolor\": \"#E5ECF6\", \"gridcolor\": \"white\", \"gridwidth\": 2, \"linecolor\": \"white\", \"showbackground\": true, \"ticks\": \"\", \"zerolinecolor\": \"white\"}, \"yaxis\": {\"backgroundcolor\": \"#E5ECF6\", \"gridcolor\": \"white\", \"gridwidth\": 2, \"linecolor\": \"white\", \"showbackground\": true, \"ticks\": \"\", \"zerolinecolor\": \"white\"}, \"zaxis\": {\"backgroundcolor\": \"#E5ECF6\", \"gridcolor\": \"white\", \"gridwidth\": 2, \"linecolor\": \"white\", \"showbackground\": true, \"ticks\": \"\", \"zerolinecolor\": \"white\"}}, \"shapedefaults\": {\"line\": {\"color\": \"#2a3f5f\"}}, \"ternary\": {\"aaxis\": {\"gridcolor\": \"white\", \"linecolor\": \"white\", \"ticks\": \"\"}, \"baxis\": {\"gridcolor\": \"white\", \"linecolor\": \"white\", \"ticks\": \"\"}, \"bgcolor\": \"#E5ECF6\", \"caxis\": {\"gridcolor\": \"white\", \"linecolor\": \"white\", \"ticks\": \"\"}}, \"title\": {\"x\": 0.05}, \"xaxis\": {\"automargin\": true, \"gridcolor\": \"white\", \"linecolor\": \"white\", \"ticks\": \"\", \"title\": {\"standoff\": 15}, \"zerolinecolor\": \"white\", \"zerolinewidth\": 2}, \"yaxis\": {\"automargin\": true, \"gridcolor\": \"white\", \"linecolor\": \"white\", \"ticks\": \"\", \"title\": {\"standoff\": 15}, \"zerolinecolor\": \"white\", \"zerolinewidth\": 2}}}, \"title\": {\"text\": \"MAPE Results for each model\"}, \"xaxis\": {\"anchor\": \"y\", \"domain\": [0.0, 1.0], \"title\": {\"text\": \"Algorithm\"}}, \"yaxis\": {\"anchor\": \"x\", \"domain\": [0.0, 1.0], \"title\": {\"text\": \"MAPE\"}}},\n",
              "                        {\"responsive\": true}\n",
              "                    ).then(function(){\n",
              "                            \n",
              "var gd = document.getElementById('8d199986-31bb-4462-b8ff-fa5d9b0dec5f');\n",
              "var x = new MutationObserver(function (mutations, observer) {{\n",
              "        var display = window.getComputedStyle(gd).display;\n",
              "        if (!display || display === 'none') {{\n",
              "            console.log([gd, 'removed!']);\n",
              "            Plotly.purge(gd);\n",
              "            observer.disconnect();\n",
              "        }}\n",
              "}});\n",
              "\n",
              "// Listen for the removal of the full notebook cells\n",
              "var notebookContainer = gd.closest('#notebook-container');\n",
              "if (notebookContainer) {{\n",
              "    x.observe(notebookContainer, {childList: true});\n",
              "}}\n",
              "\n",
              "// Listen for the clearing of the current output cell\n",
              "var outputEl = gd.closest('.output');\n",
              "if (outputEl) {{\n",
              "    x.observe(outputEl, {childList: true});\n",
              "}}\n",
              "\n",
              "                        })\n",
              "                };\n",
              "                \n",
              "            </script>\n",
              "        </div>\n",
              "</body>\n",
              "</html>"
            ]
          },
          "metadata": {
            "tags": []
          }
        },
        {
          "output_type": "display_data",
          "data": {
            "text/html": [
              "<html>\n",
              "<head><meta charset=\"utf-8\" /></head>\n",
              "<body>\n",
              "    <div>\n",
              "            <script src=\"https://cdnjs.cloudflare.com/ajax/libs/mathjax/2.7.5/MathJax.js?config=TeX-AMS-MML_SVG\"></script><script type=\"text/javascript\">if (window.MathJax) {MathJax.Hub.Config({SVG: {font: \"STIX-Web\"}});}</script>\n",
              "                <script type=\"text/javascript\">window.PlotlyConfig = {MathJaxConfig: 'local'};</script>\n",
              "        <script src=\"https://cdn.plot.ly/plotly-latest.min.js\"></script>    \n",
              "            <div id=\"79aa7120-1e76-42fc-a7bc-65ddde368545\" class=\"plotly-graph-div\" style=\"height:600px; width:100%;\"></div>\n",
              "            <script type=\"text/javascript\">\n",
              "                \n",
              "                    window.PLOTLYENV=window.PLOTLYENV || {};\n",
              "                    \n",
              "                if (document.getElementById(\"79aa7120-1e76-42fc-a7bc-65ddde368545\")) {\n",
              "                    Plotly.newPlot(\n",
              "                        '79aa7120-1e76-42fc-a7bc-65ddde368545',\n",
              "                        [{\"alignmentgroup\": \"True\", \"hoverlabel\": {\"namelength\": 0}, \"hovertemplate\": \"Type=Train<br>Algorithm=%{x}<br>MSE=%{y}\", \"legendgroup\": \"Type=Train\", \"marker\": {\"color\": \"#636efa\"}, \"name\": \"Type=Train\", \"offsetgroup\": \"Type=Train\", \"orientation\": \"v\", \"showlegend\": true, \"textposition\": \"auto\", \"type\": \"bar\", \"x\": [\"Regression\", \"Random Forest\", \"KNN\"], \"xaxis\": \"x\", \"y\": [1579.445115277744, 210.30372928332844, 1184.3638599731473], \"yaxis\": \"y\"}, {\"alignmentgroup\": \"True\", \"hoverlabel\": {\"namelength\": 0}, \"hovertemplate\": \"Type=Test<br>Algorithm=%{x}<br>MSE=%{y}\", \"legendgroup\": \"Type=Test\", \"marker\": {\"color\": \"#EF553B\"}, \"name\": \"Type=Test\", \"offsetgroup\": \"Type=Test\", \"orientation\": \"v\", \"showlegend\": true, \"textposition\": \"auto\", \"type\": \"bar\", \"x\": [\"Regression\", \"Random Forest\", \"KNN\"], \"xaxis\": \"x\", \"y\": [1202.7515902254238, 1274.2295387080867, 1433.2444181459564], \"yaxis\": \"y\"}],\n",
              "                        {\"barmode\": \"group\", \"height\": 600, \"legend\": {\"tracegroupgap\": 0}, \"template\": {\"data\": {\"bar\": [{\"error_x\": {\"color\": \"#2a3f5f\"}, \"error_y\": {\"color\": \"#2a3f5f\"}, \"marker\": {\"line\": {\"color\": \"#E5ECF6\", \"width\": 0.5}}, \"type\": \"bar\"}], \"barpolar\": [{\"marker\": {\"line\": {\"color\": \"#E5ECF6\", \"width\": 0.5}}, \"type\": \"barpolar\"}], \"carpet\": [{\"aaxis\": {\"endlinecolor\": \"#2a3f5f\", \"gridcolor\": \"white\", \"linecolor\": \"white\", \"minorgridcolor\": \"white\", \"startlinecolor\": \"#2a3f5f\"}, \"baxis\": {\"endlinecolor\": \"#2a3f5f\", \"gridcolor\": \"white\", \"linecolor\": \"white\", \"minorgridcolor\": \"white\", \"startlinecolor\": \"#2a3f5f\"}, \"type\": \"carpet\"}], \"choropleth\": [{\"colorbar\": {\"outlinewidth\": 0, \"ticks\": \"\"}, \"type\": \"choropleth\"}], \"contour\": [{\"colorbar\": {\"outlinewidth\": 0, \"ticks\": \"\"}, \"colorscale\": [[0.0, \"#0d0887\"], [0.1111111111111111, \"#46039f\"], [0.2222222222222222, \"#7201a8\"], [0.3333333333333333, \"#9c179e\"], [0.4444444444444444, \"#bd3786\"], [0.5555555555555556, \"#d8576b\"], [0.6666666666666666, \"#ed7953\"], [0.7777777777777778, \"#fb9f3a\"], [0.8888888888888888, \"#fdca26\"], [1.0, \"#f0f921\"]], \"type\": \"contour\"}], \"contourcarpet\": [{\"colorbar\": {\"outlinewidth\": 0, \"ticks\": \"\"}, \"type\": \"contourcarpet\"}], \"heatmap\": [{\"colorbar\": {\"outlinewidth\": 0, \"ticks\": \"\"}, \"colorscale\": [[0.0, \"#0d0887\"], [0.1111111111111111, \"#46039f\"], [0.2222222222222222, \"#7201a8\"], [0.3333333333333333, \"#9c179e\"], [0.4444444444444444, \"#bd3786\"], [0.5555555555555556, \"#d8576b\"], [0.6666666666666666, \"#ed7953\"], [0.7777777777777778, \"#fb9f3a\"], [0.8888888888888888, \"#fdca26\"], [1.0, \"#f0f921\"]], \"type\": \"heatmap\"}], \"heatmapgl\": [{\"colorbar\": {\"outlinewidth\": 0, \"ticks\": \"\"}, \"colorscale\": [[0.0, \"#0d0887\"], [0.1111111111111111, \"#46039f\"], [0.2222222222222222, \"#7201a8\"], [0.3333333333333333, \"#9c179e\"], [0.4444444444444444, \"#bd3786\"], [0.5555555555555556, \"#d8576b\"], [0.6666666666666666, \"#ed7953\"], [0.7777777777777778, \"#fb9f3a\"], [0.8888888888888888, \"#fdca26\"], [1.0, \"#f0f921\"]], \"type\": \"heatmapgl\"}], \"histogram\": [{\"marker\": {\"colorbar\": {\"outlinewidth\": 0, \"ticks\": \"\"}}, \"type\": \"histogram\"}], \"histogram2d\": [{\"colorbar\": {\"outlinewidth\": 0, \"ticks\": \"\"}, \"colorscale\": [[0.0, \"#0d0887\"], [0.1111111111111111, \"#46039f\"], [0.2222222222222222, \"#7201a8\"], [0.3333333333333333, \"#9c179e\"], [0.4444444444444444, \"#bd3786\"], [0.5555555555555556, \"#d8576b\"], [0.6666666666666666, \"#ed7953\"], [0.7777777777777778, \"#fb9f3a\"], [0.8888888888888888, \"#fdca26\"], [1.0, \"#f0f921\"]], \"type\": \"histogram2d\"}], \"histogram2dcontour\": [{\"colorbar\": {\"outlinewidth\": 0, \"ticks\": \"\"}, \"colorscale\": [[0.0, \"#0d0887\"], [0.1111111111111111, \"#46039f\"], [0.2222222222222222, \"#7201a8\"], [0.3333333333333333, \"#9c179e\"], [0.4444444444444444, \"#bd3786\"], [0.5555555555555556, \"#d8576b\"], [0.6666666666666666, \"#ed7953\"], [0.7777777777777778, \"#fb9f3a\"], [0.8888888888888888, \"#fdca26\"], [1.0, \"#f0f921\"]], \"type\": \"histogram2dcontour\"}], \"mesh3d\": [{\"colorbar\": {\"outlinewidth\": 0, \"ticks\": \"\"}, \"type\": \"mesh3d\"}], \"parcoords\": [{\"line\": {\"colorbar\": {\"outlinewidth\": 0, \"ticks\": \"\"}}, \"type\": \"parcoords\"}], \"pie\": [{\"automargin\": true, \"type\": \"pie\"}], \"scatter\": [{\"marker\": {\"colorbar\": {\"outlinewidth\": 0, \"ticks\": \"\"}}, \"type\": \"scatter\"}], \"scatter3d\": [{\"line\": {\"colorbar\": {\"outlinewidth\": 0, \"ticks\": \"\"}}, \"marker\": {\"colorbar\": {\"outlinewidth\": 0, \"ticks\": \"\"}}, \"type\": \"scatter3d\"}], \"scattercarpet\": [{\"marker\": {\"colorbar\": {\"outlinewidth\": 0, \"ticks\": \"\"}}, \"type\": \"scattercarpet\"}], \"scattergeo\": [{\"marker\": {\"colorbar\": {\"outlinewidth\": 0, \"ticks\": \"\"}}, \"type\": \"scattergeo\"}], \"scattergl\": [{\"marker\": {\"colorbar\": {\"outlinewidth\": 0, \"ticks\": \"\"}}, \"type\": \"scattergl\"}], \"scattermapbox\": [{\"marker\": {\"colorbar\": {\"outlinewidth\": 0, \"ticks\": \"\"}}, \"type\": \"scattermapbox\"}], \"scatterpolar\": [{\"marker\": {\"colorbar\": {\"outlinewidth\": 0, \"ticks\": \"\"}}, \"type\": \"scatterpolar\"}], \"scatterpolargl\": [{\"marker\": {\"colorbar\": {\"outlinewidth\": 0, \"ticks\": \"\"}}, \"type\": \"scatterpolargl\"}], \"scatterternary\": [{\"marker\": {\"colorbar\": {\"outlinewidth\": 0, \"ticks\": \"\"}}, \"type\": \"scatterternary\"}], \"surface\": [{\"colorbar\": {\"outlinewidth\": 0, \"ticks\": \"\"}, \"colorscale\": [[0.0, \"#0d0887\"], [0.1111111111111111, \"#46039f\"], [0.2222222222222222, \"#7201a8\"], [0.3333333333333333, \"#9c179e\"], [0.4444444444444444, \"#bd3786\"], [0.5555555555555556, \"#d8576b\"], [0.6666666666666666, \"#ed7953\"], [0.7777777777777778, \"#fb9f3a\"], [0.8888888888888888, \"#fdca26\"], [1.0, \"#f0f921\"]], \"type\": \"surface\"}], \"table\": [{\"cells\": {\"fill\": {\"color\": \"#EBF0F8\"}, \"line\": {\"color\": \"white\"}}, \"header\": {\"fill\": {\"color\": \"#C8D4E3\"}, \"line\": {\"color\": \"white\"}}, \"type\": \"table\"}]}, \"layout\": {\"annotationdefaults\": {\"arrowcolor\": \"#2a3f5f\", \"arrowhead\": 0, \"arrowwidth\": 1}, \"coloraxis\": {\"colorbar\": {\"outlinewidth\": 0, \"ticks\": \"\"}}, \"colorscale\": {\"diverging\": [[0, \"#8e0152\"], [0.1, \"#c51b7d\"], [0.2, \"#de77ae\"], [0.3, \"#f1b6da\"], [0.4, \"#fde0ef\"], [0.5, \"#f7f7f7\"], [0.6, \"#e6f5d0\"], [0.7, \"#b8e186\"], [0.8, \"#7fbc41\"], [0.9, \"#4d9221\"], [1, \"#276419\"]], \"sequential\": [[0.0, \"#0d0887\"], [0.1111111111111111, \"#46039f\"], [0.2222222222222222, \"#7201a8\"], [0.3333333333333333, \"#9c179e\"], [0.4444444444444444, \"#bd3786\"], [0.5555555555555556, \"#d8576b\"], [0.6666666666666666, \"#ed7953\"], [0.7777777777777778, \"#fb9f3a\"], [0.8888888888888888, \"#fdca26\"], [1.0, \"#f0f921\"]], \"sequentialminus\": [[0.0, \"#0d0887\"], [0.1111111111111111, \"#46039f\"], [0.2222222222222222, \"#7201a8\"], [0.3333333333333333, \"#9c179e\"], [0.4444444444444444, \"#bd3786\"], [0.5555555555555556, \"#d8576b\"], [0.6666666666666666, \"#ed7953\"], [0.7777777777777778, \"#fb9f3a\"], [0.8888888888888888, \"#fdca26\"], [1.0, \"#f0f921\"]]}, \"colorway\": [\"#636efa\", \"#EF553B\", \"#00cc96\", \"#ab63fa\", \"#FFA15A\", \"#19d3f3\", \"#FF6692\", \"#B6E880\", \"#FF97FF\", \"#FECB52\"], \"font\": {\"color\": \"#2a3f5f\"}, \"geo\": {\"bgcolor\": \"white\", \"lakecolor\": \"white\", \"landcolor\": \"#E5ECF6\", \"showlakes\": true, \"showland\": true, \"subunitcolor\": \"white\"}, \"hoverlabel\": {\"align\": \"left\"}, \"hovermode\": \"closest\", \"mapbox\": {\"style\": \"light\"}, \"paper_bgcolor\": \"white\", \"plot_bgcolor\": \"#E5ECF6\", \"polar\": {\"angularaxis\": {\"gridcolor\": \"white\", \"linecolor\": \"white\", \"ticks\": \"\"}, \"bgcolor\": \"#E5ECF6\", \"radialaxis\": {\"gridcolor\": \"white\", \"linecolor\": \"white\", \"ticks\": \"\"}}, \"scene\": {\"xaxis\": {\"backgroundcolor\": \"#E5ECF6\", \"gridcolor\": \"white\", \"gridwidth\": 2, \"linecolor\": \"white\", \"showbackground\": true, \"ticks\": \"\", \"zerolinecolor\": \"white\"}, \"yaxis\": {\"backgroundcolor\": \"#E5ECF6\", \"gridcolor\": \"white\", \"gridwidth\": 2, \"linecolor\": \"white\", \"showbackground\": true, \"ticks\": \"\", \"zerolinecolor\": \"white\"}, \"zaxis\": {\"backgroundcolor\": \"#E5ECF6\", \"gridcolor\": \"white\", \"gridwidth\": 2, \"linecolor\": \"white\", \"showbackground\": true, \"ticks\": \"\", \"zerolinecolor\": \"white\"}}, \"shapedefaults\": {\"line\": {\"color\": \"#2a3f5f\"}}, \"ternary\": {\"aaxis\": {\"gridcolor\": \"white\", \"linecolor\": \"white\", \"ticks\": \"\"}, \"baxis\": {\"gridcolor\": \"white\", \"linecolor\": \"white\", \"ticks\": \"\"}, \"bgcolor\": \"#E5ECF6\", \"caxis\": {\"gridcolor\": \"white\", \"linecolor\": \"white\", \"ticks\": \"\"}}, \"title\": {\"x\": 0.05}, \"xaxis\": {\"automargin\": true, \"gridcolor\": \"white\", \"linecolor\": \"white\", \"ticks\": \"\", \"title\": {\"standoff\": 15}, \"zerolinecolor\": \"white\", \"zerolinewidth\": 2}, \"yaxis\": {\"automargin\": true, \"gridcolor\": \"white\", \"linecolor\": \"white\", \"ticks\": \"\", \"title\": {\"standoff\": 15}, \"zerolinecolor\": \"white\", \"zerolinewidth\": 2}}}, \"title\": {\"text\": \"MSE Results for each model\"}, \"xaxis\": {\"anchor\": \"y\", \"domain\": [0.0, 1.0], \"title\": {\"text\": \"Algorithm\"}}, \"yaxis\": {\"anchor\": \"x\", \"domain\": [0.0, 1.0], \"title\": {\"text\": \"MSE\"}}},\n",
              "                        {\"responsive\": true}\n",
              "                    ).then(function(){\n",
              "                            \n",
              "var gd = document.getElementById('79aa7120-1e76-42fc-a7bc-65ddde368545');\n",
              "var x = new MutationObserver(function (mutations, observer) {{\n",
              "        var display = window.getComputedStyle(gd).display;\n",
              "        if (!display || display === 'none') {{\n",
              "            console.log([gd, 'removed!']);\n",
              "            Plotly.purge(gd);\n",
              "            observer.disconnect();\n",
              "        }}\n",
              "}});\n",
              "\n",
              "// Listen for the removal of the full notebook cells\n",
              "var notebookContainer = gd.closest('#notebook-container');\n",
              "if (notebookContainer) {{\n",
              "    x.observe(notebookContainer, {childList: true});\n",
              "}}\n",
              "\n",
              "// Listen for the clearing of the current output cell\n",
              "var outputEl = gd.closest('.output');\n",
              "if (outputEl) {{\n",
              "    x.observe(outputEl, {childList: true});\n",
              "}}\n",
              "\n",
              "                        })\n",
              "                };\n",
              "                \n",
              "            </script>\n",
              "        </div>\n",
              "</body>\n",
              "</html>"
            ]
          },
          "metadata": {
            "tags": []
          }
        }
      ]
    },
    {
      "cell_type": "code",
      "metadata": {
        "id": "lZCW8M-ThelF"
      },
      "source": [
        "from sklearn.neighbors import KNeighborsRegressor\n",
        "\n",
        "#running the model\n",
        "knn_model = KNeighborsRegressor(n_neighbors=5).fit(train_df_x, train_df_y)\n",
        "\n",
        "\n",
        "#calculating the results on the train set and test set \n",
        "#the calculated metrics are MAPE and MSE\n",
        "train_knn_mape = calc_mape(train_df_y.values, knn_model.predict(train_df_x))\n",
        "test_knn_mape = calc_mape(test_df_y.values, knn_model.predict(test_df_x))\n",
        "\n",
        "train_knn_mse = mean_squared_error(train_df_y.values, knn_model.predict(train_df_x))\n",
        "test_knn_mse = mean_squared_error(test_df_y.values, knn_model.predict(test_df_x))"
      ],
      "execution_count": null,
      "outputs": []
    }
  ]
}